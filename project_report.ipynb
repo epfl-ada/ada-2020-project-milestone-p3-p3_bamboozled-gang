{
 "cells": [
  {
   "cell_type": "markdown",
   "metadata": {},
   "source": [
    "# \"A Wolf in Sheep's Clothing\"\n",
    "## Linguistic Cues in Social Deduction Games\n",
    "\n",
    "<img src=\"illustration.png\" width=\"42%\">\n",
    "\n",
    "_\"A Wolf in Sheep's Clothing\", 1920, modified ([source](https://catalog.archives.gov/id/6011601))_"
   ]
  },
  {
   "cell_type": "markdown",
   "metadata": {},
   "source": [
    "|Abstract|\n",
    "|---|\n",
    "| We studied [[Niculae et al., 2015]](#niculae) and it enabled us to highlight certain clues of language linked to the imminence of betrayal. We would like to apply similar techniques to detect betrayal in social deduction games, like [Town of Salem](#salem), [Secret Hitler](#hitler), [Among Us](#amongus) or [Werewolf/Mafia](#mafia). Is it possible, by studying the public exchanges of the players during a textual game, to spot the \"traitor\"? The major difference with the basic article is that we are not looking for a betrayal to come - the breaking of a friendship - but a betrayal that has already taken place - for instance, the \"wolf\" seeks to win by posing as a \"villager\". As such, we are going to analyse textual exchanges of different games, and try to apply the same methods to multiple sessions. |"
   ]
  },
  {
   "cell_type": "markdown",
   "metadata": {},
   "source": [
    "---"
   ]
  },
  {
   "cell_type": "markdown",
   "metadata": {},
   "source": [
    "## Introduction\n",
    "\n",
    "We aim to reproduce some of the techniques used in Paper X in order to find out if there is another method to identify the roles of \"traitor\" and betrayal within social deduction games. In particular, we use politeness and talkativeness analysis to see if it is possible to identify a \"global\" traitor to a game, rather than a specific betrayal."
   ]
  },
  {
   "cell_type": "markdown",
   "metadata": {},
   "source": [
    "### Linguistic Harbingers of Betrayal\n",
    "\n",
    "The goal of this code is to give an extension to the paper [[Niculae et al., 2015]](#niculae). The paper is a study of the interpersonal relations, and more precisely of the betrayal that can occur between two people. Its goal is to see if we can predict a forthcoming betrayal with linguistic signs in a dyadic interaction. In order to do that, the authors collected the conversations of people playing a strategic game called [Diplomacy](#diplomacy) and they studied their interactions. Their study concludes that slight changes in certain attributes of the conversation may indicate impending betrayal. These indicators are as follows: positive sentiment, politeness, and focus on future planning-signal."
   ]
  },
  {
   "cell_type": "markdown",
   "metadata": {},
   "source": [
    "### How to spot a traitor\n",
    "\n",
    "Following these indicators, we will try to take the reflection further and apply it to new issues. In particular, we are interested in knowing whether it is possible to apply the same techniques, under the same postulates, to other games, and whether it is possible to identify betrayal on a \"long term\" basis, i.e. deception (vs. in the article on a specific point in time). This will ideally allow us to establish the clues to identify \"traitors\" in social deduction games.\n",
    "\n",
    "Due to the short time at our disposal, we focus on the study of the corpus at our disposal, its formatting, the analysis of politeness and talkativeness, and the creation of an API to be adapted according to other corpora."
   ]
  },
  {
   "cell_type": "markdown",
   "metadata": {},
   "source": [
    "### Some preliminary imports"
   ]
  },
  {
   "cell_type": "code",
   "execution_count": 1,
   "metadata": {},
   "outputs": [],
   "source": [
    "import pandas as pd\n",
    "import numpy as np\n",
    "import matplotlib.pyplot as plt\n",
    "import os\n",
    "from tqdm.notebook import tqdm"
   ]
  },
  {
   "cell_type": "code",
   "execution_count": 2,
   "metadata": {},
   "outputs": [],
   "source": [
    "# Path to the files containing mafiascum data\n",
    "PATH_DATA = 'data'\n",
    "PATH_MAFIASCUM = os.path.join(PATH_DATA, 'mafiascum','src' )\n",
    "PATH_OUTPUT = os.path.join(PATH_DATA, 'output')"
   ]
  },
  {
   "cell_type": "markdown",
   "metadata": {},
   "source": [
    "---"
   ]
  },
  {
   "cell_type": "markdown",
   "metadata": {},
   "source": [
    "## The Mafiascum Dataset\n",
    "\n",
    "We would like to apply similar techniques to detect betrayal in a social deduction game called [Mafia](#mafia). We found a [dataset](#deruiter) containing almost 1'100 different games. They were taken on a website called [Mafiascum](#mafia) which allows player to discuss and play this game with the help of a moderator.\n",
    "\n",
    "The main difference between Diplomacy and and Mafia is that in the second game, the traitors are present from the beginning of the game. Their goal is to avoid to be detected and eliminate all the other players. In Diplomacy, every player can become a traitor at some point of the game. We won't look for a betrayal to come - the breaking of a friendship - but a betrayal that has already taken place. As such, we are going to analyse textual exchanges in [the game](https://www.youtube.com/watch?v=QK736KcqdK4)."
   ]
  },
  {
   "cell_type": "markdown",
   "metadata": {},
   "source": [
    "### Data concierge"
   ]
  },
  {
   "cell_type": "markdown",
   "metadata": {},
   "source": [
    "The first step is to import the exchanged messages from the database. They are divided in three different `json` files. We will import and concatenate them together. We will also import the `json` files containing information about the players of each game (they are also divided in three different files)."
   ]
  },
  {
   "cell_type": "code",
   "execution_count": 3,
   "metadata": {},
   "outputs": [],
   "source": [
    "# Name of the files containing the data\n",
    "post_files = ['mini-normal1.json', 'mini-normal2.json', 'large-normal.json']\n",
    "info_files = ['mini-normal-slots.json', 'large-normal-slots.json', 'old-normal-slots.json']\n",
    "\n",
    "# Read the files\n",
    "posts_mafia = pd.concat(pd.read_json(os.path.join(PATH_MAFIASCUM, fn), orient='records') for fn in post_files)\n",
    "info_mafia = pd.concat(pd.read_json(os.path.join(PATH_MAFIASCUM, fn), orient='records') for fn in info_files)\n",
    "\n",
    "# Define the columns \"game_id\" and \"author\" as index for the first dataset\n",
    "posts_mafia.set_index(['game_id', 'author'], inplace=True)"
   ]
  },
  {
   "cell_type": "markdown",
   "metadata": {},
   "source": [
    "As we will see, the dataset `posts_mafia` contains 5 columns:\n",
    "- **game_id:** is the number of the game in which the message was sent\n",
    "- **author:** is the name of the author of the message\n",
    "- **content:** the text of the post\n",
    "- **inserted_at:** the time and date at which the message was posted\n",
    "- **post_no:** the numbering of the posts for this game\n",
    "\n",
    "We have defined the two first columns as index."
   ]
  },
  {
   "cell_type": "code",
   "execution_count": 4,
   "metadata": {},
   "outputs": [
    {
     "output_type": "execute_result",
     "data": {
      "text/plain": [
       "                                                          content  \\\n",
       "game_id author                                                      \n",
       "29549   Tierce  Click here for games 44 through 1400.\\n\\nMini ...   \n",
       "        Tierce  Mini Normals: 1501 - 1505\\n\\n\\nGame 1501: We'r...   \n",
       "        N       Mini Normals 1509 - 1544\\n\\n\\nMini 1509 - Marr...   \n",
       "        N       Mini Normals 1553 - 1600\\n\\n\\nMini: 1553 Gone ...   \n",
       "        N       Mini Normals 1601 - 1648\\n\\n\\nMini 1601: B_E's...   \n",
       "\n",
       "                       inserted_at  post_no  \n",
       "game_id author                               \n",
       "29549   Tierce 2013-06-25 05:19:00        0  \n",
       "        Tierce 2013-12-06 13:39:00        1  \n",
       "        N      2015-02-21 08:18:00        2  \n",
       "        N      2015-02-21 13:09:00        3  \n",
       "        N      2015-04-21 03:24:00        4  "
      ],
      "text/html": "<div>\n<style scoped>\n    .dataframe tbody tr th:only-of-type {\n        vertical-align: middle;\n    }\n\n    .dataframe tbody tr th {\n        vertical-align: top;\n    }\n\n    .dataframe thead th {\n        text-align: right;\n    }\n</style>\n<table border=\"1\" class=\"dataframe\">\n  <thead>\n    <tr style=\"text-align: right;\">\n      <th></th>\n      <th></th>\n      <th>content</th>\n      <th>inserted_at</th>\n      <th>post_no</th>\n    </tr>\n    <tr>\n      <th>game_id</th>\n      <th>author</th>\n      <th></th>\n      <th></th>\n      <th></th>\n    </tr>\n  </thead>\n  <tbody>\n    <tr>\n      <th rowspan=\"5\" valign=\"top\">29549</th>\n      <th>Tierce</th>\n      <td>Click here for games 44 through 1400.\\n\\nMini ...</td>\n      <td>2013-06-25 05:19:00</td>\n      <td>0</td>\n    </tr>\n    <tr>\n      <th>Tierce</th>\n      <td>Mini Normals: 1501 - 1505\\n\\n\\nGame 1501: We'r...</td>\n      <td>2013-12-06 13:39:00</td>\n      <td>1</td>\n    </tr>\n    <tr>\n      <th>N</th>\n      <td>Mini Normals 1509 - 1544\\n\\n\\nMini 1509 - Marr...</td>\n      <td>2015-02-21 08:18:00</td>\n      <td>2</td>\n    </tr>\n    <tr>\n      <th>N</th>\n      <td>Mini Normals 1553 - 1600\\n\\n\\nMini: 1553 Gone ...</td>\n      <td>2015-02-21 13:09:00</td>\n      <td>3</td>\n    </tr>\n    <tr>\n      <th>N</th>\n      <td>Mini Normals 1601 - 1648\\n\\n\\nMini 1601: B_E's...</td>\n      <td>2015-04-21 03:24:00</td>\n      <td>4</td>\n    </tr>\n  </tbody>\n</table>\n</div>"
     },
     "metadata": {},
     "execution_count": 4
    }
   ],
   "source": [
    "posts_mafia.head()"
   ]
  },
  {
   "cell_type": "markdown",
   "metadata": {},
   "source": [
    "The dataset `info_mafia` contains also 5 columns:\n",
    "- **game_id:** is the number of the game in which the player is playing\n",
    "- **author:** is the concatenation of what we can find in the three next columns\n",
    "- **users:** the nickname of the player\n",
    "- **role:** the role of the player in the game\n",
    "- **event:** What happened to the player during the game (did he [die](https://www.youtube.com/watch?v=AZfZnbTgY4E&t)? How? Did he [survive](https://www.youtube.com/watch?v=btPJPFnesV4)?)\n",
    "\n",
    "Let's see it:"
   ]
  },
  {
   "cell_type": "code",
   "execution_count": 5,
   "metadata": {},
   "outputs": [
    {
     "output_type": "execute_result",
     "data": {
      "text/plain": [
       "   game_id                                               text  \\\n",
       "0    24200        Kthxbye, Town Odd-Night Vigilante, survives   \n",
       "1    24200              Slandaar, Mafia Traitor, died Night 3   \n",
       "2    24200                   Gorgon, Vanilla Townie, survives   \n",
       "3    24200  Malakittens replaces theaceofspades, Town Maso...   \n",
       "4    24200  TheConman17, Mafia One-Shot Bulletproof, lynch...   \n",
       "\n",
       "                           users                        role          event  \n",
       "0                      [Kthxbye]    Town Odd-Night Vigilante       survives  \n",
       "1                     [Slandaar]               Mafia Traitor   died Night 3  \n",
       "2                       [Gorgon]              Vanilla Townie       survives  \n",
       "3  [Malakittens, theaceofspades]                  Town Mason   died Night 2  \n",
       "4                  [TheConman17]  Mafia One-Shot Bulletproof  lynched Day 1  "
      ],
      "text/html": "<div>\n<style scoped>\n    .dataframe tbody tr th:only-of-type {\n        vertical-align: middle;\n    }\n\n    .dataframe tbody tr th {\n        vertical-align: top;\n    }\n\n    .dataframe thead th {\n        text-align: right;\n    }\n</style>\n<table border=\"1\" class=\"dataframe\">\n  <thead>\n    <tr style=\"text-align: right;\">\n      <th></th>\n      <th>game_id</th>\n      <th>text</th>\n      <th>users</th>\n      <th>role</th>\n      <th>event</th>\n    </tr>\n  </thead>\n  <tbody>\n    <tr>\n      <th>0</th>\n      <td>24200</td>\n      <td>Kthxbye, Town Odd-Night Vigilante, survives</td>\n      <td>[Kthxbye]</td>\n      <td>Town Odd-Night Vigilante</td>\n      <td>survives</td>\n    </tr>\n    <tr>\n      <th>1</th>\n      <td>24200</td>\n      <td>Slandaar, Mafia Traitor, died Night 3</td>\n      <td>[Slandaar]</td>\n      <td>Mafia Traitor</td>\n      <td>died Night 3</td>\n    </tr>\n    <tr>\n      <th>2</th>\n      <td>24200</td>\n      <td>Gorgon, Vanilla Townie, survives</td>\n      <td>[Gorgon]</td>\n      <td>Vanilla Townie</td>\n      <td>survives</td>\n    </tr>\n    <tr>\n      <th>3</th>\n      <td>24200</td>\n      <td>Malakittens replaces theaceofspades, Town Maso...</td>\n      <td>[Malakittens, theaceofspades]</td>\n      <td>Town Mason</td>\n      <td>died Night 2</td>\n    </tr>\n    <tr>\n      <th>4</th>\n      <td>24200</td>\n      <td>TheConman17, Mafia One-Shot Bulletproof, lynch...</td>\n      <td>[TheConman17]</td>\n      <td>Mafia One-Shot Bulletproof</td>\n      <td>lynched Day 1</td>\n    </tr>\n  </tbody>\n</table>\n</div>"
     },
     "metadata": {},
     "execution_count": 5
    }
   ],
   "source": [
    "info_mafia.head()"
   ]
  },
  {
   "cell_type": "markdown",
   "metadata": {},
   "source": [
    "#### `info_mafia`\n",
    "\n",
    "We will start with the second dataset `info_mafia` and find for each player if he/she's playing a betrayer role or not. A betrayer is defined as a player beeing in [the bad (and ugly?)](https://www.youtube.com/watch?v=AFa1-kciCb4) side. More precisely the roles containing one the following terms:\n",
    "- mafia\n",
    "- goon\n",
    "- wolf\n",
    "- serial killer\n",
    "- SK\n",
    "\n",
    "We will create a new column called *betrayer* in the dataframe telling with *True* or *False* if the role of the player contains one of these words.\n",
    "\n",
    "In addition we will only keep the games in which we found a betrayer. In fact, some games have complicated roles and contain none of the listed betrayer. We only want to keep \"standard\" games."
   ]
  },
  {
   "cell_type": "code",
   "execution_count": 6,
   "metadata": {},
   "outputs": [],
   "source": [
    "# Look in the column role if it contains the given words \n",
    "info_mafia['betrayer'] = info_mafia['role'].str.contains('mafia|goon|wolf|serial.?killer'\n",
    "                                                         , case=False) | info_mafia['role'].str.contains('SK')\n",
    "# select only the games with known roles\n",
    "mask_role_notnan = [not np.any(pd.isnull(info_mafia[info_mafia.game_id == g_id].role)) for g_id in info_mafia.game_id]\n",
    "info_mafia = info_mafia[mask_role_notnan]\n",
    "\n",
    "# select only the games with at least one known betrayer\n",
    "mask_all_townie = [np.all(~info_mafia[info_mafia.game_id == g_id].betrayer) for g_id in info_mafia.game_id]\n",
    "info_mafia = info_mafia[~np.array(mask_all_townie)]"
   ]
  },
  {
   "cell_type": "code",
   "execution_count": 7,
   "metadata": {},
   "outputs": [
    {
     "output_type": "execute_result",
     "data": {
      "text/plain": [
       "   game_id                                               text  \\\n",
       "0    24200        Kthxbye, Town Odd-Night Vigilante, survives   \n",
       "1    24200              Slandaar, Mafia Traitor, died Night 3   \n",
       "2    24200                   Gorgon, Vanilla Townie, survives   \n",
       "3    24200  Malakittens replaces theaceofspades, Town Maso...   \n",
       "4    24200  TheConman17, Mafia One-Shot Bulletproof, lynch...   \n",
       "\n",
       "                           users                        role          event  \\\n",
       "0                      [Kthxbye]    Town Odd-Night Vigilante       survives   \n",
       "1                     [Slandaar]               Mafia Traitor   died Night 3   \n",
       "2                       [Gorgon]              Vanilla Townie       survives   \n",
       "3  [Malakittens, theaceofspades]                  Town Mason   died Night 2   \n",
       "4                  [TheConman17]  Mafia One-Shot Bulletproof  lynched Day 1   \n",
       "\n",
       "   betrayer  \n",
       "0     False  \n",
       "1      True  \n",
       "2     False  \n",
       "3     False  \n",
       "4      True  "
      ],
      "text/html": "<div>\n<style scoped>\n    .dataframe tbody tr th:only-of-type {\n        vertical-align: middle;\n    }\n\n    .dataframe tbody tr th {\n        vertical-align: top;\n    }\n\n    .dataframe thead th {\n        text-align: right;\n    }\n</style>\n<table border=\"1\" class=\"dataframe\">\n  <thead>\n    <tr style=\"text-align: right;\">\n      <th></th>\n      <th>game_id</th>\n      <th>text</th>\n      <th>users</th>\n      <th>role</th>\n      <th>event</th>\n      <th>betrayer</th>\n    </tr>\n  </thead>\n  <tbody>\n    <tr>\n      <th>0</th>\n      <td>24200</td>\n      <td>Kthxbye, Town Odd-Night Vigilante, survives</td>\n      <td>[Kthxbye]</td>\n      <td>Town Odd-Night Vigilante</td>\n      <td>survives</td>\n      <td>False</td>\n    </tr>\n    <tr>\n      <th>1</th>\n      <td>24200</td>\n      <td>Slandaar, Mafia Traitor, died Night 3</td>\n      <td>[Slandaar]</td>\n      <td>Mafia Traitor</td>\n      <td>died Night 3</td>\n      <td>True</td>\n    </tr>\n    <tr>\n      <th>2</th>\n      <td>24200</td>\n      <td>Gorgon, Vanilla Townie, survives</td>\n      <td>[Gorgon]</td>\n      <td>Vanilla Townie</td>\n      <td>survives</td>\n      <td>False</td>\n    </tr>\n    <tr>\n      <th>3</th>\n      <td>24200</td>\n      <td>Malakittens replaces theaceofspades, Town Maso...</td>\n      <td>[Malakittens, theaceofspades]</td>\n      <td>Town Mason</td>\n      <td>died Night 2</td>\n      <td>False</td>\n    </tr>\n    <tr>\n      <th>4</th>\n      <td>24200</td>\n      <td>TheConman17, Mafia One-Shot Bulletproof, lynch...</td>\n      <td>[TheConman17]</td>\n      <td>Mafia One-Shot Bulletproof</td>\n      <td>lynched Day 1</td>\n      <td>True</td>\n    </tr>\n  </tbody>\n</table>\n</div>"
     },
     "metadata": {},
     "execution_count": 7
    }
   ],
   "source": [
    "info_mafia.head()"
   ]
  },
  {
   "cell_type": "markdown",
   "metadata": {},
   "source": [
    "We also want to know if a player survived until the end of the game. We will therfore add a column called *survived* filled with *True* if the player survived or *False* if he/she died before the end of the game."
   ]
  },
  {
   "cell_type": "code",
   "execution_count": 8,
   "metadata": {},
   "outputs": [],
   "source": [
    "info_mafia['survived'] = ['survive' in str(player_event) for player_event in info_mafia.event]"
   ]
  },
  {
   "cell_type": "code",
   "execution_count": 9,
   "metadata": {},
   "outputs": [
    {
     "output_type": "execute_result",
     "data": {
      "text/plain": [
       "   game_id                                               text  \\\n",
       "0    24200        Kthxbye, Town Odd-Night Vigilante, survives   \n",
       "1    24200              Slandaar, Mafia Traitor, died Night 3   \n",
       "2    24200                   Gorgon, Vanilla Townie, survives   \n",
       "3    24200  Malakittens replaces theaceofspades, Town Maso...   \n",
       "4    24200  TheConman17, Mafia One-Shot Bulletproof, lynch...   \n",
       "\n",
       "                           users                        role          event  \\\n",
       "0                      [Kthxbye]    Town Odd-Night Vigilante       survives   \n",
       "1                     [Slandaar]               Mafia Traitor   died Night 3   \n",
       "2                       [Gorgon]              Vanilla Townie       survives   \n",
       "3  [Malakittens, theaceofspades]                  Town Mason   died Night 2   \n",
       "4                  [TheConman17]  Mafia One-Shot Bulletproof  lynched Day 1   \n",
       "\n",
       "   betrayer  survived  \n",
       "0     False      True  \n",
       "1      True     False  \n",
       "2     False      True  \n",
       "3     False     False  \n",
       "4      True     False  "
      ],
      "text/html": "<div>\n<style scoped>\n    .dataframe tbody tr th:only-of-type {\n        vertical-align: middle;\n    }\n\n    .dataframe tbody tr th {\n        vertical-align: top;\n    }\n\n    .dataframe thead th {\n        text-align: right;\n    }\n</style>\n<table border=\"1\" class=\"dataframe\">\n  <thead>\n    <tr style=\"text-align: right;\">\n      <th></th>\n      <th>game_id</th>\n      <th>text</th>\n      <th>users</th>\n      <th>role</th>\n      <th>event</th>\n      <th>betrayer</th>\n      <th>survived</th>\n    </tr>\n  </thead>\n  <tbody>\n    <tr>\n      <th>0</th>\n      <td>24200</td>\n      <td>Kthxbye, Town Odd-Night Vigilante, survives</td>\n      <td>[Kthxbye]</td>\n      <td>Town Odd-Night Vigilante</td>\n      <td>survives</td>\n      <td>False</td>\n      <td>True</td>\n    </tr>\n    <tr>\n      <th>1</th>\n      <td>24200</td>\n      <td>Slandaar, Mafia Traitor, died Night 3</td>\n      <td>[Slandaar]</td>\n      <td>Mafia Traitor</td>\n      <td>died Night 3</td>\n      <td>True</td>\n      <td>False</td>\n    </tr>\n    <tr>\n      <th>2</th>\n      <td>24200</td>\n      <td>Gorgon, Vanilla Townie, survives</td>\n      <td>[Gorgon]</td>\n      <td>Vanilla Townie</td>\n      <td>survives</td>\n      <td>False</td>\n      <td>True</td>\n    </tr>\n    <tr>\n      <th>3</th>\n      <td>24200</td>\n      <td>Malakittens replaces theaceofspades, Town Maso...</td>\n      <td>[Malakittens, theaceofspades]</td>\n      <td>Town Mason</td>\n      <td>died Night 2</td>\n      <td>False</td>\n      <td>False</td>\n    </tr>\n    <tr>\n      <th>4</th>\n      <td>24200</td>\n      <td>TheConman17, Mafia One-Shot Bulletproof, lynch...</td>\n      <td>[TheConman17]</td>\n      <td>Mafia One-Shot Bulletproof</td>\n      <td>lynched Day 1</td>\n      <td>True</td>\n      <td>False</td>\n    </tr>\n  </tbody>\n</table>\n</div>"
     },
     "metadata": {},
     "execution_count": 9
    }
   ],
   "source": [
    "info_mafia.head()"
   ]
  },
  {
   "cell_type": "markdown",
   "metadata": {},
   "source": [
    "Thanks to these information, it's now possible to find out, for each game, if the Town won or if the Mafia accomplished its mission. This can be done by comparing *survived* column with the *betrayer* one. If the player that survived are associated with *True* in *betrayer*, then the Mafia won, otherwise Town succeeded in taking the Mafia down. Note that if for a game none of the teams won, the column will remain filled with *NaN*. We will then be able to remove later these undefined cases if necessary."
   ]
  },
  {
   "cell_type": "code",
   "execution_count": 10,
   "metadata": {},
   "outputs": [],
   "source": [
    "# Create a new dataframe that will make correspond the game_id with the outcome\n",
    "df_outcome = pd.DataFrame(np.unique(info_mafia.game_id), columns=['game_id']).set_index('game_id')\n",
    "df_outcome['town_won'] = np.NaN\n",
    "\n",
    "# We loop for each game\n",
    "for game_id in df_outcome.index:  \n",
    "    # for every players search if the event is \"survive\"\n",
    "    outcome_town = [(player.survived == True) & (player.betrayer == False) for index, player in info_mafia[info_mafia.game_id == game_id].iterrows()]\n",
    "    outcome_mafia = [(player.survived == True) & (player.betrayer == True) for index, player in info_mafia[info_mafia.game_id == game_id].iterrows()]\n",
    "\n",
    "    if np.any(outcome_town): #if someone from town survived\n",
    "        df_outcome.loc[game_id, 'town_won'] =  True\n",
    "    if np.any(outcome_mafia): #if someone from mafia survived\n",
    "        df_outcome.loc[game_id, 'town_won'] =  False\n",
    "    \n",
    "# merge with the dataframe\n",
    "info_mafia = info_mafia.merge(df_outcome, on='game_id')"
   ]
  },
  {
   "cell_type": "code",
   "execution_count": 11,
   "metadata": {},
   "outputs": [
    {
     "output_type": "execute_result",
     "data": {
      "text/plain": [
       "   game_id                                               text  \\\n",
       "0    24200        Kthxbye, Town Odd-Night Vigilante, survives   \n",
       "1    24200              Slandaar, Mafia Traitor, died Night 3   \n",
       "2    24200                   Gorgon, Vanilla Townie, survives   \n",
       "3    24200  Malakittens replaces theaceofspades, Town Maso...   \n",
       "4    24200  TheConman17, Mafia One-Shot Bulletproof, lynch...   \n",
       "\n",
       "                           users                        role          event  \\\n",
       "0                      [Kthxbye]    Town Odd-Night Vigilante       survives   \n",
       "1                     [Slandaar]               Mafia Traitor   died Night 3   \n",
       "2                       [Gorgon]              Vanilla Townie       survives   \n",
       "3  [Malakittens, theaceofspades]                  Town Mason   died Night 2   \n",
       "4                  [TheConman17]  Mafia One-Shot Bulletproof  lynched Day 1   \n",
       "\n",
       "   betrayer  survived town_won  \n",
       "0     False      True     True  \n",
       "1      True     False     True  \n",
       "2     False      True     True  \n",
       "3     False     False     True  \n",
       "4      True     False     True  "
      ],
      "text/html": "<div>\n<style scoped>\n    .dataframe tbody tr th:only-of-type {\n        vertical-align: middle;\n    }\n\n    .dataframe tbody tr th {\n        vertical-align: top;\n    }\n\n    .dataframe thead th {\n        text-align: right;\n    }\n</style>\n<table border=\"1\" class=\"dataframe\">\n  <thead>\n    <tr style=\"text-align: right;\">\n      <th></th>\n      <th>game_id</th>\n      <th>text</th>\n      <th>users</th>\n      <th>role</th>\n      <th>event</th>\n      <th>betrayer</th>\n      <th>survived</th>\n      <th>town_won</th>\n    </tr>\n  </thead>\n  <tbody>\n    <tr>\n      <th>0</th>\n      <td>24200</td>\n      <td>Kthxbye, Town Odd-Night Vigilante, survives</td>\n      <td>[Kthxbye]</td>\n      <td>Town Odd-Night Vigilante</td>\n      <td>survives</td>\n      <td>False</td>\n      <td>True</td>\n      <td>True</td>\n    </tr>\n    <tr>\n      <th>1</th>\n      <td>24200</td>\n      <td>Slandaar, Mafia Traitor, died Night 3</td>\n      <td>[Slandaar]</td>\n      <td>Mafia Traitor</td>\n      <td>died Night 3</td>\n      <td>True</td>\n      <td>False</td>\n      <td>True</td>\n    </tr>\n    <tr>\n      <th>2</th>\n      <td>24200</td>\n      <td>Gorgon, Vanilla Townie, survives</td>\n      <td>[Gorgon]</td>\n      <td>Vanilla Townie</td>\n      <td>survives</td>\n      <td>False</td>\n      <td>True</td>\n      <td>True</td>\n    </tr>\n    <tr>\n      <th>3</th>\n      <td>24200</td>\n      <td>Malakittens replaces theaceofspades, Town Maso...</td>\n      <td>[Malakittens, theaceofspades]</td>\n      <td>Town Mason</td>\n      <td>died Night 2</td>\n      <td>False</td>\n      <td>False</td>\n      <td>True</td>\n    </tr>\n    <tr>\n      <th>4</th>\n      <td>24200</td>\n      <td>TheConman17, Mafia One-Shot Bulletproof, lynch...</td>\n      <td>[TheConman17]</td>\n      <td>Mafia One-Shot Bulletproof</td>\n      <td>lynched Day 1</td>\n      <td>True</td>\n      <td>False</td>\n      <td>True</td>\n    </tr>\n  </tbody>\n</table>\n</div>"
     },
     "metadata": {},
     "execution_count": 11
    }
   ],
   "source": [
    "info_mafia.head()"
   ]
  },
  {
   "cell_type": "markdown",
   "metadata": {},
   "source": [
    "Before finishing with this dataframe, we have to deal with another particularity. Sometimes a player is replaced by another one during a game. In this case, the players are all written in the *users* column. We have then to separate this column and create a line per user. In addition we will only keep the columns we will need later (*game_id*, *users*, *survived*, *betrayer* and town_won) and put them in a new dataframe called `betrayer_df`. \n",
    "\n",
    "We will also rename the name of the column *users* and name it *author* in order to be consistent with the other dataframe. Finaly we will define the columns *game_id* and *author* as index. Thus we will have the same index as the other dataframe and it will be easier to merge them later."
   ]
  },
  {
   "cell_type": "code",
   "execution_count": 12,
   "metadata": {},
   "outputs": [],
   "source": [
    "# Seperate the users and create the new dataframe\n",
    "betrayer_df = info_mafia.explode('users')[['game_id', 'users', 'survived', 'betrayer', 'town_won']]\n",
    "\n",
    "# Change name of the users column and set index to correspond with the other dataframe\n",
    "betrayer_df.rename(columns ={'users':'author'}, inplace = True)\n",
    "betrayer_df.set_index(['game_id', 'author'], inplace = True)"
   ]
  },
  {
   "cell_type": "code",
   "execution_count": 13,
   "metadata": {},
   "outputs": [
    {
     "output_type": "execute_result",
     "data": {
      "text/plain": [
       "                        survived  betrayer town_won\n",
       "game_id author                                     \n",
       "24200   Kthxbye             True     False     True\n",
       "        Slandaar           False      True     True\n",
       "        Gorgon              True     False     True\n",
       "        Malakittens        False     False     True\n",
       "        theaceofspades     False     False     True"
      ],
      "text/html": "<div>\n<style scoped>\n    .dataframe tbody tr th:only-of-type {\n        vertical-align: middle;\n    }\n\n    .dataframe tbody tr th {\n        vertical-align: top;\n    }\n\n    .dataframe thead th {\n        text-align: right;\n    }\n</style>\n<table border=\"1\" class=\"dataframe\">\n  <thead>\n    <tr style=\"text-align: right;\">\n      <th></th>\n      <th></th>\n      <th>survived</th>\n      <th>betrayer</th>\n      <th>town_won</th>\n    </tr>\n    <tr>\n      <th>game_id</th>\n      <th>author</th>\n      <th></th>\n      <th></th>\n      <th></th>\n    </tr>\n  </thead>\n  <tbody>\n    <tr>\n      <th rowspan=\"5\" valign=\"top\">24200</th>\n      <th>Kthxbye</th>\n      <td>True</td>\n      <td>False</td>\n      <td>True</td>\n    </tr>\n    <tr>\n      <th>Slandaar</th>\n      <td>False</td>\n      <td>True</td>\n      <td>True</td>\n    </tr>\n    <tr>\n      <th>Gorgon</th>\n      <td>True</td>\n      <td>False</td>\n      <td>True</td>\n    </tr>\n    <tr>\n      <th>Malakittens</th>\n      <td>False</td>\n      <td>False</td>\n      <td>True</td>\n    </tr>\n    <tr>\n      <th>theaceofspades</th>\n      <td>False</td>\n      <td>False</td>\n      <td>True</td>\n    </tr>\n  </tbody>\n</table>\n</div>"
     },
     "metadata": {},
     "execution_count": 13
    }
   ],
   "source": [
    "betrayer_df.head()"
   ]
  },
  {
   "cell_type": "markdown",
   "metadata": {},
   "source": [
    "Now we have the information we want for this dataframe."
   ]
  },
  {
   "cell_type": "markdown",
   "metadata": {},
   "source": [
    "#### `posts_mafia`\n",
    "We will now start playing with the other one.\n",
    "\n",
    "In the `posts_mafia` dataframe we can find all the messages posted during each game. But a part of the messages were sent by the moderator of the game. His goal is to guide players through the game. He will make some announcement for starting the game and ending the game. He will also collect the votes that will choose the people who will be eliminated by the players.\n",
    "\n",
    "As we only want to study the behaviour of the players we find the messages sent by the moderator. In order to do that we will look for the very first message sent in every game. This message is always sent by the moderator who introduce the new game. By doing this, we can find the moderator's nickname and thus find all his messages."
   ]
  },
  {
   "cell_type": "code",
   "execution_count": 14,
   "metadata": {},
   "outputs": [],
   "source": [
    "# We want to find each messages sent by the moderator: the first post of each game is always sent by the moderator\n",
    "first_posts = posts_mafia[posts_mafia[\"post_no\"] == 0]"
   ]
  },
  {
   "cell_type": "code",
   "execution_count": 15,
   "metadata": {},
   "outputs": [
    {
     "output_type": "execute_result",
     "data": {
      "text/plain": [
       "                                                                content  \\\n",
       "game_id author                                                            \n",
       "29549   Tierce        Click here for games 44 through 1400.\\n\\nMini ...   \n",
       "71796   PenguinPower  Welcome to Mini Normal 1911  \\nPenguin Mafia R...   \n",
       "71697   nancy         Welcome to Girls ♥ Girls Mini 1909\\nPart 1: On...   \n",
       "71675   XnadrojX      Welcome to Mini Normal 1908 - In The Web\\nI am...   \n",
       "71640   Dierfire      Mini Normal 1905\\nModerator: Dierfire\\nReviewe...   \n",
       "\n",
       "                             inserted_at  post_no  \n",
       "game_id author                                     \n",
       "29549   Tierce       2013-06-25 05:19:00        0  \n",
       "71796   PenguinPower 2017-05-12 11:45:00        0  \n",
       "71697   nancy        2017-05-02 22:15:00        0  \n",
       "71675   XnadrojX     2017-05-02 06:30:00        0  \n",
       "71640   Dierfire     2017-04-29 18:37:00        0  "
      ],
      "text/html": "<div>\n<style scoped>\n    .dataframe tbody tr th:only-of-type {\n        vertical-align: middle;\n    }\n\n    .dataframe tbody tr th {\n        vertical-align: top;\n    }\n\n    .dataframe thead th {\n        text-align: right;\n    }\n</style>\n<table border=\"1\" class=\"dataframe\">\n  <thead>\n    <tr style=\"text-align: right;\">\n      <th></th>\n      <th></th>\n      <th>content</th>\n      <th>inserted_at</th>\n      <th>post_no</th>\n    </tr>\n    <tr>\n      <th>game_id</th>\n      <th>author</th>\n      <th></th>\n      <th></th>\n      <th></th>\n    </tr>\n  </thead>\n  <tbody>\n    <tr>\n      <th>29549</th>\n      <th>Tierce</th>\n      <td>Click here for games 44 through 1400.\\n\\nMini ...</td>\n      <td>2013-06-25 05:19:00</td>\n      <td>0</td>\n    </tr>\n    <tr>\n      <th>71796</th>\n      <th>PenguinPower</th>\n      <td>Welcome to Mini Normal 1911  \\nPenguin Mafia R...</td>\n      <td>2017-05-12 11:45:00</td>\n      <td>0</td>\n    </tr>\n    <tr>\n      <th>71697</th>\n      <th>nancy</th>\n      <td>Welcome to Girls ♥ Girls Mini 1909\\nPart 1: On...</td>\n      <td>2017-05-02 22:15:00</td>\n      <td>0</td>\n    </tr>\n    <tr>\n      <th>71675</th>\n      <th>XnadrojX</th>\n      <td>Welcome to Mini Normal 1908 - In The Web\\nI am...</td>\n      <td>2017-05-02 06:30:00</td>\n      <td>0</td>\n    </tr>\n    <tr>\n      <th>71640</th>\n      <th>Dierfire</th>\n      <td>Mini Normal 1905\\nModerator: Dierfire\\nReviewe...</td>\n      <td>2017-04-29 18:37:00</td>\n      <td>0</td>\n    </tr>\n  </tbody>\n</table>\n</div>"
     },
     "metadata": {},
     "execution_count": 15
    }
   ],
   "source": [
    "first_posts.head()"
   ]
  },
  {
   "cell_type": "markdown",
   "metadata": {},
   "source": [
    "We can see for example that the moderator of the first game in the database is called *Tierce*.\n",
    "\n",
    "Now we can find all the messages sent by the moderator in each game."
   ]
  },
  {
   "cell_type": "code",
   "execution_count": 16,
   "metadata": {},
   "outputs": [],
   "source": [
    "# look for all the posts sent by the moderator in each game\n",
    "moderator_posts = posts_mafia.loc[first_posts.index]"
   ]
  },
  {
   "cell_type": "code",
   "execution_count": 17,
   "metadata": {},
   "outputs": [
    {
     "output_type": "execute_result",
     "data": {
      "text/plain": [
       "                                                                content  \\\n",
       "game_id author                                                            \n",
       "29549   Tierce        Click here for games 44 through 1400.\\n\\nMini ...   \n",
       "        Tierce        Mini Normals: 1501 - 1505\\n\\n\\nGame 1501: We'r...   \n",
       "71796   PenguinPower  Welcome to Mini Normal 1911  \\nPenguin Mafia R...   \n",
       "        PenguinPower  Rules\\nRules shamelessly stolen from various m...   \n",
       "        PenguinPower  Role PMs have been sent out.  Game will start ...   \n",
       "\n",
       "                             inserted_at  post_no  \n",
       "game_id author                                     \n",
       "29549   Tierce       2013-06-25 05:19:00        0  \n",
       "        Tierce       2013-12-06 13:39:00        1  \n",
       "71796   PenguinPower 2017-05-12 11:45:00        0  \n",
       "        PenguinPower 2017-05-12 11:52:00        1  \n",
       "        PenguinPower 2017-05-12 12:47:00        2  "
      ],
      "text/html": "<div>\n<style scoped>\n    .dataframe tbody tr th:only-of-type {\n        vertical-align: middle;\n    }\n\n    .dataframe tbody tr th {\n        vertical-align: top;\n    }\n\n    .dataframe thead th {\n        text-align: right;\n    }\n</style>\n<table border=\"1\" class=\"dataframe\">\n  <thead>\n    <tr style=\"text-align: right;\">\n      <th></th>\n      <th></th>\n      <th>content</th>\n      <th>inserted_at</th>\n      <th>post_no</th>\n    </tr>\n    <tr>\n      <th>game_id</th>\n      <th>author</th>\n      <th></th>\n      <th></th>\n      <th></th>\n    </tr>\n  </thead>\n  <tbody>\n    <tr>\n      <th rowspan=\"2\" valign=\"top\">29549</th>\n      <th>Tierce</th>\n      <td>Click here for games 44 through 1400.\\n\\nMini ...</td>\n      <td>2013-06-25 05:19:00</td>\n      <td>0</td>\n    </tr>\n    <tr>\n      <th>Tierce</th>\n      <td>Mini Normals: 1501 - 1505\\n\\n\\nGame 1501: We'r...</td>\n      <td>2013-12-06 13:39:00</td>\n      <td>1</td>\n    </tr>\n    <tr>\n      <th rowspan=\"3\" valign=\"top\">71796</th>\n      <th>PenguinPower</th>\n      <td>Welcome to Mini Normal 1911  \\nPenguin Mafia R...</td>\n      <td>2017-05-12 11:45:00</td>\n      <td>0</td>\n    </tr>\n    <tr>\n      <th>PenguinPower</th>\n      <td>Rules\\nRules shamelessly stolen from various m...</td>\n      <td>2017-05-12 11:52:00</td>\n      <td>1</td>\n    </tr>\n    <tr>\n      <th>PenguinPower</th>\n      <td>Role PMs have been sent out.  Game will start ...</td>\n      <td>2017-05-12 12:47:00</td>\n      <td>2</td>\n    </tr>\n  </tbody>\n</table>\n</div>"
     },
     "metadata": {},
     "execution_count": 17
    }
   ],
   "source": [
    "moderator_posts.head()"
   ]
  },
  {
   "cell_type": "markdown",
   "metadata": {},
   "source": [
    "After the game is over, players often start talking about what happened during the game, bragging about their merits or despairing about the fact that they think they were killed unjustly. We are not interested in this part of the discussion because by that time the roles of the players will have been revealed and therefore there is no more betrayer. Therefore we want to eliminate all these messages.\n",
    "\n",
    "First of all, we will search in the messages sent by the moderator for all those that give the result of a vote. Indeed, a game ends with the elimination of a player leading to the victory of one of the two sides ([\"the good guys\" or \"the bad guys\"](https://www.youtube.com/watch?v=gDIlTlkOBYc) depending on how you see things)."
   ]
  },
  {
   "cell_type": "code",
   "execution_count": 18,
   "metadata": {},
   "outputs": [],
   "source": [
    "# We search in the messages sent by the moderator the posts telling the results of the votes\n",
    "vote_counts = moderator_posts[moderator_posts[\"content\"].str.contains(\"vote ?count|vc|not voting \\(\", case=False)].copy()"
   ]
  },
  {
   "cell_type": "code",
   "execution_count": 19,
   "metadata": {},
   "outputs": [
    {
     "output_type": "execute_result",
     "data": {
      "text/plain": [
       "                                                                content  \\\n",
       "game_id author                                                            \n",
       "71796   PenguinPower  Welcome to Mini Normal 1911  \\nPenguin Mafia R...   \n",
       "        PenguinPower  Vote Count 1.01\\nNot Voting (13): Transcend, L...   \n",
       "        PenguinPower  Vote Count 1.02\\nGamma Emerald (2): Transcend,...   \n",
       "        PenguinPower  Vote Count 1.03\\nMulch (3): Agent Sparkles, Ry...   \n",
       "        PenguinPower  Vote Count 1.04\\nAgent Sparkles (2): Transcend...   \n",
       "\n",
       "                             inserted_at  post_no  \n",
       "game_id author                                     \n",
       "71796   PenguinPower 2017-05-12 11:45:00        0  \n",
       "        PenguinPower 2017-05-12 19:49:00        4  \n",
       "        PenguinPower 2017-05-12 20:40:00       25  \n",
       "        PenguinPower 2017-05-13 00:39:00      112  \n",
       "        PenguinPower 2017-05-13 01:43:00      153  "
      ],
      "text/html": "<div>\n<style scoped>\n    .dataframe tbody tr th:only-of-type {\n        vertical-align: middle;\n    }\n\n    .dataframe tbody tr th {\n        vertical-align: top;\n    }\n\n    .dataframe thead th {\n        text-align: right;\n    }\n</style>\n<table border=\"1\" class=\"dataframe\">\n  <thead>\n    <tr style=\"text-align: right;\">\n      <th></th>\n      <th></th>\n      <th>content</th>\n      <th>inserted_at</th>\n      <th>post_no</th>\n    </tr>\n    <tr>\n      <th>game_id</th>\n      <th>author</th>\n      <th></th>\n      <th></th>\n      <th></th>\n    </tr>\n  </thead>\n  <tbody>\n    <tr>\n      <th rowspan=\"5\" valign=\"top\">71796</th>\n      <th>PenguinPower</th>\n      <td>Welcome to Mini Normal 1911  \\nPenguin Mafia R...</td>\n      <td>2017-05-12 11:45:00</td>\n      <td>0</td>\n    </tr>\n    <tr>\n      <th>PenguinPower</th>\n      <td>Vote Count 1.01\\nNot Voting (13): Transcend, L...</td>\n      <td>2017-05-12 19:49:00</td>\n      <td>4</td>\n    </tr>\n    <tr>\n      <th>PenguinPower</th>\n      <td>Vote Count 1.02\\nGamma Emerald (2): Transcend,...</td>\n      <td>2017-05-12 20:40:00</td>\n      <td>25</td>\n    </tr>\n    <tr>\n      <th>PenguinPower</th>\n      <td>Vote Count 1.03\\nMulch (3): Agent Sparkles, Ry...</td>\n      <td>2017-05-13 00:39:00</td>\n      <td>112</td>\n    </tr>\n    <tr>\n      <th>PenguinPower</th>\n      <td>Vote Count 1.04\\nAgent Sparkles (2): Transcend...</td>\n      <td>2017-05-13 01:43:00</td>\n      <td>153</td>\n    </tr>\n  </tbody>\n</table>\n</div>"
     },
     "metadata": {},
     "execution_count": 19
    }
   ],
   "source": [
    "vote_counts.head()"
   ]
  },
  {
   "cell_type": "markdown",
   "metadata": {},
   "source": [
    "Now we can find the post of the moderator ending a game. This is simply the last post talking about a vote. Let's find that!"
   ]
  },
  {
   "cell_type": "code",
   "execution_count": 20,
   "metadata": {},
   "outputs": [],
   "source": [
    "# Find for each game the last post talking about a vote => the end of the game.\n",
    "last_posts = vote_counts['post_no'].max(level=0)"
   ]
  },
  {
   "cell_type": "code",
   "execution_count": 21,
   "metadata": {},
   "outputs": [
    {
     "output_type": "execute_result",
     "data": {
      "text/plain": [
       "game_id\n",
       "71796    3130\n",
       "71697    4741\n",
       "71675    3256\n",
       "71640    3354\n",
       "71483    2596\n",
       "Name: post_no, dtype: int64"
      ]
     },
     "metadata": {},
     "execution_count": 21
    }
   ],
   "source": [
    "last_posts.head()"
   ]
  },
  {
   "cell_type": "markdown",
   "metadata": {},
   "source": [
    "We have now for each game the number of the message which is ending the game. We will add to the `posts_mafia` dataframe a new column called `post_no_last` telling this number."
   ]
  },
  {
   "cell_type": "code",
   "execution_count": 22,
   "metadata": {},
   "outputs": [],
   "source": [
    "# Add a new column with the number of the last message\n",
    "posts_mafia = posts_mafia.join(last_posts, rsuffix='_last', how='inner')"
   ]
  },
  {
   "cell_type": "code",
   "execution_count": 23,
   "metadata": {},
   "outputs": [
    {
     "output_type": "execute_result",
     "data": {
      "text/plain": [
       "                                                                content  \\\n",
       "game_id author                                                            \n",
       "71796   PenguinPower  Welcome to Mini Normal 1911  \\nPenguin Mafia R...   \n",
       "        PenguinPower  Rules\\nRules shamelessly stolen from various m...   \n",
       "        PenguinPower  Role PMs have been sent out.  Game will start ...   \n",
       "        PenguinPower                                  Day 1 Starts Now!   \n",
       "        PenguinPower  Vote Count 1.01\\nNot Voting (13): Transcend, L...   \n",
       "\n",
       "                             inserted_at  post_no  post_no_last  \n",
       "game_id author                                                   \n",
       "71796   PenguinPower 2017-05-12 11:45:00        0          3130  \n",
       "        PenguinPower 2017-05-12 11:52:00        1          3130  \n",
       "        PenguinPower 2017-05-12 12:47:00        2          3130  \n",
       "        PenguinPower 2017-05-12 19:47:00        3          3130  \n",
       "        PenguinPower 2017-05-12 19:49:00        4          3130  "
      ],
      "text/html": "<div>\n<style scoped>\n    .dataframe tbody tr th:only-of-type {\n        vertical-align: middle;\n    }\n\n    .dataframe tbody tr th {\n        vertical-align: top;\n    }\n\n    .dataframe thead th {\n        text-align: right;\n    }\n</style>\n<table border=\"1\" class=\"dataframe\">\n  <thead>\n    <tr style=\"text-align: right;\">\n      <th></th>\n      <th></th>\n      <th>content</th>\n      <th>inserted_at</th>\n      <th>post_no</th>\n      <th>post_no_last</th>\n    </tr>\n    <tr>\n      <th>game_id</th>\n      <th>author</th>\n      <th></th>\n      <th></th>\n      <th></th>\n      <th></th>\n    </tr>\n  </thead>\n  <tbody>\n    <tr>\n      <th rowspan=\"5\" valign=\"top\">71796</th>\n      <th>PenguinPower</th>\n      <td>Welcome to Mini Normal 1911  \\nPenguin Mafia R...</td>\n      <td>2017-05-12 11:45:00</td>\n      <td>0</td>\n      <td>3130</td>\n    </tr>\n    <tr>\n      <th>PenguinPower</th>\n      <td>Rules\\nRules shamelessly stolen from various m...</td>\n      <td>2017-05-12 11:52:00</td>\n      <td>1</td>\n      <td>3130</td>\n    </tr>\n    <tr>\n      <th>PenguinPower</th>\n      <td>Role PMs have been sent out.  Game will start ...</td>\n      <td>2017-05-12 12:47:00</td>\n      <td>2</td>\n      <td>3130</td>\n    </tr>\n    <tr>\n      <th>PenguinPower</th>\n      <td>Day 1 Starts Now!</td>\n      <td>2017-05-12 19:47:00</td>\n      <td>3</td>\n      <td>3130</td>\n    </tr>\n    <tr>\n      <th>PenguinPower</th>\n      <td>Vote Count 1.01\\nNot Voting (13): Transcend, L...</td>\n      <td>2017-05-12 19:49:00</td>\n      <td>4</td>\n      <td>3130</td>\n    </tr>\n  </tbody>\n</table>\n</div>"
     },
     "metadata": {},
     "execution_count": 23
    }
   ],
   "source": [
    "posts_mafia.head()"
   ]
  },
  {
   "cell_type": "markdown",
   "metadata": {},
   "source": [
    "Now we can eliminate all the lines that have a *post_no* higher than the *post_no_last*. That means that the massage was sent after the moderator ended the game."
   ]
  },
  {
   "cell_type": "code",
   "execution_count": 24,
   "metadata": {},
   "outputs": [],
   "source": [
    "#keep only thes ligne that have a lower or equal message's number than the \"last message number\"\n",
    "posts_mafia = posts_mafia[posts_mafia['post_no'] <= posts_mafia['post_no_last']]"
   ]
  },
  {
   "cell_type": "code",
   "execution_count": 25,
   "metadata": {},
   "outputs": [
    {
     "output_type": "execute_result",
     "data": {
      "text/plain": [
       "                                                                content  \\\n",
       "game_id author                                                            \n",
       "71796   PenguinPower  Welcome to Mini Normal 1911  \\nPenguin Mafia R...   \n",
       "        PenguinPower  Rules\\nRules shamelessly stolen from various m...   \n",
       "        PenguinPower  Role PMs have been sent out.  Game will start ...   \n",
       "        PenguinPower                                  Day 1 Starts Now!   \n",
       "        PenguinPower  Vote Count 1.01\\nNot Voting (13): Transcend, L...   \n",
       "\n",
       "                             inserted_at  post_no  post_no_last  \n",
       "game_id author                                                   \n",
       "71796   PenguinPower 2017-05-12 11:45:00        0          3130  \n",
       "        PenguinPower 2017-05-12 11:52:00        1          3130  \n",
       "        PenguinPower 2017-05-12 12:47:00        2          3130  \n",
       "        PenguinPower 2017-05-12 19:47:00        3          3130  \n",
       "        PenguinPower 2017-05-12 19:49:00        4          3130  "
      ],
      "text/html": "<div>\n<style scoped>\n    .dataframe tbody tr th:only-of-type {\n        vertical-align: middle;\n    }\n\n    .dataframe tbody tr th {\n        vertical-align: top;\n    }\n\n    .dataframe thead th {\n        text-align: right;\n    }\n</style>\n<table border=\"1\" class=\"dataframe\">\n  <thead>\n    <tr style=\"text-align: right;\">\n      <th></th>\n      <th></th>\n      <th>content</th>\n      <th>inserted_at</th>\n      <th>post_no</th>\n      <th>post_no_last</th>\n    </tr>\n    <tr>\n      <th>game_id</th>\n      <th>author</th>\n      <th></th>\n      <th></th>\n      <th></th>\n      <th></th>\n    </tr>\n  </thead>\n  <tbody>\n    <tr>\n      <th rowspan=\"5\" valign=\"top\">71796</th>\n      <th>PenguinPower</th>\n      <td>Welcome to Mini Normal 1911  \\nPenguin Mafia R...</td>\n      <td>2017-05-12 11:45:00</td>\n      <td>0</td>\n      <td>3130</td>\n    </tr>\n    <tr>\n      <th>PenguinPower</th>\n      <td>Rules\\nRules shamelessly stolen from various m...</td>\n      <td>2017-05-12 11:52:00</td>\n      <td>1</td>\n      <td>3130</td>\n    </tr>\n    <tr>\n      <th>PenguinPower</th>\n      <td>Role PMs have been sent out.  Game will start ...</td>\n      <td>2017-05-12 12:47:00</td>\n      <td>2</td>\n      <td>3130</td>\n    </tr>\n    <tr>\n      <th>PenguinPower</th>\n      <td>Day 1 Starts Now!</td>\n      <td>2017-05-12 19:47:00</td>\n      <td>3</td>\n      <td>3130</td>\n    </tr>\n    <tr>\n      <th>PenguinPower</th>\n      <td>Vote Count 1.01\\nNot Voting (13): Transcend, L...</td>\n      <td>2017-05-12 19:49:00</td>\n      <td>4</td>\n      <td>3130</td>\n    </tr>\n  </tbody>\n</table>\n</div>"
     },
     "metadata": {},
     "execution_count": 25
    }
   ],
   "source": [
    "posts_mafia.head()"
   ]
  },
  {
   "cell_type": "markdown",
   "metadata": {},
   "source": [
    "Finaly we can now delete the messages sent by the moderators during the games. We will create a new dataframe called `messages_players` containing only the messages sent by the players during the games."
   ]
  },
  {
   "cell_type": "code",
   "execution_count": 26,
   "metadata": {},
   "outputs": [],
   "source": [
    "# redefine the indexes of the dataframe to make them unique\n",
    "no_posts_mafia = posts_mafia.reset_index().set_index(['game_id', 'author', 'post_no'])\n",
    "no_moderator_posts = moderator_posts.reset_index().set_index(['game_id', 'author', 'post_no'])\n",
    "\n",
    "# Keep only the messages that were not send by the moderator\n",
    "messages_players = no_posts_mafia[~no_posts_mafia.index.isin(no_moderator_posts.index)].reset_index()\n",
    "messages_players.set_index(['game_id', 'author'], inplace = True )"
   ]
  },
  {
   "cell_type": "code",
   "execution_count": 27,
   "metadata": {},
   "outputs": [
    {
     "output_type": "execute_result",
     "data": {
      "text/plain": [
       "                       post_no  \\\n",
       "game_id author                   \n",
       "71796   Gamma Emerald        5   \n",
       "        Transcend            6   \n",
       "        Gamma Emerald        7   \n",
       "        Mulch                8   \n",
       "        Gamma Emerald        9   \n",
       "\n",
       "                                                                 content  \\\n",
       "game_id author                                                             \n",
       "71796   Gamma Emerald  Opening with RQS\\n1) How excited are you for t...   \n",
       "        Transcend                                            VOTE: gamma   \n",
       "        Gamma Emerald  My answers\\n1) I'm quite excited, I played PP'...   \n",
       "        Mulch                                                WTF are RQS   \n",
       "        Gamma Emerald  RQS is random questioning stage, it's a type o...   \n",
       "\n",
       "                              inserted_at  post_no_last  \n",
       "game_id author                                           \n",
       "71796   Gamma Emerald 2017-05-12 19:49:00          3130  \n",
       "        Transcend     2017-05-12 19:51:00          3130  \n",
       "        Gamma Emerald 2017-05-12 19:55:00          3130  \n",
       "        Mulch         2017-05-12 20:02:00          3130  \n",
       "        Gamma Emerald 2017-05-12 20:04:00          3130  "
      ],
      "text/html": "<div>\n<style scoped>\n    .dataframe tbody tr th:only-of-type {\n        vertical-align: middle;\n    }\n\n    .dataframe tbody tr th {\n        vertical-align: top;\n    }\n\n    .dataframe thead th {\n        text-align: right;\n    }\n</style>\n<table border=\"1\" class=\"dataframe\">\n  <thead>\n    <tr style=\"text-align: right;\">\n      <th></th>\n      <th></th>\n      <th>post_no</th>\n      <th>content</th>\n      <th>inserted_at</th>\n      <th>post_no_last</th>\n    </tr>\n    <tr>\n      <th>game_id</th>\n      <th>author</th>\n      <th></th>\n      <th></th>\n      <th></th>\n      <th></th>\n    </tr>\n  </thead>\n  <tbody>\n    <tr>\n      <th rowspan=\"5\" valign=\"top\">71796</th>\n      <th>Gamma Emerald</th>\n      <td>5</td>\n      <td>Opening with RQS\\n1) How excited are you for t...</td>\n      <td>2017-05-12 19:49:00</td>\n      <td>3130</td>\n    </tr>\n    <tr>\n      <th>Transcend</th>\n      <td>6</td>\n      <td>VOTE: gamma</td>\n      <td>2017-05-12 19:51:00</td>\n      <td>3130</td>\n    </tr>\n    <tr>\n      <th>Gamma Emerald</th>\n      <td>7</td>\n      <td>My answers\\n1) I'm quite excited, I played PP'...</td>\n      <td>2017-05-12 19:55:00</td>\n      <td>3130</td>\n    </tr>\n    <tr>\n      <th>Mulch</th>\n      <td>8</td>\n      <td>WTF are RQS</td>\n      <td>2017-05-12 20:02:00</td>\n      <td>3130</td>\n    </tr>\n    <tr>\n      <th>Gamma Emerald</th>\n      <td>9</td>\n      <td>RQS is random questioning stage, it's a type o...</td>\n      <td>2017-05-12 20:04:00</td>\n      <td>3130</td>\n    </tr>\n  </tbody>\n</table>\n</div>"
     },
     "metadata": {},
     "execution_count": 27
    }
   ],
   "source": [
    "messages_players.head()"
   ]
  },
  {
   "cell_type": "markdown",
   "metadata": {},
   "source": [
    "#### Merging"
   ]
  },
  {
   "cell_type": "markdown",
   "metadata": {},
   "source": [
    "Now we can merge the two dataframes `messages_players` and `betrayer_df`."
   ]
  },
  {
   "cell_type": "code",
   "execution_count": 28,
   "metadata": {},
   "outputs": [],
   "source": [
    "messages_players = messages_players.merge(betrayer_df, left_index = True, right_index = True).reset_index()"
   ]
  },
  {
   "cell_type": "code",
   "execution_count": 29,
   "metadata": {},
   "outputs": [
    {
     "output_type": "execute_result",
     "data": {
      "text/plain": [
       "   game_id   author  post_no  \\\n",
       "0       26  CoolBot       27   \n",
       "1       26  CoolBot       40   \n",
       "2       26  CoolBot       65   \n",
       "3       26  CoolBot       85   \n",
       "4       26  CoolBot       99   \n",
       "\n",
       "                                             content         inserted_at  \\\n",
       "0  \\n\\nThis sounds like you're trying to limit an... 2003-07-24 21:28:00   \n",
       "1  It was Someone's suggesting he didn't want ano... 2003-07-25 17:48:00   \n",
       "2  I'm not really sure how a neutral role would e... 2003-07-28 15:44:00   \n",
       "3  So the robot detector... is a robot?  I don't ... 2003-07-29 01:09:00   \n",
       "4  Has anyone considered that maybe Someone is a ... 2003-07-29 18:14:00   \n",
       "\n",
       "   post_no_last  survived  betrayer town_won  \n",
       "0           273     False     False      NaN  \n",
       "1           273     False     False      NaN  \n",
       "2           273     False     False      NaN  \n",
       "3           273     False     False      NaN  \n",
       "4           273     False     False      NaN  "
      ],
      "text/html": "<div>\n<style scoped>\n    .dataframe tbody tr th:only-of-type {\n        vertical-align: middle;\n    }\n\n    .dataframe tbody tr th {\n        vertical-align: top;\n    }\n\n    .dataframe thead th {\n        text-align: right;\n    }\n</style>\n<table border=\"1\" class=\"dataframe\">\n  <thead>\n    <tr style=\"text-align: right;\">\n      <th></th>\n      <th>game_id</th>\n      <th>author</th>\n      <th>post_no</th>\n      <th>content</th>\n      <th>inserted_at</th>\n      <th>post_no_last</th>\n      <th>survived</th>\n      <th>betrayer</th>\n      <th>town_won</th>\n    </tr>\n  </thead>\n  <tbody>\n    <tr>\n      <th>0</th>\n      <td>26</td>\n      <td>CoolBot</td>\n      <td>27</td>\n      <td>\\n\\nThis sounds like you're trying to limit an...</td>\n      <td>2003-07-24 21:28:00</td>\n      <td>273</td>\n      <td>False</td>\n      <td>False</td>\n      <td>NaN</td>\n    </tr>\n    <tr>\n      <th>1</th>\n      <td>26</td>\n      <td>CoolBot</td>\n      <td>40</td>\n      <td>It was Someone's suggesting he didn't want ano...</td>\n      <td>2003-07-25 17:48:00</td>\n      <td>273</td>\n      <td>False</td>\n      <td>False</td>\n      <td>NaN</td>\n    </tr>\n    <tr>\n      <th>2</th>\n      <td>26</td>\n      <td>CoolBot</td>\n      <td>65</td>\n      <td>I'm not really sure how a neutral role would e...</td>\n      <td>2003-07-28 15:44:00</td>\n      <td>273</td>\n      <td>False</td>\n      <td>False</td>\n      <td>NaN</td>\n    </tr>\n    <tr>\n      <th>3</th>\n      <td>26</td>\n      <td>CoolBot</td>\n      <td>85</td>\n      <td>So the robot detector... is a robot?  I don't ...</td>\n      <td>2003-07-29 01:09:00</td>\n      <td>273</td>\n      <td>False</td>\n      <td>False</td>\n      <td>NaN</td>\n    </tr>\n    <tr>\n      <th>4</th>\n      <td>26</td>\n      <td>CoolBot</td>\n      <td>99</td>\n      <td>Has anyone considered that maybe Someone is a ...</td>\n      <td>2003-07-29 18:14:00</td>\n      <td>273</td>\n      <td>False</td>\n      <td>False</td>\n      <td>NaN</td>\n    </tr>\n  </tbody>\n</table>\n</div>"
     },
     "metadata": {},
     "execution_count": 29
    }
   ],
   "source": [
    "messages_players.head()"
   ]
  },
  {
   "cell_type": "code",
   "execution_count": 30,
   "metadata": {},
   "outputs": [
    {
     "output_type": "stream",
     "name": "stdout",
     "text": [
      "At this step, there are 306 games with known outcomes.\n"
     ]
    }
   ],
   "source": [
    "# messages of players for games with known outcomes\n",
    "messages_players_outcome = messages_players[~pd.isnull(messages_players.town_won)]\n",
    "print('At this step, there are {0} games with known outcomes.'.format(len(np.unique(messages_players_outcome.game_id))))"
   ]
  },
  {
   "cell_type": "code",
   "execution_count": 31,
   "metadata": {},
   "outputs": [
    {
     "output_type": "execute_result",
     "data": {
      "text/plain": [
       "        game_id      author  post_no  \\\n",
       "172608    15557  ConfidAnon       11   \n",
       "172609    15557  ConfidAnon       41   \n",
       "172610    15557  ConfidAnon       77   \n",
       "172611    15557       Fenhl      570   \n",
       "172612    15557       Fenhl      571   \n",
       "\n",
       "                                                  content         inserted_at  \\\n",
       "172608                                          /confirm. 2010-10-29 01:37:00   \n",
       "172609  I'm fine with kicking off a mass claim if a ma... 2010-10-30 08:29:00   \n",
       "172610  \\n\\nI agree here.  It seems very unlikely for ... 2010-10-31 20:27:00   \n",
       "172611  Hi everybody!\\nAs announced by Fishythefish, I... 2010-12-16 19:20:00   \n",
       "172612  I have a smartphone and access from school, so... 2010-12-16 23:24:00   \n",
       "\n",
       "        post_no_last  survived  betrayer town_won  \n",
       "172608           825      True      True    False  \n",
       "172609           825      True      True    False  \n",
       "172610           825      True      True    False  \n",
       "172611           825      True      True    False  \n",
       "172612           825      True      True    False  "
      ],
      "text/html": "<div>\n<style scoped>\n    .dataframe tbody tr th:only-of-type {\n        vertical-align: middle;\n    }\n\n    .dataframe tbody tr th {\n        vertical-align: top;\n    }\n\n    .dataframe thead th {\n        text-align: right;\n    }\n</style>\n<table border=\"1\" class=\"dataframe\">\n  <thead>\n    <tr style=\"text-align: right;\">\n      <th></th>\n      <th>game_id</th>\n      <th>author</th>\n      <th>post_no</th>\n      <th>content</th>\n      <th>inserted_at</th>\n      <th>post_no_last</th>\n      <th>survived</th>\n      <th>betrayer</th>\n      <th>town_won</th>\n    </tr>\n  </thead>\n  <tbody>\n    <tr>\n      <th>172608</th>\n      <td>15557</td>\n      <td>ConfidAnon</td>\n      <td>11</td>\n      <td>/confirm.</td>\n      <td>2010-10-29 01:37:00</td>\n      <td>825</td>\n      <td>True</td>\n      <td>True</td>\n      <td>False</td>\n    </tr>\n    <tr>\n      <th>172609</th>\n      <td>15557</td>\n      <td>ConfidAnon</td>\n      <td>41</td>\n      <td>I'm fine with kicking off a mass claim if a ma...</td>\n      <td>2010-10-30 08:29:00</td>\n      <td>825</td>\n      <td>True</td>\n      <td>True</td>\n      <td>False</td>\n    </tr>\n    <tr>\n      <th>172610</th>\n      <td>15557</td>\n      <td>ConfidAnon</td>\n      <td>77</td>\n      <td>\\n\\nI agree here.  It seems very unlikely for ...</td>\n      <td>2010-10-31 20:27:00</td>\n      <td>825</td>\n      <td>True</td>\n      <td>True</td>\n      <td>False</td>\n    </tr>\n    <tr>\n      <th>172611</th>\n      <td>15557</td>\n      <td>Fenhl</td>\n      <td>570</td>\n      <td>Hi everybody!\\nAs announced by Fishythefish, I...</td>\n      <td>2010-12-16 19:20:00</td>\n      <td>825</td>\n      <td>True</td>\n      <td>True</td>\n      <td>False</td>\n    </tr>\n    <tr>\n      <th>172612</th>\n      <td>15557</td>\n      <td>Fenhl</td>\n      <td>571</td>\n      <td>I have a smartphone and access from school, so...</td>\n      <td>2010-12-16 23:24:00</td>\n      <td>825</td>\n      <td>True</td>\n      <td>True</td>\n      <td>False</td>\n    </tr>\n  </tbody>\n</table>\n</div>"
     },
     "metadata": {},
     "execution_count": 31
    }
   ],
   "source": [
    "messages_players_outcome.head()"
   ]
  },
  {
   "cell_type": "code",
   "execution_count": 32,
   "metadata": {},
   "outputs": [
    {
     "output_type": "execute_result",
     "data": {
      "text/plain": [
       "619"
      ]
     },
     "metadata": {},
     "execution_count": 32
    }
   ],
   "source": [
    "# How many games are left\n",
    "len(np.unique(messages_players.reset_index().game_id))"
   ]
  },
  {
   "cell_type": "markdown",
   "metadata": {},
   "source": [
    "Now we have a merged dataframe that keeps only the informations we need. We can see that some of the games we had at the beginning are no longer present in this database: the database is now shorter. Indeed, when we merged the two dataframe, a part of the correspondences could not be made because the indexes on which the merging was made were not present in the two tables (for example the role of a player is unknown). We now have 619 games left."
   ]
  },
  {
   "cell_type": "markdown",
   "metadata": {},
   "source": [
    "####  Timing is everything\n",
    "\n",
    "The next step is now to classify the messages in a time frame for each game. We will add temporal markers to this dataset in order to be able to study the evolution of some features. We will also try to find to which round of the game each message belongs. \n",
    "\n",
    "We will first start by adding temporal markers to the messages. The simplest way to do so is by using the timestamps *inserted_at* and normalizing on the game in order to get comparable values across games.\n",
    "\n",
    "First each message will be associated with a relative in game time (0: beginning, 1: end). Let's begin by defining a DataFrame with major information about times of the game (start, end, length)."
   ]
  },
  {
   "cell_type": "code",
   "execution_count": 33,
   "metadata": {},
   "outputs": [],
   "source": [
    "# Create a new dataframe that will contains the starting time of the game, the ending time and the length\n",
    "df_game_times = pd.DataFrame(np.unique(messages_players.game_id), columns=['game_id']) \n",
    "\n",
    "# The starting time is simply the time when the moderator sent his first message\n",
    "df_game_times['start_time'] = [moderator_posts.loc[game_id,:].inserted_at.iloc[0] for game_id in df_game_times.game_id]\n",
    "\n",
    "# The ending time is when the moderator announce the results of the final votes\n",
    "df_game_times['end_time'] = [moderator_posts.loc[game_id,:][moderator_posts.loc[game_id,:].post_no == last_posts.loc[game_id]].inserted_at[-1]\n",
    "           for game_id in df_game_times.game_id]\n",
    "\n",
    "# Calculate the length of the game (length = end - start)\n",
    "df_game_times['time_length'] = df_game_times['end_time']-df_game_times['start_time']\n",
    "\n",
    "df_game_times = df_game_times.set_index('game_id')"
   ]
  },
  {
   "cell_type": "code",
   "execution_count": 34,
   "metadata": {},
   "outputs": [
    {
     "output_type": "execute_result",
     "data": {
      "text/plain": [
       "                 start_time            end_time      time_length\n",
       "game_id                                                         \n",
       "26      2003-07-23 19:05:00 2003-09-02 19:14:00 41 days 00:09:00\n",
       "28      2003-07-23 20:47:00 2003-08-06 20:18:00 13 days 23:31:00\n",
       "38      2003-07-25 00:06:00 2003-08-22 04:15:00 28 days 04:09:00\n",
       "94      2003-08-08 01:32:00 2003-08-22 21:12:00 14 days 19:40:00\n",
       "135     2003-08-31 20:07:00 2003-10-07 23:37:00 37 days 03:30:00"
      ],
      "text/html": "<div>\n<style scoped>\n    .dataframe tbody tr th:only-of-type {\n        vertical-align: middle;\n    }\n\n    .dataframe tbody tr th {\n        vertical-align: top;\n    }\n\n    .dataframe thead th {\n        text-align: right;\n    }\n</style>\n<table border=\"1\" class=\"dataframe\">\n  <thead>\n    <tr style=\"text-align: right;\">\n      <th></th>\n      <th>start_time</th>\n      <th>end_time</th>\n      <th>time_length</th>\n    </tr>\n    <tr>\n      <th>game_id</th>\n      <th></th>\n      <th></th>\n      <th></th>\n    </tr>\n  </thead>\n  <tbody>\n    <tr>\n      <th>26</th>\n      <td>2003-07-23 19:05:00</td>\n      <td>2003-09-02 19:14:00</td>\n      <td>41 days 00:09:00</td>\n    </tr>\n    <tr>\n      <th>28</th>\n      <td>2003-07-23 20:47:00</td>\n      <td>2003-08-06 20:18:00</td>\n      <td>13 days 23:31:00</td>\n    </tr>\n    <tr>\n      <th>38</th>\n      <td>2003-07-25 00:06:00</td>\n      <td>2003-08-22 04:15:00</td>\n      <td>28 days 04:09:00</td>\n    </tr>\n    <tr>\n      <th>94</th>\n      <td>2003-08-08 01:32:00</td>\n      <td>2003-08-22 21:12:00</td>\n      <td>14 days 19:40:00</td>\n    </tr>\n    <tr>\n      <th>135</th>\n      <td>2003-08-31 20:07:00</td>\n      <td>2003-10-07 23:37:00</td>\n      <td>37 days 03:30:00</td>\n    </tr>\n  </tbody>\n</table>\n</div>"
     },
     "metadata": {},
     "execution_count": 34
    }
   ],
   "source": [
    "df_game_times.head()"
   ]
  },
  {
   "cell_type": "markdown",
   "metadata": {},
   "source": [
    "These information can then be used to normalize the timestamp of each message with relation to its game."
   ]
  },
  {
   "cell_type": "code",
   "execution_count": 35,
   "metadata": {},
   "outputs": [
    {
     "output_type": "display_data",
     "data": {
      "text/plain": "HBox(children=(FloatProgress(value=0.0, max=683223.0), HTML(value='')))",
      "application/vnd.jupyter.widget-view+json": {
       "version_major": 2,
       "version_minor": 0,
       "model_id": "dff9bb63684f4e298ff490b8a56efcba"
      }
     },
     "metadata": {}
    },
    {
     "output_type": "stream",
     "name": "stdout",
     "text": [
      "\n"
     ]
    }
   ],
   "source": [
    "# That cell is hella long beware\n",
    "rel_time = []\n",
    "\n",
    "# for each message we will add a new column containing the relative time (in the game) when the message was sent\n",
    "for index, row_posts in tqdm(messages_players.iterrows(), total=messages_players.shape[0]):\n",
    "    game_id = row_posts.game_id\n",
    "    rel_time.append((row_posts.inserted_at - df_game_times.loc[game_id].start_time)/df_game_times.loc[game_id].time_length)\n",
    "\n",
    "#add the new column\n",
    "messages_players['rel_time'] = rel_time"
   ]
  },
  {
   "cell_type": "code",
   "execution_count": 36,
   "metadata": {},
   "outputs": [
    {
     "output_type": "execute_result",
     "data": {
      "text/plain": [
       "   game_id   author  post_no  \\\n",
       "0       26  CoolBot       27   \n",
       "1       26  CoolBot       40   \n",
       "2       26  CoolBot       65   \n",
       "3       26  CoolBot       85   \n",
       "4       26  CoolBot       99   \n",
       "\n",
       "                                             content         inserted_at  \\\n",
       "0  \\n\\nThis sounds like you're trying to limit an... 2003-07-24 21:28:00   \n",
       "1  It was Someone's suggesting he didn't want ano... 2003-07-25 17:48:00   \n",
       "2  I'm not really sure how a neutral role would e... 2003-07-28 15:44:00   \n",
       "3  So the robot detector... is a robot?  I don't ... 2003-07-29 01:09:00   \n",
       "4  Has anyone considered that maybe Someone is a ... 2003-07-29 18:14:00   \n",
       "\n",
       "   post_no_last  survived  betrayer town_won  rel_time  \n",
       "0           273     False     False      NaN  0.026808  \n",
       "1           273     False     False      NaN  0.047469  \n",
       "2           273     False     False      NaN  0.118529  \n",
       "3           273     False     False      NaN  0.128097  \n",
       "4           273     False     False      NaN  0.145455  "
      ],
      "text/html": "<div>\n<style scoped>\n    .dataframe tbody tr th:only-of-type {\n        vertical-align: middle;\n    }\n\n    .dataframe tbody tr th {\n        vertical-align: top;\n    }\n\n    .dataframe thead th {\n        text-align: right;\n    }\n</style>\n<table border=\"1\" class=\"dataframe\">\n  <thead>\n    <tr style=\"text-align: right;\">\n      <th></th>\n      <th>game_id</th>\n      <th>author</th>\n      <th>post_no</th>\n      <th>content</th>\n      <th>inserted_at</th>\n      <th>post_no_last</th>\n      <th>survived</th>\n      <th>betrayer</th>\n      <th>town_won</th>\n      <th>rel_time</th>\n    </tr>\n  </thead>\n  <tbody>\n    <tr>\n      <th>0</th>\n      <td>26</td>\n      <td>CoolBot</td>\n      <td>27</td>\n      <td>\\n\\nThis sounds like you're trying to limit an...</td>\n      <td>2003-07-24 21:28:00</td>\n      <td>273</td>\n      <td>False</td>\n      <td>False</td>\n      <td>NaN</td>\n      <td>0.026808</td>\n    </tr>\n    <tr>\n      <th>1</th>\n      <td>26</td>\n      <td>CoolBot</td>\n      <td>40</td>\n      <td>It was Someone's suggesting he didn't want ano...</td>\n      <td>2003-07-25 17:48:00</td>\n      <td>273</td>\n      <td>False</td>\n      <td>False</td>\n      <td>NaN</td>\n      <td>0.047469</td>\n    </tr>\n    <tr>\n      <th>2</th>\n      <td>26</td>\n      <td>CoolBot</td>\n      <td>65</td>\n      <td>I'm not really sure how a neutral role would e...</td>\n      <td>2003-07-28 15:44:00</td>\n      <td>273</td>\n      <td>False</td>\n      <td>False</td>\n      <td>NaN</td>\n      <td>0.118529</td>\n    </tr>\n    <tr>\n      <th>3</th>\n      <td>26</td>\n      <td>CoolBot</td>\n      <td>85</td>\n      <td>So the robot detector... is a robot?  I don't ...</td>\n      <td>2003-07-29 01:09:00</td>\n      <td>273</td>\n      <td>False</td>\n      <td>False</td>\n      <td>NaN</td>\n      <td>0.128097</td>\n    </tr>\n    <tr>\n      <th>4</th>\n      <td>26</td>\n      <td>CoolBot</td>\n      <td>99</td>\n      <td>Has anyone considered that maybe Someone is a ...</td>\n      <td>2003-07-29 18:14:00</td>\n      <td>273</td>\n      <td>False</td>\n      <td>False</td>\n      <td>NaN</td>\n      <td>0.145455</td>\n    </tr>\n  </tbody>\n</table>\n</div>"
     },
     "metadata": {},
     "execution_count": 36
    }
   ],
   "source": [
    "messages_players.head()"
   ]
  },
  {
   "cell_type": "markdown",
   "metadata": {},
   "source": [
    "Now that we have achieved the expected result, let's try to find the rounds ! At first glance it doesn't seem very complicated, but unfortunately a lot of parameters complicate things. First of all, the moderators are different from game to game. So we cannot rely on words they might say because they change every time. Then there are also no *Bot* that punctuates the game in a regular way. And icing on the cake, the moderators don't just talk between rounds, but also makes comment during the game.\n",
    "\n",
    "However in some games finding rounds can be done by retrieving a common pattern in the moderator's votecount messages. It can be noticed by investigating the messages sent that some moderators (sadly not all of them) specify a [deadline](https://www.youtube.com/watch?v=jR9Rl-gFi6o) to the current vote session with a common structure : `Deadline: (expired on TIMESTAMP)` (see example below). Finding the post number associated with the last message in which meticulous moderators used a specific deadline timestamp is then a way to cut these games into rounds."
   ]
  },
  {
   "cell_type": "code",
   "execution_count": 37,
   "metadata": {},
   "outputs": [
    {
     "output_type": "stream",
     "name": "stdout",
     "text": [
      "Post number 25, posted at 2017-05-12 20:40:00, by PenguinPower in game 71796 : \n\"\nVote Count 1.02\nGamma Emerald (2): Transcend, FireScreamer\nTammy (2): marshy, Zulfy \nAgent Sparkles (1): Ranmaru\nMulch (1): Agent Sparkles\n\nNot Voting (7): LaLight, Mulch, Ryker, Tammy, AdumbroDeus, FrozenFlame, Gamma Emerald\n\nWith 13 alive, it takes 7 to lynch.\n\nDeadline: (expired on 2017-05-26 16:00:00)\n\nMod Notes:  Not sure I like this automatic vote counter thing.  Edit:  Think I found a work around.\n\"\n"
     ]
    }
   ],
   "source": [
    "# printing an example of moderator's post mentionning \"expired on \"\n",
    "example_index = 2\n",
    "print('Post number {post_number}, posted at {timestamp}, by {mod} in game {game_id} : \\n\"\\n{content}\"'.format(\n",
    "    post_number = vote_counts.post_no.iloc[example_index],\n",
    "    timestamp = vote_counts.inserted_at.iloc[example_index],\n",
    "    mod = vote_counts.index[example_index][1],\n",
    "    game_id = vote_counts.index[example_index][0],\n",
    "    content = vote_counts.content.iloc[example_index]))"
   ]
  },
  {
   "cell_type": "markdown",
   "metadata": {},
   "source": [
    "First let's modify the `vote_counts` DataFrame by dropping the *author* column as it doesn't bring any information to know the moderator's pseudonym, plus add a column with the timestamp associated with the sequence \"expired on \" if it is present in each of the messages contained in the DataFrame."
   ]
  },
  {
   "cell_type": "code",
   "execution_count": 38,
   "metadata": {},
   "outputs": [],
   "source": [
    "vote_counts_per_game = vote_counts.reset_index(level=1, drop=True).copy() # author brings no information\n",
    "# add column to the DF w/ timestamp if it follows the targeted pattern\n",
    "vote_counts_per_game['round_expired'] = [pd.to_datetime(vc_message.split(\"expired on \",1)[1][:19])\n",
    "                      if (\"expired on \" in vc_message) else pd.NaT\n",
    "                      for vc_message in vote_counts.content]"
   ]
  },
  {
   "cell_type": "code",
   "execution_count": 39,
   "metadata": {},
   "outputs": [
    {
     "output_type": "execute_result",
     "data": {
      "text/plain": [
       "                                                   content  \\\n",
       "game_id                                                      \n",
       "71796    Welcome to Mini Normal 1911  \\nPenguin Mafia R...   \n",
       "71796    Vote Count 1.01\\nNot Voting (13): Transcend, L...   \n",
       "71796    Vote Count 1.02\\nGamma Emerald (2): Transcend,...   \n",
       "71796    Vote Count 1.03\\nMulch (3): Agent Sparkles, Ry...   \n",
       "71796    Vote Count 1.04\\nAgent Sparkles (2): Transcend...   \n",
       "\n",
       "                inserted_at  post_no       round_expired  \n",
       "game_id                                                   \n",
       "71796   2017-05-12 11:45:00        0                 NaT  \n",
       "71796   2017-05-12 19:49:00        4 2017-05-26 16:00:00  \n",
       "71796   2017-05-12 20:40:00       25 2017-05-26 16:00:00  \n",
       "71796   2017-05-13 00:39:00      112 2017-05-26 16:00:00  \n",
       "71796   2017-05-13 01:43:00      153 2017-05-26 16:00:00  "
      ],
      "text/html": "<div>\n<style scoped>\n    .dataframe tbody tr th:only-of-type {\n        vertical-align: middle;\n    }\n\n    .dataframe tbody tr th {\n        vertical-align: top;\n    }\n\n    .dataframe thead th {\n        text-align: right;\n    }\n</style>\n<table border=\"1\" class=\"dataframe\">\n  <thead>\n    <tr style=\"text-align: right;\">\n      <th></th>\n      <th>content</th>\n      <th>inserted_at</th>\n      <th>post_no</th>\n      <th>round_expired</th>\n    </tr>\n    <tr>\n      <th>game_id</th>\n      <th></th>\n      <th></th>\n      <th></th>\n      <th></th>\n    </tr>\n  </thead>\n  <tbody>\n    <tr>\n      <th>71796</th>\n      <td>Welcome to Mini Normal 1911  \\nPenguin Mafia R...</td>\n      <td>2017-05-12 11:45:00</td>\n      <td>0</td>\n      <td>NaT</td>\n    </tr>\n    <tr>\n      <th>71796</th>\n      <td>Vote Count 1.01\\nNot Voting (13): Transcend, L...</td>\n      <td>2017-05-12 19:49:00</td>\n      <td>4</td>\n      <td>2017-05-26 16:00:00</td>\n    </tr>\n    <tr>\n      <th>71796</th>\n      <td>Vote Count 1.02\\nGamma Emerald (2): Transcend,...</td>\n      <td>2017-05-12 20:40:00</td>\n      <td>25</td>\n      <td>2017-05-26 16:00:00</td>\n    </tr>\n    <tr>\n      <th>71796</th>\n      <td>Vote Count 1.03\\nMulch (3): Agent Sparkles, Ry...</td>\n      <td>2017-05-13 00:39:00</td>\n      <td>112</td>\n      <td>2017-05-26 16:00:00</td>\n    </tr>\n    <tr>\n      <th>71796</th>\n      <td>Vote Count 1.04\\nAgent Sparkles (2): Transcend...</td>\n      <td>2017-05-13 01:43:00</td>\n      <td>153</td>\n      <td>2017-05-26 16:00:00</td>\n    </tr>\n  </tbody>\n</table>\n</div>"
     },
     "metadata": {},
     "execution_count": 39
    }
   ],
   "source": [
    "vote_counts_per_game.head()"
   ]
  },
  {
   "cell_type": "markdown",
   "metadata": {},
   "source": [
    "Based on the added column *round_expired*, a DataFrame containing information about each of the games with conscientious moderators can be built. It aims at gathering the indexes of such games and the posts numbers than mark the end of rounds (ie. last time a specific timestamp is used as a deadline)."
   ]
  },
  {
   "cell_type": "code",
   "execution_count": 40,
   "metadata": {},
   "outputs": [],
   "source": [
    "# find all the games in which \"expired on \" is mentionned at least once\n",
    "game_expired_mention = np.unique(vote_counts_per_game[~pd.isnull(vote_counts_per_game.round_expired)].index)\n",
    "# build a DF to gather informations about these games\n",
    "df_expired = pd.DataFrame(game_expired_mention, columns=['game_id']).set_index('game_id')\n",
    "\n",
    "# add a column with all the different deadlines used by the mod\n",
    "unique_round_expired = []\n",
    "\n",
    "for game_id in df_expired.index:\n",
    "    unique_round_expired.append(np.unique(vote_counts_per_game.loc[game_id].round_expired))\n",
    "    unique_round_expired[-1] = unique_round_expired[-1][~pd.isnull(unique_round_expired[-1])]\n",
    "    \n",
    "df_expired['unique_round_expired'] = unique_round_expired\n",
    "\n",
    "# select only the games within which moderator stated at least 2 different deadlines\n",
    "df_expired['nb_rounds'] = [len(game_rounds_ts) for game_rounds_ts in df_expired.unique_round_expired]\n",
    "df_expired = df_expired[df_expired.nb_rounds>1]\n",
    "\n",
    "# retrieving the post number associated with the end of a round\n",
    "df_expired['end_round_post_no'] = [np.array([vote_counts_per_game.loc[game_id][vote_counts_per_game.loc[game_id].round_expired == pd.to_datetime(date)].post_no.iloc[-1]\n",
    "                                             for date in df_expired.loc[game_id].unique_round_expired])\n",
    "                                   for game_id in df_expired.index]"
   ]
  },
  {
   "cell_type": "code",
   "execution_count": 41,
   "metadata": {},
   "outputs": [
    {
     "output_type": "execute_result",
     "data": {
      "text/plain": [
       "                                      unique_round_expired  nb_rounds  \\\n",
       "game_id                                                                 \n",
       "17173    [2011-05-14T12:00:00.000000000, 2011-05-17T19:...          8   \n",
       "17407    [2011-06-09T23:00:00.000000000, 2011-06-26T02:...          3   \n",
       "17666    [2011-06-15T16:00:00.000000000, 2011-06-24T10:...          6   \n",
       "17864    [2011-07-19T17:00:00.000000000, 2011-07-22T17:...          3   \n",
       "18287    [2011-08-01T18:00:00.000000000, 2011-08-03T13:...          6   \n",
       "\n",
       "                                end_round_post_no  \n",
       "game_id                                            \n",
       "17173    [736, 740, 850, 868, 931, 939, 892, 932]  \n",
       "17407                          [1012, 1263, 1356]  \n",
       "17666              [142, 349, 483, 627, 676, 688]  \n",
       "17864                           [880, 1018, 1489]  \n",
       "18287           [470, 540, 830, 1024, 1060, 1072]  "
      ],
      "text/html": "<div>\n<style scoped>\n    .dataframe tbody tr th:only-of-type {\n        vertical-align: middle;\n    }\n\n    .dataframe tbody tr th {\n        vertical-align: top;\n    }\n\n    .dataframe thead th {\n        text-align: right;\n    }\n</style>\n<table border=\"1\" class=\"dataframe\">\n  <thead>\n    <tr style=\"text-align: right;\">\n      <th></th>\n      <th>unique_round_expired</th>\n      <th>nb_rounds</th>\n      <th>end_round_post_no</th>\n    </tr>\n    <tr>\n      <th>game_id</th>\n      <th></th>\n      <th></th>\n      <th></th>\n    </tr>\n  </thead>\n  <tbody>\n    <tr>\n      <th>17173</th>\n      <td>[2011-05-14T12:00:00.000000000, 2011-05-17T19:...</td>\n      <td>8</td>\n      <td>[736, 740, 850, 868, 931, 939, 892, 932]</td>\n    </tr>\n    <tr>\n      <th>17407</th>\n      <td>[2011-06-09T23:00:00.000000000, 2011-06-26T02:...</td>\n      <td>3</td>\n      <td>[1012, 1263, 1356]</td>\n    </tr>\n    <tr>\n      <th>17666</th>\n      <td>[2011-06-15T16:00:00.000000000, 2011-06-24T10:...</td>\n      <td>6</td>\n      <td>[142, 349, 483, 627, 676, 688]</td>\n    </tr>\n    <tr>\n      <th>17864</th>\n      <td>[2011-07-19T17:00:00.000000000, 2011-07-22T17:...</td>\n      <td>3</td>\n      <td>[880, 1018, 1489]</td>\n    </tr>\n    <tr>\n      <th>18287</th>\n      <td>[2011-08-01T18:00:00.000000000, 2011-08-03T13:...</td>\n      <td>6</td>\n      <td>[470, 540, 830, 1024, 1060, 1072]</td>\n    </tr>\n  </tbody>\n</table>\n</div>"
     },
     "metadata": {},
     "execution_count": 41
    }
   ],
   "source": [
    "df_expired.head()"
   ]
  },
  {
   "cell_type": "markdown",
   "metadata": {},
   "source": [
    "Within this games' subset, the messages sent by the players can be categorized according to the round they were sent. This is done by selecting a reduced DataFrame within `messages_players` and computing the number of posts marking the end of rounds that occur before each of the players message is sent."
   ]
  },
  {
   "cell_type": "code",
   "execution_count": 42,
   "metadata": {},
   "outputs": [
    {
     "output_type": "display_data",
     "data": {
      "text/plain": "HBox(children=(FloatProgress(value=0.0, max=422903.0), HTML(value='')))",
      "application/vnd.jupyter.widget-view+json": {
       "version_major": 2,
       "version_minor": 0,
       "model_id": "ca473ac819f649e7a9b265b986d718e2"
      }
     },
     "metadata": {}
    },
    {
     "output_type": "stream",
     "name": "stdout",
     "text": [
      "\n"
     ]
    }
   ],
   "source": [
    "# reducing to the games of interest\n",
    "messages_players_expired = messages_players[messages_players.game_id.isin(df_expired.index)].copy()\n",
    "\n",
    "# adding the `rounds` column\n",
    "mess_expired_round = []\n",
    "\n",
    "for index, row_posts in tqdm(messages_players_expired.iterrows(), total=messages_players_expired.shape[0]):\n",
    "    game_id = row_posts.game_id\n",
    "    mess_expired_round.append(np.sum(row_posts.post_no > df_expired.loc[game_id].end_round_post_no))\n",
    "\n",
    "messages_players_expired['rounds'] = mess_expired_round"
   ]
  },
  {
   "cell_type": "code",
   "execution_count": 43,
   "metadata": {},
   "outputs": [
    {
     "output_type": "execute_result",
     "data": {
      "text/plain": [
       "        game_id              author  post_no  \\\n",
       "188456    17173  Elsa von Spielburg       11   \n",
       "188457    17173  Elsa von Spielburg       23   \n",
       "188458    17173  Elsa von Spielburg       30   \n",
       "188459    17173  Elsa von Spielburg       31   \n",
       "188460    17173  Elsa von Spielburg       42   \n",
       "\n",
       "                                                  content         inserted_at  \\\n",
       "188456  Vote: McGriddle\\n\\nWhy would you tout the prod... 2011-04-07 20:55:00   \n",
       "188457  Really, Occult (and others), how often does th... 2011-04-08 17:28:00   \n",
       "188458  \\n\\nAgreed, the RVS is largely useless until s... 2011-04-08 21:05:00   \n",
       "188459  \\n\\nWho is the \"he\" in this sentence.  I don't... 2011-04-08 21:08:00   \n",
       "188460  \\n\\nYeah, I'm wondering how being the 2nd vote... 2011-04-09 02:33:00   \n",
       "\n",
       "        post_no_last  survived  betrayer town_won  rel_time  rounds  \n",
       "188456           939     False     False    False  0.046744       0  \n",
       "188457           939     False     False    False  0.059936       0  \n",
       "188458           939     False     False    False  0.062257       0  \n",
       "188459           939     False     False    False  0.062289       0  \n",
       "188460           939     False     False    False  0.065767       0  "
      ],
      "text/html": "<div>\n<style scoped>\n    .dataframe tbody tr th:only-of-type {\n        vertical-align: middle;\n    }\n\n    .dataframe tbody tr th {\n        vertical-align: top;\n    }\n\n    .dataframe thead th {\n        text-align: right;\n    }\n</style>\n<table border=\"1\" class=\"dataframe\">\n  <thead>\n    <tr style=\"text-align: right;\">\n      <th></th>\n      <th>game_id</th>\n      <th>author</th>\n      <th>post_no</th>\n      <th>content</th>\n      <th>inserted_at</th>\n      <th>post_no_last</th>\n      <th>survived</th>\n      <th>betrayer</th>\n      <th>town_won</th>\n      <th>rel_time</th>\n      <th>rounds</th>\n    </tr>\n  </thead>\n  <tbody>\n    <tr>\n      <th>188456</th>\n      <td>17173</td>\n      <td>Elsa von Spielburg</td>\n      <td>11</td>\n      <td>Vote: McGriddle\\n\\nWhy would you tout the prod...</td>\n      <td>2011-04-07 20:55:00</td>\n      <td>939</td>\n      <td>False</td>\n      <td>False</td>\n      <td>False</td>\n      <td>0.046744</td>\n      <td>0</td>\n    </tr>\n    <tr>\n      <th>188457</th>\n      <td>17173</td>\n      <td>Elsa von Spielburg</td>\n      <td>23</td>\n      <td>Really, Occult (and others), how often does th...</td>\n      <td>2011-04-08 17:28:00</td>\n      <td>939</td>\n      <td>False</td>\n      <td>False</td>\n      <td>False</td>\n      <td>0.059936</td>\n      <td>0</td>\n    </tr>\n    <tr>\n      <th>188458</th>\n      <td>17173</td>\n      <td>Elsa von Spielburg</td>\n      <td>30</td>\n      <td>\\n\\nAgreed, the RVS is largely useless until s...</td>\n      <td>2011-04-08 21:05:00</td>\n      <td>939</td>\n      <td>False</td>\n      <td>False</td>\n      <td>False</td>\n      <td>0.062257</td>\n      <td>0</td>\n    </tr>\n    <tr>\n      <th>188459</th>\n      <td>17173</td>\n      <td>Elsa von Spielburg</td>\n      <td>31</td>\n      <td>\\n\\nWho is the \"he\" in this sentence.  I don't...</td>\n      <td>2011-04-08 21:08:00</td>\n      <td>939</td>\n      <td>False</td>\n      <td>False</td>\n      <td>False</td>\n      <td>0.062289</td>\n      <td>0</td>\n    </tr>\n    <tr>\n      <th>188460</th>\n      <td>17173</td>\n      <td>Elsa von Spielburg</td>\n      <td>42</td>\n      <td>\\n\\nYeah, I'm wondering how being the 2nd vote...</td>\n      <td>2011-04-09 02:33:00</td>\n      <td>939</td>\n      <td>False</td>\n      <td>False</td>\n      <td>False</td>\n      <td>0.065767</td>\n      <td>0</td>\n    </tr>\n  </tbody>\n</table>\n</div>"
     },
     "metadata": {},
     "execution_count": 43
    }
   ],
   "source": [
    "messages_players_expired.head()"
   ]
  },
  {
   "cell_type": "code",
   "execution_count": 44,
   "metadata": {},
   "outputs": [
    {
     "output_type": "stream",
     "name": "stdout",
     "text": [
      "220\n"
     ]
    }
   ],
   "source": [
    "messages_players_expired_outcome = messages_players_expired[~pd.isnull(messages_players_expired.town_won)]\n",
    "print(len(np.unique(messages_players_expired_outcome.game_id)))"
   ]
  },
  {
   "cell_type": "markdown",
   "metadata": {},
   "source": [
    "Now we have two dataframe. One containing 231 games with the messages that are separated by round and another one with 637 games with messages that have only a time code that tell when they were sent during the game (relative time)."
   ]
  },
  {
   "cell_type": "code",
   "execution_count": 45,
   "metadata": {},
   "outputs": [
    {
     "output_type": "stream",
     "name": "stdout",
     "text": [
      "231\n"
     ]
    }
   ],
   "source": [
    "print(len(np.unique(messages_players_expired.game_id)))"
   ]
  },
  {
   "cell_type": "code",
   "execution_count": 46,
   "metadata": {},
   "outputs": [],
   "source": [
    "messages_players_expired_outcome_survivors = messages_players_expired_outcome[messages_players_expired_outcome.survived]"
   ]
  },
  {
   "cell_type": "code",
   "execution_count": 47,
   "metadata": {},
   "outputs": [
    {
     "output_type": "execute_result",
     "data": {
      "text/plain": [
       "        game_id   author  post_no  \\\n",
       "188580    17173  Hero764      143   \n",
       "188768    17173   Occult        6   \n",
       "188769    17173   Occult       10   \n",
       "188770    17173   Occult       19   \n",
       "188771    17173   Occult       21   \n",
       "\n",
       "                                                  content         inserted_at  \\\n",
       "188580  Hey sorry for the absence, this isn't normal s... 2011-04-12 23:53:00   \n",
       "188768                                               Vote 2011-04-07 18:34:00   \n",
       "188769                  The blank vote is quite symbolic. 2011-04-07 20:07:00   \n",
       "188770  \\n\\nI assumed the point of the RVS was to rand... 2011-04-08 14:50:00   \n",
       "188771  You see that is a bit of a WIFOM, isn't it? In... 2011-04-08 15:23:00   \n",
       "\n",
       "        post_no_last  survived  betrayer town_won  rel_time  rounds  \n",
       "188580           939      True     False    False  0.125681       0  \n",
       "188768           939      True      True    False  0.045235       0  \n",
       "188769           939      True      True    False  0.046230       0  \n",
       "188770           939      True      True    False  0.058245       0  \n",
       "188771           939      True      True    False  0.058598       0  "
      ],
      "text/html": "<div>\n<style scoped>\n    .dataframe tbody tr th:only-of-type {\n        vertical-align: middle;\n    }\n\n    .dataframe tbody tr th {\n        vertical-align: top;\n    }\n\n    .dataframe thead th {\n        text-align: right;\n    }\n</style>\n<table border=\"1\" class=\"dataframe\">\n  <thead>\n    <tr style=\"text-align: right;\">\n      <th></th>\n      <th>game_id</th>\n      <th>author</th>\n      <th>post_no</th>\n      <th>content</th>\n      <th>inserted_at</th>\n      <th>post_no_last</th>\n      <th>survived</th>\n      <th>betrayer</th>\n      <th>town_won</th>\n      <th>rel_time</th>\n      <th>rounds</th>\n    </tr>\n  </thead>\n  <tbody>\n    <tr>\n      <th>188580</th>\n      <td>17173</td>\n      <td>Hero764</td>\n      <td>143</td>\n      <td>Hey sorry for the absence, this isn't normal s...</td>\n      <td>2011-04-12 23:53:00</td>\n      <td>939</td>\n      <td>True</td>\n      <td>False</td>\n      <td>False</td>\n      <td>0.125681</td>\n      <td>0</td>\n    </tr>\n    <tr>\n      <th>188768</th>\n      <td>17173</td>\n      <td>Occult</td>\n      <td>6</td>\n      <td>Vote</td>\n      <td>2011-04-07 18:34:00</td>\n      <td>939</td>\n      <td>True</td>\n      <td>True</td>\n      <td>False</td>\n      <td>0.045235</td>\n      <td>0</td>\n    </tr>\n    <tr>\n      <th>188769</th>\n      <td>17173</td>\n      <td>Occult</td>\n      <td>10</td>\n      <td>The blank vote is quite symbolic.</td>\n      <td>2011-04-07 20:07:00</td>\n      <td>939</td>\n      <td>True</td>\n      <td>True</td>\n      <td>False</td>\n      <td>0.046230</td>\n      <td>0</td>\n    </tr>\n    <tr>\n      <th>188770</th>\n      <td>17173</td>\n      <td>Occult</td>\n      <td>19</td>\n      <td>\\n\\nI assumed the point of the RVS was to rand...</td>\n      <td>2011-04-08 14:50:00</td>\n      <td>939</td>\n      <td>True</td>\n      <td>True</td>\n      <td>False</td>\n      <td>0.058245</td>\n      <td>0</td>\n    </tr>\n    <tr>\n      <th>188771</th>\n      <td>17173</td>\n      <td>Occult</td>\n      <td>21</td>\n      <td>You see that is a bit of a WIFOM, isn't it? In...</td>\n      <td>2011-04-08 15:23:00</td>\n      <td>939</td>\n      <td>True</td>\n      <td>True</td>\n      <td>False</td>\n      <td>0.058598</td>\n      <td>0</td>\n    </tr>\n  </tbody>\n</table>\n</div>"
     },
     "metadata": {},
     "execution_count": 47
    }
   ],
   "source": [
    "messages_players_expired_outcome_survivors.head()"
   ]
  },
  {
   "cell_type": "code",
   "execution_count": 48,
   "metadata": {},
   "outputs": [],
   "source": [
    "messages_players.to_pickle(os.path.join(PATH_OUTPUT, 'messages_players.pkl'))\n",
    "messages_players_expired.to_pickle(os.path.join(PATH_OUTPUT, 'messages_players_expired.pkl'))\n",
    "messages_players_expired_outcome.to_pickle(os.path.join(PATH_OUTPUT, 'messages_players_expired_outcome.pkl'))\n",
    "messages_players_expired_outcome_survivors.to_pickle(os.path.join(PATH_OUTPUT, 'messages_players_expired_outcome_survivors.pkl'))"
   ]
  },
  {
   "cell_type": "code",
   "execution_count": 49,
   "metadata": {},
   "outputs": [
    {
     "output_type": "execute_result",
     "data": {
      "text/plain": [
       "        game_id              author  post_no  \\\n",
       "188456    17173  Elsa von Spielburg       11   \n",
       "188457    17173  Elsa von Spielburg       23   \n",
       "188458    17173  Elsa von Spielburg       30   \n",
       "188459    17173  Elsa von Spielburg       31   \n",
       "188460    17173  Elsa von Spielburg       42   \n",
       "\n",
       "                                                  content         inserted_at  \\\n",
       "188456  Vote: McGriddle\\n\\nWhy would you tout the prod... 2011-04-07 20:55:00   \n",
       "188457  Really, Occult (and others), how often does th... 2011-04-08 17:28:00   \n",
       "188458  \\n\\nAgreed, the RVS is largely useless until s... 2011-04-08 21:05:00   \n",
       "188459  \\n\\nWho is the \"he\" in this sentence.  I don't... 2011-04-08 21:08:00   \n",
       "188460  \\n\\nYeah, I'm wondering how being the 2nd vote... 2011-04-09 02:33:00   \n",
       "\n",
       "        post_no_last  survived  betrayer town_won  rel_time  rounds  \n",
       "188456           939     False     False    False  0.046744       0  \n",
       "188457           939     False     False    False  0.059936       0  \n",
       "188458           939     False     False    False  0.062257       0  \n",
       "188459           939     False     False    False  0.062289       0  \n",
       "188460           939     False     False    False  0.065767       0  "
      ],
      "text/html": "<div>\n<style scoped>\n    .dataframe tbody tr th:only-of-type {\n        vertical-align: middle;\n    }\n\n    .dataframe tbody tr th {\n        vertical-align: top;\n    }\n\n    .dataframe thead th {\n        text-align: right;\n    }\n</style>\n<table border=\"1\" class=\"dataframe\">\n  <thead>\n    <tr style=\"text-align: right;\">\n      <th></th>\n      <th>game_id</th>\n      <th>author</th>\n      <th>post_no</th>\n      <th>content</th>\n      <th>inserted_at</th>\n      <th>post_no_last</th>\n      <th>survived</th>\n      <th>betrayer</th>\n      <th>town_won</th>\n      <th>rel_time</th>\n      <th>rounds</th>\n    </tr>\n  </thead>\n  <tbody>\n    <tr>\n      <th>188456</th>\n      <td>17173</td>\n      <td>Elsa von Spielburg</td>\n      <td>11</td>\n      <td>Vote: McGriddle\\n\\nWhy would you tout the prod...</td>\n      <td>2011-04-07 20:55:00</td>\n      <td>939</td>\n      <td>False</td>\n      <td>False</td>\n      <td>False</td>\n      <td>0.046744</td>\n      <td>0</td>\n    </tr>\n    <tr>\n      <th>188457</th>\n      <td>17173</td>\n      <td>Elsa von Spielburg</td>\n      <td>23</td>\n      <td>Really, Occult (and others), how often does th...</td>\n      <td>2011-04-08 17:28:00</td>\n      <td>939</td>\n      <td>False</td>\n      <td>False</td>\n      <td>False</td>\n      <td>0.059936</td>\n      <td>0</td>\n    </tr>\n    <tr>\n      <th>188458</th>\n      <td>17173</td>\n      <td>Elsa von Spielburg</td>\n      <td>30</td>\n      <td>\\n\\nAgreed, the RVS is largely useless until s...</td>\n      <td>2011-04-08 21:05:00</td>\n      <td>939</td>\n      <td>False</td>\n      <td>False</td>\n      <td>False</td>\n      <td>0.062257</td>\n      <td>0</td>\n    </tr>\n    <tr>\n      <th>188459</th>\n      <td>17173</td>\n      <td>Elsa von Spielburg</td>\n      <td>31</td>\n      <td>\\n\\nWho is the \"he\" in this sentence.  I don't...</td>\n      <td>2011-04-08 21:08:00</td>\n      <td>939</td>\n      <td>False</td>\n      <td>False</td>\n      <td>False</td>\n      <td>0.062289</td>\n      <td>0</td>\n    </tr>\n    <tr>\n      <th>188460</th>\n      <td>17173</td>\n      <td>Elsa von Spielburg</td>\n      <td>42</td>\n      <td>\\n\\nYeah, I'm wondering how being the 2nd vote...</td>\n      <td>2011-04-09 02:33:00</td>\n      <td>939</td>\n      <td>False</td>\n      <td>False</td>\n      <td>False</td>\n      <td>0.065767</td>\n      <td>0</td>\n    </tr>\n  </tbody>\n</table>\n</div>"
     },
     "metadata": {},
     "execution_count": 49
    }
   ],
   "source": [
    "messages_players_expired.head()"
   ]
  },
  {
   "cell_type": "code",
   "execution_count": 50,
   "metadata": {},
   "outputs": [
    {
     "output_type": "execute_result",
     "data": {
      "text/plain": [
       "422903"
      ]
     },
     "metadata": {},
     "execution_count": 50
    }
   ],
   "source": [
    "len(messages_players_expired)"
   ]
  },
  {
   "cell_type": "markdown",
   "metadata": {},
   "source": [
    "---"
   ]
  },
  {
   "cell_type": "markdown",
   "metadata": {},
   "source": [
    "## Now for (more) code !"
   ]
  },
  {
   "cell_type": "markdown",
   "metadata": {},
   "source": [
    "### General functions"
   ]
  },
  {
   "cell_type": "code",
   "execution_count": 51,
   "metadata": {},
   "outputs": [],
   "source": [
    "def bootstrap_CI_median(data, nbr_draws=1000, ci=95):\n",
    "    \"\"\"\n",
    "    Role : compute the given confidence interval (CI) around the mean of an array of values\n",
    "\n",
    "    # PARAMETERS\n",
    "    data : array containing the values on which we want to compute the mean (and thus CI)\n",
    "    nbr_draws : integer defining the number of random selections when bootstraping data\n",
    "    ci : float (default 95) defines the amount of precision wanted in percentage\n",
    "\n",
    "    # RETURN\n",
    "    list containing the CI around the mean : [2.5 percentile, 97.5 percentile]\n",
    "    \"\"\"\n",
    "    # compute the percentiles according to the given confidence interval\n",
    "    low_perc = (100 - ci) / 2\n",
    "    high_perc = 100 - low_perc\n",
    "\n",
    "    # defining arrays that will be filled during the random bootstraps\n",
    "    medians = np.zeros(nbr_draws)\n",
    "    data = np.array(data)\n",
    "\n",
    "    for n in range(nbr_draws):\n",
    "        indices = np.random.randint(\n",
    "            0, len(data), len(data)\n",
    "        )  # random selection of data in the data array (with replacement)\n",
    "        data_tmp = data[\n",
    "            indices\n",
    "        ]  # creation of a new array of values from the data values\n",
    "        medians[n] = np.nanmedian(data_tmp)  # calculate the mean of the new array of values\n",
    "\n",
    "    return np.nanpercentile(medians, low_perc), np.nanpercentile(medians, high_perc)"
   ]
  },
  {
   "cell_type": "markdown",
   "metadata": {},
   "source": [
    "### Politeness\n",
    "\n",
    "For politeness, we are going to use [ConvoKit](convokit), which contains an implementation of the [Stanford Politeness API](#convokit), as the paper stated to use."
   ]
  },
  {
   "cell_type": "code",
   "execution_count": 52,
   "metadata": {},
   "outputs": [],
   "source": [
    "TEST = True  # Set to True to use a subset of the dataset, False to use the whole dataset."
   ]
  },
  {
   "cell_type": "code",
   "execution_count": 53,
   "metadata": {},
   "outputs": [],
   "source": [
    "try:\n",
    "    messages_players_expired.head()\n",
    "except Exception as e:\n",
    "    print(\"Warning: {}.\".format(e))\n",
    "    print(\"Trying to load it from disk.\")\n",
    "    try:  # Run the cells in #Some-preliminary-imports before!\n",
    "        messages_players_expired = pd.read_pickle(os.path.join(PATH_OUTPUT, 'messages_players_expired.npy'))\n",
    "        messages_players_expired.head()\n",
    "        print(\"Loaded from disk.\")\n",
    "    except Exception as e:\n",
    "        print(\"Error: {}.\".format(e))"
   ]
  },
  {
   "cell_type": "code",
   "execution_count": 54,
   "metadata": {},
   "outputs": [
    {
     "output_type": "stream",
     "name": "stdout",
     "text": [
      "Collecting convokit\n",
      "  Downloading convokit-2.4.3.tar.gz (141 kB)\n",
      "\u001b[K     |████████████████████████████████| 141 kB 4.6 MB/s \n",
      "\u001b[?25hRequirement already satisfied: matplotlib>=3.0.0 in /home/neilc/.local/lib/python3.8/site-packages (from convokit) (3.3.2)\n",
      "Requirement already satisfied: pandas>=0.23.4 in /home/neilc/anaconda3/lib/python3.8/site-packages (from convokit) (1.0.5)\n",
      "Requirement already satisfied: scipy>=1.1.0 in /home/neilc/.local/lib/python3.8/site-packages (from convokit) (1.5.3)\n",
      "Requirement already satisfied: scikit-learn>=0.20.0 in /home/neilc/anaconda3/lib/python3.8/site-packages (from convokit) (0.23.1)\n",
      "Requirement already satisfied: nltk>=3.4 in /home/neilc/anaconda3/lib/python3.8/site-packages (from convokit) (3.5)\n",
      "Requirement already satisfied: joblib>=0.13.2 in /home/neilc/anaconda3/lib/python3.8/site-packages (from convokit) (0.16.0)\n",
      "Collecting clean-text>=0.1.1\n",
      "  Downloading clean_text-0.3.0-py3-none-any.whl (9.6 kB)\n",
      "Collecting dill>=0.2.9\n",
      "  Downloading dill-0.3.3-py2.py3-none-any.whl (81 kB)\n",
      "\u001b[K     |████████████████████████████████| 81 kB 7.6 MB/s \n",
      "\u001b[?25hCollecting emoji\n",
      "  Downloading emoji-0.6.0.tar.gz (51 kB)\n",
      "\u001b[K     |████████████████████████████████| 51 kB 9.2 MB/s \n",
      "\u001b[?25hCollecting ftfy<6.0,>=5.8\n",
      "  Downloading ftfy-5.8.tar.gz (64 kB)\n",
      "\u001b[K     |████████████████████████████████| 64 kB 2.6 MB/s \n",
      "\u001b[?25hRequirement already satisfied: wcwidth in /home/neilc/anaconda3/lib/python3.8/site-packages (from ftfy<6.0,>=5.8->clean-text>=0.1.1->convokit) (0.2.5)\n",
      "Requirement already satisfied: certifi>=2020.06.20 in /home/neilc/.local/lib/python3.8/site-packages (from matplotlib>=3.0.0->convokit) (2020.6.20)\n",
      "Requirement already satisfied: pyparsing!=2.0.4,!=2.1.2,!=2.1.6,>=2.0.3 in /home/neilc/anaconda3/lib/python3.8/site-packages (from matplotlib>=3.0.0->convokit) (2.4.7)\n",
      "Requirement already satisfied: python-dateutil>=2.1 in /home/neilc/.local/lib/python3.8/site-packages (from matplotlib>=3.0.0->convokit) (2.8.1)\n",
      "Requirement already satisfied: kiwisolver>=1.0.1 in /home/neilc/.local/lib/python3.8/site-packages (from matplotlib>=3.0.0->convokit) (1.2.0)\n",
      "Requirement already satisfied: numpy>=1.15 in /home/neilc/anaconda3/lib/python3.8/site-packages (from matplotlib>=3.0.0->convokit) (1.18.5)\n",
      "Requirement already satisfied: pillow>=6.2.0 in /home/neilc/.local/lib/python3.8/site-packages (from matplotlib>=3.0.0->convokit) (8.0.1)\n",
      "Requirement already satisfied: cycler>=0.10 in /home/neilc/.local/lib/python3.8/site-packages (from matplotlib>=3.0.0->convokit) (0.10.0)\n",
      "Requirement already satisfied: six in /home/neilc/anaconda3/lib/python3.8/site-packages (from cycler>=0.10->matplotlib>=3.0.0->convokit) (1.15.0)\n",
      "Collecting msgpack-numpy>=0.4.3.2\n",
      "  Downloading msgpack_numpy-0.4.7.1-py2.py3-none-any.whl (6.7 kB)\n",
      "Requirement already satisfied: numpy>=1.15 in /home/neilc/anaconda3/lib/python3.8/site-packages (from matplotlib>=3.0.0->convokit) (1.18.5)\n",
      "Requirement already satisfied: msgpack>=0.5.2 in /home/neilc/anaconda3/lib/python3.8/site-packages (from msgpack-numpy>=0.4.3.2->convokit) (1.0.0)\n",
      "Requirement already satisfied: click in /home/neilc/anaconda3/lib/python3.8/site-packages (from nltk>=3.4->convokit) (7.1.2)\n",
      "Requirement already satisfied: joblib>=0.13.2 in /home/neilc/anaconda3/lib/python3.8/site-packages (from convokit) (0.16.0)\n",
      "Requirement already satisfied: regex in /home/neilc/anaconda3/lib/python3.8/site-packages (from nltk>=3.4->convokit) (2020.6.8)\n",
      "Requirement already satisfied: tqdm in /home/neilc/anaconda3/lib/python3.8/site-packages (from nltk>=3.4->convokit) (4.47.0)\n",
      "Requirement already satisfied: pytz>=2017.2 in /home/neilc/anaconda3/lib/python3.8/site-packages (from pandas>=0.23.4->convokit) (2020.1)\n",
      "Requirement already satisfied: numpy>=1.15 in /home/neilc/anaconda3/lib/python3.8/site-packages (from matplotlib>=3.0.0->convokit) (1.18.5)\n",
      "Requirement already satisfied: python-dateutil>=2.1 in /home/neilc/.local/lib/python3.8/site-packages (from matplotlib>=3.0.0->convokit) (2.8.1)\n",
      "Requirement already satisfied: six in /home/neilc/anaconda3/lib/python3.8/site-packages (from cycler>=0.10->matplotlib>=3.0.0->convokit) (1.15.0)\n",
      "Requirement already satisfied: threadpoolctl>=2.0.0 in /home/neilc/anaconda3/lib/python3.8/site-packages (from scikit-learn>=0.20.0->convokit) (2.1.0)\n",
      "Requirement already satisfied: joblib>=0.13.2 in /home/neilc/anaconda3/lib/python3.8/site-packages (from convokit) (0.16.0)\n",
      "Requirement already satisfied: scipy>=1.1.0 in /home/neilc/.local/lib/python3.8/site-packages (from convokit) (1.5.3)\n",
      "Requirement already satisfied: numpy>=1.15 in /home/neilc/anaconda3/lib/python3.8/site-packages (from matplotlib>=3.0.0->convokit) (1.18.5)\n",
      "Requirement already satisfied: numpy>=1.15 in /home/neilc/anaconda3/lib/python3.8/site-packages (from matplotlib>=3.0.0->convokit) (1.18.5)\n",
      "Collecting spacy>=2.0.12\n",
      "  Downloading spacy-2.3.5-cp38-cp38-manylinux2014_x86_64.whl (10.5 MB)\n",
      "\u001b[K     |████████████████████████████████| 10.5 MB 9.8 MB/s \n",
      "\u001b[?25hRequirement already satisfied: tqdm in /home/neilc/anaconda3/lib/python3.8/site-packages (from nltk>=3.4->convokit) (4.47.0)\n",
      "Requirement already satisfied: requests<3.0.0,>=2.13.0 in /home/neilc/anaconda3/lib/python3.8/site-packages (from spacy>=2.0.12->convokit) (2.24.0)\n",
      "Requirement already satisfied: setuptools in /home/neilc/anaconda3/lib/python3.8/site-packages (from spacy>=2.0.12->convokit) (49.2.0.post20200714)\n",
      "Requirement already satisfied: numpy>=1.15 in /home/neilc/anaconda3/lib/python3.8/site-packages (from matplotlib>=3.0.0->convokit) (1.18.5)\n",
      "Collecting blis<0.8.0,>=0.4.0\n",
      "  Downloading blis-0.7.4-cp38-cp38-manylinux2014_x86_64.whl (9.8 MB)\n",
      "\u001b[K     |████████████████████████████████| 9.8 MB 11.0 MB/s \n",
      "\u001b[?25hRequirement already satisfied: numpy>=1.15 in /home/neilc/anaconda3/lib/python3.8/site-packages (from matplotlib>=3.0.0->convokit) (1.18.5)\n",
      "Collecting catalogue<1.1.0,>=0.0.7\n",
      "  Downloading catalogue-1.0.0-py2.py3-none-any.whl (7.7 kB)\n",
      "Collecting cymem<2.1.0,>=2.0.2\n",
      "  Downloading cymem-2.0.5-cp38-cp38-manylinux2014_x86_64.whl (35 kB)\n",
      "Collecting murmurhash<1.1.0,>=0.28.0\n",
      "  Downloading murmurhash-1.0.5-cp38-cp38-manylinux2014_x86_64.whl (20 kB)\n",
      "Collecting plac<1.2.0,>=0.9.6\n",
      "  Downloading plac-1.1.3-py2.py3-none-any.whl (20 kB)\n",
      "Collecting preshed<3.1.0,>=3.0.2\n",
      "  Downloading preshed-3.0.5-cp38-cp38-manylinux2014_x86_64.whl (130 kB)\n",
      "\u001b[K     |████████████████████████████████| 130 kB 56.1 MB/s \n",
      "\u001b[?25hRequirement already satisfied: idna<3,>=2.5 in /home/neilc/anaconda3/lib/python3.8/site-packages (from requests<3.0.0,>=2.13.0->spacy>=2.0.12->convokit) (2.10)\n",
      "Requirement already satisfied: certifi>=2020.06.20 in /home/neilc/.local/lib/python3.8/site-packages (from matplotlib>=3.0.0->convokit) (2020.6.20)\n",
      "Requirement already satisfied: urllib3!=1.25.0,!=1.25.1,<1.26,>=1.21.1 in /home/neilc/anaconda3/lib/python3.8/site-packages (from requests<3.0.0,>=2.13.0->spacy>=2.0.12->convokit) (1.25.9)\n",
      "Requirement already satisfied: chardet<4,>=3.0.2 in /home/neilc/anaconda3/lib/python3.8/site-packages (from requests<3.0.0,>=2.13.0->spacy>=2.0.12->convokit) (3.0.4)\n",
      "Collecting srsly<1.1.0,>=1.0.2\n",
      "  Downloading srsly-1.0.5-cp38-cp38-manylinux2014_x86_64.whl (186 kB)\n",
      "\u001b[K     |████████████████████████████████| 186 kB 29.0 MB/s \n",
      "\u001b[?25hCollecting thinc<7.5.0,>=7.4.1\n",
      "  Downloading thinc-7.4.5-cp38-cp38-manylinux2014_x86_64.whl (1.1 MB)\n",
      "\u001b[K     |████████████████████████████████| 1.1 MB 24.5 MB/s \n",
      "\u001b[?25hRequirement already satisfied: tqdm in /home/neilc/anaconda3/lib/python3.8/site-packages (from nltk>=3.4->convokit) (4.47.0)\n",
      "Requirement already satisfied: numpy>=1.15 in /home/neilc/anaconda3/lib/python3.8/site-packages (from matplotlib>=3.0.0->convokit) (1.18.5)\n",
      "Collecting unidecode>=1.1.1\n",
      "  Downloading Unidecode-1.1.1-py2.py3-none-any.whl (238 kB)\n",
      "\u001b[K     |████████████████████████████████| 238 kB 26.7 MB/s \n",
      "\u001b[?25hCollecting wasabi<1.1.0,>=0.4.0\n",
      "  Downloading wasabi-0.8.0-py3-none-any.whl (23 kB)\n",
      "Building wheels for collected packages: convokit, emoji, ftfy\n",
      "  Building wheel for convokit (setup.py) ... \u001b[?25ldone\n",
      "\u001b[?25h  Created wheel for convokit: filename=convokit-2.4.3-py3-none-any.whl size=169203 sha256=c5a79dee1a387677b2e3dcaee96f17edd6a320746098d1d1a95d3b0466d0869b\n",
      "  Stored in directory: /home/neilc/.cache/pip/wheels/98/d4/62/56774070276289dde879c19f002745fac4a87ad4d43fca385d\n",
      "  Building wheel for emoji (setup.py) ... \u001b[?25ldone\n",
      "\u001b[?25h  Created wheel for emoji: filename=emoji-0.6.0-py3-none-any.whl size=49713 sha256=19a437140b44496c42fa7b53397c609ba8a6ed2c2909832eb2b4c87900768900\n",
      "  Stored in directory: /home/neilc/.cache/pip/wheels/43/3d/82/e7baffa5e86346c6178d7750dba6e8ef063282a37fc563f8f8\n",
      "  Building wheel for ftfy (setup.py) ... \u001b[?25ldone\n",
      "\u001b[?25h  Created wheel for ftfy: filename=ftfy-5.8-py3-none-any.whl size=45612 sha256=8affc19ec159663d04d5a1a685ab1af372051ed7e4ead25fd3ba367649e28e76\n",
      "  Stored in directory: /home/neilc/.cache/pip/wheels/3f/a5/65/684a672b6a26cb8ce3934d155c98d0e23b3dce3d2c0fadae19\n",
      "Successfully built convokit emoji ftfy\n",
      "Installing collected packages: murmurhash, cymem, wasabi, srsly, preshed, plac, catalogue, blis, thinc, ftfy, emoji, unidecode, spacy, msgpack-numpy, dill, clean-text, convokit\n",
      "Successfully installed blis-0.7.4 catalogue-1.0.0 clean-text-0.3.0 convokit-2.4.3 cymem-2.0.5 dill-0.3.3 emoji-0.6.0 ftfy-5.8 msgpack-numpy-0.4.7.1 murmurhash-1.0.5 plac-1.1.3 preshed-3.0.5 spacy-2.3.5 srsly-1.0.5 thinc-7.4.5 unidecode-1.1.1 wasabi-0.8.0\n",
      "Collecting en_core_web_sm==2.3.1\n",
      "  Downloading https://github.com/explosion/spacy-models/releases/download/en_core_web_sm-2.3.1/en_core_web_sm-2.3.1.tar.gz (12.0 MB)\n",
      "\u001b[K     |████████████████████████████████| 12.0 MB 4.5 MB/s \n",
      "\u001b[?25hRequirement already satisfied: spacy<2.4.0,>=2.3.0 in /home/neilc/anaconda3/lib/python3.8/site-packages (from en_core_web_sm==2.3.1) (2.3.5)\n",
      "Requirement already satisfied: srsly<1.1.0,>=1.0.2 in /home/neilc/anaconda3/lib/python3.8/site-packages (from spacy<2.4.0,>=2.3.0->en_core_web_sm==2.3.1) (1.0.5)\n",
      "Requirement already satisfied: wasabi<1.1.0,>=0.4.0 in /home/neilc/anaconda3/lib/python3.8/site-packages (from spacy<2.4.0,>=2.3.0->en_core_web_sm==2.3.1) (0.8.0)\n",
      "Requirement already satisfied: numpy>=1.15.0 in /home/neilc/anaconda3/lib/python3.8/site-packages (from spacy<2.4.0,>=2.3.0->en_core_web_sm==2.3.1) (1.18.5)\n",
      "Requirement already satisfied: requests<3.0.0,>=2.13.0 in /home/neilc/anaconda3/lib/python3.8/site-packages (from spacy<2.4.0,>=2.3.0->en_core_web_sm==2.3.1) (2.24.0)\n",
      "Requirement already satisfied: plac<1.2.0,>=0.9.6 in /home/neilc/anaconda3/lib/python3.8/site-packages (from spacy<2.4.0,>=2.3.0->en_core_web_sm==2.3.1) (1.1.3)\n",
      "Requirement already satisfied: setuptools in /home/neilc/anaconda3/lib/python3.8/site-packages (from spacy<2.4.0,>=2.3.0->en_core_web_sm==2.3.1) (49.2.0.post20200714)\n",
      "Requirement already satisfied: murmurhash<1.1.0,>=0.28.0 in /home/neilc/anaconda3/lib/python3.8/site-packages (from spacy<2.4.0,>=2.3.0->en_core_web_sm==2.3.1) (1.0.5)\n",
      "Requirement already satisfied: catalogue<1.1.0,>=0.0.7 in /home/neilc/anaconda3/lib/python3.8/site-packages (from spacy<2.4.0,>=2.3.0->en_core_web_sm==2.3.1) (1.0.0)\n",
      "Requirement already satisfied: tqdm<5.0.0,>=4.38.0 in /home/neilc/anaconda3/lib/python3.8/site-packages (from spacy<2.4.0,>=2.3.0->en_core_web_sm==2.3.1) (4.47.0)\n",
      "Requirement already satisfied: preshed<3.1.0,>=3.0.2 in /home/neilc/anaconda3/lib/python3.8/site-packages (from spacy<2.4.0,>=2.3.0->en_core_web_sm==2.3.1) (3.0.5)\n",
      "Requirement already satisfied: blis<0.8.0,>=0.4.0 in /home/neilc/anaconda3/lib/python3.8/site-packages (from spacy<2.4.0,>=2.3.0->en_core_web_sm==2.3.1) (0.7.4)\n",
      "Requirement already satisfied: thinc<7.5.0,>=7.4.1 in /home/neilc/anaconda3/lib/python3.8/site-packages (from spacy<2.4.0,>=2.3.0->en_core_web_sm==2.3.1) (7.4.5)\n",
      "Requirement already satisfied: cymem<2.1.0,>=2.0.2 in /home/neilc/anaconda3/lib/python3.8/site-packages (from spacy<2.4.0,>=2.3.0->en_core_web_sm==2.3.1) (2.0.5)\n",
      "Requirement already satisfied: numpy>=1.15.0 in /home/neilc/anaconda3/lib/python3.8/site-packages (from spacy<2.4.0,>=2.3.0->en_core_web_sm==2.3.1) (1.18.5)\n",
      "Requirement already satisfied: murmurhash<1.1.0,>=0.28.0 in /home/neilc/anaconda3/lib/python3.8/site-packages (from spacy<2.4.0,>=2.3.0->en_core_web_sm==2.3.1) (1.0.5)\n",
      "Requirement already satisfied: cymem<2.1.0,>=2.0.2 in /home/neilc/anaconda3/lib/python3.8/site-packages (from spacy<2.4.0,>=2.3.0->en_core_web_sm==2.3.1) (2.0.5)\n",
      "Requirement already satisfied: urllib3!=1.25.0,!=1.25.1,<1.26,>=1.21.1 in /home/neilc/anaconda3/lib/python3.8/site-packages (from requests<3.0.0,>=2.13.0->spacy<2.4.0,>=2.3.0->en_core_web_sm==2.3.1) (1.25.9)\n",
      "Requirement already satisfied: idna<3,>=2.5 in /home/neilc/anaconda3/lib/python3.8/site-packages (from requests<3.0.0,>=2.13.0->spacy<2.4.0,>=2.3.0->en_core_web_sm==2.3.1) (2.10)\n",
      "Requirement already satisfied: chardet<4,>=3.0.2 in /home/neilc/anaconda3/lib/python3.8/site-packages (from requests<3.0.0,>=2.13.0->spacy<2.4.0,>=2.3.0->en_core_web_sm==2.3.1) (3.0.4)\n",
      "Requirement already satisfied: certifi>=2017.4.17 in /home/neilc/.local/lib/python3.8/site-packages (from requests<3.0.0,>=2.13.0->spacy<2.4.0,>=2.3.0->en_core_web_sm==2.3.1) (2020.6.20)\n",
      "Requirement already satisfied: numpy>=1.15.0 in /home/neilc/anaconda3/lib/python3.8/site-packages (from spacy<2.4.0,>=2.3.0->en_core_web_sm==2.3.1) (1.18.5)\n",
      "Requirement already satisfied: preshed<3.1.0,>=3.0.2 in /home/neilc/anaconda3/lib/python3.8/site-packages (from spacy<2.4.0,>=2.3.0->en_core_web_sm==2.3.1) (3.0.5)\n",
      "Requirement already satisfied: plac<1.2.0,>=0.9.6 in /home/neilc/anaconda3/lib/python3.8/site-packages (from spacy<2.4.0,>=2.3.0->en_core_web_sm==2.3.1) (1.1.3)\n",
      "Requirement already satisfied: tqdm<5.0.0,>=4.38.0 in /home/neilc/anaconda3/lib/python3.8/site-packages (from spacy<2.4.0,>=2.3.0->en_core_web_sm==2.3.1) (4.47.0)\n",
      "Requirement already satisfied: murmurhash<1.1.0,>=0.28.0 in /home/neilc/anaconda3/lib/python3.8/site-packages (from spacy<2.4.0,>=2.3.0->en_core_web_sm==2.3.1) (1.0.5)\n",
      "Requirement already satisfied: srsly<1.1.0,>=1.0.2 in /home/neilc/anaconda3/lib/python3.8/site-packages (from spacy<2.4.0,>=2.3.0->en_core_web_sm==2.3.1) (1.0.5)\n",
      "Requirement already satisfied: catalogue<1.1.0,>=0.0.7 in /home/neilc/anaconda3/lib/python3.8/site-packages (from spacy<2.4.0,>=2.3.0->en_core_web_sm==2.3.1) (1.0.0)\n",
      "Requirement already satisfied: blis<0.8.0,>=0.4.0 in /home/neilc/anaconda3/lib/python3.8/site-packages (from spacy<2.4.0,>=2.3.0->en_core_web_sm==2.3.1) (0.7.4)\n",
      "Requirement already satisfied: cymem<2.1.0,>=2.0.2 in /home/neilc/anaconda3/lib/python3.8/site-packages (from spacy<2.4.0,>=2.3.0->en_core_web_sm==2.3.1) (2.0.5)\n",
      "Requirement already satisfied: wasabi<1.1.0,>=0.4.0 in /home/neilc/anaconda3/lib/python3.8/site-packages (from spacy<2.4.0,>=2.3.0->en_core_web_sm==2.3.1) (0.8.0)\n",
      "Building wheels for collected packages: en-core-web-sm\n",
      "  Building wheel for en-core-web-sm (setup.py) ... \u001b[?25ldone\n",
      "\u001b[?25h  Created wheel for en-core-web-sm: filename=en_core_web_sm-2.3.1-py3-none-any.whl size=12047106 sha256=7ab87696e8e195b1cf1935946290b0a7dcb39c43a36e92a452d8b56e52f08ef4\n",
      "  Stored in directory: /tmp/pip-ephem-wheel-cache-_e1f4b79/wheels/ee/4d/f7/563214122be1540b5f9197b52cb3ddb9c4a8070808b22d5a84\n",
      "Successfully built en-core-web-sm\n",
      "Installing collected packages: en-core-web-sm\n",
      "Successfully installed en-core-web-sm-2.3.1\n",
      "\u001b[33mWARNING: You are using pip version 20.3.1; however, version 20.3.3 is available.\n",
      "You should consider upgrading via the '/home/neilc/anaconda3/bin/python -m pip install --upgrade pip' command.\u001b[0m\n",
      "\u001b[38;5;2m✔ Download and installation successful\u001b[0m\n",
      "You can now load the model via spacy.load('en_core_web_sm')\n",
      "\u001b[38;5;2m✔ Linking successful\u001b[0m\n",
      "/home/neilc/anaconda3/lib/python3.8/site-packages/en_core_web_sm -->\n",
      "/home/neilc/anaconda3/lib/python3.8/site-packages/spacy/data/en\n",
      "You can now load the model via spacy.load('en')\n"
     ]
    }
   ],
   "source": [
    "try:\n",
    "    import convokit\n",
    "except:\n",
    "    !pip install convokit\n",
    "    !python -m spacy download en  # Need sudo!\n",
    "    import convokit"
   ]
  },
  {
   "cell_type": "markdown",
   "metadata": {},
   "source": [
    "#### Creation of the corpus\n",
    "\n",
    "First of all we are going to create a Corpus to use with ConvKit. A Corpus is a data format used by ConvKit, and is basically a list of Conversations. Each Conversation can hve one or more participants, called the Speakers, and each Speaker can say things, refered as Utterances. As stated by [the official documentation](#convkit), \"the Corpus class stores a list of Utterance objects, which may be grouped together into one or more instances of Conversation, and each Utterance has an associated Speaker\".\n",
    "\n",
    "As multiple players may partake in different games, we will try to separate them and consider them \"unique\" per game, because the language used will depend on the role - or so is our theory.\n",
    "\n",
    "We start to `group_by` by `game_id` so that we can get the unique players."
   ]
  },
  {
   "cell_type": "code",
   "execution_count": 55,
   "metadata": {},
   "outputs": [],
   "source": [
    "from convokit import Corpus, Speaker, Utterance\n",
    "from collections import defaultdict"
   ]
  },
  {
   "cell_type": "code",
   "execution_count": 56,
   "metadata": {},
   "outputs": [],
   "source": [
    "grouped_games = messages_players_expired.groupby(['game_id', 'author'])"
   ]
  },
  {
   "cell_type": "code",
   "execution_count": 57,
   "metadata": {},
   "outputs": [
    {
     "output_type": "execute_result",
     "data": {
      "text/plain": [
       "                            post_no  \\\n",
       "game_id author                        \n",
       "17173   Elsa von Spielburg       11   \n",
       "        Empking                   9   \n",
       "        Hero764                 143   \n",
       "        HezLucky                 12   \n",
       "        Internet Stranger         4   \n",
       "...                             ...   \n",
       "71796   Tammy                   247   \n",
       "        Titus                  2460   \n",
       "        Transcend                 6   \n",
       "        Zulfy                    11   \n",
       "        marshy                   16   \n",
       "\n",
       "                                                                      content  \\\n",
       "game_id author                                                                  \n",
       "17173   Elsa von Spielburg  Vote: McGriddle\\n\\nWhy would you tout the prod...   \n",
       "        Empking                                             Vote: Kanye - Gut   \n",
       "        Hero764             Hey sorry for the absence, this isn't normal s...   \n",
       "        HezLucky            Hi all I've got a final tomorrow so this is th...   \n",
       "        Internet Stranger                             FRIST!\\n\\nVote: Jeromus   \n",
       "...                                                                       ...   \n",
       "71796   Tammy               Hi Ranmaru, Gamma and Transcend and everyone e...   \n",
       "        Titus                            Ok where are we? What claims we got?   \n",
       "        Transcend                                                 VOTE: gamma   \n",
       "        Zulfy                             Transcend didnt like your rqs gamma   \n",
       "        marshy              I DECLARE THE END OF RQS AND THE BEGINNING OF ...   \n",
       "\n",
       "                                   inserted_at  post_no_last  survived  \\\n",
       "game_id author                                                           \n",
       "17173   Elsa von Spielburg 2011-04-07 20:55:00           939     False   \n",
       "        Empking            2011-04-07 19:27:00           939     False   \n",
       "        Hero764            2011-04-12 23:53:00           939      True   \n",
       "        HezLucky           2011-04-07 21:25:00           939     False   \n",
       "        Internet Stranger  2011-04-07 18:21:00           939     False   \n",
       "...                                        ...           ...       ...   \n",
       "71796   Tammy              2017-05-13 04:20:00          3130     False   \n",
       "        Titus              2017-05-31 18:15:00          3130     False   \n",
       "        Transcend          2017-05-12 19:51:00          3130      True   \n",
       "        Zulfy              2017-05-12 20:20:00          3130     False   \n",
       "        marshy             2017-05-12 20:30:00          3130     False   \n",
       "\n",
       "                            betrayer town_won  rel_time  rounds  \n",
       "game_id author                                                   \n",
       "17173   Elsa von Spielburg     False    False  0.046744       0  \n",
       "        Empking                False    False  0.045802       0  \n",
       "        Hero764                False    False  0.125681       0  \n",
       "        HezLucky               False    False  0.047065       0  \n",
       "        Internet Stranger       True    False  0.045096       0  \n",
       "...                              ...      ...       ...     ...  \n",
       "71796   Tammy                  False    False  0.027222       0  \n",
       "        Titus                  False    False  0.759213       2  \n",
       "        Transcend               True    False  0.013296       0  \n",
       "        Zulfy                  False    False  0.014090       0  \n",
       "        marshy                 False    False  0.014363       0  \n",
       "\n",
       "[3997 rows x 9 columns]"
      ],
      "text/html": "<div>\n<style scoped>\n    .dataframe tbody tr th:only-of-type {\n        vertical-align: middle;\n    }\n\n    .dataframe tbody tr th {\n        vertical-align: top;\n    }\n\n    .dataframe thead th {\n        text-align: right;\n    }\n</style>\n<table border=\"1\" class=\"dataframe\">\n  <thead>\n    <tr style=\"text-align: right;\">\n      <th></th>\n      <th></th>\n      <th>post_no</th>\n      <th>content</th>\n      <th>inserted_at</th>\n      <th>post_no_last</th>\n      <th>survived</th>\n      <th>betrayer</th>\n      <th>town_won</th>\n      <th>rel_time</th>\n      <th>rounds</th>\n    </tr>\n    <tr>\n      <th>game_id</th>\n      <th>author</th>\n      <th></th>\n      <th></th>\n      <th></th>\n      <th></th>\n      <th></th>\n      <th></th>\n      <th></th>\n      <th></th>\n      <th></th>\n    </tr>\n  </thead>\n  <tbody>\n    <tr>\n      <th rowspan=\"5\" valign=\"top\">17173</th>\n      <th>Elsa von Spielburg</th>\n      <td>11</td>\n      <td>Vote: McGriddle\\n\\nWhy would you tout the prod...</td>\n      <td>2011-04-07 20:55:00</td>\n      <td>939</td>\n      <td>False</td>\n      <td>False</td>\n      <td>False</td>\n      <td>0.046744</td>\n      <td>0</td>\n    </tr>\n    <tr>\n      <th>Empking</th>\n      <td>9</td>\n      <td>Vote: Kanye - Gut</td>\n      <td>2011-04-07 19:27:00</td>\n      <td>939</td>\n      <td>False</td>\n      <td>False</td>\n      <td>False</td>\n      <td>0.045802</td>\n      <td>0</td>\n    </tr>\n    <tr>\n      <th>Hero764</th>\n      <td>143</td>\n      <td>Hey sorry for the absence, this isn't normal s...</td>\n      <td>2011-04-12 23:53:00</td>\n      <td>939</td>\n      <td>True</td>\n      <td>False</td>\n      <td>False</td>\n      <td>0.125681</td>\n      <td>0</td>\n    </tr>\n    <tr>\n      <th>HezLucky</th>\n      <td>12</td>\n      <td>Hi all I've got a final tomorrow so this is th...</td>\n      <td>2011-04-07 21:25:00</td>\n      <td>939</td>\n      <td>False</td>\n      <td>False</td>\n      <td>False</td>\n      <td>0.047065</td>\n      <td>0</td>\n    </tr>\n    <tr>\n      <th>Internet Stranger</th>\n      <td>4</td>\n      <td>FRIST!\\n\\nVote: Jeromus</td>\n      <td>2011-04-07 18:21:00</td>\n      <td>939</td>\n      <td>False</td>\n      <td>True</td>\n      <td>False</td>\n      <td>0.045096</td>\n      <td>0</td>\n    </tr>\n    <tr>\n      <th>...</th>\n      <th>...</th>\n      <td>...</td>\n      <td>...</td>\n      <td>...</td>\n      <td>...</td>\n      <td>...</td>\n      <td>...</td>\n      <td>...</td>\n      <td>...</td>\n      <td>...</td>\n    </tr>\n    <tr>\n      <th rowspan=\"5\" valign=\"top\">71796</th>\n      <th>Tammy</th>\n      <td>247</td>\n      <td>Hi Ranmaru, Gamma and Transcend and everyone e...</td>\n      <td>2017-05-13 04:20:00</td>\n      <td>3130</td>\n      <td>False</td>\n      <td>False</td>\n      <td>False</td>\n      <td>0.027222</td>\n      <td>0</td>\n    </tr>\n    <tr>\n      <th>Titus</th>\n      <td>2460</td>\n      <td>Ok where are we? What claims we got?</td>\n      <td>2017-05-31 18:15:00</td>\n      <td>3130</td>\n      <td>False</td>\n      <td>False</td>\n      <td>False</td>\n      <td>0.759213</td>\n      <td>2</td>\n    </tr>\n    <tr>\n      <th>Transcend</th>\n      <td>6</td>\n      <td>VOTE: gamma</td>\n      <td>2017-05-12 19:51:00</td>\n      <td>3130</td>\n      <td>True</td>\n      <td>True</td>\n      <td>False</td>\n      <td>0.013296</td>\n      <td>0</td>\n    </tr>\n    <tr>\n      <th>Zulfy</th>\n      <td>11</td>\n      <td>Transcend didnt like your rqs gamma</td>\n      <td>2017-05-12 20:20:00</td>\n      <td>3130</td>\n      <td>False</td>\n      <td>False</td>\n      <td>False</td>\n      <td>0.014090</td>\n      <td>0</td>\n    </tr>\n    <tr>\n      <th>marshy</th>\n      <td>16</td>\n      <td>I DECLARE THE END OF RQS AND THE BEGINNING OF ...</td>\n      <td>2017-05-12 20:30:00</td>\n      <td>3130</td>\n      <td>False</td>\n      <td>False</td>\n      <td>False</td>\n      <td>0.014363</td>\n      <td>0</td>\n    </tr>\n  </tbody>\n</table>\n<p>3997 rows × 9 columns</p>\n</div>"
     },
     "metadata": {},
     "execution_count": 57
    }
   ],
   "source": [
    "grouped_games.first()"
   ]
  },
  {
   "cell_type": "markdown",
   "metadata": {},
   "source": [
    "Now, we will create the list of \"unique\" players. We will retain the following informations: `game_id`, `author`, `num_posts`, `survived`, `betrayer`, `town_won`."
   ]
  },
  {
   "cell_type": "code",
   "execution_count": 58,
   "metadata": {},
   "outputs": [
    {
     "output_type": "display_data",
     "data": {
      "text/plain": "HBox(children=(FloatProgress(value=0.0, max=3997.0), HTML(value='')))",
      "application/vnd.jupyter.widget-view+json": {
       "version_major": 2,
       "version_minor": 0,
       "model_id": "b06771c06afc4783aa9b4579150baec2"
      }
     },
     "metadata": {}
    },
    {
     "output_type": "stream",
     "name": "stdout",
     "text": [
      "\n"
     ]
    }
   ],
   "source": [
    "corpus_authors = {}\n",
    "for (game_id, author), group in tqdm(grouped_games):\n",
    "    idx = \"{}_{}\".format(game_id, author)\n",
    "    meta = {\n",
    "        'game_id': game_id,\n",
    "        'author': author,\n",
    "        'num_posts': len(group),\n",
    "        'survived': group['survived'].iloc[0],\n",
    "        'betrayer': group['betrayer'].iloc[0],\n",
    "        'town_won': group['town_won'].iloc[0],\n",
    "    }\n",
    "    corpus_authors[idx] = Speaker(id=idx, meta=meta)"
   ]
  },
  {
   "cell_type": "markdown",
   "metadata": {},
   "source": [
    "From that, we create the corpus of players."
   ]
  },
  {
   "cell_type": "code",
   "execution_count": 59,
   "metadata": {},
   "outputs": [
    {
     "output_type": "stream",
     "name": "stdout",
     "text": [
      "We have 3997 \"unique\" players.\n"
     ]
    }
   ],
   "source": [
    "print(\"We have {} \\\"unique\\\" players.\".format(len(corpus_authors)))"
   ]
  },
  {
   "cell_type": "markdown",
   "metadata": {},
   "source": [
    "Next, we are making utterances, i.e. \"messages\". Each message will be mapped to a conversation and a player."
   ]
  },
  {
   "cell_type": "code",
   "execution_count": 113,
   "metadata": {},
   "outputs": [
    {
     "output_type": "display_data",
     "data": {
      "text/plain": "HBox(children=(FloatProgress(value=0.0, max=3997.0), HTML(value='')))",
      "application/vnd.jupyter.widget-view+json": {
       "version_major": 2,
       "version_minor": 0,
       "model_id": "d1952033c5a94606bc7b4c599f2e64a3"
      }
     },
     "metadata": {}
    },
    {
     "output_type": "stream",
     "name": "stdout",
     "text": [
      "\n"
     ]
    }
   ],
   "source": [
    "corpus_utterances = {}\n",
    "for (game_id, author), group in tqdm(grouped_games):\n",
    "    author = \"{}_{}\".format(game_id, author)\n",
    "    for idx, row in group.iterrows():\n",
    "        meta = {\n",
    "            'game_id': row['game_id'],\n",
    "            'post_no': row['post_no'],\n",
    "            'date': row['inserted_at'],\n",
    "            'rel_time': row['rel_time'],\n",
    "            'round': row['rounds'],\n",
    "            'betrayer': group['betrayer'].iloc[0],\n",
    "        }\n",
    "        \n",
    "        corpus_utterances[idx] = Utterance(id=str(idx),\n",
    "                                           speaker=corpus_authors[author],\n",
    "                                           text=row['content'],\n",
    "                                           meta=meta,\n",
    "                                           conversation_id=str(game_id),\n",
    "                                           reply_to=None)"
   ]
  },
  {
   "cell_type": "code",
   "execution_count": 114,
   "metadata": {},
   "outputs": [
    {
     "output_type": "stream",
     "name": "stdout",
     "text": [
      "We have 422903 utterances.\n"
     ]
    }
   ],
   "source": [
    "print(\"We have {} utterances.\".format(len(corpus_utterances)))"
   ]
  },
  {
   "cell_type": "markdown",
   "metadata": {},
   "source": [
    "Our Corpus is almost ready to be used..."
   ]
  },
  {
   "cell_type": "code",
   "execution_count": 115,
   "metadata": {},
   "outputs": [],
   "source": [
    "list_utterances = corpus_utterances.values()\n",
    "corpus = Corpus(utterances=list_utterances)"
   ]
  },
  {
   "cell_type": "code",
   "execution_count": 116,
   "metadata": {},
   "outputs": [
    {
     "output_type": "stream",
     "name": "stdout",
     "text": [
      "Number of Speakers: 3997\nNumber of Utterances: 422903\nNumber of Conversations: 231\n"
     ]
    }
   ],
   "source": [
    "corpus.print_summary_stats()"
   ]
  },
  {
   "cell_type": "markdown",
   "metadata": {},
   "source": [
    "Numbers check out! We are going to save that thing so that we do not need to create it again."
   ]
  },
  {
   "cell_type": "code",
   "execution_count": 117,
   "metadata": {},
   "outputs": [],
   "source": [
    "if not os.path.exists(os.path.join(PATH_OUTPUT, \"corpus\")):\n",
    "    os.makedirs(os.path.join(PATH_OUTPUT, \"corpus\"))\n",
    "corpus.dump(\"corpus\", base_path=os.path.join(PATH_OUTPUT, \"corpus\"))"
   ]
  },
  {
   "cell_type": "markdown",
   "metadata": {},
   "source": [
    "#### Preprocessing\n",
    "\n",
    "Some NLP magic will take place in front of your amazed eyes. First of all, we are going to parse our texts (=tokenization), so that we can use ConvoKit's models."
   ]
  },
  {
   "cell_type": "code",
   "execution_count": 65,
   "metadata": {},
   "outputs": [],
   "source": [
    "# ... I am not sure how to load it from disck lmao."
   ]
  },
  {
   "cell_type": "code",
   "execution_count": 118,
   "metadata": {},
   "outputs": [],
   "source": [
    "from convokit import TextParser\n",
    "parser = TextParser(verbosity=1000)"
   ]
  },
  {
   "cell_type": "code",
   "execution_count": 119,
   "metadata": {},
   "outputs": [
    {
     "output_type": "stream",
     "name": "stdout",
     "text": [
      "Number of Speakers: 177\nNumber of Utterances: 32022\nNumber of Conversations: 11\n"
     ]
    }
   ],
   "source": [
    "if TEST:\n",
    "    corpus.filter_conversations_by(lambda convo: convo.id[:2] == '69')  # Warning, in place!\n",
    "    corpus.print_summary_stats()"
   ]
  },
  {
   "cell_type": "code",
   "execution_count": 120,
   "metadata": {
    "scrolled": true
   },
   "outputs": [
    {
     "output_type": "stream",
     "name": "stdout",
     "text": [
      "1000/32022 utterances processed\n",
      "2000/32022 utterances processed\n",
      "3000/32022 utterances processed\n",
      "4000/32022 utterances processed\n",
      "5000/32022 utterances processed\n",
      "6000/32022 utterances processed\n",
      "7000/32022 utterances processed\n",
      "8000/32022 utterances processed\n",
      "9000/32022 utterances processed\n",
      "10000/32022 utterances processed\n",
      "11000/32022 utterances processed\n",
      "12000/32022 utterances processed\n",
      "13000/32022 utterances processed\n",
      "14000/32022 utterances processed\n",
      "15000/32022 utterances processed\n",
      "16000/32022 utterances processed\n",
      "17000/32022 utterances processed\n",
      "18000/32022 utterances processed\n",
      "19000/32022 utterances processed\n",
      "20000/32022 utterances processed\n",
      "21000/32022 utterances processed\n",
      "22000/32022 utterances processed\n",
      "23000/32022 utterances processed\n",
      "24000/32022 utterances processed\n",
      "25000/32022 utterances processed\n",
      "26000/32022 utterances processed\n",
      "27000/32022 utterances processed\n",
      "28000/32022 utterances processed\n",
      "29000/32022 utterances processed\n",
      "30000/32022 utterances processed\n",
      "31000/32022 utterances processed\n",
      "32000/32022 utterances processed\n",
      "32022/32022 utterances processed\n"
     ]
    }
   ],
   "source": [
    "corpus_parsed = parser.transform(corpus)  # Looooooong, about 8s per 1k, so about one hour!"
   ]
  },
  {
   "cell_type": "markdown",
   "metadata": {},
   "source": [
    "We now add the different politeness strategies to compute the politeness score."
   ]
  },
  {
   "cell_type": "code",
   "execution_count": 121,
   "metadata": {},
   "outputs": [],
   "source": [
    "from convokit import PolitenessStrategies\n",
    "ps = PolitenessStrategies()"
   ]
  },
  {
   "cell_type": "code",
   "execution_count": 122,
   "metadata": {},
   "outputs": [],
   "source": [
    "corpus_politeness = ps.transform(corpus_parsed, markers=True)"
   ]
  },
  {
   "cell_type": "markdown",
   "metadata": {},
   "source": [
    "We can check that we now have indeed politeness scores attached to our Corpus using a handy built-in function:"
   ]
  },
  {
   "cell_type": "code",
   "execution_count": 123,
   "metadata": {},
   "outputs": [
    {
     "output_type": "display_data",
     "data": {
      "text/plain": "<Figure size 1800x1200 with 1 Axes>",
      "image/svg+xml": "<?xml version=\"1.0\" encoding=\"utf-8\" standalone=\"no\"?>\n<!DOCTYPE svg PUBLIC \"-//W3C//DTD SVG 1.1//EN\"\n  \"http://www.w3.org/Graphics/SVG/1.1/DTD/svg11.dtd\">\n<!-- Created with matplotlib (https://matplotlib.org/) -->\n<svg height=\"349.378359pt\" version=\"1.1\" viewBox=\"0 0 570.810938 349.378359\" width=\"570.810938pt\" xmlns=\"http://www.w3.org/2000/svg\" xmlns:xlink=\"http://www.w3.org/1999/xlink\">\n <metadata>\n  <rdf:RDF xmlns:cc=\"http://creativecommons.org/ns#\" xmlns:dc=\"http://purl.org/dc/elements/1.1/\" xmlns:rdf=\"http://www.w3.org/1999/02/22-rdf-syntax-ns#\">\n   <cc:Work>\n    <dc:type rdf:resource=\"http://purl.org/dc/dcmitype/StillImage\"/>\n    <dc:date>2020-12-16T03:00:54.812501</dc:date>\n    <dc:format>image/svg+xml</dc:format>\n    <dc:creator>\n     <cc:Agent>\n      <dc:title>Matplotlib v3.3.2, https://matplotlib.org/</dc:title>\n     </cc:Agent>\n    </dc:creator>\n   </cc:Work>\n  </rdf:RDF>\n </metadata>\n <defs>\n  <style type=\"text/css\">*{stroke-linecap:butt;stroke-linejoin:round;}</style>\n </defs>\n <g id=\"figure_1\">\n  <g id=\"patch_1\">\n   <path d=\"M 0 349.378359 \nL 570.810938 349.378359 \nL 570.810938 0 \nL 0 0 \nz\n\" style=\"fill:none;\"/>\n  </g>\n  <g id=\"axes_1\">\n   <g id=\"patch_2\">\n    <path d=\"M 61.410938 333.36 \nL 563.610938 333.36 \nL 563.610938 7.2 \nL 61.410938 7.2 \nz\n\" style=\"fill:#ffffff;\"/>\n   </g>\n   <g id=\"patch_3\">\n    <path clip-path=\"url(#pff1bb8d693)\" d=\"M 84.23821 333.36 \nL 101.797651 333.36 \nL 101.797651 329.208887 \nL 84.23821 329.208887 \nz\n\" style=\"fill:#1f77b4;\"/>\n   </g>\n   <g id=\"patch_4\">\n    <path clip-path=\"url(#pff1bb8d693)\" d=\"M 106.187511 333.36 \nL 123.746951 333.36 \nL 123.746951 332.208654 \nL 106.187511 332.208654 \nz\n\" style=\"fill:#1f77b4;\"/>\n   </g>\n   <g id=\"patch_5\">\n    <path clip-path=\"url(#pff1bb8d693)\" d=\"M 128.136812 333.36 \nL 145.696252 333.36 \nL 145.696252 168.772284 \nL 128.136812 168.772284 \nz\n\" style=\"fill:#1f77b4;\"/>\n   </g>\n   <g id=\"patch_6\">\n    <path clip-path=\"url(#pff1bb8d693)\" d=\"M 150.086112 333.36 \nL 167.645553 333.36 \nL 167.645553 333.313006 \nL 150.086112 333.313006 \nz\n\" style=\"fill:#1f77b4;\"/>\n   </g>\n   <g id=\"patch_7\">\n    <path clip-path=\"url(#pff1bb8d693)\" d=\"M 172.035413 333.36 \nL 189.594854 333.36 \nL 189.594854 258.45199 \nL 172.035413 258.45199 \nz\n\" style=\"fill:#1f77b4;\"/>\n   </g>\n   <g id=\"patch_8\">\n    <path clip-path=\"url(#pff1bb8d693)\" d=\"M 193.984714 333.36 \nL 211.544154 333.36 \nL 211.544154 296.516914 \nL 193.984714 296.516914 \nz\n\" style=\"fill:#1f77b4;\"/>\n   </g>\n   <g id=\"patch_9\">\n    <path clip-path=\"url(#pff1bb8d693)\" d=\"M 215.934014 333.36 \nL 233.493455 333.36 \nL 233.493455 331.401928 \nL 215.934014 331.401928 \nz\n\" style=\"fill:#1f77b4;\"/>\n   </g>\n   <g id=\"patch_10\">\n    <path clip-path=\"url(#pff1bb8d693)\" d=\"M 237.883315 333.36 \nL 255.442756 333.36 \nL 255.442756 330.712686 \nL 237.883315 330.712686 \nz\n\" style=\"fill:#1f77b4;\"/>\n   </g>\n   <g id=\"patch_11\">\n    <path clip-path=\"url(#pff1bb8d693)\" d=\"M 259.832616 333.36 \nL 277.392056 333.36 \nL 277.392056 329.224552 \nL 259.832616 329.224552 \nz\n\" style=\"fill:#1f77b4;\"/>\n   </g>\n   <g id=\"patch_12\">\n    <path clip-path=\"url(#pff1bb8d693)\" d=\"M 281.781917 333.36 \nL 299.341357 333.36 \nL 299.341357 299.99445 \nL 281.781917 299.99445 \nz\n\" style=\"fill:#1f77b4;\"/>\n   </g>\n   <g id=\"patch_13\">\n    <path clip-path=\"url(#pff1bb8d693)\" d=\"M 303.731217 333.36 \nL 321.290658 333.36 \nL 321.290658 79.656503 \nL 303.731217 79.656503 \nz\n\" style=\"fill:#1f77b4;\"/>\n   </g>\n   <g id=\"patch_14\">\n    <path clip-path=\"url(#pff1bb8d693)\" d=\"M 325.680518 333.36 \nL 343.239958 333.36 \nL 343.239958 222.658431 \nL 325.680518 222.658431 \nz\n\" style=\"fill:#1f77b4;\"/>\n   </g>\n   <g id=\"patch_15\">\n    <path clip-path=\"url(#pff1bb8d693)\" d=\"M 347.629819 333.36 \nL 365.189259 333.36 \nL 365.189259 126.963527 \nL 347.629819 126.963527 \nz\n\" style=\"fill:#1f77b4;\"/>\n   </g>\n   <g id=\"patch_16\">\n    <path clip-path=\"url(#pff1bb8d693)\" d=\"M 369.579119 333.36 \nL 387.13856 333.36 \nL 387.13856 306.738051 \nL 369.579119 306.738051 \nz\n\" style=\"fill:#1f77b4;\"/>\n   </g>\n   <g id=\"patch_17\">\n    <path clip-path=\"url(#pff1bb8d693)\" d=\"M 391.52842 333.36 \nL 409.087861 333.36 \nL 409.087861 330.908494 \nL 391.52842 330.908494 \nz\n\" style=\"fill:#1f77b4;\"/>\n   </g>\n   <g id=\"patch_18\">\n    <path clip-path=\"url(#pff1bb8d693)\" d=\"M 413.477721 333.36 \nL 431.037161 333.36 \nL 431.037161 298.858768 \nL 413.477721 298.858768 \nz\n\" style=\"fill:#1f77b4;\"/>\n   </g>\n   <g id=\"patch_19\">\n    <path clip-path=\"url(#pff1bb8d693)\" d=\"M 435.427021 333.36 \nL 452.986462 333.36 \nL 452.986462 259.462356 \nL 435.427021 259.462356 \nz\n\" style=\"fill:#1f77b4;\"/>\n   </g>\n   <g id=\"patch_20\">\n    <path clip-path=\"url(#pff1bb8d693)\" d=\"M 457.376322 333.36 \nL 474.935763 333.36 \nL 474.935763 121.034485 \nL 457.376322 121.034485 \nz\n\" style=\"fill:#1f77b4;\"/>\n   </g>\n   <g id=\"patch_21\">\n    <path clip-path=\"url(#pff1bb8d693)\" d=\"M 479.325623 333.36 \nL 496.885063 333.36 \nL 496.885063 22.731429 \nL 479.325623 22.731429 \nz\n\" style=\"fill:#1f77b4;\"/>\n   </g>\n   <g id=\"patch_22\">\n    <path clip-path=\"url(#pff1bb8d693)\" d=\"M 501.274924 333.36 \nL 518.834364 333.36 \nL 518.834364 331.456754 \nL 501.274924 331.456754 \nz\n\" style=\"fill:#1f77b4;\"/>\n   </g>\n   <g id=\"patch_23\">\n    <path clip-path=\"url(#pff1bb8d693)\" d=\"M 523.224224 333.36 \nL 540.783665 333.36 \nL 540.783665 330.642196 \nL 523.224224 330.642196 \nz\n\" style=\"fill:#1f77b4;\"/>\n   </g>\n   <g id=\"matplotlib.axis_1\">\n    <g id=\"xtick_1\">\n     <g id=\"line2d_1\">\n      <defs>\n       <path d=\"M 0 0 \nL 0 3.5 \n\" id=\"mb0c90f0a7d\" style=\"stroke:#000000;stroke-width:0.8;\"/>\n      </defs>\n      <g>\n       <use style=\"stroke:#000000;stroke-width:0.8;\" x=\"93.017931\" xlink:href=\"#mb0c90f0a7d\" y=\"333.36\"/>\n      </g>\n     </g>\n    </g>\n    <g id=\"xtick_2\">\n     <g id=\"line2d_2\">\n      <g>\n       <use style=\"stroke:#000000;stroke-width:0.8;\" x=\"114.967231\" xlink:href=\"#mb0c90f0a7d\" y=\"333.36\"/>\n      </g>\n     </g>\n    </g>\n    <g id=\"xtick_3\">\n     <g id=\"line2d_3\">\n      <g>\n       <use style=\"stroke:#000000;stroke-width:0.8;\" x=\"136.916532\" xlink:href=\"#mb0c90f0a7d\" y=\"333.36\"/>\n      </g>\n     </g>\n    </g>\n    <g id=\"xtick_4\">\n     <g id=\"line2d_4\">\n      <g>\n       <use style=\"stroke:#000000;stroke-width:0.8;\" x=\"158.865833\" xlink:href=\"#mb0c90f0a7d\" y=\"333.36\"/>\n      </g>\n     </g>\n    </g>\n    <g id=\"xtick_5\">\n     <g id=\"line2d_5\">\n      <g>\n       <use style=\"stroke:#000000;stroke-width:0.8;\" x=\"180.815133\" xlink:href=\"#mb0c90f0a7d\" y=\"333.36\"/>\n      </g>\n     </g>\n    </g>\n    <g id=\"xtick_6\">\n     <g id=\"line2d_6\">\n      <g>\n       <use style=\"stroke:#000000;stroke-width:0.8;\" x=\"202.764434\" xlink:href=\"#mb0c90f0a7d\" y=\"333.36\"/>\n      </g>\n     </g>\n    </g>\n    <g id=\"xtick_7\">\n     <g id=\"line2d_7\">\n      <g>\n       <use style=\"stroke:#000000;stroke-width:0.8;\" x=\"224.713735\" xlink:href=\"#mb0c90f0a7d\" y=\"333.36\"/>\n      </g>\n     </g>\n    </g>\n    <g id=\"xtick_8\">\n     <g id=\"line2d_8\">\n      <g>\n       <use style=\"stroke:#000000;stroke-width:0.8;\" x=\"246.663035\" xlink:href=\"#mb0c90f0a7d\" y=\"333.36\"/>\n      </g>\n     </g>\n    </g>\n    <g id=\"xtick_9\">\n     <g id=\"line2d_9\">\n      <g>\n       <use style=\"stroke:#000000;stroke-width:0.8;\" x=\"268.612336\" xlink:href=\"#mb0c90f0a7d\" y=\"333.36\"/>\n      </g>\n     </g>\n    </g>\n    <g id=\"xtick_10\">\n     <g id=\"line2d_10\">\n      <g>\n       <use style=\"stroke:#000000;stroke-width:0.8;\" x=\"290.561637\" xlink:href=\"#mb0c90f0a7d\" y=\"333.36\"/>\n      </g>\n     </g>\n    </g>\n    <g id=\"xtick_11\">\n     <g id=\"line2d_11\">\n      <g>\n       <use style=\"stroke:#000000;stroke-width:0.8;\" x=\"312.510938\" xlink:href=\"#mb0c90f0a7d\" y=\"333.36\"/>\n      </g>\n     </g>\n    </g>\n    <g id=\"xtick_12\">\n     <g id=\"line2d_12\">\n      <g>\n       <use style=\"stroke:#000000;stroke-width:0.8;\" x=\"334.460238\" xlink:href=\"#mb0c90f0a7d\" y=\"333.36\"/>\n      </g>\n     </g>\n    </g>\n    <g id=\"xtick_13\">\n     <g id=\"line2d_13\">\n      <g>\n       <use style=\"stroke:#000000;stroke-width:0.8;\" x=\"356.409539\" xlink:href=\"#mb0c90f0a7d\" y=\"333.36\"/>\n      </g>\n     </g>\n    </g>\n    <g id=\"xtick_14\">\n     <g id=\"line2d_14\">\n      <g>\n       <use style=\"stroke:#000000;stroke-width:0.8;\" x=\"378.35884\" xlink:href=\"#mb0c90f0a7d\" y=\"333.36\"/>\n      </g>\n     </g>\n    </g>\n    <g id=\"xtick_15\">\n     <g id=\"line2d_15\">\n      <g>\n       <use style=\"stroke:#000000;stroke-width:0.8;\" x=\"400.30814\" xlink:href=\"#mb0c90f0a7d\" y=\"333.36\"/>\n      </g>\n     </g>\n    </g>\n    <g id=\"xtick_16\">\n     <g id=\"line2d_16\">\n      <g>\n       <use style=\"stroke:#000000;stroke-width:0.8;\" x=\"422.257441\" xlink:href=\"#mb0c90f0a7d\" y=\"333.36\"/>\n      </g>\n     </g>\n    </g>\n    <g id=\"xtick_17\">\n     <g id=\"line2d_17\">\n      <g>\n       <use style=\"stroke:#000000;stroke-width:0.8;\" x=\"444.206742\" xlink:href=\"#mb0c90f0a7d\" y=\"333.36\"/>\n      </g>\n     </g>\n    </g>\n    <g id=\"xtick_18\">\n     <g id=\"line2d_18\">\n      <g>\n       <use style=\"stroke:#000000;stroke-width:0.8;\" x=\"466.156042\" xlink:href=\"#mb0c90f0a7d\" y=\"333.36\"/>\n      </g>\n     </g>\n    </g>\n    <g id=\"xtick_19\">\n     <g id=\"line2d_19\">\n      <g>\n       <use style=\"stroke:#000000;stroke-width:0.8;\" x=\"488.105343\" xlink:href=\"#mb0c90f0a7d\" y=\"333.36\"/>\n      </g>\n     </g>\n    </g>\n    <g id=\"xtick_20\">\n     <g id=\"line2d_20\">\n      <g>\n       <use style=\"stroke:#000000;stroke-width:0.8;\" x=\"510.054644\" xlink:href=\"#mb0c90f0a7d\" y=\"333.36\"/>\n      </g>\n     </g>\n    </g>\n    <g id=\"xtick_21\">\n     <g id=\"line2d_21\">\n      <g>\n       <use style=\"stroke:#000000;stroke-width:0.8;\" x=\"532.003944\" xlink:href=\"#mb0c90f0a7d\" y=\"333.36\"/>\n      </g>\n     </g>\n    </g>\n   </g>\n   <g id=\"matplotlib.axis_2\">\n    <g id=\"ytick_1\">\n     <g id=\"line2d_22\">\n      <defs>\n       <path d=\"M 0 0 \nL -3.5 0 \n\" id=\"mf7756dcc72\" style=\"stroke:#000000;stroke-width:0.8;\"/>\n      </defs>\n      <g>\n       <use style=\"stroke:#000000;stroke-width:0.8;\" x=\"61.410938\" xlink:href=\"#mf7756dcc72\" y=\"333.36\"/>\n      </g>\n     </g>\n     <g id=\"text_1\">\n      <!-- 0.0 -->\n      <g transform=\"translate(30.55625 339.058828)scale(0.15 -0.15)\">\n       <defs>\n        <path d=\"M 31.78125 66.40625 \nQ 24.171875 66.40625 20.328125 58.90625 \nQ 16.5 51.421875 16.5 36.375 \nQ 16.5 21.390625 20.328125 13.890625 \nQ 24.171875 6.390625 31.78125 6.390625 \nQ 39.453125 6.390625 43.28125 13.890625 \nQ 47.125 21.390625 47.125 36.375 \nQ 47.125 51.421875 43.28125 58.90625 \nQ 39.453125 66.40625 31.78125 66.40625 \nz\nM 31.78125 74.21875 \nQ 44.046875 74.21875 50.515625 64.515625 \nQ 56.984375 54.828125 56.984375 36.375 \nQ 56.984375 17.96875 50.515625 8.265625 \nQ 44.046875 -1.421875 31.78125 -1.421875 \nQ 19.53125 -1.421875 13.0625 8.265625 \nQ 6.59375 17.96875 6.59375 36.375 \nQ 6.59375 54.828125 13.0625 64.515625 \nQ 19.53125 74.21875 31.78125 74.21875 \nz\n\" id=\"DejaVuSans-48\"/>\n        <path d=\"M 10.6875 12.40625 \nL 21 12.40625 \nL 21 0 \nL 10.6875 0 \nz\n\" id=\"DejaVuSans-46\"/>\n       </defs>\n       <use xlink:href=\"#DejaVuSans-48\"/>\n       <use x=\"63.623047\" xlink:href=\"#DejaVuSans-46\"/>\n       <use x=\"95.410156\" xlink:href=\"#DejaVuSans-48\"/>\n      </g>\n     </g>\n    </g>\n    <g id=\"ytick_2\">\n     <g id=\"line2d_23\">\n      <g>\n       <use style=\"stroke:#000000;stroke-width:0.8;\" x=\"61.410938\" xlink:href=\"#mf7756dcc72\" y=\"283.19889\"/>\n      </g>\n     </g>\n     <g id=\"text_2\">\n      <!-- 0.2 -->\n      <g transform=\"translate(30.55625 288.897718)scale(0.15 -0.15)\">\n       <defs>\n        <path d=\"M 19.1875 8.296875 \nL 53.609375 8.296875 \nL 53.609375 0 \nL 7.328125 0 \nL 7.328125 8.296875 \nQ 12.9375 14.109375 22.625 23.890625 \nQ 32.328125 33.6875 34.8125 36.53125 \nQ 39.546875 41.84375 41.421875 45.53125 \nQ 43.3125 49.21875 43.3125 52.78125 \nQ 43.3125 58.59375 39.234375 62.25 \nQ 35.15625 65.921875 28.609375 65.921875 \nQ 23.96875 65.921875 18.8125 64.3125 \nQ 13.671875 62.703125 7.8125 59.421875 \nL 7.8125 69.390625 \nQ 13.765625 71.78125 18.9375 73 \nQ 24.125 74.21875 28.421875 74.21875 \nQ 39.75 74.21875 46.484375 68.546875 \nQ 53.21875 62.890625 53.21875 53.421875 \nQ 53.21875 48.921875 51.53125 44.890625 \nQ 49.859375 40.875 45.40625 35.40625 \nQ 44.1875 33.984375 37.640625 27.21875 \nQ 31.109375 20.453125 19.1875 8.296875 \nz\n\" id=\"DejaVuSans-50\"/>\n       </defs>\n       <use xlink:href=\"#DejaVuSans-48\"/>\n       <use x=\"63.623047\" xlink:href=\"#DejaVuSans-46\"/>\n       <use x=\"95.410156\" xlink:href=\"#DejaVuSans-50\"/>\n      </g>\n     </g>\n    </g>\n    <g id=\"ytick_3\">\n     <g id=\"line2d_24\">\n      <g>\n       <use style=\"stroke:#000000;stroke-width:0.8;\" x=\"61.410938\" xlink:href=\"#mf7756dcc72\" y=\"233.03778\"/>\n      </g>\n     </g>\n     <g id=\"text_3\">\n      <!-- 0.4 -->\n      <g transform=\"translate(30.55625 238.736608)scale(0.15 -0.15)\">\n       <defs>\n        <path d=\"M 37.796875 64.3125 \nL 12.890625 25.390625 \nL 37.796875 25.390625 \nz\nM 35.203125 72.90625 \nL 47.609375 72.90625 \nL 47.609375 25.390625 \nL 58.015625 25.390625 \nL 58.015625 17.1875 \nL 47.609375 17.1875 \nL 47.609375 0 \nL 37.796875 0 \nL 37.796875 17.1875 \nL 4.890625 17.1875 \nL 4.890625 26.703125 \nz\n\" id=\"DejaVuSans-52\"/>\n       </defs>\n       <use xlink:href=\"#DejaVuSans-48\"/>\n       <use x=\"63.623047\" xlink:href=\"#DejaVuSans-46\"/>\n       <use x=\"95.410156\" xlink:href=\"#DejaVuSans-52\"/>\n      </g>\n     </g>\n    </g>\n    <g id=\"ytick_4\">\n     <g id=\"line2d_25\">\n      <g>\n       <use style=\"stroke:#000000;stroke-width:0.8;\" x=\"61.410938\" xlink:href=\"#mf7756dcc72\" y=\"182.87667\"/>\n      </g>\n     </g>\n     <g id=\"text_4\">\n      <!-- 0.6 -->\n      <g transform=\"translate(30.55625 188.575498)scale(0.15 -0.15)\">\n       <defs>\n        <path d=\"M 33.015625 40.375 \nQ 26.375 40.375 22.484375 35.828125 \nQ 18.609375 31.296875 18.609375 23.390625 \nQ 18.609375 15.53125 22.484375 10.953125 \nQ 26.375 6.390625 33.015625 6.390625 \nQ 39.65625 6.390625 43.53125 10.953125 \nQ 47.40625 15.53125 47.40625 23.390625 \nQ 47.40625 31.296875 43.53125 35.828125 \nQ 39.65625 40.375 33.015625 40.375 \nz\nM 52.59375 71.296875 \nL 52.59375 62.3125 \nQ 48.875 64.0625 45.09375 64.984375 \nQ 41.3125 65.921875 37.59375 65.921875 \nQ 27.828125 65.921875 22.671875 59.328125 \nQ 17.53125 52.734375 16.796875 39.40625 \nQ 19.671875 43.65625 24.015625 45.921875 \nQ 28.375 48.1875 33.59375 48.1875 \nQ 44.578125 48.1875 50.953125 41.515625 \nQ 57.328125 34.859375 57.328125 23.390625 \nQ 57.328125 12.15625 50.6875 5.359375 \nQ 44.046875 -1.421875 33.015625 -1.421875 \nQ 20.359375 -1.421875 13.671875 8.265625 \nQ 6.984375 17.96875 6.984375 36.375 \nQ 6.984375 53.65625 15.1875 63.9375 \nQ 23.390625 74.21875 37.203125 74.21875 \nQ 40.921875 74.21875 44.703125 73.484375 \nQ 48.484375 72.75 52.59375 71.296875 \nz\n\" id=\"DejaVuSans-54\"/>\n       </defs>\n       <use xlink:href=\"#DejaVuSans-48\"/>\n       <use x=\"63.623047\" xlink:href=\"#DejaVuSans-46\"/>\n       <use x=\"95.410156\" xlink:href=\"#DejaVuSans-54\"/>\n      </g>\n     </g>\n    </g>\n    <g id=\"ytick_5\">\n     <g id=\"line2d_26\">\n      <g>\n       <use style=\"stroke:#000000;stroke-width:0.8;\" x=\"61.410938\" xlink:href=\"#mf7756dcc72\" y=\"132.71556\"/>\n      </g>\n     </g>\n     <g id=\"text_5\">\n      <!-- 0.8 -->\n      <g transform=\"translate(30.55625 138.414388)scale(0.15 -0.15)\">\n       <defs>\n        <path d=\"M 31.78125 34.625 \nQ 24.75 34.625 20.71875 30.859375 \nQ 16.703125 27.09375 16.703125 20.515625 \nQ 16.703125 13.921875 20.71875 10.15625 \nQ 24.75 6.390625 31.78125 6.390625 \nQ 38.8125 6.390625 42.859375 10.171875 \nQ 46.921875 13.96875 46.921875 20.515625 \nQ 46.921875 27.09375 42.890625 30.859375 \nQ 38.875 34.625 31.78125 34.625 \nz\nM 21.921875 38.8125 \nQ 15.578125 40.375 12.03125 44.71875 \nQ 8.5 49.078125 8.5 55.328125 \nQ 8.5 64.0625 14.71875 69.140625 \nQ 20.953125 74.21875 31.78125 74.21875 \nQ 42.671875 74.21875 48.875 69.140625 \nQ 55.078125 64.0625 55.078125 55.328125 \nQ 55.078125 49.078125 51.53125 44.71875 \nQ 48 40.375 41.703125 38.8125 \nQ 48.828125 37.15625 52.796875 32.3125 \nQ 56.78125 27.484375 56.78125 20.515625 \nQ 56.78125 9.90625 50.3125 4.234375 \nQ 43.84375 -1.421875 31.78125 -1.421875 \nQ 19.734375 -1.421875 13.25 4.234375 \nQ 6.78125 9.90625 6.78125 20.515625 \nQ 6.78125 27.484375 10.78125 32.3125 \nQ 14.796875 37.15625 21.921875 38.8125 \nz\nM 18.3125 54.390625 \nQ 18.3125 48.734375 21.84375 45.5625 \nQ 25.390625 42.390625 31.78125 42.390625 \nQ 38.140625 42.390625 41.71875 45.5625 \nQ 45.3125 48.734375 45.3125 54.390625 \nQ 45.3125 60.0625 41.71875 63.234375 \nQ 38.140625 66.40625 31.78125 66.40625 \nQ 25.390625 66.40625 21.84375 63.234375 \nQ 18.3125 60.0625 18.3125 54.390625 \nz\n\" id=\"DejaVuSans-56\"/>\n       </defs>\n       <use xlink:href=\"#DejaVuSans-48\"/>\n       <use x=\"63.623047\" xlink:href=\"#DejaVuSans-46\"/>\n       <use x=\"95.410156\" xlink:href=\"#DejaVuSans-56\"/>\n      </g>\n     </g>\n    </g>\n    <g id=\"ytick_6\">\n     <g id=\"line2d_27\">\n      <g>\n       <use style=\"stroke:#000000;stroke-width:0.8;\" x=\"61.410938\" xlink:href=\"#mf7756dcc72\" y=\"82.55445\"/>\n      </g>\n     </g>\n     <g id=\"text_6\">\n      <!-- 1.0 -->\n      <g transform=\"translate(30.55625 88.253278)scale(0.15 -0.15)\">\n       <defs>\n        <path d=\"M 12.40625 8.296875 \nL 28.515625 8.296875 \nL 28.515625 63.921875 \nL 10.984375 60.40625 \nL 10.984375 69.390625 \nL 28.421875 72.90625 \nL 38.28125 72.90625 \nL 38.28125 8.296875 \nL 54.390625 8.296875 \nL 54.390625 0 \nL 12.40625 0 \nz\n\" id=\"DejaVuSans-49\"/>\n       </defs>\n       <use xlink:href=\"#DejaVuSans-49\"/>\n       <use x=\"63.623047\" xlink:href=\"#DejaVuSans-46\"/>\n       <use x=\"95.410156\" xlink:href=\"#DejaVuSans-48\"/>\n      </g>\n     </g>\n    </g>\n    <g id=\"ytick_7\">\n     <g id=\"line2d_28\">\n      <g>\n       <use style=\"stroke:#000000;stroke-width:0.8;\" x=\"61.410938\" xlink:href=\"#mf7756dcc72\" y=\"32.39334\"/>\n      </g>\n     </g>\n     <g id=\"text_7\">\n      <!-- 1.2 -->\n      <g transform=\"translate(30.55625 38.092168)scale(0.15 -0.15)\">\n       <use xlink:href=\"#DejaVuSans-49\"/>\n       <use x=\"63.623047\" xlink:href=\"#DejaVuSans-46\"/>\n       <use x=\"95.410156\" xlink:href=\"#DejaVuSans-50\"/>\n      </g>\n     </g>\n    </g>\n    <g id=\"text_8\">\n     <!-- Occurrences per Utterance -->\n     <g transform=\"translate(22.396875 305.169062)rotate(-90)scale(0.2 -0.2)\">\n      <defs>\n       <path d=\"M 39.40625 66.21875 \nQ 28.65625 66.21875 22.328125 58.203125 \nQ 16.015625 50.203125 16.015625 36.375 \nQ 16.015625 22.609375 22.328125 14.59375 \nQ 28.65625 6.59375 39.40625 6.59375 \nQ 50.140625 6.59375 56.421875 14.59375 \nQ 62.703125 22.609375 62.703125 36.375 \nQ 62.703125 50.203125 56.421875 58.203125 \nQ 50.140625 66.21875 39.40625 66.21875 \nz\nM 39.40625 74.21875 \nQ 54.734375 74.21875 63.90625 63.9375 \nQ 73.09375 53.65625 73.09375 36.375 \nQ 73.09375 19.140625 63.90625 8.859375 \nQ 54.734375 -1.421875 39.40625 -1.421875 \nQ 24.03125 -1.421875 14.8125 8.828125 \nQ 5.609375 19.09375 5.609375 36.375 \nQ 5.609375 53.65625 14.8125 63.9375 \nQ 24.03125 74.21875 39.40625 74.21875 \nz\n\" id=\"DejaVuSans-79\"/>\n       <path d=\"M 48.78125 52.59375 \nL 48.78125 44.1875 \nQ 44.96875 46.296875 41.140625 47.34375 \nQ 37.3125 48.390625 33.40625 48.390625 \nQ 24.65625 48.390625 19.8125 42.84375 \nQ 14.984375 37.3125 14.984375 27.296875 \nQ 14.984375 17.28125 19.8125 11.734375 \nQ 24.65625 6.203125 33.40625 6.203125 \nQ 37.3125 6.203125 41.140625 7.25 \nQ 44.96875 8.296875 48.78125 10.40625 \nL 48.78125 2.09375 \nQ 45.015625 0.34375 40.984375 -0.53125 \nQ 36.96875 -1.421875 32.421875 -1.421875 \nQ 20.0625 -1.421875 12.78125 6.34375 \nQ 5.515625 14.109375 5.515625 27.296875 \nQ 5.515625 40.671875 12.859375 48.328125 \nQ 20.21875 56 33.015625 56 \nQ 37.15625 56 41.109375 55.140625 \nQ 45.0625 54.296875 48.78125 52.59375 \nz\n\" id=\"DejaVuSans-99\"/>\n       <path d=\"M 8.5 21.578125 \nL 8.5 54.6875 \nL 17.484375 54.6875 \nL 17.484375 21.921875 \nQ 17.484375 14.15625 20.5 10.265625 \nQ 23.53125 6.390625 29.59375 6.390625 \nQ 36.859375 6.390625 41.078125 11.03125 \nQ 45.3125 15.671875 45.3125 23.6875 \nL 45.3125 54.6875 \nL 54.296875 54.6875 \nL 54.296875 0 \nL 45.3125 0 \nL 45.3125 8.40625 \nQ 42.046875 3.421875 37.71875 1 \nQ 33.40625 -1.421875 27.6875 -1.421875 \nQ 18.265625 -1.421875 13.375 4.4375 \nQ 8.5 10.296875 8.5 21.578125 \nz\nM 31.109375 56 \nz\n\" id=\"DejaVuSans-117\"/>\n       <path d=\"M 41.109375 46.296875 \nQ 39.59375 47.171875 37.8125 47.578125 \nQ 36.03125 48 33.890625 48 \nQ 26.265625 48 22.1875 43.046875 \nQ 18.109375 38.09375 18.109375 28.8125 \nL 18.109375 0 \nL 9.078125 0 \nL 9.078125 54.6875 \nL 18.109375 54.6875 \nL 18.109375 46.1875 \nQ 20.953125 51.171875 25.484375 53.578125 \nQ 30.03125 56 36.53125 56 \nQ 37.453125 56 38.578125 55.875 \nQ 39.703125 55.765625 41.0625 55.515625 \nz\n\" id=\"DejaVuSans-114\"/>\n       <path d=\"M 56.203125 29.59375 \nL 56.203125 25.203125 \nL 14.890625 25.203125 \nQ 15.484375 15.921875 20.484375 11.0625 \nQ 25.484375 6.203125 34.421875 6.203125 \nQ 39.59375 6.203125 44.453125 7.46875 \nQ 49.3125 8.734375 54.109375 11.28125 \nL 54.109375 2.78125 \nQ 49.265625 0.734375 44.1875 -0.34375 \nQ 39.109375 -1.421875 33.890625 -1.421875 \nQ 20.796875 -1.421875 13.15625 6.1875 \nQ 5.515625 13.8125 5.515625 26.8125 \nQ 5.515625 40.234375 12.765625 48.109375 \nQ 20.015625 56 32.328125 56 \nQ 43.359375 56 49.78125 48.890625 \nQ 56.203125 41.796875 56.203125 29.59375 \nz\nM 47.21875 32.234375 \nQ 47.125 39.59375 43.09375 43.984375 \nQ 39.0625 48.390625 32.421875 48.390625 \nQ 24.90625 48.390625 20.390625 44.140625 \nQ 15.875 39.890625 15.1875 32.171875 \nz\n\" id=\"DejaVuSans-101\"/>\n       <path d=\"M 54.890625 33.015625 \nL 54.890625 0 \nL 45.90625 0 \nL 45.90625 32.71875 \nQ 45.90625 40.484375 42.875 44.328125 \nQ 39.84375 48.1875 33.796875 48.1875 \nQ 26.515625 48.1875 22.3125 43.546875 \nQ 18.109375 38.921875 18.109375 30.90625 \nL 18.109375 0 \nL 9.078125 0 \nL 9.078125 54.6875 \nL 18.109375 54.6875 \nL 18.109375 46.1875 \nQ 21.34375 51.125 25.703125 53.5625 \nQ 30.078125 56 35.796875 56 \nQ 45.21875 56 50.046875 50.171875 \nQ 54.890625 44.34375 54.890625 33.015625 \nz\n\" id=\"DejaVuSans-110\"/>\n       <path d=\"M 44.28125 53.078125 \nL 44.28125 44.578125 \nQ 40.484375 46.53125 36.375 47.5 \nQ 32.28125 48.484375 27.875 48.484375 \nQ 21.1875 48.484375 17.84375 46.4375 \nQ 14.5 44.390625 14.5 40.28125 \nQ 14.5 37.15625 16.890625 35.375 \nQ 19.28125 33.59375 26.515625 31.984375 \nL 29.59375 31.296875 \nQ 39.15625 29.25 43.1875 25.515625 \nQ 47.21875 21.78125 47.21875 15.09375 \nQ 47.21875 7.46875 41.1875 3.015625 \nQ 35.15625 -1.421875 24.609375 -1.421875 \nQ 20.21875 -1.421875 15.453125 -0.5625 \nQ 10.6875 0.296875 5.421875 2 \nL 5.421875 11.28125 \nQ 10.40625 8.6875 15.234375 7.390625 \nQ 20.0625 6.109375 24.8125 6.109375 \nQ 31.15625 6.109375 34.5625 8.28125 \nQ 37.984375 10.453125 37.984375 14.40625 \nQ 37.984375 18.0625 35.515625 20.015625 \nQ 33.0625 21.96875 24.703125 23.78125 \nL 21.578125 24.515625 \nQ 13.234375 26.265625 9.515625 29.90625 \nQ 5.8125 33.546875 5.8125 39.890625 \nQ 5.8125 47.609375 11.28125 51.796875 \nQ 16.75 56 26.8125 56 \nQ 31.78125 56 36.171875 55.265625 \nQ 40.578125 54.546875 44.28125 53.078125 \nz\n\" id=\"DejaVuSans-115\"/>\n       <path id=\"DejaVuSans-32\"/>\n       <path d=\"M 18.109375 8.203125 \nL 18.109375 -20.796875 \nL 9.078125 -20.796875 \nL 9.078125 54.6875 \nL 18.109375 54.6875 \nL 18.109375 46.390625 \nQ 20.953125 51.265625 25.265625 53.625 \nQ 29.59375 56 35.59375 56 \nQ 45.5625 56 51.78125 48.09375 \nQ 58.015625 40.1875 58.015625 27.296875 \nQ 58.015625 14.40625 51.78125 6.484375 \nQ 45.5625 -1.421875 35.59375 -1.421875 \nQ 29.59375 -1.421875 25.265625 0.953125 \nQ 20.953125 3.328125 18.109375 8.203125 \nz\nM 48.6875 27.296875 \nQ 48.6875 37.203125 44.609375 42.84375 \nQ 40.53125 48.484375 33.40625 48.484375 \nQ 26.265625 48.484375 22.1875 42.84375 \nQ 18.109375 37.203125 18.109375 27.296875 \nQ 18.109375 17.390625 22.1875 11.75 \nQ 26.265625 6.109375 33.40625 6.109375 \nQ 40.53125 6.109375 44.609375 11.75 \nQ 48.6875 17.390625 48.6875 27.296875 \nz\n\" id=\"DejaVuSans-112\"/>\n       <path d=\"M 8.6875 72.90625 \nL 18.609375 72.90625 \nL 18.609375 28.609375 \nQ 18.609375 16.890625 22.84375 11.734375 \nQ 27.09375 6.59375 36.625 6.59375 \nQ 46.09375 6.59375 50.34375 11.734375 \nQ 54.59375 16.890625 54.59375 28.609375 \nL 54.59375 72.90625 \nL 64.5 72.90625 \nL 64.5 27.390625 \nQ 64.5 13.140625 57.4375 5.859375 \nQ 50.390625 -1.421875 36.625 -1.421875 \nQ 22.796875 -1.421875 15.734375 5.859375 \nQ 8.6875 13.140625 8.6875 27.390625 \nz\n\" id=\"DejaVuSans-85\"/>\n       <path d=\"M 18.3125 70.21875 \nL 18.3125 54.6875 \nL 36.8125 54.6875 \nL 36.8125 47.703125 \nL 18.3125 47.703125 \nL 18.3125 18.015625 \nQ 18.3125 11.328125 20.140625 9.421875 \nQ 21.96875 7.515625 27.59375 7.515625 \nL 36.8125 7.515625 \nL 36.8125 0 \nL 27.59375 0 \nQ 17.1875 0 13.234375 3.875 \nQ 9.28125 7.765625 9.28125 18.015625 \nL 9.28125 47.703125 \nL 2.6875 47.703125 \nL 2.6875 54.6875 \nL 9.28125 54.6875 \nL 9.28125 70.21875 \nz\n\" id=\"DejaVuSans-116\"/>\n       <path d=\"M 34.28125 27.484375 \nQ 23.390625 27.484375 19.1875 25 \nQ 14.984375 22.515625 14.984375 16.5 \nQ 14.984375 11.71875 18.140625 8.90625 \nQ 21.296875 6.109375 26.703125 6.109375 \nQ 34.1875 6.109375 38.703125 11.40625 \nQ 43.21875 16.703125 43.21875 25.484375 \nL 43.21875 27.484375 \nz\nM 52.203125 31.203125 \nL 52.203125 0 \nL 43.21875 0 \nL 43.21875 8.296875 \nQ 40.140625 3.328125 35.546875 0.953125 \nQ 30.953125 -1.421875 24.3125 -1.421875 \nQ 15.921875 -1.421875 10.953125 3.296875 \nQ 6 8.015625 6 15.921875 \nQ 6 25.140625 12.171875 29.828125 \nQ 18.359375 34.515625 30.609375 34.515625 \nL 43.21875 34.515625 \nL 43.21875 35.40625 \nQ 43.21875 41.609375 39.140625 45 \nQ 35.0625 48.390625 27.6875 48.390625 \nQ 23 48.390625 18.546875 47.265625 \nQ 14.109375 46.140625 10.015625 43.890625 \nL 10.015625 52.203125 \nQ 14.9375 54.109375 19.578125 55.046875 \nQ 24.21875 56 28.609375 56 \nQ 40.484375 56 46.34375 49.84375 \nQ 52.203125 43.703125 52.203125 31.203125 \nz\n\" id=\"DejaVuSans-97\"/>\n      </defs>\n      <use xlink:href=\"#DejaVuSans-79\"/>\n      <use x=\"78.710938\" xlink:href=\"#DejaVuSans-99\"/>\n      <use x=\"133.691406\" xlink:href=\"#DejaVuSans-99\"/>\n      <use x=\"188.671875\" xlink:href=\"#DejaVuSans-117\"/>\n      <use x=\"252.050781\" xlink:href=\"#DejaVuSans-114\"/>\n      <use x=\"291.414062\" xlink:href=\"#DejaVuSans-114\"/>\n      <use x=\"330.277344\" xlink:href=\"#DejaVuSans-101\"/>\n      <use x=\"391.800781\" xlink:href=\"#DejaVuSans-110\"/>\n      <use x=\"455.179688\" xlink:href=\"#DejaVuSans-99\"/>\n      <use x=\"510.160156\" xlink:href=\"#DejaVuSans-101\"/>\n      <use x=\"571.683594\" xlink:href=\"#DejaVuSans-115\"/>\n      <use x=\"623.783203\" xlink:href=\"#DejaVuSans-32\"/>\n      <use x=\"655.570312\" xlink:href=\"#DejaVuSans-112\"/>\n      <use x=\"719.046875\" xlink:href=\"#DejaVuSans-101\"/>\n      <use x=\"780.570312\" xlink:href=\"#DejaVuSans-114\"/>\n      <use x=\"821.683594\" xlink:href=\"#DejaVuSans-32\"/>\n      <use x=\"853.470703\" xlink:href=\"#DejaVuSans-85\"/>\n      <use x=\"926.664062\" xlink:href=\"#DejaVuSans-116\"/>\n      <use x=\"965.873047\" xlink:href=\"#DejaVuSans-116\"/>\n      <use x=\"1005.082031\" xlink:href=\"#DejaVuSans-101\"/>\n      <use x=\"1066.605469\" xlink:href=\"#DejaVuSans-114\"/>\n      <use x=\"1107.71875\" xlink:href=\"#DejaVuSans-97\"/>\n      <use x=\"1168.998047\" xlink:href=\"#DejaVuSans-110\"/>\n      <use x=\"1232.376953\" xlink:href=\"#DejaVuSans-99\"/>\n      <use x=\"1287.357422\" xlink:href=\"#DejaVuSans-101\"/>\n     </g>\n    </g>\n   </g>\n   <g id=\"patch_24\">\n    <path d=\"M 61.410938 333.36 \nL 61.410938 7.2 \n\" style=\"fill:none;stroke:#000000;stroke-linecap:square;stroke-linejoin:miter;stroke-width:0.8;\"/>\n   </g>\n   <g id=\"patch_25\">\n    <path d=\"M 563.610938 333.36 \nL 563.610938 7.2 \n\" style=\"fill:none;stroke:#000000;stroke-linecap:square;stroke-linejoin:miter;stroke-width:0.8;\"/>\n   </g>\n   <g id=\"patch_26\">\n    <path d=\"M 61.410937 333.36 \nL 563.610938 333.36 \n\" style=\"fill:none;stroke:#000000;stroke-linecap:square;stroke-linejoin:miter;stroke-width:0.8;\"/>\n   </g>\n   <g id=\"patch_27\">\n    <path d=\"M 61.410937 7.2 \nL 563.610938 7.2 \n\" style=\"fill:none;stroke:#000000;stroke-linecap:square;stroke-linejoin:miter;stroke-width:0.8;\"/>\n   </g>\n  </g>\n </g>\n <defs>\n  <clipPath id=\"pff1bb8d693\">\n   <rect height=\"326.16\" width=\"502.2\" x=\"61.410938\" y=\"7.2\"/>\n  </clipPath>\n </defs>\n</svg>\n",
      "image/png": "[encoded data removed]"
     },
     "metadata": {
      "needs_background": "light"
     }
    }
   ],
   "source": [
    "data = ps.summarize(corpus_politeness, plot=True)"
   ]
  },
  {
   "cell_type": "markdown",
   "metadata": {},
   "source": [
    "Finally, we get the \"final\" politeness score, by doing a mean of the different politeness strategies. This is a liberty we are taking, as it was not detailed in the original paper."
   ]
  },
  {
   "cell_type": "code",
   "execution_count": 124,
   "metadata": {},
   "outputs": [
    {
     "output_type": "execute_result",
     "data": {
      "text/plain": [
       "{'feature_politeness_==Please==': 0,\n",
       " 'feature_politeness_==Please_start==': 0,\n",
       " 'feature_politeness_==HASHEDGE==': 1,\n",
       " 'feature_politeness_==Indirect_(btw)==': 0,\n",
       " 'feature_politeness_==Hedges==': 0,\n",
       " 'feature_politeness_==Factuality==': 0,\n",
       " 'feature_politeness_==Deference==': 0,\n",
       " 'feature_politeness_==Gratitude==': 0,\n",
       " 'feature_politeness_==Apologizing==': 0,\n",
       " 'feature_politeness_==1st_person_pl.==': 0,\n",
       " 'feature_politeness_==1st_person==': 1,\n",
       " 'feature_politeness_==1st_person_start==': 0,\n",
       " 'feature_politeness_==2nd_person==': 1,\n",
       " 'feature_politeness_==2nd_person_start==': 0,\n",
       " 'feature_politeness_==Indirect_(greeting)==': 0,\n",
       " 'feature_politeness_==Direct_question==': 0,\n",
       " 'feature_politeness_==Direct_start==': 0,\n",
       " 'feature_politeness_==HASPOSITIVE==': 0,\n",
       " 'feature_politeness_==HASNEGATIVE==': 1,\n",
       " 'feature_politeness_==SUBJUNCTIVE==': 0,\n",
       " 'feature_politeness_==INDICATIVE==': 0}"
      ]
     },
     "metadata": {},
     "execution_count": 124
    }
   ],
   "source": [
    "corpus_politeness.random_utterance().meta['politeness_strategies']"
   ]
  },
  {
   "cell_type": "markdown",
   "metadata": {},
   "source": [
    "Okay, that was pretty expensive in term of time. Let's save this fresh Corpus so we can reuse it easily later."
   ]
  },
  {
   "cell_type": "code",
   "execution_count": 125,
   "metadata": {},
   "outputs": [],
   "source": [
    "if not os.path.exists(os.path.join(PATH_OUTPUT, \"corpus_parsed\")):\n",
    "    os.makedirs(os.path.join(PATH_OUTPUT, \"corpus_parsed\"))\n",
    "if not os.path.exists(os.path.join(PATH_OUTPUT, \"corpus_politeness\")):\n",
    "    os.makedirs(os.path.join(PATH_OUTPUT, \"corpus_politeness\"))\n",
    "corpus_parsed.dump(\"corpus_parsed\", base_path=os.path.join(PATH_OUTPUT, \"corpus_parsed\"))\n",
    "corpus_politeness.dump(\"corpus_politeness\", base_path=os.path.join(PATH_OUTPUT, \"corpus_politeness\"))"
   ]
  },
  {
   "source": [
    "The code below is from : https://github.com/CornellNLP/Cornell-Conversational-Analysis-Toolkit/blob/master/examples/conversations-gone-awry/Conversations_Gone_Awry_Prediction.ipynb"
   ],
   "cell_type": "markdown",
   "metadata": {}
  },
  {
   "cell_type": "code",
   "execution_count": 152,
   "metadata": {},
   "outputs": [],
   "source": [
    "def corpusToDataFrame(corpus, meta):\n",
    "    \"\"\"\n",
    "    Function to transform a corpus into a pandas DataFrame\n",
    "\n",
    "    :param corpus: convoKit corpus\n",
    "    :param meta:   element to retrieve into the dataframe\n",
    "\n",
    "    Returns : pd.DataFrame \n",
    "    \"\"\"\n",
    "    utterance_ids = corpus.get_utterance_ids()\n",
    "    rows = []\n",
    "    for uid in utterance_ids:\n",
    "        rows.append(corpus.get_utterance(uid).meta[meta])\n",
    "    return pd.DataFrame(rows, index=utterance_ids)"
   ]
  },
  {
   "cell_type": "code",
   "execution_count": 161,
   "metadata": {},
   "outputs": [],
   "source": [
    "politenessStrategies = corpusToDataFrame(corpus_politeness, 'politeness_strategies')\n",
    "playerPoliteness = corpusToDataFrame(corpus_parsed, 'betrayer')"
   ]
  },
  {
   "cell_type": "code",
   "execution_count": 162,
   "metadata": {},
   "outputs": [],
   "source": [
    "politenessStrategies = politenessStrategies.mean(axis=1)"
   ]
  },
  {
   "cell_type": "code",
   "execution_count": 164,
   "metadata": {},
   "outputs": [],
   "source": [
    "playerPoliteness['politenessScore'] = politenessStrategies\n",
    "playerPoliteness.rename(columns = {0:'betrayal'}, inplace = True) "
   ]
  },
  {
   "cell_type": "code",
   "execution_count": 167,
   "metadata": {},
   "outputs": [],
   "source": [
    "betrPoliteness=playerPoliteness[playerPoliteness['betrayal']==True]['politenessScore']\n",
    "victPoliteness=playerPoliteness[playerPoliteness['betrayal']==False]['politenessScore']"
   ]
  },
  {
   "cell_type": "code",
   "execution_count": 169,
   "metadata": {},
   "outputs": [
    {
     "output_type": "execute_result",
     "data": {
      "text/plain": [
       "0.15612484974847657"
      ]
     },
     "metadata": {},
     "execution_count": 169
    }
   ],
   "source": [
    "np.mean(betrPoliteness)"
   ]
  },
  {
   "cell_type": "code",
   "execution_count": 170,
   "metadata": {},
   "outputs": [
    {
     "output_type": "execute_result",
     "data": {
      "text/plain": [
       "0.1503432121274541"
      ]
     },
     "metadata": {},
     "execution_count": 170
    }
   ],
   "source": [
    "np.mean(victPoliteness)"
   ]
  },
  {
   "cell_type": "markdown",
   "metadata": {},
   "source": [
    "#### Sooo... Is this wolf polite or nah?"
   ]
  },
  {
   "cell_type": "code",
   "execution_count": null,
   "metadata": {},
   "outputs": [],
   "source": [
    "# todo: mean politeness for wolves vs politeness for not wolves\n",
    "aaaa"
   ]
  },
  {
   "cell_type": "markdown",
   "metadata": {},
   "source": [
    "### Talkativeness\n",
    "\n",
    "Now let's investigate what happend with the talkativness. Does a betrayer tend to talk more than a innocent player ? We will try to discover if it's possible to discover by analysing this feature.\n",
    "\n",
    "We first start by important some packages we will need."
   ]
  },
  {
   "cell_type": "code",
   "execution_count": 54,
   "metadata": {},
   "outputs": [],
   "source": [
    "# import packages\n",
    "from nltk.tokenize import TweetTokenizer\n",
    "import string"
   ]
  },
  {
   "cell_type": "markdown",
   "metadata": {},
   "source": [
    "We will first use the dataframe containing the messages of all the players in games where we know in which round the messages have been sent and the ones where we know the outcome (Mafia or Town won). We will rename it `df_talkativeness`."
   ]
  },
  {
   "cell_type": "code",
   "execution_count": 57,
   "metadata": {},
   "outputs": [],
   "source": [
    "# reload a DF to work on \n",
    "messages_players_expired_outcome =  pd.DataFrame(np.load(PATH_OUTPUT+'/messages_players_expired_outcome.pkl', allow_pickle=True)\n",
    "                                                 , columns = ['game_id'\n",
    "                                                              , 'author'\n",
    "                                                              , 'post_no'\n",
    "                                                              , 'content'\n",
    "                                                              , 'inserted_at'\n",
    "                                                              , 'post_no_last'\n",
    "                                                              , 'survived'\n",
    "                                                              , 'betrayer'\n",
    "                                                              , 'town_won'\n",
    "                                                              , 'rel_time'\n",
    "                                                              , 'rounds']\n",
    "                                                )\n",
    "df_talkativeness = messages_players_expired_outcome.copy()"
   ]
  },
  {
   "cell_type": "code",
   "execution_count": 58,
   "metadata": {},
   "outputs": [
    {
     "data": {
      "text/html": [
       "<div>\n",
       "<style scoped>\n",
       "    .dataframe tbody tr th:only-of-type {\n",
       "        vertical-align: middle;\n",
       "    }\n",
       "\n",
       "    .dataframe tbody tr th {\n",
       "        vertical-align: top;\n",
       "    }\n",
       "\n",
       "    .dataframe thead th {\n",
       "        text-align: right;\n",
       "    }\n",
       "</style>\n",
       "<table border=\"1\" class=\"dataframe\">\n",
       "  <thead>\n",
       "    <tr style=\"text-align: right;\">\n",
       "      <th></th>\n",
       "      <th>game_id</th>\n",
       "      <th>author</th>\n",
       "      <th>post_no</th>\n",
       "      <th>content</th>\n",
       "      <th>inserted_at</th>\n",
       "      <th>post_no_last</th>\n",
       "      <th>survived</th>\n",
       "      <th>betrayer</th>\n",
       "      <th>town_won</th>\n",
       "      <th>rel_time</th>\n",
       "      <th>rounds</th>\n",
       "    </tr>\n",
       "  </thead>\n",
       "  <tbody>\n",
       "    <tr>\n",
       "      <th>188456</th>\n",
       "      <td>17173</td>\n",
       "      <td>Elsa von Spielburg</td>\n",
       "      <td>11</td>\n",
       "      <td>Vote: McGriddle\\n\\nWhy would you tout the prod...</td>\n",
       "      <td>2011-04-07 20:55:00</td>\n",
       "      <td>939</td>\n",
       "      <td>False</td>\n",
       "      <td>False</td>\n",
       "      <td>False</td>\n",
       "      <td>0.046744</td>\n",
       "      <td>0</td>\n",
       "    </tr>\n",
       "    <tr>\n",
       "      <th>188457</th>\n",
       "      <td>17173</td>\n",
       "      <td>Elsa von Spielburg</td>\n",
       "      <td>23</td>\n",
       "      <td>Really, Occult (and others), how often does th...</td>\n",
       "      <td>2011-04-08 17:28:00</td>\n",
       "      <td>939</td>\n",
       "      <td>False</td>\n",
       "      <td>False</td>\n",
       "      <td>False</td>\n",
       "      <td>0.059936</td>\n",
       "      <td>0</td>\n",
       "    </tr>\n",
       "    <tr>\n",
       "      <th>188458</th>\n",
       "      <td>17173</td>\n",
       "      <td>Elsa von Spielburg</td>\n",
       "      <td>30</td>\n",
       "      <td>\\n\\nAgreed, the RVS is largely useless until s...</td>\n",
       "      <td>2011-04-08 21:05:00</td>\n",
       "      <td>939</td>\n",
       "      <td>False</td>\n",
       "      <td>False</td>\n",
       "      <td>False</td>\n",
       "      <td>0.062257</td>\n",
       "      <td>0</td>\n",
       "    </tr>\n",
       "    <tr>\n",
       "      <th>188459</th>\n",
       "      <td>17173</td>\n",
       "      <td>Elsa von Spielburg</td>\n",
       "      <td>31</td>\n",
       "      <td>\\n\\nWho is the \"he\" in this sentence.  I don't...</td>\n",
       "      <td>2011-04-08 21:08:00</td>\n",
       "      <td>939</td>\n",
       "      <td>False</td>\n",
       "      <td>False</td>\n",
       "      <td>False</td>\n",
       "      <td>0.062289</td>\n",
       "      <td>0</td>\n",
       "    </tr>\n",
       "    <tr>\n",
       "      <th>188460</th>\n",
       "      <td>17173</td>\n",
       "      <td>Elsa von Spielburg</td>\n",
       "      <td>42</td>\n",
       "      <td>\\n\\nYeah, I'm wondering how being the 2nd vote...</td>\n",
       "      <td>2011-04-09 02:33:00</td>\n",
       "      <td>939</td>\n",
       "      <td>False</td>\n",
       "      <td>False</td>\n",
       "      <td>False</td>\n",
       "      <td>0.065767</td>\n",
       "      <td>0</td>\n",
       "    </tr>\n",
       "  </tbody>\n",
       "</table>\n",
       "</div>"
      ],
      "text/plain": [
       "        game_id              author  post_no  \\\n",
       "188456    17173  Elsa von Spielburg       11   \n",
       "188457    17173  Elsa von Spielburg       23   \n",
       "188458    17173  Elsa von Spielburg       30   \n",
       "188459    17173  Elsa von Spielburg       31   \n",
       "188460    17173  Elsa von Spielburg       42   \n",
       "\n",
       "                                                  content         inserted_at  \\\n",
       "188456  Vote: McGriddle\\n\\nWhy would you tout the prod... 2011-04-07 20:55:00   \n",
       "188457  Really, Occult (and others), how often does th... 2011-04-08 17:28:00   \n",
       "188458  \\n\\nAgreed, the RVS is largely useless until s... 2011-04-08 21:05:00   \n",
       "188459  \\n\\nWho is the \"he\" in this sentence.  I don't... 2011-04-08 21:08:00   \n",
       "188460  \\n\\nYeah, I'm wondering how being the 2nd vote... 2011-04-09 02:33:00   \n",
       "\n",
       "        post_no_last  survived  betrayer town_won  rel_time  rounds  \n",
       "188456           939     False     False    False  0.046744       0  \n",
       "188457           939     False     False    False  0.059936       0  \n",
       "188458           939     False     False    False  0.062257       0  \n",
       "188459           939     False     False    False  0.062289       0  \n",
       "188460           939     False     False    False  0.065767       0  "
      ]
     },
     "execution_count": 58,
     "metadata": {},
     "output_type": "execute_result"
    }
   ],
   "source": [
    "df_talkativeness.head()"
   ]
  },
  {
   "cell_type": "markdown",
   "metadata": {},
   "source": [
    "First of all we will reduce a bit this dataframe and keep only the last five rounds of each game. In fact we want to take the same number of rounds in every game. We decided to take 5 round because this was the best option to keep as much messages as possible (with 4 or 6 rounds we would have had less message). in addition we found better to take the last (and not the first) rounds because they are less likely to contain messages that are not related to the game as the game is in full swing. We are going to reuse the dataframe `df_expired` that contains the number of rounds for every game.\n",
    "\n",
    "We will start by adding a new column containing (for each game) [the final countdown](https://www.youtube.com/watch?v=9jK-NcRmVcw) until the end of the game:"
   ]
  },
  {
   "cell_type": "code",
   "execution_count": 59,
   "metadata": {},
   "outputs": [],
   "source": [
    "# Calculate the number of rounds until the end of the game\n",
    "rounds_to_end = [(df_expired.loc[game_id].nb_rounds - df_talkativeness.iloc[i].rounds) for i, game_id in enumerate(df_talkativeness.game_id)]\n",
    "df_talkativeness['rounds_to_end'] = rounds_to_end"
   ]
  },
  {
   "cell_type": "code",
   "execution_count": 60,
   "metadata": {},
   "outputs": [
    {
     "data": {
      "text/html": [
       "<div>\n",
       "<style scoped>\n",
       "    .dataframe tbody tr th:only-of-type {\n",
       "        vertical-align: middle;\n",
       "    }\n",
       "\n",
       "    .dataframe tbody tr th {\n",
       "        vertical-align: top;\n",
       "    }\n",
       "\n",
       "    .dataframe thead th {\n",
       "        text-align: right;\n",
       "    }\n",
       "</style>\n",
       "<table border=\"1\" class=\"dataframe\">\n",
       "  <thead>\n",
       "    <tr style=\"text-align: right;\">\n",
       "      <th></th>\n",
       "      <th>game_id</th>\n",
       "      <th>author</th>\n",
       "      <th>post_no</th>\n",
       "      <th>content</th>\n",
       "      <th>inserted_at</th>\n",
       "      <th>post_no_last</th>\n",
       "      <th>survived</th>\n",
       "      <th>betrayer</th>\n",
       "      <th>town_won</th>\n",
       "      <th>rel_time</th>\n",
       "      <th>rounds</th>\n",
       "      <th>rounds_to_end</th>\n",
       "    </tr>\n",
       "  </thead>\n",
       "  <tbody>\n",
       "    <tr>\n",
       "      <th>188456</th>\n",
       "      <td>17173</td>\n",
       "      <td>Elsa von Spielburg</td>\n",
       "      <td>11</td>\n",
       "      <td>Vote: McGriddle\\n\\nWhy would you tout the prod...</td>\n",
       "      <td>2011-04-07 20:55:00</td>\n",
       "      <td>939</td>\n",
       "      <td>False</td>\n",
       "      <td>False</td>\n",
       "      <td>False</td>\n",
       "      <td>0.046744</td>\n",
       "      <td>0</td>\n",
       "      <td>8</td>\n",
       "    </tr>\n",
       "    <tr>\n",
       "      <th>188457</th>\n",
       "      <td>17173</td>\n",
       "      <td>Elsa von Spielburg</td>\n",
       "      <td>23</td>\n",
       "      <td>Really, Occult (and others), how often does th...</td>\n",
       "      <td>2011-04-08 17:28:00</td>\n",
       "      <td>939</td>\n",
       "      <td>False</td>\n",
       "      <td>False</td>\n",
       "      <td>False</td>\n",
       "      <td>0.059936</td>\n",
       "      <td>0</td>\n",
       "      <td>8</td>\n",
       "    </tr>\n",
       "    <tr>\n",
       "      <th>188458</th>\n",
       "      <td>17173</td>\n",
       "      <td>Elsa von Spielburg</td>\n",
       "      <td>30</td>\n",
       "      <td>\\n\\nAgreed, the RVS is largely useless until s...</td>\n",
       "      <td>2011-04-08 21:05:00</td>\n",
       "      <td>939</td>\n",
       "      <td>False</td>\n",
       "      <td>False</td>\n",
       "      <td>False</td>\n",
       "      <td>0.062257</td>\n",
       "      <td>0</td>\n",
       "      <td>8</td>\n",
       "    </tr>\n",
       "    <tr>\n",
       "      <th>188459</th>\n",
       "      <td>17173</td>\n",
       "      <td>Elsa von Spielburg</td>\n",
       "      <td>31</td>\n",
       "      <td>\\n\\nWho is the \"he\" in this sentence.  I don't...</td>\n",
       "      <td>2011-04-08 21:08:00</td>\n",
       "      <td>939</td>\n",
       "      <td>False</td>\n",
       "      <td>False</td>\n",
       "      <td>False</td>\n",
       "      <td>0.062289</td>\n",
       "      <td>0</td>\n",
       "      <td>8</td>\n",
       "    </tr>\n",
       "    <tr>\n",
       "      <th>188460</th>\n",
       "      <td>17173</td>\n",
       "      <td>Elsa von Spielburg</td>\n",
       "      <td>42</td>\n",
       "      <td>\\n\\nYeah, I'm wondering how being the 2nd vote...</td>\n",
       "      <td>2011-04-09 02:33:00</td>\n",
       "      <td>939</td>\n",
       "      <td>False</td>\n",
       "      <td>False</td>\n",
       "      <td>False</td>\n",
       "      <td>0.065767</td>\n",
       "      <td>0</td>\n",
       "      <td>8</td>\n",
       "    </tr>\n",
       "  </tbody>\n",
       "</table>\n",
       "</div>"
      ],
      "text/plain": [
       "        game_id              author  post_no  \\\n",
       "188456    17173  Elsa von Spielburg       11   \n",
       "188457    17173  Elsa von Spielburg       23   \n",
       "188458    17173  Elsa von Spielburg       30   \n",
       "188459    17173  Elsa von Spielburg       31   \n",
       "188460    17173  Elsa von Spielburg       42   \n",
       "\n",
       "                                                  content         inserted_at  \\\n",
       "188456  Vote: McGriddle\\n\\nWhy would you tout the prod... 2011-04-07 20:55:00   \n",
       "188457  Really, Occult (and others), how often does th... 2011-04-08 17:28:00   \n",
       "188458  \\n\\nAgreed, the RVS is largely useless until s... 2011-04-08 21:05:00   \n",
       "188459  \\n\\nWho is the \"he\" in this sentence.  I don't... 2011-04-08 21:08:00   \n",
       "188460  \\n\\nYeah, I'm wondering how being the 2nd vote... 2011-04-09 02:33:00   \n",
       "\n",
       "        post_no_last  survived  betrayer town_won  rel_time  rounds  \\\n",
       "188456           939     False     False    False  0.046744       0   \n",
       "188457           939     False     False    False  0.059936       0   \n",
       "188458           939     False     False    False  0.062257       0   \n",
       "188459           939     False     False    False  0.062289       0   \n",
       "188460           939     False     False    False  0.065767       0   \n",
       "\n",
       "        rounds_to_end  \n",
       "188456              8  \n",
       "188457              8  \n",
       "188458              8  \n",
       "188459              8  \n",
       "188460              8  "
      ]
     },
     "execution_count": 60,
     "metadata": {},
     "output_type": "execute_result"
    }
   ],
   "source": [
    "df_talkativeness.head()"
   ]
  },
  {
   "cell_type": "markdown",
   "metadata": {},
   "source": [
    "Now we can create a mask that will hide the games that lasted less than four rounds and after"
   ]
  },
  {
   "cell_type": "code",
   "execution_count": 61,
   "metadata": {},
   "outputs": [],
   "source": [
    "# Create a mask to hide the game that lasted less than 5 rounds\n",
    "mask_5_rounds = [df_expired.loc[game_id].nb_rounds > 4 for game_id in df_talkativeness.game_id]\n",
    "df_talkativeness_last_5 = df_talkativeness[(df_talkativeness.rounds_to_end <= 5) & mask_5_rounds]"
   ]
  },
  {
   "cell_type": "code",
   "execution_count": 62,
   "metadata": {},
   "outputs": [
    {
     "data": {
      "text/html": [
       "<div>\n",
       "<style scoped>\n",
       "    .dataframe tbody tr th:only-of-type {\n",
       "        vertical-align: middle;\n",
       "    }\n",
       "\n",
       "    .dataframe tbody tr th {\n",
       "        vertical-align: top;\n",
       "    }\n",
       "\n",
       "    .dataframe thead th {\n",
       "        text-align: right;\n",
       "    }\n",
       "</style>\n",
       "<table border=\"1\" class=\"dataframe\">\n",
       "  <thead>\n",
       "    <tr style=\"text-align: right;\">\n",
       "      <th></th>\n",
       "      <th>game_id</th>\n",
       "      <th>author</th>\n",
       "      <th>post_no</th>\n",
       "      <th>content</th>\n",
       "      <th>inserted_at</th>\n",
       "      <th>post_no_last</th>\n",
       "      <th>survived</th>\n",
       "      <th>betrayer</th>\n",
       "      <th>town_won</th>\n",
       "      <th>rel_time</th>\n",
       "      <th>rounds</th>\n",
       "      <th>rounds_to_end</th>\n",
       "    </tr>\n",
       "  </thead>\n",
       "  <tbody>\n",
       "    <tr>\n",
       "      <th>188577</th>\n",
       "      <td>17173</td>\n",
       "      <td>Empking</td>\n",
       "      <td>862</td>\n",
       "      <td>\\n\\nYou're suspicious of IS for being right? D...</td>\n",
       "      <td>2011-05-30 08:08:00</td>\n",
       "      <td>939</td>\n",
       "      <td>False</td>\n",
       "      <td>False</td>\n",
       "      <td>False</td>\n",
       "      <td>0.855083</td>\n",
       "      <td>3</td>\n",
       "      <td>5</td>\n",
       "    </tr>\n",
       "    <tr>\n",
       "      <th>188578</th>\n",
       "      <td>17173</td>\n",
       "      <td>Empking</td>\n",
       "      <td>864</td>\n",
       "      <td>Jeromus: Occult is clearly scum ( doeas anybod...</td>\n",
       "      <td>2011-05-30 15:19:00</td>\n",
       "      <td>939</td>\n",
       "      <td>False</td>\n",
       "      <td>False</td>\n",
       "      <td>False</td>\n",
       "      <td>0.859694</td>\n",
       "      <td>3</td>\n",
       "      <td>5</td>\n",
       "    </tr>\n",
       "    <tr>\n",
       "      <th>188579</th>\n",
       "      <td>17173</td>\n",
       "      <td>Empking</td>\n",
       "      <td>867</td>\n",
       "      <td>Are you sure that's a lynch?</td>\n",
       "      <td>2011-05-30 16:29:00</td>\n",
       "      <td>939</td>\n",
       "      <td>False</td>\n",
       "      <td>False</td>\n",
       "      <td>False</td>\n",
       "      <td>0.860443</td>\n",
       "      <td>3</td>\n",
       "      <td>5</td>\n",
       "    </tr>\n",
       "    <tr>\n",
       "      <th>188709</th>\n",
       "      <td>17173</td>\n",
       "      <td>Internet Stranger</td>\n",
       "      <td>854</td>\n",
       "      <td>Why?</td>\n",
       "      <td>2011-05-29 19:16:00</td>\n",
       "      <td>939</td>\n",
       "      <td>False</td>\n",
       "      <td>True</td>\n",
       "      <td>False</td>\n",
       "      <td>0.846823</td>\n",
       "      <td>3</td>\n",
       "      <td>5</td>\n",
       "    </tr>\n",
       "    <tr>\n",
       "      <th>188710</th>\n",
       "      <td>17173</td>\n",
       "      <td>Internet Stranger</td>\n",
       "      <td>859</td>\n",
       "      <td>I just want to point out that no one has made ...</td>\n",
       "      <td>2011-05-30 04:55:00</td>\n",
       "      <td>939</td>\n",
       "      <td>False</td>\n",
       "      <td>True</td>\n",
       "      <td>False</td>\n",
       "      <td>0.853018</td>\n",
       "      <td>3</td>\n",
       "      <td>5</td>\n",
       "    </tr>\n",
       "  </tbody>\n",
       "</table>\n",
       "</div>"
      ],
      "text/plain": [
       "        game_id             author  post_no  \\\n",
       "188577    17173            Empking      862   \n",
       "188578    17173            Empking      864   \n",
       "188579    17173            Empking      867   \n",
       "188709    17173  Internet Stranger      854   \n",
       "188710    17173  Internet Stranger      859   \n",
       "\n",
       "                                                  content         inserted_at  \\\n",
       "188577  \\n\\nYou're suspicious of IS for being right? D... 2011-05-30 08:08:00   \n",
       "188578  Jeromus: Occult is clearly scum ( doeas anybod... 2011-05-30 15:19:00   \n",
       "188579                       Are you sure that's a lynch? 2011-05-30 16:29:00   \n",
       "188709                                               Why? 2011-05-29 19:16:00   \n",
       "188710  I just want to point out that no one has made ... 2011-05-30 04:55:00   \n",
       "\n",
       "        post_no_last  survived  betrayer town_won  rel_time  rounds  \\\n",
       "188577           939     False     False    False  0.855083       3   \n",
       "188578           939     False     False    False  0.859694       3   \n",
       "188579           939     False     False    False  0.860443       3   \n",
       "188709           939     False      True    False  0.846823       3   \n",
       "188710           939     False      True    False  0.853018       3   \n",
       "\n",
       "        rounds_to_end  \n",
       "188577              5  \n",
       "188578              5  \n",
       "188579              5  \n",
       "188709              5  \n",
       "188710              5  "
      ]
     },
     "execution_count": 62,
     "metadata": {},
     "output_type": "execute_result"
    }
   ],
   "source": [
    "df_talkativeness_last_5.head()"
   ]
  },
  {
   "cell_type": "markdown",
   "metadata": {},
   "source": [
    "We will now tokenize the messages with the help of the `ntlk` package. We will then be able to know how many words are present in each message. We will add a new column in the database (*nb_words*) to save this feature."
   ]
  },
  {
   "cell_type": "code",
   "execution_count": 63,
   "metadata": {},
   "outputs": [
    {
     "name": "stderr",
     "output_type": "stream",
     "text": [
      "<ipython-input-63-ac4a18eddc94>:5: SettingWithCopyWarning: \n",
      "A value is trying to be set on a copy of a slice from a DataFrame.\n",
      "Try using .loc[row_indexer,col_indexer] = value instead\n",
      "\n",
      "See the caveats in the documentation: https://pandas.pydata.org/pandas-docs/stable/user_guide/indexing.html#returning-a-view-versus-a-copy\n",
      "  df_talkativeness_last_5['nb_words'] = [len([word for word in tknzr.tokenize(message) if (word not in string.punctuation)])\n"
     ]
    }
   ],
   "source": [
    "# define a tokenizer based on a tweeter tokenizer from nltk package\n",
    "tknzr = TweetTokenizer(strip_handles=True, reduce_len=True)\n",
    "\n",
    "# get the number of words per message (removing punctuation)\n",
    "df_talkativeness_last_5['nb_words'] = [len([word for word in tknzr.tokenize(message) if (word not in string.punctuation)]) \n",
    "                  for message in df_talkativeness_last_5.content]"
   ]
  },
  {
   "cell_type": "code",
   "execution_count": 64,
   "metadata": {},
   "outputs": [
    {
     "data": {
      "text/html": [
       "<div>\n",
       "<style scoped>\n",
       "    .dataframe tbody tr th:only-of-type {\n",
       "        vertical-align: middle;\n",
       "    }\n",
       "\n",
       "    .dataframe tbody tr th {\n",
       "        vertical-align: top;\n",
       "    }\n",
       "\n",
       "    .dataframe thead th {\n",
       "        text-align: right;\n",
       "    }\n",
       "</style>\n",
       "<table border=\"1\" class=\"dataframe\">\n",
       "  <thead>\n",
       "    <tr style=\"text-align: right;\">\n",
       "      <th></th>\n",
       "      <th>game_id</th>\n",
       "      <th>author</th>\n",
       "      <th>post_no</th>\n",
       "      <th>content</th>\n",
       "      <th>inserted_at</th>\n",
       "      <th>post_no_last</th>\n",
       "      <th>survived</th>\n",
       "      <th>betrayer</th>\n",
       "      <th>town_won</th>\n",
       "      <th>rel_time</th>\n",
       "      <th>rounds</th>\n",
       "      <th>rounds_to_end</th>\n",
       "      <th>nb_words</th>\n",
       "    </tr>\n",
       "  </thead>\n",
       "  <tbody>\n",
       "    <tr>\n",
       "      <th>188577</th>\n",
       "      <td>17173</td>\n",
       "      <td>Empking</td>\n",
       "      <td>862</td>\n",
       "      <td>\\n\\nYou're suspicious of IS for being right? D...</td>\n",
       "      <td>2011-05-30 08:08:00</td>\n",
       "      <td>939</td>\n",
       "      <td>False</td>\n",
       "      <td>False</td>\n",
       "      <td>False</td>\n",
       "      <td>0.855083</td>\n",
       "      <td>3</td>\n",
       "      <td>5</td>\n",
       "      <td>41</td>\n",
       "    </tr>\n",
       "    <tr>\n",
       "      <th>188578</th>\n",
       "      <td>17173</td>\n",
       "      <td>Empking</td>\n",
       "      <td>864</td>\n",
       "      <td>Jeromus: Occult is clearly scum ( doeas anybod...</td>\n",
       "      <td>2011-05-30 15:19:00</td>\n",
       "      <td>939</td>\n",
       "      <td>False</td>\n",
       "      <td>False</td>\n",
       "      <td>False</td>\n",
       "      <td>0.859694</td>\n",
       "      <td>3</td>\n",
       "      <td>5</td>\n",
       "      <td>14</td>\n",
       "    </tr>\n",
       "    <tr>\n",
       "      <th>188579</th>\n",
       "      <td>17173</td>\n",
       "      <td>Empking</td>\n",
       "      <td>867</td>\n",
       "      <td>Are you sure that's a lynch?</td>\n",
       "      <td>2011-05-30 16:29:00</td>\n",
       "      <td>939</td>\n",
       "      <td>False</td>\n",
       "      <td>False</td>\n",
       "      <td>False</td>\n",
       "      <td>0.860443</td>\n",
       "      <td>3</td>\n",
       "      <td>5</td>\n",
       "      <td>6</td>\n",
       "    </tr>\n",
       "    <tr>\n",
       "      <th>188709</th>\n",
       "      <td>17173</td>\n",
       "      <td>Internet Stranger</td>\n",
       "      <td>854</td>\n",
       "      <td>Why?</td>\n",
       "      <td>2011-05-29 19:16:00</td>\n",
       "      <td>939</td>\n",
       "      <td>False</td>\n",
       "      <td>True</td>\n",
       "      <td>False</td>\n",
       "      <td>0.846823</td>\n",
       "      <td>3</td>\n",
       "      <td>5</td>\n",
       "      <td>1</td>\n",
       "    </tr>\n",
       "    <tr>\n",
       "      <th>188710</th>\n",
       "      <td>17173</td>\n",
       "      <td>Internet Stranger</td>\n",
       "      <td>859</td>\n",
       "      <td>I just want to point out that no one has made ...</td>\n",
       "      <td>2011-05-30 04:55:00</td>\n",
       "      <td>939</td>\n",
       "      <td>False</td>\n",
       "      <td>True</td>\n",
       "      <td>False</td>\n",
       "      <td>0.853018</td>\n",
       "      <td>3</td>\n",
       "      <td>5</td>\n",
       "      <td>111</td>\n",
       "    </tr>\n",
       "  </tbody>\n",
       "</table>\n",
       "</div>"
      ],
      "text/plain": [
       "        game_id             author  post_no  \\\n",
       "188577    17173            Empking      862   \n",
       "188578    17173            Empking      864   \n",
       "188579    17173            Empking      867   \n",
       "188709    17173  Internet Stranger      854   \n",
       "188710    17173  Internet Stranger      859   \n",
       "\n",
       "                                                  content         inserted_at  \\\n",
       "188577  \\n\\nYou're suspicious of IS for being right? D... 2011-05-30 08:08:00   \n",
       "188578  Jeromus: Occult is clearly scum ( doeas anybod... 2011-05-30 15:19:00   \n",
       "188579                       Are you sure that's a lynch? 2011-05-30 16:29:00   \n",
       "188709                                               Why? 2011-05-29 19:16:00   \n",
       "188710  I just want to point out that no one has made ... 2011-05-30 04:55:00   \n",
       "\n",
       "        post_no_last  survived  betrayer town_won  rel_time  rounds  \\\n",
       "188577           939     False     False    False  0.855083       3   \n",
       "188578           939     False     False    False  0.859694       3   \n",
       "188579           939     False     False    False  0.860443       3   \n",
       "188709           939     False      True    False  0.846823       3   \n",
       "188710           939     False      True    False  0.853018       3   \n",
       "\n",
       "        rounds_to_end  nb_words  \n",
       "188577              5        41  \n",
       "188578              5        14  \n",
       "188579              5         6  \n",
       "188709              5         1  \n",
       "188710              5       111  "
      ]
     },
     "execution_count": 64,
     "metadata": {},
     "output_type": "execute_result"
    }
   ],
   "source": [
    "df_talkativeness_last_5.head()"
   ]
  },
  {
   "cell_type": "markdown",
   "metadata": {},
   "source": [
    "We will know create another database which will contain informationa about the players:\n",
    "- **game_id:** the number of the game in which the player played\n",
    "- **rounds_to_end:** the number of rounds until [the end of the game](https://www.youtube.com/watch?v=Rl-hSj3gnks)\n",
    "- **author:** the nickname of the player\n",
    "- **nb_messages:** how many messages they sent during this round\n",
    "- **nb_words:** how many words they sent during this round"
   ]
  },
  {
   "cell_type": "code",
   "execution_count": 77,
   "metadata": {},
   "outputs": [],
   "source": [
    "# create a DF with general informations about the players for each round \n",
    "info_player_round = df_talkativeness_last_5.groupby(['game_id', 'rounds_to_end', \n",
    "                                                     'betrayer', 'author']).count()[['content']].rename({'content': \n",
    "                                                                                                         'nb_messages'}, axis=1)\n",
    "# add the total number of word sent by the player in this round\n",
    "info_player_round['nb_words'] = df_talkativeness_last_5.groupby(['game_id', 'rounds_to_end', 'betrayer', 'author']).sum()[['nb_words']].values"
   ]
  },
  {
   "cell_type": "code",
   "execution_count": 78,
   "metadata": {},
   "outputs": [
    {
     "data": {
      "text/html": [
       "<div>\n",
       "<style scoped>\n",
       "    .dataframe tbody tr th:only-of-type {\n",
       "        vertical-align: middle;\n",
       "    }\n",
       "\n",
       "    .dataframe tbody tr th {\n",
       "        vertical-align: top;\n",
       "    }\n",
       "\n",
       "    .dataframe thead th {\n",
       "        text-align: right;\n",
       "    }\n",
       "</style>\n",
       "<table border=\"1\" class=\"dataframe\">\n",
       "  <thead>\n",
       "    <tr style=\"text-align: right;\">\n",
       "      <th></th>\n",
       "      <th></th>\n",
       "      <th></th>\n",
       "      <th></th>\n",
       "      <th>nb_messages</th>\n",
       "      <th>nb_words</th>\n",
       "      <th>av_words_per_mess</th>\n",
       "    </tr>\n",
       "    <tr>\n",
       "      <th>game_id</th>\n",
       "      <th>rounds_to_end</th>\n",
       "      <th>betrayer</th>\n",
       "      <th>author</th>\n",
       "      <th></th>\n",
       "      <th></th>\n",
       "      <th></th>\n",
       "    </tr>\n",
       "  </thead>\n",
       "  <tbody>\n",
       "    <tr>\n",
       "      <th rowspan=\"5\" valign=\"top\">17173</th>\n",
       "      <th rowspan=\"2\" valign=\"top\">1</th>\n",
       "      <th>False</th>\n",
       "      <th>The Rufflig</th>\n",
       "      <td>1</td>\n",
       "      <td>10</td>\n",
       "      <td>10.000000</td>\n",
       "    </tr>\n",
       "    <tr>\n",
       "      <th>True</th>\n",
       "      <th>vollkan</th>\n",
       "      <td>3</td>\n",
       "      <td>34</td>\n",
       "      <td>11.333333</td>\n",
       "    </tr>\n",
       "    <tr>\n",
       "      <th rowspan=\"3\" valign=\"top\">3</th>\n",
       "      <th>False</th>\n",
       "      <th>The Rufflig</th>\n",
       "      <td>16</td>\n",
       "      <td>618</td>\n",
       "      <td>38.625000</td>\n",
       "    </tr>\n",
       "    <tr>\n",
       "      <th rowspan=\"2\" valign=\"top\">True</th>\n",
       "      <th>Occult</th>\n",
       "      <td>3</td>\n",
       "      <td>99</td>\n",
       "      <td>33.000000</td>\n",
       "    </tr>\n",
       "    <tr>\n",
       "      <th>vollkan</th>\n",
       "      <td>15</td>\n",
       "      <td>702</td>\n",
       "      <td>46.800000</td>\n",
       "    </tr>\n",
       "    <tr>\n",
       "      <th>...</th>\n",
       "      <th>...</th>\n",
       "      <th>...</th>\n",
       "      <th>...</th>\n",
       "      <td>...</td>\n",
       "      <td>...</td>\n",
       "      <td>...</td>\n",
       "    </tr>\n",
       "    <tr>\n",
       "      <th rowspan=\"5\" valign=\"top\">71697</th>\n",
       "      <th rowspan=\"5\" valign=\"top\">5</th>\n",
       "      <th rowspan=\"5\" valign=\"top\">True</th>\n",
       "      <th>Hikari Link</th>\n",
       "      <td>32</td>\n",
       "      <td>1679</td>\n",
       "      <td>52.468750</td>\n",
       "    </tr>\n",
       "    <tr>\n",
       "      <th>Kelvin Smith</th>\n",
       "      <td>50</td>\n",
       "      <td>5065</td>\n",
       "      <td>101.300000</td>\n",
       "    </tr>\n",
       "    <tr>\n",
       "      <th>Leonshade</th>\n",
       "      <td>25</td>\n",
       "      <td>1849</td>\n",
       "      <td>73.960000</td>\n",
       "    </tr>\n",
       "    <tr>\n",
       "      <th>Prism</th>\n",
       "      <td>12</td>\n",
       "      <td>1274</td>\n",
       "      <td>106.166667</td>\n",
       "    </tr>\n",
       "    <tr>\n",
       "      <th>Ser Arthur Dayne</th>\n",
       "      <td>111</td>\n",
       "      <td>4133</td>\n",
       "      <td>37.234234</td>\n",
       "    </tr>\n",
       "  </tbody>\n",
       "</table>\n",
       "<p>6847 rows × 3 columns</p>\n",
       "</div>"
      ],
      "text/plain": [
       "                                                 nb_messages  nb_words  \\\n",
       "game_id rounds_to_end betrayer author                                    \n",
       "17173   1             False    The Rufflig                 1        10   \n",
       "                      True     vollkan                     3        34   \n",
       "        3             False    The Rufflig                16       618   \n",
       "                      True     Occult                      3        99   \n",
       "                               vollkan                    15       702   \n",
       "...                                                      ...       ...   \n",
       "71697   5             True     Hikari Link                32      1679   \n",
       "                               Kelvin Smith               50      5065   \n",
       "                               Leonshade                  25      1849   \n",
       "                               Prism                      12      1274   \n",
       "                               Ser Arthur Dayne          111      4133   \n",
       "\n",
       "                                                 av_words_per_mess  \n",
       "game_id rounds_to_end betrayer author                               \n",
       "17173   1             False    The Rufflig               10.000000  \n",
       "                      True     vollkan                   11.333333  \n",
       "        3             False    The Rufflig               38.625000  \n",
       "                      True     Occult                    33.000000  \n",
       "                               vollkan                   46.800000  \n",
       "...                                                            ...  \n",
       "71697   5             True     Hikari Link               52.468750  \n",
       "                               Kelvin Smith             101.300000  \n",
       "                               Leonshade                 73.960000  \n",
       "                               Prism                    106.166667  \n",
       "                               Ser Arthur Dayne          37.234234  \n",
       "\n",
       "[6847 rows x 3 columns]"
      ]
     },
     "execution_count": 78,
     "metadata": {},
     "output_type": "execute_result"
    }
   ],
   "source": [
    "info_player_round"
   ]
  },
  {
   "cell_type": "markdown",
   "metadata": {},
   "source": [
    "Now we can calculate the number of messages sent by each side (Mafia or Town) at each round. "
   ]
  },
  {
   "cell_type": "code",
   "execution_count": 79,
   "metadata": {},
   "outputs": [],
   "source": [
    "# Group the number of messages sent for each side\n",
    "info_round_role = info_player_round.sum(level=[0,1,2], axis=0)"
   ]
  },
  {
   "cell_type": "code",
   "execution_count": 80,
   "metadata": {},
   "outputs": [
    {
     "data": {
      "text/html": [
       "<div>\n",
       "<style scoped>\n",
       "    .dataframe tbody tr th:only-of-type {\n",
       "        vertical-align: middle;\n",
       "    }\n",
       "\n",
       "    .dataframe tbody tr th {\n",
       "        vertical-align: top;\n",
       "    }\n",
       "\n",
       "    .dataframe thead th {\n",
       "        text-align: right;\n",
       "    }\n",
       "</style>\n",
       "<table border=\"1\" class=\"dataframe\">\n",
       "  <thead>\n",
       "    <tr style=\"text-align: right;\">\n",
       "      <th></th>\n",
       "      <th></th>\n",
       "      <th></th>\n",
       "      <th>nb_messages</th>\n",
       "      <th>nb_words</th>\n",
       "      <th>av_words_per_mess</th>\n",
       "    </tr>\n",
       "    <tr>\n",
       "      <th>game_id</th>\n",
       "      <th>rounds_to_end</th>\n",
       "      <th>betrayer</th>\n",
       "      <th></th>\n",
       "      <th></th>\n",
       "      <th></th>\n",
       "    </tr>\n",
       "  </thead>\n",
       "  <tbody>\n",
       "    <tr>\n",
       "      <th rowspan=\"5\" valign=\"top\">17173</th>\n",
       "      <th rowspan=\"2\" valign=\"top\">1</th>\n",
       "      <th>False</th>\n",
       "      <td>1</td>\n",
       "      <td>10</td>\n",
       "      <td>10.000000</td>\n",
       "    </tr>\n",
       "    <tr>\n",
       "      <th>True</th>\n",
       "      <td>3</td>\n",
       "      <td>34</td>\n",
       "      <td>11.333333</td>\n",
       "    </tr>\n",
       "    <tr>\n",
       "      <th rowspan=\"2\" valign=\"top\">3</th>\n",
       "      <th>False</th>\n",
       "      <td>16</td>\n",
       "      <td>618</td>\n",
       "      <td>38.625000</td>\n",
       "    </tr>\n",
       "    <tr>\n",
       "      <th>True</th>\n",
       "      <td>18</td>\n",
       "      <td>801</td>\n",
       "      <td>79.800000</td>\n",
       "    </tr>\n",
       "    <tr>\n",
       "      <th>4</th>\n",
       "      <th>False</th>\n",
       "      <td>9</td>\n",
       "      <td>601</td>\n",
       "      <td>80.375000</td>\n",
       "    </tr>\n",
       "  </tbody>\n",
       "</table>\n",
       "</div>"
      ],
      "text/plain": [
       "                                nb_messages  nb_words  av_words_per_mess\n",
       "game_id rounds_to_end betrayer                                          \n",
       "17173   1             False               1        10          10.000000\n",
       "                      True                3        34          11.333333\n",
       "        3             False              16       618          38.625000\n",
       "                      True               18       801          79.800000\n",
       "        4             False               9       601          80.375000"
      ]
     },
     "execution_count": 80,
     "metadata": {},
     "output_type": "execute_result"
    }
   ],
   "source": [
    "info_round_role.head()"
   ]
  },
  {
   "cell_type": "markdown",
   "metadata": {},
   "source": [
    "Some players didn't speak during some rounds. Moreover the player who died don't speak anymore. To know how many messages were sent by the players we first need to find how many players have spoken in each round. We will add three new columns:\n",
    "- **nb_messages:** Total amount of messages sent in this round\n",
    "- **nb_talkers:** Number of players who spoke during this round\n",
    "- **nb_betrayers:** Among them how many were betrayers\n",
    "- **nb_victims:** Among them how many were from the town"
   ]
  },
  {
   "cell_type": "code",
   "execution_count": 69,
   "metadata": {},
   "outputs": [],
   "source": [
    "# Create the new datafame \n",
    "info_rounds = info_round_role.sum(level=[0,1], axis=0)\n",
    "\n",
    "# Make the calculation\n",
    "info_rounds['nb_talkers'] = [len(info_player_round.loc[ind]) for ind in info_rounds.index]\n",
    "info_rounds['nb_betrayers'] = [len(info_player_round.loc[ind+(True,)]) if True in info_player_round.loc[ind].index\n",
    "                               else 0\n",
    "                               for ind in info_rounds.index]\n",
    "info_rounds['nb_victims'] = info_rounds.nb_talkers - info_rounds.nb_betrayers"
   ]
  },
  {
   "cell_type": "code",
   "execution_count": 92,
   "metadata": {},
   "outputs": [
    {
     "data": {
      "text/html": [
       "<div>\n",
       "<style scoped>\n",
       "    .dataframe tbody tr th:only-of-type {\n",
       "        vertical-align: middle;\n",
       "    }\n",
       "\n",
       "    .dataframe tbody tr th {\n",
       "        vertical-align: top;\n",
       "    }\n",
       "\n",
       "    .dataframe thead th {\n",
       "        text-align: right;\n",
       "    }\n",
       "</style>\n",
       "<table border=\"1\" class=\"dataframe\">\n",
       "  <thead>\n",
       "    <tr style=\"text-align: right;\">\n",
       "      <th></th>\n",
       "      <th></th>\n",
       "      <th>nb_messages</th>\n",
       "      <th>nb_words</th>\n",
       "      <th>nb_talkers</th>\n",
       "      <th>nb_betrayers</th>\n",
       "      <th>nb_victims</th>\n",
       "    </tr>\n",
       "    <tr>\n",
       "      <th>game_id</th>\n",
       "      <th>rounds_to_end</th>\n",
       "      <th></th>\n",
       "      <th></th>\n",
       "      <th></th>\n",
       "      <th></th>\n",
       "      <th></th>\n",
       "    </tr>\n",
       "  </thead>\n",
       "  <tbody>\n",
       "    <tr>\n",
       "      <th rowspan=\"4\" valign=\"top\">17173</th>\n",
       "      <th>1</th>\n",
       "      <td>4</td>\n",
       "      <td>44</td>\n",
       "      <td>2</td>\n",
       "      <td>1</td>\n",
       "      <td>1</td>\n",
       "    </tr>\n",
       "    <tr>\n",
       "      <th>3</th>\n",
       "      <td>34</td>\n",
       "      <td>1419</td>\n",
       "      <td>3</td>\n",
       "      <td>2</td>\n",
       "      <td>1</td>\n",
       "    </tr>\n",
       "    <tr>\n",
       "      <th>4</th>\n",
       "      <td>20</td>\n",
       "      <td>1358</td>\n",
       "      <td>4</td>\n",
       "      <td>2</td>\n",
       "      <td>2</td>\n",
       "    </tr>\n",
       "    <tr>\n",
       "      <th>5</th>\n",
       "      <td>16</td>\n",
       "      <td>1544</td>\n",
       "      <td>6</td>\n",
       "      <td>3</td>\n",
       "      <td>3</td>\n",
       "    </tr>\n",
       "    <tr>\n",
       "      <th>17666</th>\n",
       "      <th>1</th>\n",
       "      <td>9</td>\n",
       "      <td>155</td>\n",
       "      <td>3</td>\n",
       "      <td>1</td>\n",
       "      <td>2</td>\n",
       "    </tr>\n",
       "  </tbody>\n",
       "</table>\n",
       "</div>"
      ],
      "text/plain": [
       "                       nb_messages  nb_words  nb_talkers  nb_betrayers  \\\n",
       "game_id rounds_to_end                                                    \n",
       "17173   1                        4        44           2             1   \n",
       "        3                       34      1419           3             2   \n",
       "        4                       20      1358           4             2   \n",
       "        5                       16      1544           6             3   \n",
       "17666   1                        9       155           3             1   \n",
       "\n",
       "                       nb_victims  \n",
       "game_id rounds_to_end              \n",
       "17173   1                       1  \n",
       "        3                       1  \n",
       "        4                       2  \n",
       "        5                       3  \n",
       "17666   1                       2  "
      ]
     },
     "execution_count": 92,
     "metadata": {},
     "output_type": "execute_result"
    }
   ],
   "source": [
    "info_rounds.head()"
   ]
  },
  {
   "cell_type": "code",
   "execution_count": 71,
   "metadata": {},
   "outputs": [],
   "source": [
    "# Merge the wanted column of the two dataframes\n",
    "\n",
    "average_messages = info_round_role.reset_index().merge(info_rounds[['nb_betrayers', 'nb_victims']], on = ['game_id', \n",
    "                                                                                                          'rounds_to_end'])\n",
    "\n",
    "average_messages['av_messages']  = 0\n",
    "average_messages['av_words'] = 0\n",
    "\n",
    "for index, row in average_messages.iterrows():\n",
    "    if row['betrayer'] == True:\n",
    "        if(row['nb_betrayers']):\n",
    "            average_messages.loc[index, 'av_messages'] = row['nb_messages']/row['nb_betrayers']\n",
    "            average_messages.loc[index, 'av_words'] = row['nb_words']/row['nb_betrayers']\n",
    "            #print(row['av_words'])\n",
    "    else:\n",
    "        if(row['nb_victims']):\n",
    "            average_messages.loc[index, 'av_messages'] = row['nb_messages']/row['nb_victims']\n",
    "            average_messages.loc[index, 'av_words'] = row['nb_words']/row['nb_victims']\n",
    "        \n",
    "average_messages.set_index(['game_id', 'rounds_to_end', 'betrayer'], inplace = True)\n",
    "average_messages.drop(['nb_messages', 'nb_words', 'nb_betrayers', 'nb_victims'], axis = 1, inplace = True)"
   ]
  },
  {
   "cell_type": "code",
   "execution_count": 72,
   "metadata": {},
   "outputs": [
    {
     "data": {
      "text/html": [
       "<div>\n",
       "<style scoped>\n",
       "    .dataframe tbody tr th:only-of-type {\n",
       "        vertical-align: middle;\n",
       "    }\n",
       "\n",
       "    .dataframe tbody tr th {\n",
       "        vertical-align: top;\n",
       "    }\n",
       "\n",
       "    .dataframe thead th {\n",
       "        text-align: right;\n",
       "    }\n",
       "</style>\n",
       "<table border=\"1\" class=\"dataframe\">\n",
       "  <thead>\n",
       "    <tr style=\"text-align: right;\">\n",
       "      <th></th>\n",
       "      <th></th>\n",
       "      <th></th>\n",
       "      <th>av_messages</th>\n",
       "      <th>av_words</th>\n",
       "    </tr>\n",
       "    <tr>\n",
       "      <th>game_id</th>\n",
       "      <th>rounds_to_end</th>\n",
       "      <th>betrayer</th>\n",
       "      <th></th>\n",
       "      <th></th>\n",
       "    </tr>\n",
       "  </thead>\n",
       "  <tbody>\n",
       "    <tr>\n",
       "      <th rowspan=\"5\" valign=\"top\">17173</th>\n",
       "      <th rowspan=\"2\" valign=\"top\">1</th>\n",
       "      <th>False</th>\n",
       "      <td>1.0</td>\n",
       "      <td>10.0</td>\n",
       "    </tr>\n",
       "    <tr>\n",
       "      <th>True</th>\n",
       "      <td>3.0</td>\n",
       "      <td>34.0</td>\n",
       "    </tr>\n",
       "    <tr>\n",
       "      <th rowspan=\"2\" valign=\"top\">3</th>\n",
       "      <th>False</th>\n",
       "      <td>16.0</td>\n",
       "      <td>618.0</td>\n",
       "    </tr>\n",
       "    <tr>\n",
       "      <th>True</th>\n",
       "      <td>9.0</td>\n",
       "      <td>400.5</td>\n",
       "    </tr>\n",
       "    <tr>\n",
       "      <th>4</th>\n",
       "      <th>False</th>\n",
       "      <td>4.5</td>\n",
       "      <td>300.5</td>\n",
       "    </tr>\n",
       "  </tbody>\n",
       "</table>\n",
       "</div>"
      ],
      "text/plain": [
       "                                av_messages  av_words\n",
       "game_id rounds_to_end betrayer                       \n",
       "17173   1             False             1.0      10.0\n",
       "                      True              3.0      34.0\n",
       "        3             False            16.0     618.0\n",
       "                      True              9.0     400.5\n",
       "        4             False             4.5     300.5"
      ]
     },
     "execution_count": 72,
     "metadata": {},
     "output_type": "execute_result"
    }
   ],
   "source": [
    "average_messages.head()"
   ]
  },
  {
   "cell_type": "code",
   "execution_count": 73,
   "metadata": {},
   "outputs": [],
   "source": [
    "results = average_messages.reset_index()"
   ]
  },
  {
   "cell_type": "code",
   "execution_count": 74,
   "metadata": {},
   "outputs": [
    {
     "data": {
      "text/html": [
       "<div>\n",
       "<style scoped>\n",
       "    .dataframe tbody tr th:only-of-type {\n",
       "        vertical-align: middle;\n",
       "    }\n",
       "\n",
       "    .dataframe tbody tr th {\n",
       "        vertical-align: top;\n",
       "    }\n",
       "\n",
       "    .dataframe thead th {\n",
       "        text-align: right;\n",
       "    }\n",
       "</style>\n",
       "<table border=\"1\" class=\"dataframe\">\n",
       "  <thead>\n",
       "    <tr style=\"text-align: right;\">\n",
       "      <th></th>\n",
       "      <th>game_id</th>\n",
       "      <th>rounds_to_end</th>\n",
       "      <th>betrayer</th>\n",
       "      <th>av_messages</th>\n",
       "      <th>av_words</th>\n",
       "    </tr>\n",
       "  </thead>\n",
       "  <tbody>\n",
       "    <tr>\n",
       "      <th>0</th>\n",
       "      <td>17173</td>\n",
       "      <td>1</td>\n",
       "      <td>False</td>\n",
       "      <td>1.0</td>\n",
       "      <td>10.0</td>\n",
       "    </tr>\n",
       "    <tr>\n",
       "      <th>1</th>\n",
       "      <td>17173</td>\n",
       "      <td>1</td>\n",
       "      <td>True</td>\n",
       "      <td>3.0</td>\n",
       "      <td>34.0</td>\n",
       "    </tr>\n",
       "    <tr>\n",
       "      <th>2</th>\n",
       "      <td>17173</td>\n",
       "      <td>3</td>\n",
       "      <td>False</td>\n",
       "      <td>16.0</td>\n",
       "      <td>618.0</td>\n",
       "    </tr>\n",
       "    <tr>\n",
       "      <th>3</th>\n",
       "      <td>17173</td>\n",
       "      <td>3</td>\n",
       "      <td>True</td>\n",
       "      <td>9.0</td>\n",
       "      <td>400.5</td>\n",
       "    </tr>\n",
       "    <tr>\n",
       "      <th>4</th>\n",
       "      <td>17173</td>\n",
       "      <td>4</td>\n",
       "      <td>False</td>\n",
       "      <td>4.5</td>\n",
       "      <td>300.5</td>\n",
       "    </tr>\n",
       "  </tbody>\n",
       "</table>\n",
       "</div>"
      ],
      "text/plain": [
       "   game_id  rounds_to_end  betrayer  av_messages  av_words\n",
       "0    17173              1     False          1.0      10.0\n",
       "1    17173              1      True          3.0      34.0\n",
       "2    17173              3     False         16.0     618.0\n",
       "3    17173              3      True          9.0     400.5\n",
       "4    17173              4     False          4.5     300.5"
      ]
     },
     "execution_count": 74,
     "metadata": {},
     "output_type": "execute_result"
    }
   ],
   "source": [
    "results.head()"
   ]
  },
  {
   "cell_type": "code",
   "execution_count": 90,
   "metadata": {},
   "outputs": [
    {
     "data": {
      "text/plain": [
       "[(4.0, 7.0),\n",
       " (9.0, 12.837499999999995),\n",
       " (9.0, 12.0),\n",
       " (14.666666666666668, 18.0),\n",
       " (9.333333333333334, 15.25),\n",
       " (13.8, 21.666666666666668)]"
      ]
     },
     "execution_count": 90,
     "metadata": {},
     "output_type": "execute_result"
    }
   ],
   "source": [
    "dist_error = [bootstrap_CI_median(results[(results.betrayer == True) & (results.rounds_to_end == rd)]['av_messages'])\n",
    "             for rd in np.unique(results.rounds_to_end)]"
   ]
  },
  {
   "cell_type": "code",
   "execution_count": 75,
   "metadata": {},
   "outputs": [
    {
     "data": {
      "text/plain": [
       "<ErrorbarContainer object of 3 artists>"
      ]
     },
     "execution_count": 75,
     "metadata": {},
     "output_type": "execute_result"
    },
    {
     "data": {
      "image/png": "[encoded data removed]",
      "text/plain": [
       "<Figure size 432x288 with 1 Axes>"
      ]
     },
     "metadata": {
      "needs_background": "light"
     },
     "output_type": "display_data"
    }
   ],
   "source": [
    "round = [1, 2, 3, 4, 5, 6]\n",
    "lower_error = []\n",
    "upper_error = []\n",
    "fig, ax = plt.subplots()\n",
    "\n",
    "for rd in np.unique(results.rounds_to_end):\n",
    "    low, up = bootstrap_CI_median(results[(results.betrayer == True) & (results.rounds_to_end == rd)]['av_messages'])\n",
    "    lower_error.append(results.loc[(results.betrayer == True) & (results.rounds_to_end == rd), 'av_messages'].median() - low)\n",
    "    upper_error.append(up - results.loc[(results.betrayer == True) & (results.rounds_to_end == rd), 'av_messages'].median())\n",
    "asymmetric_error = [lower_error, upper_error]\n",
    "\n",
    "plt.errorbar(x = round\n",
    "             , y = results[results.betrayer == True].groupby(['rounds_to_end']).median()['av_messages']\n",
    "             , yerr= asymmetric_error\n",
    "            )\n",
    "\n",
    "lower_error = []\n",
    "upper_error = []\n",
    "for rd in np.unique(results.rounds_to_end):\n",
    "    low, up = bootstrap_CI_median(results[(results.betrayer ==False) & (results.rounds_to_end == rd)]['av_messages'])\n",
    "    lower_error.append(results.loc[(results.betrayer == False) & (results.rounds_to_end == rd), 'av_messages'].median() - low)\n",
    "    upper_error.append(up - results.loc[(results.betrayer == False) & (results.rounds_to_end == rd), 'av_messages'].median())\n",
    "asymmetric_error = [lower_error, upper_error]\n",
    "\n",
    "plt.errorbar(x = round\n",
    "             , y = results[results.betrayer == False].groupby(['rounds_to_end']).median()['av_messages']\n",
    "             , yerr= asymmetric_error\n",
    "            )\n",
    "\n",
    "#ax.plot(round, results[results.betrayer == False].groupby(['rounds_to_end']).median()['av_messages'])\n",
    "\n",
    "#plt.set(xlabel='rounds to end', ylabel='number of messages per person',\n",
    "       #title='  ')\n",
    "#plt.grid()"
   ]
  },
  {
   "cell_type": "code",
   "execution_count": 76,
   "metadata": {},
   "outputs": [
    {
     "data": {
      "text/plain": [
       "<ErrorbarContainer object of 3 artists>"
      ]
     },
     "execution_count": 76,
     "metadata": {},
     "output_type": "execute_result"
    },
    {
     "data": {
      "image/png": "[encoded data removed]",
      "text/plain": [
       "<Figure size 432x288 with 1 Axes>"
      ]
     },
     "metadata": {
      "needs_background": "light"
     },
     "output_type": "display_data"
    }
   ],
   "source": [
    "round = [1, 2, 3, 4, 5, 6]\n",
    "lower_error = []\n",
    "upper_error = []\n",
    "fig, ax = plt.subplots()\n",
    "\n",
    "for rd in np.unique(results.rounds_to_end):\n",
    "    low, up = bootstrap_CI_median(results[(results.betrayer == True) & (results.rounds_to_end == rd)]['av_words'])\n",
    "    lower_error.append(results.loc[(results.betrayer == True) & (results.rounds_to_end == rd), 'av_words'].median() - low)\n",
    "    upper_error.append(up - results.loc[(results.betrayer == True) & (results.rounds_to_end == rd), 'av_words'].median())\n",
    "asymmetric_error = [lower_error, upper_error]\n",
    "\n",
    "plt.errorbar(x = round\n",
    "             , y = results[results.betrayer == True].groupby(['rounds_to_end']).median()['av_words']\n",
    "             , yerr= asymmetric_error\n",
    "            )\n",
    "\n",
    "lower_error = []\n",
    "upper_error = []\n",
    "for rd in np.unique(results.rounds_to_end):\n",
    "    low, up = bootstrap_CI_median(results[(results.betrayer == False) & (results.rounds_to_end == rd)]['av_words'])\n",
    "    lower_error.append(results.loc[(results.betrayer == False) & (results.rounds_to_end == rd), 'av_words'].median() - low)\n",
    "    upper_error.append(up - results.loc[(results.betrayer == False) & (results.rounds_to_end == rd), 'av_words'].median())\n",
    "asymmetric_error = [lower_error, upper_error]\n",
    "\n",
    "plt.errorbar(x = round\n",
    "             , y = results[results.betrayer == False].groupby(['rounds_to_end']).median()['av_words']\n",
    "             , yerr= asymmetric_error\n",
    "            )\n",
    "\n",
    "#ax.plot(round, results[results.betrayer == False].groupby(['rounds_to_end']).median()['av_messages'])\n",
    "\n",
    "#plt.set(xlabel='rounds to end', ylabel='number of messages per person',\n",
    "       #title='  ')\n",
    "#plt.grid()"
   ]
  },
  {
   "cell_type": "markdown",
   "metadata": {},
   "source": [
    "Now we will calculate what is the average number of messages and number of words that have been written by each side (Mafia or Town) at each round. We will create new columns containing these calculations.\n"
   ]
  },
  {
   "cell_type": "code",
   "execution_count": null,
   "metadata": {},
   "outputs": [],
   "source": [
    "info_player_round['av_mess'] = [(nb_mess/info_rounds.nb_messages.loc[ind[:2]])['nb_messages']\n",
    "                                  for ind, nb_mess in info_player_round[['nb_messages']].iterrows()]"
   ]
  },
  {
   "cell_type": "code",
   "execution_count": 99,
   "metadata": {},
   "outputs": [],
   "source": [
    "info_player_round['perc_mess'] = [(nb_mess/info_rounds.nb_messages.loc[ind[:2]])['nb_messages']\n",
    "                                  for ind, nb_mess in info_player_round[['nb_messages']].iterrows()]\n",
    "info_player_round['perc_words'] = [(nb_words/info_rounds.nb_words.loc[ind[:2]])['nb_words']\n",
    "                                  for ind, nb_words in info_player_round[['nb_words']].iterrows()]"
   ]
  },
  {
   "cell_type": "code",
   "execution_count": null,
   "metadata": {},
   "outputs": [],
   "source": []
  },
  {
   "cell_type": "markdown",
   "metadata": {},
   "source": [
    "#### Finding most common words"
   ]
  },
  {
   "cell_type": "code",
   "execution_count": 93,
   "metadata": {},
   "outputs": [],
   "source": [
    "from collections import Counter\n",
    "from nltk.corpus import stopwords\n",
    "from wordcloud import WordCloud\n",
    "\n",
    "stop_words = stopwords.words('english')\n",
    "tknzr = TweetTokenizer(strip_handles=True, reduce_len=True, preserve_case=False)"
   ]
  },
  {
   "cell_type": "code",
   "execution_count": 8,
   "metadata": {},
   "outputs": [],
   "source": [
    "text_betrayers = ''\n",
    "text_victims = ''\n",
    "for betr_message in df[df.betrayer].content:\n",
    "    text_betrayers += ' # '+betr_message\n",
    "for vict_message in df[~df.betrayer == -1].content: # why doesn't \"~\" work ???\n",
    "    text_victims += ' # '+vict_message"
   ]
  },
  {
   "cell_type": "code",
   "execution_count": 10,
   "metadata": {},
   "outputs": [],
   "source": [
    "text_betrayers_tokens = [word for word in tknzr.tokenize(text_betrayers) if (word not in string.punctuation) and (word not in stop_words)]\n",
    "text_victims_tokens = [word for word in tknzr.tokenize(text_victims) if (word not in string.punctuation) and (word not in stop_words)]"
   ]
  },
  {
   "cell_type": "code",
   "execution_count": 11,
   "metadata": {},
   "outputs": [],
   "source": [
    "word_freq_betrayer = Counter(text_betrayers_tokens)\n",
    "word_freq_victim = Counter(text_victims_tokens)"
   ]
  },
  {
   "cell_type": "code",
   "execution_count": 12,
   "metadata": {},
   "outputs": [
    {
     "name": "stdout",
     "output_type": "stream",
     "text": [
      "Most common betrayers words : [('scum', 42899), ('town', 31297), (\"i'm\", 24050), ('like', 21747), ('vote', 21430), ('think', 20788), ('game', 18454), ('would', 15026), ('read', 13893), ('post', 13103), ('lynch', 12731), ('one', 12712), ('really', 11356), ('get', 10478), ('see', 10175)]\n",
      "Most common victims words : [('scum', 143496), ('town', 109838), (\"i'm\", 76340), ('vote', 67855), ('like', 63210), ('think', 63158), ('game', 56564), ('would', 46995), ('lynch', 43475), ('read', 42243), ('post', 39563), ('one', 38632), ('really', 32425), ('get', 32158), ('also', 31528)]\n"
     ]
    }
   ],
   "source": [
    "n_most_common = 15\n",
    "\n",
    "common_words_betrayer = word_freq_betrayer.most_common(n_most_common)\n",
    "common_words_victim = word_freq_victim.most_common(n_most_common)\n",
    "\n",
    "print('Most common betrayers words :', common_words_betrayer)\n",
    "print('Most common victims words :', common_words_victim)"
   ]
  },
  {
   "cell_type": "code",
   "execution_count": 13,
   "metadata": {},
   "outputs": [
    {
     "data": {
      "image/png": "[encoded data removed]",
      "text/plain": [
       "<Figure size 1080x720 with 2 Axes>"
      ]
     },
     "metadata": {
      "needs_background": "light"
     },
     "output_type": "display_data"
    }
   ],
   "source": [
    "wc_victim = WordCloud(max_words=100, background_color=\"white\", colormap=\"viridis\").generate_from_frequencies(word_freq_victim)\n",
    "wc_betrayer = WordCloud(max_words=100, background_color=\"white\", colormap=\"inferno\").generate_from_frequencies(word_freq_betrayer)\n",
    "\n",
    "fig, axes = plt.subplots(1, 2, figsize=(15, 10))\n",
    "\n",
    "axes[0].imshow(wc_betrayer, interpolation=\"bilinear\")\n",
    "axes[1].imshow(wc_victim, interpolation=\"bilinear\")\n",
    "\n",
    "for ax in axes:\n",
    "    ax.axis(\"off\")\n",
    "    \n",
    "plt.tight_layout()\n",
    "plt.show()"
   ]
  },
  {
   "cell_type": "markdown",
   "metadata": {},
   "source": [
    "#### Common words on the last 5 rounds"
   ]
  },
  {
   "cell_type": "code",
   "execution_count": 181,
   "metadata": {},
   "outputs": [],
   "source": [
    "# separator ' # ' then removed when selecting non punctuation words\n",
    "txt_betr = df_talkativeness_last_5[df_talkativeness_last_5.betrayer].content.str.cat(sep=' # ')\n",
    "txt_vict = df_talkativeness_last_5[~df_talkativeness_last_5.betrayer].content.str.cat(sep=' # ')"
   ]
  },
  {
   "cell_type": "code",
   "execution_count": 182,
   "metadata": {},
   "outputs": [],
   "source": [
    "# tokenize the strings\n",
    "txt_betr_tokens = [word for word in tknzr.tokenize(txt_betr) \n",
    "                   if (word not in string.punctuation) and (word not in stop_words)]\n",
    "txt_vict_tokens = [word for word in tknzr.tokenize(txt_vict) \n",
    "                   if (word not in string.punctuation) and (word not in stop_words)]"
   ]
  },
  {
   "cell_type": "code",
   "execution_count": 184,
   "metadata": {},
   "outputs": [],
   "source": [
    "word_freq_betr = Counter(txt_betr_tokens)\n",
    "word_freq_vict = Counter(txt_vict_tokens)"
   ]
  },
  {
   "cell_type": "code",
   "execution_count": 185,
   "metadata": {},
   "outputs": [],
   "source": [
    "n_most_common = 15\n",
    "\n",
    "common_words_betr = word_freq_betr.most_common(n_most_common)\n",
    "common_words_vict = word_freq_vict.most_common(n_most_common)"
   ]
  },
  {
   "cell_type": "code",
   "execution_count": 217,
   "metadata": {},
   "outputs": [],
   "source": [
    "nb_words_betr = sum(word_freq_betr.values())\n",
    "nb_words_vict = sum(word_freq_vict.values())\n",
    "\n",
    "betr_words = [word for word,_ in common_words_betr]\n",
    "vict_words = [word for word,_ in common_words_vict]"
   ]
  },
  {
   "cell_type": "code",
   "execution_count": 229,
   "metadata": {},
   "outputs": [],
   "source": [
    "common_words = pd.DataFrame(vict_words + list(set(betr_words)-set(vict_words)), columns=['words']).set_index('words')\n",
    "common_words['perc_betr'] = [word_freq_betr[word]/nb_words_betr for word in common_words.index]\n",
    "common_words['perc_vict'] = [word_freq_vict[word]/nb_words_vict for word in common_words.index]"
   ]
  },
  {
   "cell_type": "code",
   "execution_count": 233,
   "metadata": {},
   "outputs": [
    {
     "data": {
      "text/plain": [
       "<AxesSubplot:ylabel='words'>"
      ]
     },
     "execution_count": 233,
     "metadata": {},
     "output_type": "execute_result"
    },
    {
     "data": {
      "image/png": "[encoded data removed]",
      "text/plain": [
       "<Figure size 432x288 with 1 Axes>"
      ]
     },
     "metadata": {
      "needs_background": "light"
     },
     "output_type": "display_data"
    }
   ],
   "source": [
    "common_words.plot.barh()"
   ]
  },
  {
   "cell_type": "markdown",
   "metadata": {},
   "source": [
    "#### Par rounds: à jeter ?"
   ]
  },
  {
   "cell_type": "code",
   "execution_count": 138,
   "metadata": {},
   "outputs": [],
   "source": [
    "# separator ' # ' then removed when selecting non punctuation words\n",
    "txt_rounds_betr = [df_talkativeness_last_5[(df_talkativeness_last_5.betrayer) & (df_talkativeness_last_5.rounds_to_end == rd)].content.str.cat(sep=' # ') \n",
    "                   for rd in np.sort(np.unique(df_talkativeness_last_5.rounds_to_end))]\n",
    "\n",
    "txt_rounds_vict = [df_talkativeness_last_5[(~df_talkativeness_last_5.betrayer) & (df_talkativeness_last_5.rounds_to_end == rd)].content.str.cat(sep=' # ') \n",
    "                   for rd in np.sort(np.unique(df_talkativeness_last_5.rounds_to_end))]"
   ]
  },
  {
   "cell_type": "code",
   "execution_count": 143,
   "metadata": {},
   "outputs": [],
   "source": [
    "txt_rounds_betr_tokens = [[word for word in tknzr.tokenize(round_txt) \n",
    "                           if (word not in string.punctuation) and (word not in stop_words)]\n",
    "                          for round_txt in txt_rounds_betr\n",
    "                         ]\n",
    "\n",
    "txt_rounds_vict_tokens = [[word for word in tknzr.tokenize(round_txt) \n",
    "                           if (word not in string.punctuation) and (word not in stop_words)]\n",
    "                          for round_txt in txt_rounds_vict\n",
    "                         ]"
   ]
  },
  {
   "cell_type": "code",
   "execution_count": 249,
   "metadata": {},
   "outputs": [],
   "source": [
    "word_freq_rounds_betr = [Counter(round_tokens) for round_tokens in txt_rounds_betr_tokens]\n",
    "word_freq_rounds_vict = [Counter(round_tokens) for round_tokens in txt_rounds_vict_tokens]"
   ]
  },
  {
   "cell_type": "code",
   "execution_count": 281,
   "metadata": {},
   "outputs": [],
   "source": [
    "n_most_common = 5\n",
    "\n",
    "common_words_rounds_betr = [round_word_freq.most_common(n_most_common) for round_word_freq in word_freq_rounds_betr]\n",
    "common_words_rounds_vict = [round_word_freq.most_common(n_most_common) for round_word_freq in word_freq_rounds_vict]\n",
    "\n",
    "common_words_betr = np.sum(word_freq_rounds_betr).most_common(n_most_common)\n",
    "common_words_vict = np.sum(word_freq_rounds_vict).most_common(n_most_common)"
   ]
  },
  {
   "cell_type": "code",
   "execution_count": 282,
   "metadata": {},
   "outputs": [],
   "source": [
    "betr_words = [word for word,_ in common_words_betr]\n",
    "vict_words = [word for word,_ in common_words_vict]\n",
    "\n",
    "common_both_words = vict_words + list(set(betr_words)-set(vict_words))"
   ]
  },
  {
   "cell_type": "code",
   "execution_count": 283,
   "metadata": {},
   "outputs": [],
   "source": [
    "nb_words_rounds_betr = [sum(round_counter.values()) for round_counter in word_freq_rounds_betr]\n",
    "nb_words_rounds_vict = [sum(round_counter.values()) for round_counter in word_freq_rounds_vict]\n"
   ]
  },
  {
   "cell_type": "code",
   "execution_count": 284,
   "metadata": {},
   "outputs": [],
   "source": [
    "betr_words_perc_rounds = [np.array([round_counter[word]/nb_words_rounds_betr[i]\n",
    "                                    for i, round_counter in enumerate(word_freq_rounds_betr)])\n",
    "                          for word in common_both_words]\n",
    "\n",
    "vict_words_perc_rounds = [np.array([round_counter[word]/nb_words_rounds_vict[i]\n",
    "                                    for i, round_counter in enumerate(word_freq_rounds_vict)])\n",
    "                          for word in common_both_words]"
   ]
  },
  {
   "cell_type": "code",
   "execution_count": 292,
   "metadata": {},
   "outputs": [
    {
     "data": {
      "text/plain": [
       "<matplotlib.legend.Legend at 0x1c7b478e0>"
      ]
     },
     "execution_count": 292,
     "metadata": {},
     "output_type": "execute_result"
    },
    {
     "data": {
      "image/png": "[encoded data removed]",
      "text/plain": [
       "<Figure size 432x288 with 1 Axes>"
      ]
     },
     "metadata": {
      "needs_background": "light"
     },
     "output_type": "display_data"
    }
   ],
   "source": [
    "rounds = range(len(vict_words_perc_rounds[0]))\n",
    "\n",
    "colors = ['b', 'r', 'k', 'g', 'orange', 'cyan']\n",
    "\n",
    "plt.figure()\n",
    "for i in range(len(common_both_words)):\n",
    "    plt.semilogy(rounds, vict_words_perc_rounds[i], ls=':', c=colors[i], label=common_both_words[i])\n",
    "    plt.semilogy(rounds, betr_words_perc_rounds[i], ls='--', c=colors[i])\n",
    "    \n",
    "plt.legend()"
   ]
  },
  {
   "cell_type": "markdown",
   "metadata": {},
   "source": [
    "### Wraping up"
   ]
  },
  {
   "cell_type": "code",
   "execution_count": null,
   "metadata": {},
   "outputs": [],
   "source": [
    "# Using the API"
   ]
  },
  {
   "cell_type": "markdown",
   "metadata": {},
   "source": [
    "---\n",
    "## Analysis"
   ]
  },
  {
   "cell_type": "markdown",
   "metadata": {},
   "source": [
    "Something something what are the conclusions?\n",
    "\n",
    "Further things:\n",
    "- We can see if the number of times you die is influencing your gameplay"
   ]
  },
  {
   "cell_type": "markdown",
   "metadata": {},
   "source": [
    "---\n",
    "## References\n",
    "\n",
    "- <a name=\"danescu\">**[Danescu-Niculescu-Mizil et al., 2013]**</a>: Cristian Danescu-Niculescu-Mizil, Moritz Sudhof, Dan Jurafsky, Jure Leskovec, Christopher Potts, *A computational approach to politeness with application to social factors*, ACL, 2013. [Original paper](https://nlp.stanford.edu/pubs/politeness.pdf).\n",
    "- <a name=\"niculae\">**[Niculae et al., 2015]**</a>: Vlad Niculae, Srijan Kumar, Jordan Boyd-Graber, Cristian Danescu-Niculescu-Mizil, *Linguistic Harbingers of Betrayal: A Case Study on an Online Strategy Game*, Proceedings of ACL, 2015. [Original paper](https://vene.ro/betrayal/niculae15betrayal.pdf), [website](https://vene.ro/betrayal/).\n",
    "- <a name=\"prasad\">**[Prasad et al., 2008]**</a>: Rashmi Prasad, Nikhil Dinesh, Alan Lee, Eleni Miltsakaki, Livio Robaldo, Aravind Joshi, Bonnie Webber, *The Penn Discourse TreeBank 2.0*, LREC, 2008. [Original paper](http://www.lrec-conf.org/proceedings/lrec2008/pdf/754_paper.pdf).\n",
    "- <a name=\"deruiter\">**[de Ruiter et al., 2018]**</a>: Bob de Ruiter, George Kachergis, *The Mafiascum Dataset: A Large Text Corpus for Deception Detection*, 2018. [Original paper](https://arxiv.org/pdf/1811.07851.pdf).\n",
    "- <a name=\"socher\">**[Socher et al., 2013]**</a>: Richard Socher, Alex Perelygin, Jean Wu, Jason Chuang, Christopher Manning, Andrew Ng, Christopher Potts, *Recursive Deep Models for Semantic Compositionality Over a Sentiment Treebank*, EMNLP, 2013. [Original paper](https://nlp.stanford.edu/~socherr/EMNLP2013_RNTN.pdf), [website](https://nlp.stanford.edu/sentiment/).\n",
    "- <a name=\"stab\">**[Stab et al., 2014]**</a>: Christian Stab, Iryna Gurevych, *Identifying Argumentative Discourse Structures in Persuasive Essay*, EMNLP, 2014. [Original paper](https://www.aclweb.org/anthology/D14-1006.pdf).\n",
    "- <a name=\"diplomacy\">**Diplomacy**</a>: [Official Website](https://boardgamegeek.com/boardgame/483/diplomacy), [Wikipedia](https://en.wikipedia.org/wiki/Diplomacy_(game)).\n",
    "- <a name=\"salem\">**Town of Salem**</a>: [Official website](https://www.blankmediagames.com/), [Wikipedia](https://en.wikipedia.org/wiki/Town_of_Salem), [Fandom](https://town-of-salem.fandom.com/wiki/Town_of_Salem_Wiki).\n",
    "- <a name=\"hitler\">**Secret Hitler**</a>: [Official website](https://www.secrethitler.com/), [Wikipedia](https://en.wikipedia.org/wiki/Secret_Hitler).\n",
    "- <a name=\"amongus\">**Among Us**</a>: [Official website](http://www.innersloth.com/gameAmongUs.php), [Wikipedia](https://en.wikipedia.org/wiki/Among_Us).\n",
    "- <a name=\"mafia\">**Werewolf/Mafia**</a>: [Wikipedia](https://en.wikipedia.org/wiki/Mafia_(party_game)), [Telegram game official website](https://www.tgwerewolf.com/), [Mafiascum](https://www.mafiascum.net/).\n",
    "- <a name=\"convokit\">**ConvoKit**</a>: Cornell Conversational Analysis Toolkit. [Website](https://convokit.cornell.edu/).\n",
    "- <a name=\"nlpstanford\">**Stanford NLP Group**</a>: [Website](https://nlp.stanford.edu/)."
   ]
  },
  {
   "cell_type": "markdown",
   "metadata": {},
   "source": [
    "---"
   ]
  },
  {
   "cell_type": "code",
   "execution_count": null,
   "metadata": {},
   "outputs": [],
   "source": [
    "from pycorenlp import StanfordCoreNLP\n",
    "messages_players_expired['sentiment'] = 0\n",
    "sentiment = []"
   ]
  },
  {
   "cell_type": "code",
   "execution_count": null,
   "metadata": {},
   "outputs": [],
   "source": [
    "sub_sentiment = []\n",
    "nlp = StanfordCoreNLP('http://localhost:9000')\n",
    "for index, row_messages in messages_players_expired[0:600].iterrows():\n",
    "    res = nlp.annotate(row_messages['content'],\n",
    "                          properties={\n",
    "                            'annotators': 'sentiment',\n",
    "                                'outputFormat': 'json',\n",
    "                              'timeout': 1000000,\n",
    "                          })\n",
    "    #print([s['sentimentValue'] for s in res['sentences']])\n",
    "    sub_sentiment.append((np.sum([int(s['sentimentValue']) > 2 for s in res['sentences']]))/len(res['sentences']))\n",
    "\n",
    "print(sub_sentiment)"
   ]
  },
  {
   "cell_type": "code",
   "execution_count": null,
   "metadata": {},
   "outputs": [],
   "source": [
    "sentiment += sub_sentiment\n",
    "sentiment"
   ]
  },
  {
   "cell_type": "code",
   "execution_count": null,
   "metadata": {},
   "outputs": [],
   "source": [
    "np.save()\n",
    "len(res['sentences'])"
   ]
  },
  {
   "cell_type": "code",
   "execution_count": null,
   "metadata": {},
   "outputs": [],
   "source": [
    "messages_players"
   ]
  },
  {
   "cell_type": "code",
   "execution_count": null,
   "metadata": {},
   "outputs": [],
   "source": [
    "messages_players_expired"
   ]
  },
  {
   "cell_type": "code",
   "execution_count": null,
   "metadata": {},
   "outputs": [],
   "source": [
    "    \n",
    "    \n",
    "for s in res[\"sentences\"]:\n",
    "    print(\"%d: '%s': %s %s\" % (\n",
    "        s[\"index\"],\n",
    "        \" \".join([t[\"word\"] for t in s[\"tokens\"]]),\n",
    "        s[\"sentimentValue\"], s[\"sentiment\"]))\n",
    "    \n",
    "print(type(res))"
   ]
  }
 ],
 "metadata": {
  "kernelspec": {
   "name": "Python 3.8.3 64-bit ('base': conda)",
   "display_name": "Python 3.8.3 64-bit ('base': conda)",
   "metadata": {
    "interpreter": {
     "hash": "65eb1318cd624b18b1f2d02078585a6b66324875b266d9d9846b5c5a7e9b5a00"
    }
   }
  },
  "language_info": {
   "codemirror_mode": {
    "name": "ipython",
    "version": 3
   },
   "file_extension": ".py",
   "mimetype": "text/x-python",
   "name": "python",
   "nbconvert_exporter": "python",
   "pygments_lexer": "ipython3",
   "version": "3.8.3-final"
  }
 },
 "nbformat": 4,
 "nbformat_minor": 4
}