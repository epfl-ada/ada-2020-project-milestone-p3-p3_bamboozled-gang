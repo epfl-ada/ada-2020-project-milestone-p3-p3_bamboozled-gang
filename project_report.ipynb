{
 "cells": [
  {
   "cell_type": "markdown",
   "metadata": {},
   "source": [
    "# \"A Wolf in Sheep's Clothing\"\n",
    "## Linguistic Cues in Social Deduction Games\n",
    "\n",
    "<img src=\"illustration.png\" width=\"42%\">\n",
    "\n",
    "_\"A Wolf in Sheep's Clothing\", 1920, modified ([source](https://catalog.archives.gov/id/6011601))_"
   ]
  },
  {
   "cell_type": "markdown",
   "metadata": {},
   "source": [
    "|Abstract|\n",
    "|---|\n",
    "| We studied [[Niculae et al., 2015]](#niculae) and it enabled us to highlight certain clues of language linked to the imminence of betrayal. We would like to apply similar techniques to detect betrayal in social deduction games, like [Town of Salem](#salem), [Secret Hitler](#hitler), [Among Us](#amongus) or [Werewolf/Mafia](#mafia). Is it possible, by studying the public exchanges of the players during a textual game, to spot the \"traitor\"? The major difference with the basic article is that we are not looking for a betrayal to come - the breaking of a friendship - but a betrayal that has already taken place - for instance, the \"wolf\" seeks to win by posing as a \"villager\". As such, we are going to analyse textual exchanges of different games, and try to apply the same methods to multiple sessions. |"
   ]
  },
  {
   "cell_type": "markdown",
   "metadata": {},
   "source": [
    "---"
   ]
  },
  {
   "cell_type": "markdown",
   "metadata": {},
   "source": [
    "## Introduction\n",
    "\n",
    "We aim to reproduce some of the techniques used in Paper X in order to find out if there is another method to identify the roles of \"traitor\" and betrayal within social deduction games. In particular, we use politeness and talkativeness analysis to see if it is possible to identify a \"global\" traitor to a game, rather than a specific betrayal."
   ]
  },
  {
   "cell_type": "markdown",
   "metadata": {},
   "source": [
    "### Linguistic Harbingers of Betrayal\n",
    "\n",
    "The goal of this code is to give an extension to the paper [[Niculae et al., 2015]](#niculae). The paper is a study of the interpersonal relations, and more precisely of the betrayal that can occur between two people. Its goal is to see if we can predict a forthcoming betrayal with linguistic signs in a dyadic interaction. In order to do that, the authors collected the conversations of people playing a strategic game called [Diplomacy](#diplomacy) and they studied their interactions. Their study concludes that slight changes in certain attributes of the conversation may indicate impending betrayal. These indicators are as follows: positive sentiment, politeness, and focus on future planning-signal."
   ]
  },
  {
   "cell_type": "markdown",
   "metadata": {},
   "source": [
    "### How to spot a traitor\n",
    "\n",
    "Following these indicators, we will try to take the reflection further and apply it to new issues. In particular, we are interested in knowing whether it is possible to apply the same techniques, under the same postulates, to other games, and whether it is possible to identify betrayal on a \"long term\" basis, i.e. deception (vs. in the article on a specific point in time). This will ideally allow us to establish the clues to identify \"traitors\" in social deduction games.\n",
    "\n",
    "Due to the short time at our disposal, we focus on the study of the corpus at our disposal, its formatting, the analysis of politeness and talkativeness, and the creation of an API to be adapted according to other corpora."
   ]
  },
  {
   "cell_type": "markdown",
   "metadata": {},
   "source": [
    "### Some preliminary imports"
   ]
  },
  {
   "cell_type": "code",
   "execution_count": 17,
   "metadata": {},
   "outputs": [],
   "source": [
    "import pandas as pd\n",
    "import numpy as np\n",
    "import matplotlib.pyplot as plt\n",
    "import os\n",
    "from tqdm.notebook import tqdm"
   ]
  },
  {
   "cell_type": "code",
   "execution_count": 18,
   "metadata": {},
   "outputs": [],
   "source": [
    "# Path to the files containing mafiascum data\n",
    "PATH_DATA = 'data'\n",
    "PATH_MAFIASCUM = os.path.join(PATH_DATA, 'mafiascum','src' )\n",
    "PATH_OUTPUT = os.path.join(PATH_DATA, 'output')"
   ]
  },
  {
   "cell_type": "markdown",
   "metadata": {},
   "source": [
    "---"
   ]
  },
  {
   "cell_type": "markdown",
   "metadata": {},
   "source": [
    "## The Mafiascum Dataset\n",
    "\n",
    "We would like to apply similar techniques to detect betrayal in a social deduction game called [Mafia](#mafia). We found a [dataset](#deruiter) containing almost 1'100 different games. They were taken on a website called [Mafiascum](#mafia) which allows player to discuss and play this game with the help of a moderator.\n",
    "\n",
    "The main difference between Diplomacy and and Mafia is that in the second game, the traitors are present from the beginning of the game. Their goal is to avoid to be detected and eliminate all the other players. In Diplomacy, every player can become a traitor at some point of the game. We won't look for a betrayal to come - the breaking of a friendship - but a betrayal that has already taken place. As such, we are going to analyse textual exchanges in [the game](https://www.youtube.com/watch?v=QK736KcqdK4)."
   ]
  },
  {
   "cell_type": "markdown",
   "metadata": {},
   "source": [
    "### Data concierge"
   ]
  },
  {
   "cell_type": "markdown",
   "metadata": {},
   "source": [
    "The first step is to import the exchanged messages from the database. They are divided in three different `json` files. We will import and concatenate them together. We will also import the `json` files containing information about the players of each game (they are also divided in three different files)."
   ]
  },
  {
   "cell_type": "code",
   "execution_count": 19,
   "metadata": {},
   "outputs": [],
   "source": [
    "# Name of the files containing the data\n",
    "post_files = ['mini-normal1.json', 'mini-normal2.json', 'large-normal.json']\n",
    "info_files = ['mini-normal-slots.json', 'large-normal-slots.json', 'old-normal-slots.json']\n",
    "\n",
    "# Read the files\n",
    "posts_mafia = pd.concat(pd.read_json(os.path.join(PATH_MAFIASCUM, fn), orient='records') for fn in post_files)\n",
    "info_mafia = pd.concat(pd.read_json(os.path.join(PATH_MAFIASCUM, fn), orient='records') for fn in info_files)\n",
    "\n",
    "# Define the columns \"game_id\" and \"author\" as index for the first dataset\n",
    "posts_mafia.set_index(['game_id', 'author'], inplace=True)"
   ]
  },
  {
   "cell_type": "markdown",
   "metadata": {},
   "source": [
    "As we will see, the dataset `posts_mafia` contains 5 columns:\n",
    "- **game_id:** is the number of the game in which the message was sent\n",
    "- **author:** is the name of the author of the message\n",
    "- **content:** the text of the post\n",
    "- **inserted_at:** the time and date at which the message was posted\n",
    "- **post_no:** the numbering of the posts for this game\n",
    "\n",
    "We have defined the two first columns as index."
   ]
  },
  {
   "cell_type": "code",
   "execution_count": 20,
   "metadata": {},
   "outputs": [
    {
     "data": {
      "text/html": [
       "<div>\n",
       "<style scoped>\n",
       "    .dataframe tbody tr th:only-of-type {\n",
       "        vertical-align: middle;\n",
       "    }\n",
       "\n",
       "    .dataframe tbody tr th {\n",
       "        vertical-align: top;\n",
       "    }\n",
       "\n",
       "    .dataframe thead th {\n",
       "        text-align: right;\n",
       "    }\n",
       "</style>\n",
       "<table border=\"1\" class=\"dataframe\">\n",
       "  <thead>\n",
       "    <tr style=\"text-align: right;\">\n",
       "      <th></th>\n",
       "      <th></th>\n",
       "      <th>content</th>\n",
       "      <th>inserted_at</th>\n",
       "      <th>post_no</th>\n",
       "    </tr>\n",
       "    <tr>\n",
       "      <th>game_id</th>\n",
       "      <th>author</th>\n",
       "      <th></th>\n",
       "      <th></th>\n",
       "      <th></th>\n",
       "    </tr>\n",
       "  </thead>\n",
       "  <tbody>\n",
       "    <tr>\n",
       "      <th rowspan=\"5\" valign=\"top\">29549</th>\n",
       "      <th>Tierce</th>\n",
       "      <td>Click here for games 44 through 1400.\\n\\nMini ...</td>\n",
       "      <td>2013-06-25 05:19:00</td>\n",
       "      <td>0</td>\n",
       "    </tr>\n",
       "    <tr>\n",
       "      <th>Tierce</th>\n",
       "      <td>Mini Normals: 1501 - 1505\\n\\n\\nGame 1501: We'r...</td>\n",
       "      <td>2013-12-06 13:39:00</td>\n",
       "      <td>1</td>\n",
       "    </tr>\n",
       "    <tr>\n",
       "      <th>N</th>\n",
       "      <td>Mini Normals 1509 - 1544\\n\\n\\nMini 1509 - Marr...</td>\n",
       "      <td>2015-02-21 08:18:00</td>\n",
       "      <td>2</td>\n",
       "    </tr>\n",
       "    <tr>\n",
       "      <th>N</th>\n",
       "      <td>Mini Normals 1553 - 1600\\n\\n\\nMini: 1553 Gone ...</td>\n",
       "      <td>2015-02-21 13:09:00</td>\n",
       "      <td>3</td>\n",
       "    </tr>\n",
       "    <tr>\n",
       "      <th>N</th>\n",
       "      <td>Mini Normals 1601 - 1648\\n\\n\\nMini 1601: B_E's...</td>\n",
       "      <td>2015-04-21 03:24:00</td>\n",
       "      <td>4</td>\n",
       "    </tr>\n",
       "  </tbody>\n",
       "</table>\n",
       "</div>"
      ],
      "text/plain": [
       "                                                          content  \\\n",
       "game_id author                                                      \n",
       "29549   Tierce  Click here for games 44 through 1400.\\n\\nMini ...   \n",
       "        Tierce  Mini Normals: 1501 - 1505\\n\\n\\nGame 1501: We'r...   \n",
       "        N       Mini Normals 1509 - 1544\\n\\n\\nMini 1509 - Marr...   \n",
       "        N       Mini Normals 1553 - 1600\\n\\n\\nMini: 1553 Gone ...   \n",
       "        N       Mini Normals 1601 - 1648\\n\\n\\nMini 1601: B_E's...   \n",
       "\n",
       "                       inserted_at  post_no  \n",
       "game_id author                               \n",
       "29549   Tierce 2013-06-25 05:19:00        0  \n",
       "        Tierce 2013-12-06 13:39:00        1  \n",
       "        N      2015-02-21 08:18:00        2  \n",
       "        N      2015-02-21 13:09:00        3  \n",
       "        N      2015-04-21 03:24:00        4  "
      ]
     },
     "execution_count": 20,
     "metadata": {},
     "output_type": "execute_result"
    }
   ],
   "source": [
    "posts_mafia.head()"
   ]
  },
  {
   "cell_type": "markdown",
   "metadata": {},
   "source": [
    "The dataset `info_mafia` contains also 5 columns:\n",
    "- **game_id:** is the number of the game in which the player is playing\n",
    "- **author:** is the concatenation of what we can find in the three next columns\n",
    "- **users:** the nickname of the player\n",
    "- **role:** the role of the player in the game\n",
    "- **event:** What happened to the player during the game (did he [die](https://www.youtube.com/watch?v=AZfZnbTgY4E&t)? How? Did he [survive](https://www.youtube.com/watch?v=btPJPFnesV4)?)\n",
    "\n",
    "Let's see it:"
   ]
  },
  {
   "cell_type": "code",
   "execution_count": 21,
   "metadata": {},
   "outputs": [
    {
     "data": {
      "text/html": [
       "<div>\n",
       "<style scoped>\n",
       "    .dataframe tbody tr th:only-of-type {\n",
       "        vertical-align: middle;\n",
       "    }\n",
       "\n",
       "    .dataframe tbody tr th {\n",
       "        vertical-align: top;\n",
       "    }\n",
       "\n",
       "    .dataframe thead th {\n",
       "        text-align: right;\n",
       "    }\n",
       "</style>\n",
       "<table border=\"1\" class=\"dataframe\">\n",
       "  <thead>\n",
       "    <tr style=\"text-align: right;\">\n",
       "      <th></th>\n",
       "      <th>game_id</th>\n",
       "      <th>text</th>\n",
       "      <th>users</th>\n",
       "      <th>role</th>\n",
       "      <th>event</th>\n",
       "    </tr>\n",
       "  </thead>\n",
       "  <tbody>\n",
       "    <tr>\n",
       "      <th>0</th>\n",
       "      <td>24200</td>\n",
       "      <td>Kthxbye, Town Odd-Night Vigilante, survives</td>\n",
       "      <td>[Kthxbye]</td>\n",
       "      <td>Town Odd-Night Vigilante</td>\n",
       "      <td>survives</td>\n",
       "    </tr>\n",
       "    <tr>\n",
       "      <th>1</th>\n",
       "      <td>24200</td>\n",
       "      <td>Slandaar, Mafia Traitor, died Night 3</td>\n",
       "      <td>[Slandaar]</td>\n",
       "      <td>Mafia Traitor</td>\n",
       "      <td>died Night 3</td>\n",
       "    </tr>\n",
       "    <tr>\n",
       "      <th>2</th>\n",
       "      <td>24200</td>\n",
       "      <td>Gorgon, Vanilla Townie, survives</td>\n",
       "      <td>[Gorgon]</td>\n",
       "      <td>Vanilla Townie</td>\n",
       "      <td>survives</td>\n",
       "    </tr>\n",
       "    <tr>\n",
       "      <th>3</th>\n",
       "      <td>24200</td>\n",
       "      <td>Malakittens replaces theaceofspades, Town Maso...</td>\n",
       "      <td>[Malakittens, theaceofspades]</td>\n",
       "      <td>Town Mason</td>\n",
       "      <td>died Night 2</td>\n",
       "    </tr>\n",
       "    <tr>\n",
       "      <th>4</th>\n",
       "      <td>24200</td>\n",
       "      <td>TheConman17, Mafia One-Shot Bulletproof, lynch...</td>\n",
       "      <td>[TheConman17]</td>\n",
       "      <td>Mafia One-Shot Bulletproof</td>\n",
       "      <td>lynched Day 1</td>\n",
       "    </tr>\n",
       "  </tbody>\n",
       "</table>\n",
       "</div>"
      ],
      "text/plain": [
       "   game_id                                               text  \\\n",
       "0    24200        Kthxbye, Town Odd-Night Vigilante, survives   \n",
       "1    24200              Slandaar, Mafia Traitor, died Night 3   \n",
       "2    24200                   Gorgon, Vanilla Townie, survives   \n",
       "3    24200  Malakittens replaces theaceofspades, Town Maso...   \n",
       "4    24200  TheConman17, Mafia One-Shot Bulletproof, lynch...   \n",
       "\n",
       "                           users                        role          event  \n",
       "0                      [Kthxbye]    Town Odd-Night Vigilante       survives  \n",
       "1                     [Slandaar]               Mafia Traitor   died Night 3  \n",
       "2                       [Gorgon]              Vanilla Townie       survives  \n",
       "3  [Malakittens, theaceofspades]                  Town Mason   died Night 2  \n",
       "4                  [TheConman17]  Mafia One-Shot Bulletproof  lynched Day 1  "
      ]
     },
     "execution_count": 21,
     "metadata": {},
     "output_type": "execute_result"
    }
   ],
   "source": [
    "info_mafia.head()"
   ]
  },
  {
   "cell_type": "markdown",
   "metadata": {},
   "source": [
    "#### `info_mafia`\n",
    "\n",
    "We will start with the second dataset `info_mafia` and find for each player if he/she's playing a betrayer role or not. A betrayer is defined as a player beeing in [the bad (and ugly?)](https://www.youtube.com/watch?v=AFa1-kciCb4) side. More precisely the roles containing one the following terms:\n",
    "- mafia\n",
    "- goon\n",
    "- wolf\n",
    "- serial killer\n",
    "- SK\n",
    "\n",
    "We will create a new column called *betrayer* in the dataframe telling with *True* or *False* if the role of the player contains one of these words.\n",
    "\n",
    "In addition we will only keep the games in which we found a betrayer. In fact, some games have complicated roles and contain none of the listed betrayer. We only want to keep \"standard\" games."
   ]
  },
  {
   "cell_type": "code",
   "execution_count": 22,
   "metadata": {},
   "outputs": [],
   "source": [
    "# Look in the column role if it contains the given words \n",
    "info_mafia['betrayer'] = info_mafia['role'].str.contains('mafia|goon|wolf|serial.?killer'\n",
    "                                                         , case=False) | info_mafia['role'].str.contains('SK')\n",
    "# select only the games with known roles\n",
    "mask_role_notnan = [not np.any(pd.isnull(info_mafia[info_mafia.game_id == g_id].role)) for g_id in info_mafia.game_id]\n",
    "info_mafia = info_mafia[mask_role_notnan]\n",
    "\n",
    "# select only the games with at least one known betrayer\n",
    "mask_all_townie = [np.all(~info_mafia[info_mafia.game_id == g_id].betrayer) for g_id in info_mafia.game_id]\n",
    "info_mafia = info_mafia[~np.array(mask_all_townie)]"
   ]
  },
  {
   "cell_type": "code",
   "execution_count": 23,
   "metadata": {},
   "outputs": [
    {
     "data": {
      "text/html": [
       "<div>\n",
       "<style scoped>\n",
       "    .dataframe tbody tr th:only-of-type {\n",
       "        vertical-align: middle;\n",
       "    }\n",
       "\n",
       "    .dataframe tbody tr th {\n",
       "        vertical-align: top;\n",
       "    }\n",
       "\n",
       "    .dataframe thead th {\n",
       "        text-align: right;\n",
       "    }\n",
       "</style>\n",
       "<table border=\"1\" class=\"dataframe\">\n",
       "  <thead>\n",
       "    <tr style=\"text-align: right;\">\n",
       "      <th></th>\n",
       "      <th>game_id</th>\n",
       "      <th>text</th>\n",
       "      <th>users</th>\n",
       "      <th>role</th>\n",
       "      <th>event</th>\n",
       "      <th>betrayer</th>\n",
       "    </tr>\n",
       "  </thead>\n",
       "  <tbody>\n",
       "    <tr>\n",
       "      <th>0</th>\n",
       "      <td>24200</td>\n",
       "      <td>Kthxbye, Town Odd-Night Vigilante, survives</td>\n",
       "      <td>[Kthxbye]</td>\n",
       "      <td>Town Odd-Night Vigilante</td>\n",
       "      <td>survives</td>\n",
       "      <td>False</td>\n",
       "    </tr>\n",
       "    <tr>\n",
       "      <th>1</th>\n",
       "      <td>24200</td>\n",
       "      <td>Slandaar, Mafia Traitor, died Night 3</td>\n",
       "      <td>[Slandaar]</td>\n",
       "      <td>Mafia Traitor</td>\n",
       "      <td>died Night 3</td>\n",
       "      <td>True</td>\n",
       "    </tr>\n",
       "    <tr>\n",
       "      <th>2</th>\n",
       "      <td>24200</td>\n",
       "      <td>Gorgon, Vanilla Townie, survives</td>\n",
       "      <td>[Gorgon]</td>\n",
       "      <td>Vanilla Townie</td>\n",
       "      <td>survives</td>\n",
       "      <td>False</td>\n",
       "    </tr>\n",
       "    <tr>\n",
       "      <th>3</th>\n",
       "      <td>24200</td>\n",
       "      <td>Malakittens replaces theaceofspades, Town Maso...</td>\n",
       "      <td>[Malakittens, theaceofspades]</td>\n",
       "      <td>Town Mason</td>\n",
       "      <td>died Night 2</td>\n",
       "      <td>False</td>\n",
       "    </tr>\n",
       "    <tr>\n",
       "      <th>4</th>\n",
       "      <td>24200</td>\n",
       "      <td>TheConman17, Mafia One-Shot Bulletproof, lynch...</td>\n",
       "      <td>[TheConman17]</td>\n",
       "      <td>Mafia One-Shot Bulletproof</td>\n",
       "      <td>lynched Day 1</td>\n",
       "      <td>True</td>\n",
       "    </tr>\n",
       "  </tbody>\n",
       "</table>\n",
       "</div>"
      ],
      "text/plain": [
       "   game_id                                               text  \\\n",
       "0    24200        Kthxbye, Town Odd-Night Vigilante, survives   \n",
       "1    24200              Slandaar, Mafia Traitor, died Night 3   \n",
       "2    24200                   Gorgon, Vanilla Townie, survives   \n",
       "3    24200  Malakittens replaces theaceofspades, Town Maso...   \n",
       "4    24200  TheConman17, Mafia One-Shot Bulletproof, lynch...   \n",
       "\n",
       "                           users                        role          event  \\\n",
       "0                      [Kthxbye]    Town Odd-Night Vigilante       survives   \n",
       "1                     [Slandaar]               Mafia Traitor   died Night 3   \n",
       "2                       [Gorgon]              Vanilla Townie       survives   \n",
       "3  [Malakittens, theaceofspades]                  Town Mason   died Night 2   \n",
       "4                  [TheConman17]  Mafia One-Shot Bulletproof  lynched Day 1   \n",
       "\n",
       "   betrayer  \n",
       "0     False  \n",
       "1      True  \n",
       "2     False  \n",
       "3     False  \n",
       "4      True  "
      ]
     },
     "execution_count": 23,
     "metadata": {},
     "output_type": "execute_result"
    }
   ],
   "source": [
    "info_mafia.head()"
   ]
  },
  {
   "cell_type": "markdown",
   "metadata": {},
   "source": [
    "We also want to know if a player survived until the end of the game. We will therfore add a column called *survived* filled with *True* if the player survived or *False* if he/she died before the end of the game."
   ]
  },
  {
   "cell_type": "code",
   "execution_count": 24,
   "metadata": {},
   "outputs": [],
   "source": [
    "info_mafia['survived'] = ['survive' in str(player_event) for player_event in info_mafia.event]"
   ]
  },
  {
   "cell_type": "code",
   "execution_count": 25,
   "metadata": {},
   "outputs": [
    {
     "data": {
      "text/html": [
       "<div>\n",
       "<style scoped>\n",
       "    .dataframe tbody tr th:only-of-type {\n",
       "        vertical-align: middle;\n",
       "    }\n",
       "\n",
       "    .dataframe tbody tr th {\n",
       "        vertical-align: top;\n",
       "    }\n",
       "\n",
       "    .dataframe thead th {\n",
       "        text-align: right;\n",
       "    }\n",
       "</style>\n",
       "<table border=\"1\" class=\"dataframe\">\n",
       "  <thead>\n",
       "    <tr style=\"text-align: right;\">\n",
       "      <th></th>\n",
       "      <th>game_id</th>\n",
       "      <th>text</th>\n",
       "      <th>users</th>\n",
       "      <th>role</th>\n",
       "      <th>event</th>\n",
       "      <th>betrayer</th>\n",
       "      <th>survived</th>\n",
       "    </tr>\n",
       "  </thead>\n",
       "  <tbody>\n",
       "    <tr>\n",
       "      <th>0</th>\n",
       "      <td>24200</td>\n",
       "      <td>Kthxbye, Town Odd-Night Vigilante, survives</td>\n",
       "      <td>[Kthxbye]</td>\n",
       "      <td>Town Odd-Night Vigilante</td>\n",
       "      <td>survives</td>\n",
       "      <td>False</td>\n",
       "      <td>True</td>\n",
       "    </tr>\n",
       "    <tr>\n",
       "      <th>1</th>\n",
       "      <td>24200</td>\n",
       "      <td>Slandaar, Mafia Traitor, died Night 3</td>\n",
       "      <td>[Slandaar]</td>\n",
       "      <td>Mafia Traitor</td>\n",
       "      <td>died Night 3</td>\n",
       "      <td>True</td>\n",
       "      <td>False</td>\n",
       "    </tr>\n",
       "    <tr>\n",
       "      <th>2</th>\n",
       "      <td>24200</td>\n",
       "      <td>Gorgon, Vanilla Townie, survives</td>\n",
       "      <td>[Gorgon]</td>\n",
       "      <td>Vanilla Townie</td>\n",
       "      <td>survives</td>\n",
       "      <td>False</td>\n",
       "      <td>True</td>\n",
       "    </tr>\n",
       "    <tr>\n",
       "      <th>3</th>\n",
       "      <td>24200</td>\n",
       "      <td>Malakittens replaces theaceofspades, Town Maso...</td>\n",
       "      <td>[Malakittens, theaceofspades]</td>\n",
       "      <td>Town Mason</td>\n",
       "      <td>died Night 2</td>\n",
       "      <td>False</td>\n",
       "      <td>False</td>\n",
       "    </tr>\n",
       "    <tr>\n",
       "      <th>4</th>\n",
       "      <td>24200</td>\n",
       "      <td>TheConman17, Mafia One-Shot Bulletproof, lynch...</td>\n",
       "      <td>[TheConman17]</td>\n",
       "      <td>Mafia One-Shot Bulletproof</td>\n",
       "      <td>lynched Day 1</td>\n",
       "      <td>True</td>\n",
       "      <td>False</td>\n",
       "    </tr>\n",
       "  </tbody>\n",
       "</table>\n",
       "</div>"
      ],
      "text/plain": [
       "   game_id                                               text  \\\n",
       "0    24200        Kthxbye, Town Odd-Night Vigilante, survives   \n",
       "1    24200              Slandaar, Mafia Traitor, died Night 3   \n",
       "2    24200                   Gorgon, Vanilla Townie, survives   \n",
       "3    24200  Malakittens replaces theaceofspades, Town Maso...   \n",
       "4    24200  TheConman17, Mafia One-Shot Bulletproof, lynch...   \n",
       "\n",
       "                           users                        role          event  \\\n",
       "0                      [Kthxbye]    Town Odd-Night Vigilante       survives   \n",
       "1                     [Slandaar]               Mafia Traitor   died Night 3   \n",
       "2                       [Gorgon]              Vanilla Townie       survives   \n",
       "3  [Malakittens, theaceofspades]                  Town Mason   died Night 2   \n",
       "4                  [TheConman17]  Mafia One-Shot Bulletproof  lynched Day 1   \n",
       "\n",
       "   betrayer  survived  \n",
       "0     False      True  \n",
       "1      True     False  \n",
       "2     False      True  \n",
       "3     False     False  \n",
       "4      True     False  "
      ]
     },
     "execution_count": 25,
     "metadata": {},
     "output_type": "execute_result"
    }
   ],
   "source": [
    "info_mafia.head()"
   ]
  },
  {
   "cell_type": "markdown",
   "metadata": {},
   "source": [
    "Thanks to these information, it's now possible to find out, for each game, if the Town won or if the Mafia accomplished its mission. This can be done by comparing *survived* column with the *betrayer* one. If the player that survived are associated with *True* in *betrayer*, then the Mafia won, otherwise Town succeeded in taking the Mafia down. Note that if for a game none of the teams won, the column will remain filled with *NaN*. We will then be able to remove later these undefined cases if necessary."
   ]
  },
  {
   "cell_type": "code",
   "execution_count": 26,
   "metadata": {},
   "outputs": [],
   "source": [
    "# Create a new dataframe that will make correspond the game_id with the outcome\n",
    "df_outcome = pd.DataFrame(np.unique(info_mafia.game_id), columns=['game_id']).set_index('game_id')\n",
    "df_outcome['town_won'] = np.NaN\n",
    "\n",
    "# We loop for each game\n",
    "for game_id in df_outcome.index:  \n",
    "    # for every players search if the event is \"survive\"\n",
    "    outcome_town = [(player.survived == True) & (player.betrayer == False) for index, player in info_mafia[info_mafia.game_id == game_id].iterrows()]\n",
    "    outcome_mafia = [(player.survived == True) & (player.betrayer == True) for index, player in info_mafia[info_mafia.game_id == game_id].iterrows()]\n",
    "\n",
    "    if np.any(outcome_town): #if someone from town survived\n",
    "        df_outcome.loc[game_id, 'town_won'] =  True\n",
    "    if np.any(outcome_mafia): #if someone from mafia survived\n",
    "        df_outcome.loc[game_id, 'town_won'] =  False\n",
    "    \n",
    "# merge with the dataframe\n",
    "info_mafia = info_mafia.merge(df_outcome, on='game_id')"
   ]
  },
  {
   "cell_type": "code",
   "execution_count": 27,
   "metadata": {},
   "outputs": [
    {
     "data": {
      "text/html": [
       "<div>\n",
       "<style scoped>\n",
       "    .dataframe tbody tr th:only-of-type {\n",
       "        vertical-align: middle;\n",
       "    }\n",
       "\n",
       "    .dataframe tbody tr th {\n",
       "        vertical-align: top;\n",
       "    }\n",
       "\n",
       "    .dataframe thead th {\n",
       "        text-align: right;\n",
       "    }\n",
       "</style>\n",
       "<table border=\"1\" class=\"dataframe\">\n",
       "  <thead>\n",
       "    <tr style=\"text-align: right;\">\n",
       "      <th></th>\n",
       "      <th>game_id</th>\n",
       "      <th>text</th>\n",
       "      <th>users</th>\n",
       "      <th>role</th>\n",
       "      <th>event</th>\n",
       "      <th>betrayer</th>\n",
       "      <th>survived</th>\n",
       "      <th>town_won</th>\n",
       "    </tr>\n",
       "  </thead>\n",
       "  <tbody>\n",
       "    <tr>\n",
       "      <th>0</th>\n",
       "      <td>24200</td>\n",
       "      <td>Kthxbye, Town Odd-Night Vigilante, survives</td>\n",
       "      <td>[Kthxbye]</td>\n",
       "      <td>Town Odd-Night Vigilante</td>\n",
       "      <td>survives</td>\n",
       "      <td>False</td>\n",
       "      <td>True</td>\n",
       "      <td>True</td>\n",
       "    </tr>\n",
       "    <tr>\n",
       "      <th>1</th>\n",
       "      <td>24200</td>\n",
       "      <td>Slandaar, Mafia Traitor, died Night 3</td>\n",
       "      <td>[Slandaar]</td>\n",
       "      <td>Mafia Traitor</td>\n",
       "      <td>died Night 3</td>\n",
       "      <td>True</td>\n",
       "      <td>False</td>\n",
       "      <td>True</td>\n",
       "    </tr>\n",
       "    <tr>\n",
       "      <th>2</th>\n",
       "      <td>24200</td>\n",
       "      <td>Gorgon, Vanilla Townie, survives</td>\n",
       "      <td>[Gorgon]</td>\n",
       "      <td>Vanilla Townie</td>\n",
       "      <td>survives</td>\n",
       "      <td>False</td>\n",
       "      <td>True</td>\n",
       "      <td>True</td>\n",
       "    </tr>\n",
       "    <tr>\n",
       "      <th>3</th>\n",
       "      <td>24200</td>\n",
       "      <td>Malakittens replaces theaceofspades, Town Maso...</td>\n",
       "      <td>[Malakittens, theaceofspades]</td>\n",
       "      <td>Town Mason</td>\n",
       "      <td>died Night 2</td>\n",
       "      <td>False</td>\n",
       "      <td>False</td>\n",
       "      <td>True</td>\n",
       "    </tr>\n",
       "    <tr>\n",
       "      <th>4</th>\n",
       "      <td>24200</td>\n",
       "      <td>TheConman17, Mafia One-Shot Bulletproof, lynch...</td>\n",
       "      <td>[TheConman17]</td>\n",
       "      <td>Mafia One-Shot Bulletproof</td>\n",
       "      <td>lynched Day 1</td>\n",
       "      <td>True</td>\n",
       "      <td>False</td>\n",
       "      <td>True</td>\n",
       "    </tr>\n",
       "  </tbody>\n",
       "</table>\n",
       "</div>"
      ],
      "text/plain": [
       "   game_id                                               text  \\\n",
       "0    24200        Kthxbye, Town Odd-Night Vigilante, survives   \n",
       "1    24200              Slandaar, Mafia Traitor, died Night 3   \n",
       "2    24200                   Gorgon, Vanilla Townie, survives   \n",
       "3    24200  Malakittens replaces theaceofspades, Town Maso...   \n",
       "4    24200  TheConman17, Mafia One-Shot Bulletproof, lynch...   \n",
       "\n",
       "                           users                        role          event  \\\n",
       "0                      [Kthxbye]    Town Odd-Night Vigilante       survives   \n",
       "1                     [Slandaar]               Mafia Traitor   died Night 3   \n",
       "2                       [Gorgon]              Vanilla Townie       survives   \n",
       "3  [Malakittens, theaceofspades]                  Town Mason   died Night 2   \n",
       "4                  [TheConman17]  Mafia One-Shot Bulletproof  lynched Day 1   \n",
       "\n",
       "   betrayer  survived town_won  \n",
       "0     False      True     True  \n",
       "1      True     False     True  \n",
       "2     False      True     True  \n",
       "3     False     False     True  \n",
       "4      True     False     True  "
      ]
     },
     "execution_count": 27,
     "metadata": {},
     "output_type": "execute_result"
    }
   ],
   "source": [
    "info_mafia.head()"
   ]
  },
  {
   "cell_type": "markdown",
   "metadata": {},
   "source": [
    "Before finishing with this dataframe, we have to deal with another particularity. Sometimes a player is replaced by another one during a game. In this case, the players are all written in the *users* column. We have then to separate this column and create a line per user. In addition we will only keep the columns we will need later (*game_id*, *users*, *survived*, *betrayer* and town_won) and put them in a new dataframe called `betrayer_df`. \n",
    "\n",
    "We will also rename the name of the column *users* and name it *author* in order to be consistent with the other dataframe. Finaly we will define the columns *game_id* and *author* as index. Thus we will have the same index as the other dataframe and it will be easier to merge them later."
   ]
  },
  {
   "cell_type": "code",
   "execution_count": 28,
   "metadata": {},
   "outputs": [],
   "source": [
    "# Seperate the users and create the new dataframe\n",
    "betrayer_df = info_mafia.explode('users')[['game_id', 'users', 'survived', 'betrayer', 'town_won']]\n",
    "\n",
    "# Change name of the users column and set index to correspond with the other dataframe\n",
    "betrayer_df.rename(columns ={'users':'author'}, inplace = True)\n",
    "betrayer_df.set_index(['game_id', 'author'], inplace = True)"
   ]
  },
  {
   "cell_type": "code",
   "execution_count": 29,
   "metadata": {},
   "outputs": [
    {
     "data": {
      "text/html": [
       "<div>\n",
       "<style scoped>\n",
       "    .dataframe tbody tr th:only-of-type {\n",
       "        vertical-align: middle;\n",
       "    }\n",
       "\n",
       "    .dataframe tbody tr th {\n",
       "        vertical-align: top;\n",
       "    }\n",
       "\n",
       "    .dataframe thead th {\n",
       "        text-align: right;\n",
       "    }\n",
       "</style>\n",
       "<table border=\"1\" class=\"dataframe\">\n",
       "  <thead>\n",
       "    <tr style=\"text-align: right;\">\n",
       "      <th></th>\n",
       "      <th></th>\n",
       "      <th>survived</th>\n",
       "      <th>betrayer</th>\n",
       "      <th>town_won</th>\n",
       "    </tr>\n",
       "    <tr>\n",
       "      <th>game_id</th>\n",
       "      <th>author</th>\n",
       "      <th></th>\n",
       "      <th></th>\n",
       "      <th></th>\n",
       "    </tr>\n",
       "  </thead>\n",
       "  <tbody>\n",
       "    <tr>\n",
       "      <th rowspan=\"5\" valign=\"top\">24200</th>\n",
       "      <th>Kthxbye</th>\n",
       "      <td>True</td>\n",
       "      <td>False</td>\n",
       "      <td>True</td>\n",
       "    </tr>\n",
       "    <tr>\n",
       "      <th>Slandaar</th>\n",
       "      <td>False</td>\n",
       "      <td>True</td>\n",
       "      <td>True</td>\n",
       "    </tr>\n",
       "    <tr>\n",
       "      <th>Gorgon</th>\n",
       "      <td>True</td>\n",
       "      <td>False</td>\n",
       "      <td>True</td>\n",
       "    </tr>\n",
       "    <tr>\n",
       "      <th>Malakittens</th>\n",
       "      <td>False</td>\n",
       "      <td>False</td>\n",
       "      <td>True</td>\n",
       "    </tr>\n",
       "    <tr>\n",
       "      <th>theaceofspades</th>\n",
       "      <td>False</td>\n",
       "      <td>False</td>\n",
       "      <td>True</td>\n",
       "    </tr>\n",
       "  </tbody>\n",
       "</table>\n",
       "</div>"
      ],
      "text/plain": [
       "                        survived  betrayer town_won\n",
       "game_id author                                     \n",
       "24200   Kthxbye             True     False     True\n",
       "        Slandaar           False      True     True\n",
       "        Gorgon              True     False     True\n",
       "        Malakittens        False     False     True\n",
       "        theaceofspades     False     False     True"
      ]
     },
     "execution_count": 29,
     "metadata": {},
     "output_type": "execute_result"
    }
   ],
   "source": [
    "betrayer_df.head()"
   ]
  },
  {
   "cell_type": "markdown",
   "metadata": {},
   "source": [
    "Now we have the information we want for this dataframe."
   ]
  },
  {
   "cell_type": "markdown",
   "metadata": {},
   "source": [
    "#### `posts_mafia`\n",
    "We will now start playing with the other one.\n",
    "\n",
    "In the `posts_mafia` dataframe we can find all the messages posted during each game. But a part of the messages were sent by the moderator of the game. His goal is to guide players through the game. He will make some announcement for starting the game and ending the game. He will also collect the votes that will choose the people who will be eliminated by the players.\n",
    "\n",
    "As we only want to study the behaviour of the players we find the messages sent by the moderator. In order to do that we will look for the very first message sent in every game. This message is always sent by the moderator who introduce the new game. By doing this, we can find the moderator's nickname and thus find all his messages."
   ]
  },
  {
   "cell_type": "code",
   "execution_count": 30,
   "metadata": {},
   "outputs": [],
   "source": [
    "# We want to find each messages sent by the moderator: the first post of each game is always sent by the moderator\n",
    "first_posts = posts_mafia[posts_mafia[\"post_no\"] == 0]"
   ]
  },
  {
   "cell_type": "code",
   "execution_count": 31,
   "metadata": {},
   "outputs": [
    {
     "data": {
      "text/html": [
       "<div>\n",
       "<style scoped>\n",
       "    .dataframe tbody tr th:only-of-type {\n",
       "        vertical-align: middle;\n",
       "    }\n",
       "\n",
       "    .dataframe tbody tr th {\n",
       "        vertical-align: top;\n",
       "    }\n",
       "\n",
       "    .dataframe thead th {\n",
       "        text-align: right;\n",
       "    }\n",
       "</style>\n",
       "<table border=\"1\" class=\"dataframe\">\n",
       "  <thead>\n",
       "    <tr style=\"text-align: right;\">\n",
       "      <th></th>\n",
       "      <th></th>\n",
       "      <th>content</th>\n",
       "      <th>inserted_at</th>\n",
       "      <th>post_no</th>\n",
       "    </tr>\n",
       "    <tr>\n",
       "      <th>game_id</th>\n",
       "      <th>author</th>\n",
       "      <th></th>\n",
       "      <th></th>\n",
       "      <th></th>\n",
       "    </tr>\n",
       "  </thead>\n",
       "  <tbody>\n",
       "    <tr>\n",
       "      <th>29549</th>\n",
       "      <th>Tierce</th>\n",
       "      <td>Click here for games 44 through 1400.\\n\\nMini ...</td>\n",
       "      <td>2013-06-25 05:19:00</td>\n",
       "      <td>0</td>\n",
       "    </tr>\n",
       "    <tr>\n",
       "      <th>71796</th>\n",
       "      <th>PenguinPower</th>\n",
       "      <td>Welcome to Mini Normal 1911  \\nPenguin Mafia R...</td>\n",
       "      <td>2017-05-12 11:45:00</td>\n",
       "      <td>0</td>\n",
       "    </tr>\n",
       "    <tr>\n",
       "      <th>71697</th>\n",
       "      <th>nancy</th>\n",
       "      <td>Welcome to Girls ♥ Girls Mini 1909\\nPart 1: On...</td>\n",
       "      <td>2017-05-02 22:15:00</td>\n",
       "      <td>0</td>\n",
       "    </tr>\n",
       "    <tr>\n",
       "      <th>71675</th>\n",
       "      <th>XnadrojX</th>\n",
       "      <td>Welcome to Mini Normal 1908 - In The Web\\nI am...</td>\n",
       "      <td>2017-05-02 06:30:00</td>\n",
       "      <td>0</td>\n",
       "    </tr>\n",
       "    <tr>\n",
       "      <th>71640</th>\n",
       "      <th>Dierfire</th>\n",
       "      <td>Mini Normal 1905\\nModerator: Dierfire\\nReviewe...</td>\n",
       "      <td>2017-04-29 18:37:00</td>\n",
       "      <td>0</td>\n",
       "    </tr>\n",
       "  </tbody>\n",
       "</table>\n",
       "</div>"
      ],
      "text/plain": [
       "                                                                content  \\\n",
       "game_id author                                                            \n",
       "29549   Tierce        Click here for games 44 through 1400.\\n\\nMini ...   \n",
       "71796   PenguinPower  Welcome to Mini Normal 1911  \\nPenguin Mafia R...   \n",
       "71697   nancy         Welcome to Girls ♥ Girls Mini 1909\\nPart 1: On...   \n",
       "71675   XnadrojX      Welcome to Mini Normal 1908 - In The Web\\nI am...   \n",
       "71640   Dierfire      Mini Normal 1905\\nModerator: Dierfire\\nReviewe...   \n",
       "\n",
       "                             inserted_at  post_no  \n",
       "game_id author                                     \n",
       "29549   Tierce       2013-06-25 05:19:00        0  \n",
       "71796   PenguinPower 2017-05-12 11:45:00        0  \n",
       "71697   nancy        2017-05-02 22:15:00        0  \n",
       "71675   XnadrojX     2017-05-02 06:30:00        0  \n",
       "71640   Dierfire     2017-04-29 18:37:00        0  "
      ]
     },
     "execution_count": 31,
     "metadata": {},
     "output_type": "execute_result"
    }
   ],
   "source": [
    "first_posts.head()"
   ]
  },
  {
   "cell_type": "markdown",
   "metadata": {},
   "source": [
    "We can see for example that the moderator of the first game in the database is called *Tierce*.\n",
    "\n",
    "Now we can find all the messages sent by the moderator in each game."
   ]
  },
  {
   "cell_type": "code",
   "execution_count": 32,
   "metadata": {},
   "outputs": [],
   "source": [
    "# look for all the posts sent by the moderator in each game\n",
    "moderator_posts = posts_mafia.loc[first_posts.index]"
   ]
  },
  {
   "cell_type": "code",
   "execution_count": 33,
   "metadata": {},
   "outputs": [
    {
     "data": {
      "text/html": [
       "<div>\n",
       "<style scoped>\n",
       "    .dataframe tbody tr th:only-of-type {\n",
       "        vertical-align: middle;\n",
       "    }\n",
       "\n",
       "    .dataframe tbody tr th {\n",
       "        vertical-align: top;\n",
       "    }\n",
       "\n",
       "    .dataframe thead th {\n",
       "        text-align: right;\n",
       "    }\n",
       "</style>\n",
       "<table border=\"1\" class=\"dataframe\">\n",
       "  <thead>\n",
       "    <tr style=\"text-align: right;\">\n",
       "      <th></th>\n",
       "      <th></th>\n",
       "      <th>content</th>\n",
       "      <th>inserted_at</th>\n",
       "      <th>post_no</th>\n",
       "    </tr>\n",
       "    <tr>\n",
       "      <th>game_id</th>\n",
       "      <th>author</th>\n",
       "      <th></th>\n",
       "      <th></th>\n",
       "      <th></th>\n",
       "    </tr>\n",
       "  </thead>\n",
       "  <tbody>\n",
       "    <tr>\n",
       "      <th rowspan=\"2\" valign=\"top\">29549</th>\n",
       "      <th>Tierce</th>\n",
       "      <td>Click here for games 44 through 1400.\\n\\nMini ...</td>\n",
       "      <td>2013-06-25 05:19:00</td>\n",
       "      <td>0</td>\n",
       "    </tr>\n",
       "    <tr>\n",
       "      <th>Tierce</th>\n",
       "      <td>Mini Normals: 1501 - 1505\\n\\n\\nGame 1501: We'r...</td>\n",
       "      <td>2013-12-06 13:39:00</td>\n",
       "      <td>1</td>\n",
       "    </tr>\n",
       "    <tr>\n",
       "      <th rowspan=\"3\" valign=\"top\">71796</th>\n",
       "      <th>PenguinPower</th>\n",
       "      <td>Welcome to Mini Normal 1911  \\nPenguin Mafia R...</td>\n",
       "      <td>2017-05-12 11:45:00</td>\n",
       "      <td>0</td>\n",
       "    </tr>\n",
       "    <tr>\n",
       "      <th>PenguinPower</th>\n",
       "      <td>Rules\\nRules shamelessly stolen from various m...</td>\n",
       "      <td>2017-05-12 11:52:00</td>\n",
       "      <td>1</td>\n",
       "    </tr>\n",
       "    <tr>\n",
       "      <th>PenguinPower</th>\n",
       "      <td>Role PMs have been sent out.  Game will start ...</td>\n",
       "      <td>2017-05-12 12:47:00</td>\n",
       "      <td>2</td>\n",
       "    </tr>\n",
       "  </tbody>\n",
       "</table>\n",
       "</div>"
      ],
      "text/plain": [
       "                                                                content  \\\n",
       "game_id author                                                            \n",
       "29549   Tierce        Click here for games 44 through 1400.\\n\\nMini ...   \n",
       "        Tierce        Mini Normals: 1501 - 1505\\n\\n\\nGame 1501: We'r...   \n",
       "71796   PenguinPower  Welcome to Mini Normal 1911  \\nPenguin Mafia R...   \n",
       "        PenguinPower  Rules\\nRules shamelessly stolen from various m...   \n",
       "        PenguinPower  Role PMs have been sent out.  Game will start ...   \n",
       "\n",
       "                             inserted_at  post_no  \n",
       "game_id author                                     \n",
       "29549   Tierce       2013-06-25 05:19:00        0  \n",
       "        Tierce       2013-12-06 13:39:00        1  \n",
       "71796   PenguinPower 2017-05-12 11:45:00        0  \n",
       "        PenguinPower 2017-05-12 11:52:00        1  \n",
       "        PenguinPower 2017-05-12 12:47:00        2  "
      ]
     },
     "execution_count": 33,
     "metadata": {},
     "output_type": "execute_result"
    }
   ],
   "source": [
    "moderator_posts.head()"
   ]
  },
  {
   "cell_type": "markdown",
   "metadata": {},
   "source": [
    "After the game is over, players often start talking about what happened during the game, bragging about their merits or despairing about the fact that they think they were killed unjustly. We are not interested in this part of the discussion because by that time the roles of the players will have been revealed and therefore there is no more betrayer. Therefore we want to eliminate all these messages.\n",
    "\n",
    "First of all, we will search in the messages sent by the moderator for all those that give the result of a vote. Indeed, a game ends with the elimination of a player leading to the victory of one of the two sides ([\"the good guys\" or \"the bad guys\"](https://www.youtube.com/watch?v=gDIlTlkOBYc) depending on how you see things)."
   ]
  },
  {
   "cell_type": "code",
   "execution_count": 34,
   "metadata": {},
   "outputs": [],
   "source": [
    "# We search in the messages sent by the moderator the posts telling the results of the votes\n",
    "vote_counts = moderator_posts[moderator_posts[\"content\"].str.contains(\"vote ?count|vc|not voting \\(\", case=False)].copy()"
   ]
  },
  {
   "cell_type": "code",
   "execution_count": 35,
   "metadata": {},
   "outputs": [
    {
     "data": {
      "text/html": [
       "<div>\n",
       "<style scoped>\n",
       "    .dataframe tbody tr th:only-of-type {\n",
       "        vertical-align: middle;\n",
       "    }\n",
       "\n",
       "    .dataframe tbody tr th {\n",
       "        vertical-align: top;\n",
       "    }\n",
       "\n",
       "    .dataframe thead th {\n",
       "        text-align: right;\n",
       "    }\n",
       "</style>\n",
       "<table border=\"1\" class=\"dataframe\">\n",
       "  <thead>\n",
       "    <tr style=\"text-align: right;\">\n",
       "      <th></th>\n",
       "      <th></th>\n",
       "      <th>content</th>\n",
       "      <th>inserted_at</th>\n",
       "      <th>post_no</th>\n",
       "    </tr>\n",
       "    <tr>\n",
       "      <th>game_id</th>\n",
       "      <th>author</th>\n",
       "      <th></th>\n",
       "      <th></th>\n",
       "      <th></th>\n",
       "    </tr>\n",
       "  </thead>\n",
       "  <tbody>\n",
       "    <tr>\n",
       "      <th rowspan=\"5\" valign=\"top\">71796</th>\n",
       "      <th>PenguinPower</th>\n",
       "      <td>Welcome to Mini Normal 1911  \\nPenguin Mafia R...</td>\n",
       "      <td>2017-05-12 11:45:00</td>\n",
       "      <td>0</td>\n",
       "    </tr>\n",
       "    <tr>\n",
       "      <th>PenguinPower</th>\n",
       "      <td>Vote Count 1.01\\nNot Voting (13): Transcend, L...</td>\n",
       "      <td>2017-05-12 19:49:00</td>\n",
       "      <td>4</td>\n",
       "    </tr>\n",
       "    <tr>\n",
       "      <th>PenguinPower</th>\n",
       "      <td>Vote Count 1.02\\nGamma Emerald (2): Transcend,...</td>\n",
       "      <td>2017-05-12 20:40:00</td>\n",
       "      <td>25</td>\n",
       "    </tr>\n",
       "    <tr>\n",
       "      <th>PenguinPower</th>\n",
       "      <td>Vote Count 1.03\\nMulch (3): Agent Sparkles, Ry...</td>\n",
       "      <td>2017-05-13 00:39:00</td>\n",
       "      <td>112</td>\n",
       "    </tr>\n",
       "    <tr>\n",
       "      <th>PenguinPower</th>\n",
       "      <td>Vote Count 1.04\\nAgent Sparkles (2): Transcend...</td>\n",
       "      <td>2017-05-13 01:43:00</td>\n",
       "      <td>153</td>\n",
       "    </tr>\n",
       "  </tbody>\n",
       "</table>\n",
       "</div>"
      ],
      "text/plain": [
       "                                                                content  \\\n",
       "game_id author                                                            \n",
       "71796   PenguinPower  Welcome to Mini Normal 1911  \\nPenguin Mafia R...   \n",
       "        PenguinPower  Vote Count 1.01\\nNot Voting (13): Transcend, L...   \n",
       "        PenguinPower  Vote Count 1.02\\nGamma Emerald (2): Transcend,...   \n",
       "        PenguinPower  Vote Count 1.03\\nMulch (3): Agent Sparkles, Ry...   \n",
       "        PenguinPower  Vote Count 1.04\\nAgent Sparkles (2): Transcend...   \n",
       "\n",
       "                             inserted_at  post_no  \n",
       "game_id author                                     \n",
       "71796   PenguinPower 2017-05-12 11:45:00        0  \n",
       "        PenguinPower 2017-05-12 19:49:00        4  \n",
       "        PenguinPower 2017-05-12 20:40:00       25  \n",
       "        PenguinPower 2017-05-13 00:39:00      112  \n",
       "        PenguinPower 2017-05-13 01:43:00      153  "
      ]
     },
     "execution_count": 35,
     "metadata": {},
     "output_type": "execute_result"
    }
   ],
   "source": [
    "vote_counts.head()"
   ]
  },
  {
   "cell_type": "markdown",
   "metadata": {},
   "source": [
    "Now we can find the post of the moderator ending a game. This is simply the last post talking about a vote. Let's find that!"
   ]
  },
  {
   "cell_type": "code",
   "execution_count": 36,
   "metadata": {},
   "outputs": [],
   "source": [
    "# Find for each game the last post talking about a vote => the end of the game.\n",
    "last_posts = vote_counts['post_no'].max(level=0)"
   ]
  },
  {
   "cell_type": "code",
   "execution_count": 37,
   "metadata": {},
   "outputs": [
    {
     "data": {
      "text/plain": [
       "game_id\n",
       "71796    3130\n",
       "71697    4741\n",
       "71675    3256\n",
       "71640    3354\n",
       "71483    2596\n",
       "Name: post_no, dtype: int64"
      ]
     },
     "execution_count": 37,
     "metadata": {},
     "output_type": "execute_result"
    }
   ],
   "source": [
    "last_posts.head()"
   ]
  },
  {
   "cell_type": "markdown",
   "metadata": {},
   "source": [
    "We have now for each game the number of the message which is ending the game. We will add to the `posts_mafia` dataframe a new column called `post_no_last` telling this number."
   ]
  },
  {
   "cell_type": "code",
   "execution_count": 38,
   "metadata": {},
   "outputs": [],
   "source": [
    "# Add a new column with the number of the last message\n",
    "posts_mafia = posts_mafia.join(last_posts, rsuffix='_last', how='inner')"
   ]
  },
  {
   "cell_type": "code",
   "execution_count": 39,
   "metadata": {},
   "outputs": [
    {
     "data": {
      "text/html": [
       "<div>\n",
       "<style scoped>\n",
       "    .dataframe tbody tr th:only-of-type {\n",
       "        vertical-align: middle;\n",
       "    }\n",
       "\n",
       "    .dataframe tbody tr th {\n",
       "        vertical-align: top;\n",
       "    }\n",
       "\n",
       "    .dataframe thead th {\n",
       "        text-align: right;\n",
       "    }\n",
       "</style>\n",
       "<table border=\"1\" class=\"dataframe\">\n",
       "  <thead>\n",
       "    <tr style=\"text-align: right;\">\n",
       "      <th></th>\n",
       "      <th></th>\n",
       "      <th>content</th>\n",
       "      <th>inserted_at</th>\n",
       "      <th>post_no</th>\n",
       "      <th>post_no_last</th>\n",
       "    </tr>\n",
       "    <tr>\n",
       "      <th>game_id</th>\n",
       "      <th>author</th>\n",
       "      <th></th>\n",
       "      <th></th>\n",
       "      <th></th>\n",
       "      <th></th>\n",
       "    </tr>\n",
       "  </thead>\n",
       "  <tbody>\n",
       "    <tr>\n",
       "      <th rowspan=\"5\" valign=\"top\">71796</th>\n",
       "      <th>PenguinPower</th>\n",
       "      <td>Welcome to Mini Normal 1911  \\nPenguin Mafia R...</td>\n",
       "      <td>2017-05-12 11:45:00</td>\n",
       "      <td>0</td>\n",
       "      <td>3130</td>\n",
       "    </tr>\n",
       "    <tr>\n",
       "      <th>PenguinPower</th>\n",
       "      <td>Rules\\nRules shamelessly stolen from various m...</td>\n",
       "      <td>2017-05-12 11:52:00</td>\n",
       "      <td>1</td>\n",
       "      <td>3130</td>\n",
       "    </tr>\n",
       "    <tr>\n",
       "      <th>PenguinPower</th>\n",
       "      <td>Role PMs have been sent out.  Game will start ...</td>\n",
       "      <td>2017-05-12 12:47:00</td>\n",
       "      <td>2</td>\n",
       "      <td>3130</td>\n",
       "    </tr>\n",
       "    <tr>\n",
       "      <th>PenguinPower</th>\n",
       "      <td>Day 1 Starts Now!</td>\n",
       "      <td>2017-05-12 19:47:00</td>\n",
       "      <td>3</td>\n",
       "      <td>3130</td>\n",
       "    </tr>\n",
       "    <tr>\n",
       "      <th>PenguinPower</th>\n",
       "      <td>Vote Count 1.01\\nNot Voting (13): Transcend, L...</td>\n",
       "      <td>2017-05-12 19:49:00</td>\n",
       "      <td>4</td>\n",
       "      <td>3130</td>\n",
       "    </tr>\n",
       "  </tbody>\n",
       "</table>\n",
       "</div>"
      ],
      "text/plain": [
       "                                                                content  \\\n",
       "game_id author                                                            \n",
       "71796   PenguinPower  Welcome to Mini Normal 1911  \\nPenguin Mafia R...   \n",
       "        PenguinPower  Rules\\nRules shamelessly stolen from various m...   \n",
       "        PenguinPower  Role PMs have been sent out.  Game will start ...   \n",
       "        PenguinPower                                  Day 1 Starts Now!   \n",
       "        PenguinPower  Vote Count 1.01\\nNot Voting (13): Transcend, L...   \n",
       "\n",
       "                             inserted_at  post_no  post_no_last  \n",
       "game_id author                                                   \n",
       "71796   PenguinPower 2017-05-12 11:45:00        0          3130  \n",
       "        PenguinPower 2017-05-12 11:52:00        1          3130  \n",
       "        PenguinPower 2017-05-12 12:47:00        2          3130  \n",
       "        PenguinPower 2017-05-12 19:47:00        3          3130  \n",
       "        PenguinPower 2017-05-12 19:49:00        4          3130  "
      ]
     },
     "execution_count": 39,
     "metadata": {},
     "output_type": "execute_result"
    }
   ],
   "source": [
    "posts_mafia.head()"
   ]
  },
  {
   "cell_type": "markdown",
   "metadata": {},
   "source": [
    "Now we can eliminate all the lines that have a *post_no* higher than the *post_no_last*. That means that the massage was sent after the moderator ended the game."
   ]
  },
  {
   "cell_type": "code",
   "execution_count": 40,
   "metadata": {},
   "outputs": [],
   "source": [
    "#keep only thes ligne that have a lower or equal message's number than the \"last message number\"\n",
    "posts_mafia = posts_mafia[posts_mafia['post_no'] <= posts_mafia['post_no_last']]"
   ]
  },
  {
   "cell_type": "code",
   "execution_count": 41,
   "metadata": {},
   "outputs": [
    {
     "data": {
      "text/html": [
       "<div>\n",
       "<style scoped>\n",
       "    .dataframe tbody tr th:only-of-type {\n",
       "        vertical-align: middle;\n",
       "    }\n",
       "\n",
       "    .dataframe tbody tr th {\n",
       "        vertical-align: top;\n",
       "    }\n",
       "\n",
       "    .dataframe thead th {\n",
       "        text-align: right;\n",
       "    }\n",
       "</style>\n",
       "<table border=\"1\" class=\"dataframe\">\n",
       "  <thead>\n",
       "    <tr style=\"text-align: right;\">\n",
       "      <th></th>\n",
       "      <th></th>\n",
       "      <th>content</th>\n",
       "      <th>inserted_at</th>\n",
       "      <th>post_no</th>\n",
       "      <th>post_no_last</th>\n",
       "    </tr>\n",
       "    <tr>\n",
       "      <th>game_id</th>\n",
       "      <th>author</th>\n",
       "      <th></th>\n",
       "      <th></th>\n",
       "      <th></th>\n",
       "      <th></th>\n",
       "    </tr>\n",
       "  </thead>\n",
       "  <tbody>\n",
       "    <tr>\n",
       "      <th rowspan=\"5\" valign=\"top\">71796</th>\n",
       "      <th>PenguinPower</th>\n",
       "      <td>Welcome to Mini Normal 1911  \\nPenguin Mafia R...</td>\n",
       "      <td>2017-05-12 11:45:00</td>\n",
       "      <td>0</td>\n",
       "      <td>3130</td>\n",
       "    </tr>\n",
       "    <tr>\n",
       "      <th>PenguinPower</th>\n",
       "      <td>Rules\\nRules shamelessly stolen from various m...</td>\n",
       "      <td>2017-05-12 11:52:00</td>\n",
       "      <td>1</td>\n",
       "      <td>3130</td>\n",
       "    </tr>\n",
       "    <tr>\n",
       "      <th>PenguinPower</th>\n",
       "      <td>Role PMs have been sent out.  Game will start ...</td>\n",
       "      <td>2017-05-12 12:47:00</td>\n",
       "      <td>2</td>\n",
       "      <td>3130</td>\n",
       "    </tr>\n",
       "    <tr>\n",
       "      <th>PenguinPower</th>\n",
       "      <td>Day 1 Starts Now!</td>\n",
       "      <td>2017-05-12 19:47:00</td>\n",
       "      <td>3</td>\n",
       "      <td>3130</td>\n",
       "    </tr>\n",
       "    <tr>\n",
       "      <th>PenguinPower</th>\n",
       "      <td>Vote Count 1.01\\nNot Voting (13): Transcend, L...</td>\n",
       "      <td>2017-05-12 19:49:00</td>\n",
       "      <td>4</td>\n",
       "      <td>3130</td>\n",
       "    </tr>\n",
       "  </tbody>\n",
       "</table>\n",
       "</div>"
      ],
      "text/plain": [
       "                                                                content  \\\n",
       "game_id author                                                            \n",
       "71796   PenguinPower  Welcome to Mini Normal 1911  \\nPenguin Mafia R...   \n",
       "        PenguinPower  Rules\\nRules shamelessly stolen from various m...   \n",
       "        PenguinPower  Role PMs have been sent out.  Game will start ...   \n",
       "        PenguinPower                                  Day 1 Starts Now!   \n",
       "        PenguinPower  Vote Count 1.01\\nNot Voting (13): Transcend, L...   \n",
       "\n",
       "                             inserted_at  post_no  post_no_last  \n",
       "game_id author                                                   \n",
       "71796   PenguinPower 2017-05-12 11:45:00        0          3130  \n",
       "        PenguinPower 2017-05-12 11:52:00        1          3130  \n",
       "        PenguinPower 2017-05-12 12:47:00        2          3130  \n",
       "        PenguinPower 2017-05-12 19:47:00        3          3130  \n",
       "        PenguinPower 2017-05-12 19:49:00        4          3130  "
      ]
     },
     "execution_count": 41,
     "metadata": {},
     "output_type": "execute_result"
    }
   ],
   "source": [
    "posts_mafia.head()"
   ]
  },
  {
   "cell_type": "markdown",
   "metadata": {},
   "source": [
    "Finaly we can now delete the messages sent by the moderators during the games. We will create a new dataframe called `messages_players` containing only the messages sent by the players during the games."
   ]
  },
  {
   "cell_type": "code",
   "execution_count": 42,
   "metadata": {},
   "outputs": [],
   "source": [
    "# redefine the indexes of the dataframe to make them unique\n",
    "no_posts_mafia = posts_mafia.reset_index().set_index(['game_id', 'author', 'post_no'])\n",
    "no_moderator_posts = moderator_posts.reset_index().set_index(['game_id', 'author', 'post_no'])\n",
    "\n",
    "# Keep only the messages that were not send by the moderator\n",
    "messages_players = no_posts_mafia[~no_posts_mafia.index.isin(no_moderator_posts.index)].reset_index()\n",
    "messages_players.set_index(['game_id', 'author'], inplace = True )"
   ]
  },
  {
   "cell_type": "code",
   "execution_count": 43,
   "metadata": {},
   "outputs": [
    {
     "data": {
      "text/html": [
       "<div>\n",
       "<style scoped>\n",
       "    .dataframe tbody tr th:only-of-type {\n",
       "        vertical-align: middle;\n",
       "    }\n",
       "\n",
       "    .dataframe tbody tr th {\n",
       "        vertical-align: top;\n",
       "    }\n",
       "\n",
       "    .dataframe thead th {\n",
       "        text-align: right;\n",
       "    }\n",
       "</style>\n",
       "<table border=\"1\" class=\"dataframe\">\n",
       "  <thead>\n",
       "    <tr style=\"text-align: right;\">\n",
       "      <th></th>\n",
       "      <th></th>\n",
       "      <th>post_no</th>\n",
       "      <th>content</th>\n",
       "      <th>inserted_at</th>\n",
       "      <th>post_no_last</th>\n",
       "    </tr>\n",
       "    <tr>\n",
       "      <th>game_id</th>\n",
       "      <th>author</th>\n",
       "      <th></th>\n",
       "      <th></th>\n",
       "      <th></th>\n",
       "      <th></th>\n",
       "    </tr>\n",
       "  </thead>\n",
       "  <tbody>\n",
       "    <tr>\n",
       "      <th rowspan=\"5\" valign=\"top\">71796</th>\n",
       "      <th>Gamma Emerald</th>\n",
       "      <td>5</td>\n",
       "      <td>Opening with RQS\\n1) How excited are you for t...</td>\n",
       "      <td>2017-05-12 19:49:00</td>\n",
       "      <td>3130</td>\n",
       "    </tr>\n",
       "    <tr>\n",
       "      <th>Transcend</th>\n",
       "      <td>6</td>\n",
       "      <td>VOTE: gamma</td>\n",
       "      <td>2017-05-12 19:51:00</td>\n",
       "      <td>3130</td>\n",
       "    </tr>\n",
       "    <tr>\n",
       "      <th>Gamma Emerald</th>\n",
       "      <td>7</td>\n",
       "      <td>My answers\\n1) I'm quite excited, I played PP'...</td>\n",
       "      <td>2017-05-12 19:55:00</td>\n",
       "      <td>3130</td>\n",
       "    </tr>\n",
       "    <tr>\n",
       "      <th>Mulch</th>\n",
       "      <td>8</td>\n",
       "      <td>WTF are RQS</td>\n",
       "      <td>2017-05-12 20:02:00</td>\n",
       "      <td>3130</td>\n",
       "    </tr>\n",
       "    <tr>\n",
       "      <th>Gamma Emerald</th>\n",
       "      <td>9</td>\n",
       "      <td>RQS is random questioning stage, it's a type o...</td>\n",
       "      <td>2017-05-12 20:04:00</td>\n",
       "      <td>3130</td>\n",
       "    </tr>\n",
       "  </tbody>\n",
       "</table>\n",
       "</div>"
      ],
      "text/plain": [
       "                       post_no  \\\n",
       "game_id author                   \n",
       "71796   Gamma Emerald        5   \n",
       "        Transcend            6   \n",
       "        Gamma Emerald        7   \n",
       "        Mulch                8   \n",
       "        Gamma Emerald        9   \n",
       "\n",
       "                                                                 content  \\\n",
       "game_id author                                                             \n",
       "71796   Gamma Emerald  Opening with RQS\\n1) How excited are you for t...   \n",
       "        Transcend                                            VOTE: gamma   \n",
       "        Gamma Emerald  My answers\\n1) I'm quite excited, I played PP'...   \n",
       "        Mulch                                                WTF are RQS   \n",
       "        Gamma Emerald  RQS is random questioning stage, it's a type o...   \n",
       "\n",
       "                              inserted_at  post_no_last  \n",
       "game_id author                                           \n",
       "71796   Gamma Emerald 2017-05-12 19:49:00          3130  \n",
       "        Transcend     2017-05-12 19:51:00          3130  \n",
       "        Gamma Emerald 2017-05-12 19:55:00          3130  \n",
       "        Mulch         2017-05-12 20:02:00          3130  \n",
       "        Gamma Emerald 2017-05-12 20:04:00          3130  "
      ]
     },
     "execution_count": 43,
     "metadata": {},
     "output_type": "execute_result"
    }
   ],
   "source": [
    "messages_players.head()"
   ]
  },
  {
   "cell_type": "markdown",
   "metadata": {},
   "source": [
    "#### Merging"
   ]
  },
  {
   "cell_type": "markdown",
   "metadata": {},
   "source": [
    "Now we can merge the two dataframes `messages_players` and `betrayer_df`."
   ]
  },
  {
   "cell_type": "code",
   "execution_count": 44,
   "metadata": {},
   "outputs": [],
   "source": [
    "messages_players = messages_players.merge(betrayer_df, left_index = True, right_index = True).reset_index()"
   ]
  },
  {
   "cell_type": "code",
   "execution_count": 45,
   "metadata": {},
   "outputs": [
    {
     "data": {
      "text/html": [
       "<div>\n",
       "<style scoped>\n",
       "    .dataframe tbody tr th:only-of-type {\n",
       "        vertical-align: middle;\n",
       "    }\n",
       "\n",
       "    .dataframe tbody tr th {\n",
       "        vertical-align: top;\n",
       "    }\n",
       "\n",
       "    .dataframe thead th {\n",
       "        text-align: right;\n",
       "    }\n",
       "</style>\n",
       "<table border=\"1\" class=\"dataframe\">\n",
       "  <thead>\n",
       "    <tr style=\"text-align: right;\">\n",
       "      <th></th>\n",
       "      <th>game_id</th>\n",
       "      <th>author</th>\n",
       "      <th>post_no</th>\n",
       "      <th>content</th>\n",
       "      <th>inserted_at</th>\n",
       "      <th>post_no_last</th>\n",
       "      <th>survived</th>\n",
       "      <th>betrayer</th>\n",
       "      <th>town_won</th>\n",
       "    </tr>\n",
       "  </thead>\n",
       "  <tbody>\n",
       "    <tr>\n",
       "      <th>0</th>\n",
       "      <td>26</td>\n",
       "      <td>CoolBot</td>\n",
       "      <td>27</td>\n",
       "      <td>\\n\\nThis sounds like you're trying to limit an...</td>\n",
       "      <td>2003-07-24 21:28:00</td>\n",
       "      <td>273</td>\n",
       "      <td>False</td>\n",
       "      <td>False</td>\n",
       "      <td>NaN</td>\n",
       "    </tr>\n",
       "    <tr>\n",
       "      <th>1</th>\n",
       "      <td>26</td>\n",
       "      <td>CoolBot</td>\n",
       "      <td>40</td>\n",
       "      <td>It was Someone's suggesting he didn't want ano...</td>\n",
       "      <td>2003-07-25 17:48:00</td>\n",
       "      <td>273</td>\n",
       "      <td>False</td>\n",
       "      <td>False</td>\n",
       "      <td>NaN</td>\n",
       "    </tr>\n",
       "    <tr>\n",
       "      <th>2</th>\n",
       "      <td>26</td>\n",
       "      <td>CoolBot</td>\n",
       "      <td>65</td>\n",
       "      <td>I'm not really sure how a neutral role would e...</td>\n",
       "      <td>2003-07-28 15:44:00</td>\n",
       "      <td>273</td>\n",
       "      <td>False</td>\n",
       "      <td>False</td>\n",
       "      <td>NaN</td>\n",
       "    </tr>\n",
       "    <tr>\n",
       "      <th>3</th>\n",
       "      <td>26</td>\n",
       "      <td>CoolBot</td>\n",
       "      <td>85</td>\n",
       "      <td>So the robot detector... is a robot?  I don't ...</td>\n",
       "      <td>2003-07-29 01:09:00</td>\n",
       "      <td>273</td>\n",
       "      <td>False</td>\n",
       "      <td>False</td>\n",
       "      <td>NaN</td>\n",
       "    </tr>\n",
       "    <tr>\n",
       "      <th>4</th>\n",
       "      <td>26</td>\n",
       "      <td>CoolBot</td>\n",
       "      <td>99</td>\n",
       "      <td>Has anyone considered that maybe Someone is a ...</td>\n",
       "      <td>2003-07-29 18:14:00</td>\n",
       "      <td>273</td>\n",
       "      <td>False</td>\n",
       "      <td>False</td>\n",
       "      <td>NaN</td>\n",
       "    </tr>\n",
       "  </tbody>\n",
       "</table>\n",
       "</div>"
      ],
      "text/plain": [
       "   game_id   author  post_no  \\\n",
       "0       26  CoolBot       27   \n",
       "1       26  CoolBot       40   \n",
       "2       26  CoolBot       65   \n",
       "3       26  CoolBot       85   \n",
       "4       26  CoolBot       99   \n",
       "\n",
       "                                             content         inserted_at  \\\n",
       "0  \\n\\nThis sounds like you're trying to limit an... 2003-07-24 21:28:00   \n",
       "1  It was Someone's suggesting he didn't want ano... 2003-07-25 17:48:00   \n",
       "2  I'm not really sure how a neutral role would e... 2003-07-28 15:44:00   \n",
       "3  So the robot detector... is a robot?  I don't ... 2003-07-29 01:09:00   \n",
       "4  Has anyone considered that maybe Someone is a ... 2003-07-29 18:14:00   \n",
       "\n",
       "   post_no_last  survived  betrayer town_won  \n",
       "0           273     False     False      NaN  \n",
       "1           273     False     False      NaN  \n",
       "2           273     False     False      NaN  \n",
       "3           273     False     False      NaN  \n",
       "4           273     False     False      NaN  "
      ]
     },
     "execution_count": 45,
     "metadata": {},
     "output_type": "execute_result"
    }
   ],
   "source": [
    "messages_players.head()"
   ]
  },
  {
   "cell_type": "code",
   "execution_count": 46,
   "metadata": {},
   "outputs": [
    {
     "name": "stdout",
     "output_type": "stream",
     "text": [
      "At this step, there are 306 games with known outcomes.\n"
     ]
    }
   ],
   "source": [
    "# messages of players for games with known outcomes\n",
    "messages_players_outcome = messages_players[~pd.isnull(messages_players.town_won)]\n",
    "print('At this step, there are {0} games with known outcomes.'.format(len(np.unique(messages_players_outcome.game_id))))"
   ]
  },
  {
   "cell_type": "code",
   "execution_count": 47,
   "metadata": {},
   "outputs": [
    {
     "data": {
      "text/html": [
       "<div>\n",
       "<style scoped>\n",
       "    .dataframe tbody tr th:only-of-type {\n",
       "        vertical-align: middle;\n",
       "    }\n",
       "\n",
       "    .dataframe tbody tr th {\n",
       "        vertical-align: top;\n",
       "    }\n",
       "\n",
       "    .dataframe thead th {\n",
       "        text-align: right;\n",
       "    }\n",
       "</style>\n",
       "<table border=\"1\" class=\"dataframe\">\n",
       "  <thead>\n",
       "    <tr style=\"text-align: right;\">\n",
       "      <th></th>\n",
       "      <th>game_id</th>\n",
       "      <th>author</th>\n",
       "      <th>post_no</th>\n",
       "      <th>content</th>\n",
       "      <th>inserted_at</th>\n",
       "      <th>post_no_last</th>\n",
       "      <th>survived</th>\n",
       "      <th>betrayer</th>\n",
       "      <th>town_won</th>\n",
       "    </tr>\n",
       "  </thead>\n",
       "  <tbody>\n",
       "    <tr>\n",
       "      <th>172608</th>\n",
       "      <td>15557</td>\n",
       "      <td>ConfidAnon</td>\n",
       "      <td>11</td>\n",
       "      <td>/confirm.</td>\n",
       "      <td>2010-10-29 01:37:00</td>\n",
       "      <td>825</td>\n",
       "      <td>True</td>\n",
       "      <td>True</td>\n",
       "      <td>False</td>\n",
       "    </tr>\n",
       "    <tr>\n",
       "      <th>172609</th>\n",
       "      <td>15557</td>\n",
       "      <td>ConfidAnon</td>\n",
       "      <td>41</td>\n",
       "      <td>I'm fine with kicking off a mass claim if a ma...</td>\n",
       "      <td>2010-10-30 08:29:00</td>\n",
       "      <td>825</td>\n",
       "      <td>True</td>\n",
       "      <td>True</td>\n",
       "      <td>False</td>\n",
       "    </tr>\n",
       "    <tr>\n",
       "      <th>172610</th>\n",
       "      <td>15557</td>\n",
       "      <td>ConfidAnon</td>\n",
       "      <td>77</td>\n",
       "      <td>\\n\\nI agree here.  It seems very unlikely for ...</td>\n",
       "      <td>2010-10-31 20:27:00</td>\n",
       "      <td>825</td>\n",
       "      <td>True</td>\n",
       "      <td>True</td>\n",
       "      <td>False</td>\n",
       "    </tr>\n",
       "    <tr>\n",
       "      <th>172611</th>\n",
       "      <td>15557</td>\n",
       "      <td>Fenhl</td>\n",
       "      <td>570</td>\n",
       "      <td>Hi everybody!\\nAs announced by Fishythefish, I...</td>\n",
       "      <td>2010-12-16 19:20:00</td>\n",
       "      <td>825</td>\n",
       "      <td>True</td>\n",
       "      <td>True</td>\n",
       "      <td>False</td>\n",
       "    </tr>\n",
       "    <tr>\n",
       "      <th>172612</th>\n",
       "      <td>15557</td>\n",
       "      <td>Fenhl</td>\n",
       "      <td>571</td>\n",
       "      <td>I have a smartphone and access from school, so...</td>\n",
       "      <td>2010-12-16 23:24:00</td>\n",
       "      <td>825</td>\n",
       "      <td>True</td>\n",
       "      <td>True</td>\n",
       "      <td>False</td>\n",
       "    </tr>\n",
       "  </tbody>\n",
       "</table>\n",
       "</div>"
      ],
      "text/plain": [
       "        game_id      author  post_no  \\\n",
       "172608    15557  ConfidAnon       11   \n",
       "172609    15557  ConfidAnon       41   \n",
       "172610    15557  ConfidAnon       77   \n",
       "172611    15557       Fenhl      570   \n",
       "172612    15557       Fenhl      571   \n",
       "\n",
       "                                                  content         inserted_at  \\\n",
       "172608                                          /confirm. 2010-10-29 01:37:00   \n",
       "172609  I'm fine with kicking off a mass claim if a ma... 2010-10-30 08:29:00   \n",
       "172610  \\n\\nI agree here.  It seems very unlikely for ... 2010-10-31 20:27:00   \n",
       "172611  Hi everybody!\\nAs announced by Fishythefish, I... 2010-12-16 19:20:00   \n",
       "172612  I have a smartphone and access from school, so... 2010-12-16 23:24:00   \n",
       "\n",
       "        post_no_last  survived  betrayer town_won  \n",
       "172608           825      True      True    False  \n",
       "172609           825      True      True    False  \n",
       "172610           825      True      True    False  \n",
       "172611           825      True      True    False  \n",
       "172612           825      True      True    False  "
      ]
     },
     "execution_count": 47,
     "metadata": {},
     "output_type": "execute_result"
    }
   ],
   "source": [
    "messages_players_outcome.head()"
   ]
  },
  {
   "cell_type": "code",
   "execution_count": 48,
   "metadata": {},
   "outputs": [
    {
     "data": {
      "text/plain": [
       "619"
      ]
     },
     "execution_count": 48,
     "metadata": {},
     "output_type": "execute_result"
    }
   ],
   "source": [
    "# How many games are left\n",
    "len(np.unique(messages_players.reset_index().game_id))"
   ]
  },
  {
   "cell_type": "markdown",
   "metadata": {},
   "source": [
    "Now we have a merged dataframe that keeps only the informations we need. We can see that some of the games we had at the beginning are no longer present in this database: the database is now shorter. Indeed, when we merged the two dataframe, a part of the correspondences could not be made because the indexes on which the merging was made were not present in the two tables (for example the role of a player is unknown). We now have 619 games left."
   ]
  },
  {
   "cell_type": "markdown",
   "metadata": {},
   "source": [
    "####  Timing is everything\n",
    "\n",
    "The next step is now to classify the messages in a time frame for each game. We will add temporal markers to this dataset in order to be able to study the evolution of some features. We will also try to find to which round of the game each message belongs. \n",
    "\n",
    "We will first start by adding temporal markers to the messages. The simplest way to do so is by using the timestamps *inserted_at* and normalizing on the game in order to get comparable values across games.\n",
    "\n",
    "First each message will be associated with a relative in game time (0: beginning, 1: end). Let's begin by defining a DataFrame with major information about times of the game (start, end, length)."
   ]
  },
  {
   "cell_type": "code",
   "execution_count": 49,
   "metadata": {},
   "outputs": [],
   "source": [
    "# Create a new dataframe that will contains the starting time of the game, the ending time and the length\n",
    "df_game_times = pd.DataFrame(np.unique(messages_players.game_id), columns=['game_id']) \n",
    "\n",
    "# The starting time is simply the time when the moderator sent his first message\n",
    "df_game_times['start_time'] = [moderator_posts.loc[game_id,:].inserted_at.iloc[0] for game_id in df_game_times.game_id]\n",
    "\n",
    "# The ending time is when the moderator announce the results of the final votes\n",
    "df_game_times['end_time'] = [moderator_posts.loc[game_id,:][moderator_posts.loc[game_id,:].post_no == last_posts.loc[game_id]].inserted_at[-1]\n",
    "           for game_id in df_game_times.game_id]\n",
    "\n",
    "# Calculate the length of the game (length = end - start)\n",
    "df_game_times['time_length'] = df_game_times['end_time']-df_game_times['start_time']\n",
    "\n",
    "df_game_times = df_game_times.set_index('game_id')"
   ]
  },
  {
   "cell_type": "code",
   "execution_count": 50,
   "metadata": {},
   "outputs": [
    {
     "data": {
      "text/html": [
       "<div>\n",
       "<style scoped>\n",
       "    .dataframe tbody tr th:only-of-type {\n",
       "        vertical-align: middle;\n",
       "    }\n",
       "\n",
       "    .dataframe tbody tr th {\n",
       "        vertical-align: top;\n",
       "    }\n",
       "\n",
       "    .dataframe thead th {\n",
       "        text-align: right;\n",
       "    }\n",
       "</style>\n",
       "<table border=\"1\" class=\"dataframe\">\n",
       "  <thead>\n",
       "    <tr style=\"text-align: right;\">\n",
       "      <th></th>\n",
       "      <th>start_time</th>\n",
       "      <th>end_time</th>\n",
       "      <th>time_length</th>\n",
       "    </tr>\n",
       "    <tr>\n",
       "      <th>game_id</th>\n",
       "      <th></th>\n",
       "      <th></th>\n",
       "      <th></th>\n",
       "    </tr>\n",
       "  </thead>\n",
       "  <tbody>\n",
       "    <tr>\n",
       "      <th>26</th>\n",
       "      <td>2003-07-23 19:05:00</td>\n",
       "      <td>2003-09-02 19:14:00</td>\n",
       "      <td>41 days 00:09:00</td>\n",
       "    </tr>\n",
       "    <tr>\n",
       "      <th>28</th>\n",
       "      <td>2003-07-23 20:47:00</td>\n",
       "      <td>2003-08-06 20:18:00</td>\n",
       "      <td>13 days 23:31:00</td>\n",
       "    </tr>\n",
       "    <tr>\n",
       "      <th>38</th>\n",
       "      <td>2003-07-25 00:06:00</td>\n",
       "      <td>2003-08-22 04:15:00</td>\n",
       "      <td>28 days 04:09:00</td>\n",
       "    </tr>\n",
       "    <tr>\n",
       "      <th>94</th>\n",
       "      <td>2003-08-08 01:32:00</td>\n",
       "      <td>2003-08-22 21:12:00</td>\n",
       "      <td>14 days 19:40:00</td>\n",
       "    </tr>\n",
       "    <tr>\n",
       "      <th>135</th>\n",
       "      <td>2003-08-31 20:07:00</td>\n",
       "      <td>2003-10-07 23:37:00</td>\n",
       "      <td>37 days 03:30:00</td>\n",
       "    </tr>\n",
       "  </tbody>\n",
       "</table>\n",
       "</div>"
      ],
      "text/plain": [
       "                 start_time            end_time      time_length\n",
       "game_id                                                         \n",
       "26      2003-07-23 19:05:00 2003-09-02 19:14:00 41 days 00:09:00\n",
       "28      2003-07-23 20:47:00 2003-08-06 20:18:00 13 days 23:31:00\n",
       "38      2003-07-25 00:06:00 2003-08-22 04:15:00 28 days 04:09:00\n",
       "94      2003-08-08 01:32:00 2003-08-22 21:12:00 14 days 19:40:00\n",
       "135     2003-08-31 20:07:00 2003-10-07 23:37:00 37 days 03:30:00"
      ]
     },
     "execution_count": 50,
     "metadata": {},
     "output_type": "execute_result"
    }
   ],
   "source": [
    "df_game_times.head()"
   ]
  },
  {
   "cell_type": "markdown",
   "metadata": {},
   "source": [
    "These information can then be used to normalize the timestamp of each message with relation to its game."
   ]
  },
  {
   "cell_type": "code",
   "execution_count": 52,
   "metadata": {},
   "outputs": [
    {
     "data": {
      "application/vnd.jupyter.widget-view+json": {
       "model_id": "c838c8cc00e8456292ecbba4a6d3a11e",
       "version_major": 2,
       "version_minor": 0
      },
      "text/plain": [
       "HBox(children=(FloatProgress(value=0.0, max=683223.0), HTML(value='')))"
      ]
     },
     "metadata": {},
     "output_type": "display_data"
    },
    {
     "name": "stdout",
     "output_type": "stream",
     "text": [
      "\n"
     ]
    }
   ],
   "source": [
    "# That cell is hella long beware\n",
    "rel_time = []\n",
    "\n",
    "# for each message we will add a new column containing the relative time (in the game) when the message was sent\n",
    "for index, row_posts in tqdm(messages_players.iterrows(), total=messages_players.shape[0]):\n",
    "    game_id = row_posts.game_id\n",
    "    rel_time.append((row_posts.inserted_at - df_game_times.loc[game_id].start_time)/df_game_times.loc[game_id].time_length)\n",
    "\n",
    "#add the new column\n",
    "messages_players['rel_time'] = rel_time"
   ]
  },
  {
   "cell_type": "code",
   "execution_count": 53,
   "metadata": {},
   "outputs": [
    {
     "data": {
      "text/html": [
       "<div>\n",
       "<style scoped>\n",
       "    .dataframe tbody tr th:only-of-type {\n",
       "        vertical-align: middle;\n",
       "    }\n",
       "\n",
       "    .dataframe tbody tr th {\n",
       "        vertical-align: top;\n",
       "    }\n",
       "\n",
       "    .dataframe thead th {\n",
       "        text-align: right;\n",
       "    }\n",
       "</style>\n",
       "<table border=\"1\" class=\"dataframe\">\n",
       "  <thead>\n",
       "    <tr style=\"text-align: right;\">\n",
       "      <th></th>\n",
       "      <th>game_id</th>\n",
       "      <th>author</th>\n",
       "      <th>post_no</th>\n",
       "      <th>content</th>\n",
       "      <th>inserted_at</th>\n",
       "      <th>post_no_last</th>\n",
       "      <th>survived</th>\n",
       "      <th>betrayer</th>\n",
       "      <th>town_won</th>\n",
       "      <th>rel_time</th>\n",
       "    </tr>\n",
       "  </thead>\n",
       "  <tbody>\n",
       "    <tr>\n",
       "      <th>0</th>\n",
       "      <td>26</td>\n",
       "      <td>CoolBot</td>\n",
       "      <td>27</td>\n",
       "      <td>\\n\\nThis sounds like you're trying to limit an...</td>\n",
       "      <td>2003-07-24 21:28:00</td>\n",
       "      <td>273</td>\n",
       "      <td>False</td>\n",
       "      <td>False</td>\n",
       "      <td>NaN</td>\n",
       "      <td>0.026808</td>\n",
       "    </tr>\n",
       "    <tr>\n",
       "      <th>1</th>\n",
       "      <td>26</td>\n",
       "      <td>CoolBot</td>\n",
       "      <td>40</td>\n",
       "      <td>It was Someone's suggesting he didn't want ano...</td>\n",
       "      <td>2003-07-25 17:48:00</td>\n",
       "      <td>273</td>\n",
       "      <td>False</td>\n",
       "      <td>False</td>\n",
       "      <td>NaN</td>\n",
       "      <td>0.047469</td>\n",
       "    </tr>\n",
       "    <tr>\n",
       "      <th>2</th>\n",
       "      <td>26</td>\n",
       "      <td>CoolBot</td>\n",
       "      <td>65</td>\n",
       "      <td>I'm not really sure how a neutral role would e...</td>\n",
       "      <td>2003-07-28 15:44:00</td>\n",
       "      <td>273</td>\n",
       "      <td>False</td>\n",
       "      <td>False</td>\n",
       "      <td>NaN</td>\n",
       "      <td>0.118529</td>\n",
       "    </tr>\n",
       "    <tr>\n",
       "      <th>3</th>\n",
       "      <td>26</td>\n",
       "      <td>CoolBot</td>\n",
       "      <td>85</td>\n",
       "      <td>So the robot detector... is a robot?  I don't ...</td>\n",
       "      <td>2003-07-29 01:09:00</td>\n",
       "      <td>273</td>\n",
       "      <td>False</td>\n",
       "      <td>False</td>\n",
       "      <td>NaN</td>\n",
       "      <td>0.128097</td>\n",
       "    </tr>\n",
       "    <tr>\n",
       "      <th>4</th>\n",
       "      <td>26</td>\n",
       "      <td>CoolBot</td>\n",
       "      <td>99</td>\n",
       "      <td>Has anyone considered that maybe Someone is a ...</td>\n",
       "      <td>2003-07-29 18:14:00</td>\n",
       "      <td>273</td>\n",
       "      <td>False</td>\n",
       "      <td>False</td>\n",
       "      <td>NaN</td>\n",
       "      <td>0.145455</td>\n",
       "    </tr>\n",
       "  </tbody>\n",
       "</table>\n",
       "</div>"
      ],
      "text/plain": [
       "   game_id   author  post_no  \\\n",
       "0       26  CoolBot       27   \n",
       "1       26  CoolBot       40   \n",
       "2       26  CoolBot       65   \n",
       "3       26  CoolBot       85   \n",
       "4       26  CoolBot       99   \n",
       "\n",
       "                                             content         inserted_at  \\\n",
       "0  \\n\\nThis sounds like you're trying to limit an... 2003-07-24 21:28:00   \n",
       "1  It was Someone's suggesting he didn't want ano... 2003-07-25 17:48:00   \n",
       "2  I'm not really sure how a neutral role would e... 2003-07-28 15:44:00   \n",
       "3  So the robot detector... is a robot?  I don't ... 2003-07-29 01:09:00   \n",
       "4  Has anyone considered that maybe Someone is a ... 2003-07-29 18:14:00   \n",
       "\n",
       "   post_no_last  survived  betrayer town_won  rel_time  \n",
       "0           273     False     False      NaN  0.026808  \n",
       "1           273     False     False      NaN  0.047469  \n",
       "2           273     False     False      NaN  0.118529  \n",
       "3           273     False     False      NaN  0.128097  \n",
       "4           273     False     False      NaN  0.145455  "
      ]
     },
     "execution_count": 53,
     "metadata": {},
     "output_type": "execute_result"
    }
   ],
   "source": [
    "messages_players.head()"
   ]
  },
  {
   "cell_type": "markdown",
   "metadata": {},
   "source": [
    "Now that we have achieved the expected result, let's try to find the rounds ! At first glance it doesn't seem very complicated, but unfortunately a lot of parameters complicate things. First of all, the moderators are different from game to game. So we cannot rely on words they might say because they change every time. Then there are also no *Bot* that punctuates the game in a regular way. And icing on the cake, the moderators don't just talk between rounds, but also makes comment during the game.\n",
    "\n",
    "However in some games finding rounds can be done by retrieving a common pattern in the moderator's votecount messages. It can be noticed by investigating the messages sent that some moderators (sadly not all of them) specify a [deadline](https://www.youtube.com/watch?v=jR9Rl-gFi6o) to the current vote session with a common structure : `Deadline: (expired on TIMESTAMP)` (see example below). Finding the post number associated with the last message in which meticulous moderators used a specific deadline timestamp is then a way to cut these games into rounds."
   ]
  },
  {
   "cell_type": "code",
   "execution_count": 54,
   "metadata": {},
   "outputs": [
    {
     "name": "stdout",
     "output_type": "stream",
     "text": [
      "Post number 25, posted at 2017-05-12 20:40:00, by PenguinPower in game 71796 : \n",
      "\"\n",
      "Vote Count 1.02\n",
      "Gamma Emerald (2): Transcend, FireScreamer\n",
      "Tammy (2): marshy, Zulfy \n",
      "Agent Sparkles (1): Ranmaru\n",
      "Mulch (1): Agent Sparkles\n",
      "\n",
      "Not Voting (7): LaLight, Mulch, Ryker, Tammy, AdumbroDeus, FrozenFlame, Gamma Emerald\n",
      "\n",
      "With 13 alive, it takes 7 to lynch.\n",
      "\n",
      "Deadline: (expired on 2017-05-26 16:00:00)\n",
      "\n",
      "Mod Notes:  Not sure I like this automatic vote counter thing.  Edit:  Think I found a work around.\n",
      "\"\n"
     ]
    }
   ],
   "source": [
    "# printing an example of moderator's post mentionning \"expired on \"\n",
    "example_index = 2\n",
    "print('Post number {post_number}, posted at {timestamp}, by {mod} in game {game_id} : \\n\"\\n{content}\"'.format(\n",
    "    post_number = vote_counts.post_no.iloc[example_index],\n",
    "    timestamp = vote_counts.inserted_at.iloc[example_index],\n",
    "    mod = vote_counts.index[example_index][1],\n",
    "    game_id = vote_counts.index[example_index][0],\n",
    "    content = vote_counts.content.iloc[example_index]))"
   ]
  },
  {
   "cell_type": "markdown",
   "metadata": {},
   "source": [
    "First let's modify the `vote_counts` DataFrame by dropping the *author* column as it doesn't bring any information to know the moderator's pseudonym, plus add a column with the timestamp associated with the sequence \"expired on \" if it is present in each of the messages contained in the DataFrame."
   ]
  },
  {
   "cell_type": "code",
   "execution_count": 55,
   "metadata": {},
   "outputs": [],
   "source": [
    "vote_counts_per_game = vote_counts.reset_index(level=1, drop=True).copy() # author brings no information\n",
    "# add column to the DF w/ timestamp if it follows the targeted pattern\n",
    "vote_counts_per_game['round_expired'] = [pd.to_datetime(vc_message.split(\"expired on \",1)[1][:19])\n",
    "                      if (\"expired on \" in vc_message) else pd.NaT\n",
    "                      for vc_message in vote_counts.content]"
   ]
  },
  {
   "cell_type": "code",
   "execution_count": 56,
   "metadata": {},
   "outputs": [
    {
     "data": {
      "text/html": [
       "<div>\n",
       "<style scoped>\n",
       "    .dataframe tbody tr th:only-of-type {\n",
       "        vertical-align: middle;\n",
       "    }\n",
       "\n",
       "    .dataframe tbody tr th {\n",
       "        vertical-align: top;\n",
       "    }\n",
       "\n",
       "    .dataframe thead th {\n",
       "        text-align: right;\n",
       "    }\n",
       "</style>\n",
       "<table border=\"1\" class=\"dataframe\">\n",
       "  <thead>\n",
       "    <tr style=\"text-align: right;\">\n",
       "      <th></th>\n",
       "      <th>content</th>\n",
       "      <th>inserted_at</th>\n",
       "      <th>post_no</th>\n",
       "      <th>round_expired</th>\n",
       "    </tr>\n",
       "    <tr>\n",
       "      <th>game_id</th>\n",
       "      <th></th>\n",
       "      <th></th>\n",
       "      <th></th>\n",
       "      <th></th>\n",
       "    </tr>\n",
       "  </thead>\n",
       "  <tbody>\n",
       "    <tr>\n",
       "      <th>71796</th>\n",
       "      <td>Welcome to Mini Normal 1911  \\nPenguin Mafia R...</td>\n",
       "      <td>2017-05-12 11:45:00</td>\n",
       "      <td>0</td>\n",
       "      <td>NaT</td>\n",
       "    </tr>\n",
       "    <tr>\n",
       "      <th>71796</th>\n",
       "      <td>Vote Count 1.01\\nNot Voting (13): Transcend, L...</td>\n",
       "      <td>2017-05-12 19:49:00</td>\n",
       "      <td>4</td>\n",
       "      <td>2017-05-26 16:00:00</td>\n",
       "    </tr>\n",
       "    <tr>\n",
       "      <th>71796</th>\n",
       "      <td>Vote Count 1.02\\nGamma Emerald (2): Transcend,...</td>\n",
       "      <td>2017-05-12 20:40:00</td>\n",
       "      <td>25</td>\n",
       "      <td>2017-05-26 16:00:00</td>\n",
       "    </tr>\n",
       "    <tr>\n",
       "      <th>71796</th>\n",
       "      <td>Vote Count 1.03\\nMulch (3): Agent Sparkles, Ry...</td>\n",
       "      <td>2017-05-13 00:39:00</td>\n",
       "      <td>112</td>\n",
       "      <td>2017-05-26 16:00:00</td>\n",
       "    </tr>\n",
       "    <tr>\n",
       "      <th>71796</th>\n",
       "      <td>Vote Count 1.04\\nAgent Sparkles (2): Transcend...</td>\n",
       "      <td>2017-05-13 01:43:00</td>\n",
       "      <td>153</td>\n",
       "      <td>2017-05-26 16:00:00</td>\n",
       "    </tr>\n",
       "  </tbody>\n",
       "</table>\n",
       "</div>"
      ],
      "text/plain": [
       "                                                   content  \\\n",
       "game_id                                                      \n",
       "71796    Welcome to Mini Normal 1911  \\nPenguin Mafia R...   \n",
       "71796    Vote Count 1.01\\nNot Voting (13): Transcend, L...   \n",
       "71796    Vote Count 1.02\\nGamma Emerald (2): Transcend,...   \n",
       "71796    Vote Count 1.03\\nMulch (3): Agent Sparkles, Ry...   \n",
       "71796    Vote Count 1.04\\nAgent Sparkles (2): Transcend...   \n",
       "\n",
       "                inserted_at  post_no       round_expired  \n",
       "game_id                                                   \n",
       "71796   2017-05-12 11:45:00        0                 NaT  \n",
       "71796   2017-05-12 19:49:00        4 2017-05-26 16:00:00  \n",
       "71796   2017-05-12 20:40:00       25 2017-05-26 16:00:00  \n",
       "71796   2017-05-13 00:39:00      112 2017-05-26 16:00:00  \n",
       "71796   2017-05-13 01:43:00      153 2017-05-26 16:00:00  "
      ]
     },
     "execution_count": 56,
     "metadata": {},
     "output_type": "execute_result"
    }
   ],
   "source": [
    "vote_counts_per_game.head()"
   ]
  },
  {
   "cell_type": "markdown",
   "metadata": {},
   "source": [
    "Based on the added column *round_expired*, a DataFrame containing information about each of the games with conscientious moderators can be built. It aims at gathering the indexes of such games and the posts numbers than mark the end of rounds (ie. last time a specific timestamp is used as a deadline)."
   ]
  },
  {
   "cell_type": "code",
   "execution_count": 57,
   "metadata": {},
   "outputs": [],
   "source": [
    "# find all the games in which \"expired on \" is mentionned at least once\n",
    "game_expired_mention = np.unique(vote_counts_per_game[~pd.isnull(vote_counts_per_game.round_expired)].index)\n",
    "# build a DF to gather informations about these games\n",
    "df_expired = pd.DataFrame(game_expired_mention, columns=['game_id']).set_index('game_id')\n",
    "\n",
    "# add a column with all the different deadlines used by the mod\n",
    "unique_round_expired = []\n",
    "\n",
    "for game_id in df_expired.index:\n",
    "    unique_round_expired.append(np.unique(vote_counts_per_game.loc[game_id].round_expired))\n",
    "    unique_round_expired[-1] = unique_round_expired[-1][~pd.isnull(unique_round_expired[-1])]\n",
    "    \n",
    "df_expired['unique_round_expired'] = unique_round_expired\n",
    "\n",
    "# select only the games within which moderator stated at least 2 different deadlines\n",
    "df_expired['nb_rounds'] = [len(game_rounds_ts) for game_rounds_ts in df_expired.unique_round_expired]\n",
    "df_expired = df_expired[df_expired.nb_rounds>1]\n",
    "\n",
    "# retrieving the post number associated with the end of a round\n",
    "df_expired['end_round_post_no'] = [np.array([vote_counts_per_game.loc[game_id][vote_counts_per_game.loc[game_id].round_expired == pd.to_datetime(date)].post_no.iloc[-1]\n",
    "                                             for date in df_expired.loc[game_id].unique_round_expired])\n",
    "                                   for game_id in df_expired.index]"
   ]
  },
  {
   "cell_type": "code",
   "execution_count": 58,
   "metadata": {},
   "outputs": [
    {
     "data": {
      "text/html": [
       "<div>\n",
       "<style scoped>\n",
       "    .dataframe tbody tr th:only-of-type {\n",
       "        vertical-align: middle;\n",
       "    }\n",
       "\n",
       "    .dataframe tbody tr th {\n",
       "        vertical-align: top;\n",
       "    }\n",
       "\n",
       "    .dataframe thead th {\n",
       "        text-align: right;\n",
       "    }\n",
       "</style>\n",
       "<table border=\"1\" class=\"dataframe\">\n",
       "  <thead>\n",
       "    <tr style=\"text-align: right;\">\n",
       "      <th></th>\n",
       "      <th>unique_round_expired</th>\n",
       "      <th>nb_rounds</th>\n",
       "      <th>end_round_post_no</th>\n",
       "    </tr>\n",
       "    <tr>\n",
       "      <th>game_id</th>\n",
       "      <th></th>\n",
       "      <th></th>\n",
       "      <th></th>\n",
       "    </tr>\n",
       "  </thead>\n",
       "  <tbody>\n",
       "    <tr>\n",
       "      <th>17173</th>\n",
       "      <td>[2011-05-14T12:00:00.000000000, 2011-05-17T19:...</td>\n",
       "      <td>8</td>\n",
       "      <td>[736, 740, 850, 868, 931, 939, 892, 932]</td>\n",
       "    </tr>\n",
       "    <tr>\n",
       "      <th>17407</th>\n",
       "      <td>[2011-06-09T23:00:00.000000000, 2011-06-26T02:...</td>\n",
       "      <td>3</td>\n",
       "      <td>[1012, 1263, 1356]</td>\n",
       "    </tr>\n",
       "    <tr>\n",
       "      <th>17666</th>\n",
       "      <td>[2011-06-15T16:00:00.000000000, 2011-06-24T10:...</td>\n",
       "      <td>6</td>\n",
       "      <td>[142, 349, 483, 627, 676, 688]</td>\n",
       "    </tr>\n",
       "    <tr>\n",
       "      <th>17864</th>\n",
       "      <td>[2011-07-19T17:00:00.000000000, 2011-07-22T17:...</td>\n",
       "      <td>3</td>\n",
       "      <td>[880, 1018, 1489]</td>\n",
       "    </tr>\n",
       "    <tr>\n",
       "      <th>18287</th>\n",
       "      <td>[2011-08-01T18:00:00.000000000, 2011-08-03T13:...</td>\n",
       "      <td>6</td>\n",
       "      <td>[470, 540, 830, 1024, 1060, 1072]</td>\n",
       "    </tr>\n",
       "  </tbody>\n",
       "</table>\n",
       "</div>"
      ],
      "text/plain": [
       "                                      unique_round_expired  nb_rounds  \\\n",
       "game_id                                                                 \n",
       "17173    [2011-05-14T12:00:00.000000000, 2011-05-17T19:...          8   \n",
       "17407    [2011-06-09T23:00:00.000000000, 2011-06-26T02:...          3   \n",
       "17666    [2011-06-15T16:00:00.000000000, 2011-06-24T10:...          6   \n",
       "17864    [2011-07-19T17:00:00.000000000, 2011-07-22T17:...          3   \n",
       "18287    [2011-08-01T18:00:00.000000000, 2011-08-03T13:...          6   \n",
       "\n",
       "                                end_round_post_no  \n",
       "game_id                                            \n",
       "17173    [736, 740, 850, 868, 931, 939, 892, 932]  \n",
       "17407                          [1012, 1263, 1356]  \n",
       "17666              [142, 349, 483, 627, 676, 688]  \n",
       "17864                           [880, 1018, 1489]  \n",
       "18287           [470, 540, 830, 1024, 1060, 1072]  "
      ]
     },
     "execution_count": 58,
     "metadata": {},
     "output_type": "execute_result"
    }
   ],
   "source": [
    "df_expired.head()"
   ]
  },
  {
   "cell_type": "markdown",
   "metadata": {},
   "source": [
    "Within this games' subset, the messages sent by the players can be categorized according to the round they were sent. This is done by selecting a reduced DataFrame within `messages_players` and computing the number of posts marking the end of rounds that occur before each of the players message is sent."
   ]
  },
  {
   "cell_type": "code",
   "execution_count": 59,
   "metadata": {},
   "outputs": [
    {
     "data": {
      "application/vnd.jupyter.widget-view+json": {
       "model_id": "82fcc20a9fe3491984a0c543ee20b828",
       "version_major": 2,
       "version_minor": 0
      },
      "text/plain": [
       "HBox(children=(FloatProgress(value=0.0, max=422903.0), HTML(value='')))"
      ]
     },
     "metadata": {},
     "output_type": "display_data"
    },
    {
     "name": "stdout",
     "output_type": "stream",
     "text": [
      "\n"
     ]
    }
   ],
   "source": [
    "# reducing to the games of interest\n",
    "messages_players_expired = messages_players[messages_players.game_id.isin(df_expired.index)].copy()\n",
    "\n",
    "# adding the `rounds` column\n",
    "mess_expired_round = []\n",
    "\n",
    "for index, row_posts in tqdm(messages_players_expired.iterrows(), total=messages_players_expired.shape[0]):\n",
    "    game_id = row_posts.game_id\n",
    "    mess_expired_round.append(np.sum(row_posts.post_no > df_expired.loc[game_id].end_round_post_no))\n",
    "\n",
    "messages_players_expired['rounds'] = mess_expired_round"
   ]
  },
  {
   "cell_type": "code",
   "execution_count": 60,
   "metadata": {},
   "outputs": [
    {
     "data": {
      "text/html": [
       "<div>\n",
       "<style scoped>\n",
       "    .dataframe tbody tr th:only-of-type {\n",
       "        vertical-align: middle;\n",
       "    }\n",
       "\n",
       "    .dataframe tbody tr th {\n",
       "        vertical-align: top;\n",
       "    }\n",
       "\n",
       "    .dataframe thead th {\n",
       "        text-align: right;\n",
       "    }\n",
       "</style>\n",
       "<table border=\"1\" class=\"dataframe\">\n",
       "  <thead>\n",
       "    <tr style=\"text-align: right;\">\n",
       "      <th></th>\n",
       "      <th>game_id</th>\n",
       "      <th>author</th>\n",
       "      <th>post_no</th>\n",
       "      <th>content</th>\n",
       "      <th>inserted_at</th>\n",
       "      <th>post_no_last</th>\n",
       "      <th>survived</th>\n",
       "      <th>betrayer</th>\n",
       "      <th>town_won</th>\n",
       "      <th>rel_time</th>\n",
       "      <th>rounds</th>\n",
       "    </tr>\n",
       "  </thead>\n",
       "  <tbody>\n",
       "    <tr>\n",
       "      <th>188456</th>\n",
       "      <td>17173</td>\n",
       "      <td>Elsa von Spielburg</td>\n",
       "      <td>11</td>\n",
       "      <td>Vote: McGriddle\\n\\nWhy would you tout the prod...</td>\n",
       "      <td>2011-04-07 20:55:00</td>\n",
       "      <td>939</td>\n",
       "      <td>False</td>\n",
       "      <td>False</td>\n",
       "      <td>False</td>\n",
       "      <td>0.046744</td>\n",
       "      <td>0</td>\n",
       "    </tr>\n",
       "    <tr>\n",
       "      <th>188457</th>\n",
       "      <td>17173</td>\n",
       "      <td>Elsa von Spielburg</td>\n",
       "      <td>23</td>\n",
       "      <td>Really, Occult (and others), how often does th...</td>\n",
       "      <td>2011-04-08 17:28:00</td>\n",
       "      <td>939</td>\n",
       "      <td>False</td>\n",
       "      <td>False</td>\n",
       "      <td>False</td>\n",
       "      <td>0.059936</td>\n",
       "      <td>0</td>\n",
       "    </tr>\n",
       "    <tr>\n",
       "      <th>188458</th>\n",
       "      <td>17173</td>\n",
       "      <td>Elsa von Spielburg</td>\n",
       "      <td>30</td>\n",
       "      <td>\\n\\nAgreed, the RVS is largely useless until s...</td>\n",
       "      <td>2011-04-08 21:05:00</td>\n",
       "      <td>939</td>\n",
       "      <td>False</td>\n",
       "      <td>False</td>\n",
       "      <td>False</td>\n",
       "      <td>0.062257</td>\n",
       "      <td>0</td>\n",
       "    </tr>\n",
       "    <tr>\n",
       "      <th>188459</th>\n",
       "      <td>17173</td>\n",
       "      <td>Elsa von Spielburg</td>\n",
       "      <td>31</td>\n",
       "      <td>\\n\\nWho is the \"he\" in this sentence.  I don't...</td>\n",
       "      <td>2011-04-08 21:08:00</td>\n",
       "      <td>939</td>\n",
       "      <td>False</td>\n",
       "      <td>False</td>\n",
       "      <td>False</td>\n",
       "      <td>0.062289</td>\n",
       "      <td>0</td>\n",
       "    </tr>\n",
       "    <tr>\n",
       "      <th>188460</th>\n",
       "      <td>17173</td>\n",
       "      <td>Elsa von Spielburg</td>\n",
       "      <td>42</td>\n",
       "      <td>\\n\\nYeah, I'm wondering how being the 2nd vote...</td>\n",
       "      <td>2011-04-09 02:33:00</td>\n",
       "      <td>939</td>\n",
       "      <td>False</td>\n",
       "      <td>False</td>\n",
       "      <td>False</td>\n",
       "      <td>0.065767</td>\n",
       "      <td>0</td>\n",
       "    </tr>\n",
       "  </tbody>\n",
       "</table>\n",
       "</div>"
      ],
      "text/plain": [
       "        game_id              author  post_no  \\\n",
       "188456    17173  Elsa von Spielburg       11   \n",
       "188457    17173  Elsa von Spielburg       23   \n",
       "188458    17173  Elsa von Spielburg       30   \n",
       "188459    17173  Elsa von Spielburg       31   \n",
       "188460    17173  Elsa von Spielburg       42   \n",
       "\n",
       "                                                  content         inserted_at  \\\n",
       "188456  Vote: McGriddle\\n\\nWhy would you tout the prod... 2011-04-07 20:55:00   \n",
       "188457  Really, Occult (and others), how often does th... 2011-04-08 17:28:00   \n",
       "188458  \\n\\nAgreed, the RVS is largely useless until s... 2011-04-08 21:05:00   \n",
       "188459  \\n\\nWho is the \"he\" in this sentence.  I don't... 2011-04-08 21:08:00   \n",
       "188460  \\n\\nYeah, I'm wondering how being the 2nd vote... 2011-04-09 02:33:00   \n",
       "\n",
       "        post_no_last  survived  betrayer town_won  rel_time  rounds  \n",
       "188456           939     False     False    False  0.046744       0  \n",
       "188457           939     False     False    False  0.059936       0  \n",
       "188458           939     False     False    False  0.062257       0  \n",
       "188459           939     False     False    False  0.062289       0  \n",
       "188460           939     False     False    False  0.065767       0  "
      ]
     },
     "execution_count": 60,
     "metadata": {},
     "output_type": "execute_result"
    }
   ],
   "source": [
    "messages_players_expired.head()"
   ]
  },
  {
   "cell_type": "code",
   "execution_count": 61,
   "metadata": {},
   "outputs": [
    {
     "name": "stdout",
     "output_type": "stream",
     "text": [
      "220\n"
     ]
    }
   ],
   "source": [
    "messages_players_expired_outcome = messages_players_expired[~pd.isnull(messages_players_expired.town_won)]\n",
    "print(len(np.unique(messages_players_expired_outcome.game_id)))"
   ]
  },
  {
   "cell_type": "markdown",
   "metadata": {},
   "source": [
    "Now we have two dataframe. One containing 231 games with the messages that are separated by round and another one with 637 games with messages that have only a time code that tell when they were sent during the game (relative time)."
   ]
  },
  {
   "cell_type": "code",
   "execution_count": 62,
   "metadata": {},
   "outputs": [
    {
     "name": "stdout",
     "output_type": "stream",
     "text": [
      "231\n"
     ]
    }
   ],
   "source": [
    "print(len(np.unique(messages_players_expired.game_id)))"
   ]
  },
  {
   "cell_type": "code",
   "execution_count": 63,
   "metadata": {},
   "outputs": [],
   "source": [
    "messages_players_expired_outcome_survivors = messages_players_expired_outcome[messages_players_expired_outcome.survived]"
   ]
  },
  {
   "cell_type": "code",
   "execution_count": 64,
   "metadata": {},
   "outputs": [
    {
     "data": {
      "text/html": [
       "<div>\n",
       "<style scoped>\n",
       "    .dataframe tbody tr th:only-of-type {\n",
       "        vertical-align: middle;\n",
       "    }\n",
       "\n",
       "    .dataframe tbody tr th {\n",
       "        vertical-align: top;\n",
       "    }\n",
       "\n",
       "    .dataframe thead th {\n",
       "        text-align: right;\n",
       "    }\n",
       "</style>\n",
       "<table border=\"1\" class=\"dataframe\">\n",
       "  <thead>\n",
       "    <tr style=\"text-align: right;\">\n",
       "      <th></th>\n",
       "      <th>game_id</th>\n",
       "      <th>author</th>\n",
       "      <th>post_no</th>\n",
       "      <th>content</th>\n",
       "      <th>inserted_at</th>\n",
       "      <th>post_no_last</th>\n",
       "      <th>survived</th>\n",
       "      <th>betrayer</th>\n",
       "      <th>town_won</th>\n",
       "      <th>rel_time</th>\n",
       "      <th>rounds</th>\n",
       "    </tr>\n",
       "  </thead>\n",
       "  <tbody>\n",
       "    <tr>\n",
       "      <th>188580</th>\n",
       "      <td>17173</td>\n",
       "      <td>Hero764</td>\n",
       "      <td>143</td>\n",
       "      <td>Hey sorry for the absence, this isn't normal s...</td>\n",
       "      <td>2011-04-12 23:53:00</td>\n",
       "      <td>939</td>\n",
       "      <td>True</td>\n",
       "      <td>False</td>\n",
       "      <td>False</td>\n",
       "      <td>0.125681</td>\n",
       "      <td>0</td>\n",
       "    </tr>\n",
       "    <tr>\n",
       "      <th>188768</th>\n",
       "      <td>17173</td>\n",
       "      <td>Occult</td>\n",
       "      <td>6</td>\n",
       "      <td>Vote</td>\n",
       "      <td>2011-04-07 18:34:00</td>\n",
       "      <td>939</td>\n",
       "      <td>True</td>\n",
       "      <td>True</td>\n",
       "      <td>False</td>\n",
       "      <td>0.045235</td>\n",
       "      <td>0</td>\n",
       "    </tr>\n",
       "    <tr>\n",
       "      <th>188769</th>\n",
       "      <td>17173</td>\n",
       "      <td>Occult</td>\n",
       "      <td>10</td>\n",
       "      <td>The blank vote is quite symbolic.</td>\n",
       "      <td>2011-04-07 20:07:00</td>\n",
       "      <td>939</td>\n",
       "      <td>True</td>\n",
       "      <td>True</td>\n",
       "      <td>False</td>\n",
       "      <td>0.046230</td>\n",
       "      <td>0</td>\n",
       "    </tr>\n",
       "    <tr>\n",
       "      <th>188770</th>\n",
       "      <td>17173</td>\n",
       "      <td>Occult</td>\n",
       "      <td>19</td>\n",
       "      <td>\\n\\nI assumed the point of the RVS was to rand...</td>\n",
       "      <td>2011-04-08 14:50:00</td>\n",
       "      <td>939</td>\n",
       "      <td>True</td>\n",
       "      <td>True</td>\n",
       "      <td>False</td>\n",
       "      <td>0.058245</td>\n",
       "      <td>0</td>\n",
       "    </tr>\n",
       "    <tr>\n",
       "      <th>188771</th>\n",
       "      <td>17173</td>\n",
       "      <td>Occult</td>\n",
       "      <td>21</td>\n",
       "      <td>You see that is a bit of a WIFOM, isn't it? In...</td>\n",
       "      <td>2011-04-08 15:23:00</td>\n",
       "      <td>939</td>\n",
       "      <td>True</td>\n",
       "      <td>True</td>\n",
       "      <td>False</td>\n",
       "      <td>0.058598</td>\n",
       "      <td>0</td>\n",
       "    </tr>\n",
       "  </tbody>\n",
       "</table>\n",
       "</div>"
      ],
      "text/plain": [
       "        game_id   author  post_no  \\\n",
       "188580    17173  Hero764      143   \n",
       "188768    17173   Occult        6   \n",
       "188769    17173   Occult       10   \n",
       "188770    17173   Occult       19   \n",
       "188771    17173   Occult       21   \n",
       "\n",
       "                                                  content         inserted_at  \\\n",
       "188580  Hey sorry for the absence, this isn't normal s... 2011-04-12 23:53:00   \n",
       "188768                                               Vote 2011-04-07 18:34:00   \n",
       "188769                  The blank vote is quite symbolic. 2011-04-07 20:07:00   \n",
       "188770  \\n\\nI assumed the point of the RVS was to rand... 2011-04-08 14:50:00   \n",
       "188771  You see that is a bit of a WIFOM, isn't it? In... 2011-04-08 15:23:00   \n",
       "\n",
       "        post_no_last  survived  betrayer town_won  rel_time  rounds  \n",
       "188580           939      True     False    False  0.125681       0  \n",
       "188768           939      True      True    False  0.045235       0  \n",
       "188769           939      True      True    False  0.046230       0  \n",
       "188770           939      True      True    False  0.058245       0  \n",
       "188771           939      True      True    False  0.058598       0  "
      ]
     },
     "execution_count": 64,
     "metadata": {},
     "output_type": "execute_result"
    }
   ],
   "source": [
    "messages_players_expired_outcome_survivors.head()"
   ]
  },
  {
   "cell_type": "code",
   "execution_count": 65,
   "metadata": {},
   "outputs": [],
   "source": [
    "messages_players.to_pickle(os.path.join(PATH_OUTPUT, 'messages_players.pkl'))\n",
    "messages_players_expired.to_pickle(os.path.join(PATH_OUTPUT, 'messages_players_expired.pkl'))\n",
    "messages_players_expired_outcome.to_pickle(os.path.join(PATH_OUTPUT, 'messages_players_expired_outcome.pkl'))\n",
    "messages_players_expired_outcome_survivors.to_pickle(os.path.join(PATH_OUTPUT, 'messages_players_expired_outcome_survivors.pkl'))"
   ]
  },
  {
   "cell_type": "code",
   "execution_count": 66,
   "metadata": {},
   "outputs": [
    {
     "data": {
      "text/html": [
       "<div>\n",
       "<style scoped>\n",
       "    .dataframe tbody tr th:only-of-type {\n",
       "        vertical-align: middle;\n",
       "    }\n",
       "\n",
       "    .dataframe tbody tr th {\n",
       "        vertical-align: top;\n",
       "    }\n",
       "\n",
       "    .dataframe thead th {\n",
       "        text-align: right;\n",
       "    }\n",
       "</style>\n",
       "<table border=\"1\" class=\"dataframe\">\n",
       "  <thead>\n",
       "    <tr style=\"text-align: right;\">\n",
       "      <th></th>\n",
       "      <th>game_id</th>\n",
       "      <th>author</th>\n",
       "      <th>post_no</th>\n",
       "      <th>content</th>\n",
       "      <th>inserted_at</th>\n",
       "      <th>post_no_last</th>\n",
       "      <th>survived</th>\n",
       "      <th>betrayer</th>\n",
       "      <th>town_won</th>\n",
       "      <th>rel_time</th>\n",
       "      <th>rounds</th>\n",
       "    </tr>\n",
       "  </thead>\n",
       "  <tbody>\n",
       "    <tr>\n",
       "      <th>188456</th>\n",
       "      <td>17173</td>\n",
       "      <td>Elsa von Spielburg</td>\n",
       "      <td>11</td>\n",
       "      <td>Vote: McGriddle\\n\\nWhy would you tout the prod...</td>\n",
       "      <td>2011-04-07 20:55:00</td>\n",
       "      <td>939</td>\n",
       "      <td>False</td>\n",
       "      <td>False</td>\n",
       "      <td>False</td>\n",
       "      <td>0.046744</td>\n",
       "      <td>0</td>\n",
       "    </tr>\n",
       "    <tr>\n",
       "      <th>188457</th>\n",
       "      <td>17173</td>\n",
       "      <td>Elsa von Spielburg</td>\n",
       "      <td>23</td>\n",
       "      <td>Really, Occult (and others), how often does th...</td>\n",
       "      <td>2011-04-08 17:28:00</td>\n",
       "      <td>939</td>\n",
       "      <td>False</td>\n",
       "      <td>False</td>\n",
       "      <td>False</td>\n",
       "      <td>0.059936</td>\n",
       "      <td>0</td>\n",
       "    </tr>\n",
       "    <tr>\n",
       "      <th>188458</th>\n",
       "      <td>17173</td>\n",
       "      <td>Elsa von Spielburg</td>\n",
       "      <td>30</td>\n",
       "      <td>\\n\\nAgreed, the RVS is largely useless until s...</td>\n",
       "      <td>2011-04-08 21:05:00</td>\n",
       "      <td>939</td>\n",
       "      <td>False</td>\n",
       "      <td>False</td>\n",
       "      <td>False</td>\n",
       "      <td>0.062257</td>\n",
       "      <td>0</td>\n",
       "    </tr>\n",
       "    <tr>\n",
       "      <th>188459</th>\n",
       "      <td>17173</td>\n",
       "      <td>Elsa von Spielburg</td>\n",
       "      <td>31</td>\n",
       "      <td>\\n\\nWho is the \"he\" in this sentence.  I don't...</td>\n",
       "      <td>2011-04-08 21:08:00</td>\n",
       "      <td>939</td>\n",
       "      <td>False</td>\n",
       "      <td>False</td>\n",
       "      <td>False</td>\n",
       "      <td>0.062289</td>\n",
       "      <td>0</td>\n",
       "    </tr>\n",
       "    <tr>\n",
       "      <th>188460</th>\n",
       "      <td>17173</td>\n",
       "      <td>Elsa von Spielburg</td>\n",
       "      <td>42</td>\n",
       "      <td>\\n\\nYeah, I'm wondering how being the 2nd vote...</td>\n",
       "      <td>2011-04-09 02:33:00</td>\n",
       "      <td>939</td>\n",
       "      <td>False</td>\n",
       "      <td>False</td>\n",
       "      <td>False</td>\n",
       "      <td>0.065767</td>\n",
       "      <td>0</td>\n",
       "    </tr>\n",
       "  </tbody>\n",
       "</table>\n",
       "</div>"
      ],
      "text/plain": [
       "        game_id              author  post_no  \\\n",
       "188456    17173  Elsa von Spielburg       11   \n",
       "188457    17173  Elsa von Spielburg       23   \n",
       "188458    17173  Elsa von Spielburg       30   \n",
       "188459    17173  Elsa von Spielburg       31   \n",
       "188460    17173  Elsa von Spielburg       42   \n",
       "\n",
       "                                                  content         inserted_at  \\\n",
       "188456  Vote: McGriddle\\n\\nWhy would you tout the prod... 2011-04-07 20:55:00   \n",
       "188457  Really, Occult (and others), how often does th... 2011-04-08 17:28:00   \n",
       "188458  \\n\\nAgreed, the RVS is largely useless until s... 2011-04-08 21:05:00   \n",
       "188459  \\n\\nWho is the \"he\" in this sentence.  I don't... 2011-04-08 21:08:00   \n",
       "188460  \\n\\nYeah, I'm wondering how being the 2nd vote... 2011-04-09 02:33:00   \n",
       "\n",
       "        post_no_last  survived  betrayer town_won  rel_time  rounds  \n",
       "188456           939     False     False    False  0.046744       0  \n",
       "188457           939     False     False    False  0.059936       0  \n",
       "188458           939     False     False    False  0.062257       0  \n",
       "188459           939     False     False    False  0.062289       0  \n",
       "188460           939     False     False    False  0.065767       0  "
      ]
     },
     "execution_count": 66,
     "metadata": {},
     "output_type": "execute_result"
    }
   ],
   "source": [
    "messages_players_expired.head()"
   ]
  },
  {
   "cell_type": "code",
   "execution_count": 67,
   "metadata": {},
   "outputs": [
    {
     "data": {
      "text/plain": [
       "422903"
      ]
     },
     "execution_count": 67,
     "metadata": {},
     "output_type": "execute_result"
    }
   ],
   "source": [
    "len(messages_players_expired)"
   ]
  },
  {
   "cell_type": "markdown",
   "metadata": {},
   "source": [
    "---"
   ]
  },
  {
   "cell_type": "markdown",
   "metadata": {},
   "source": [
    "## Now for (more) code !"
   ]
  },
  {
   "cell_type": "markdown",
   "metadata": {},
   "source": [
    "### General functions"
   ]
  },
  {
   "cell_type": "code",
   "execution_count": 68,
   "metadata": {},
   "outputs": [],
   "source": [
    "def bootstrap_CI_median(data, nbr_draws=1000, ci=95):\n",
    "    \"\"\"\n",
    "    Role : compute the given confidence interval (CI) around the mean of an array of values\n",
    "\n",
    "    # PARAMETERS\n",
    "    data : array containing the values on which we want to compute the mean (and thus CI)\n",
    "    nbr_draws : integer defining the number of random selections when bootstraping data\n",
    "    ci : float (default 95) defines the amount of precision wanted in percentage\n",
    "\n",
    "    # RETURN\n",
    "    list containing the CI around the mean : [2.5 percentile, 97.5 percentile]\n",
    "    \"\"\"\n",
    "    # compute the percentiles according to the given confidence interval\n",
    "    low_perc = (100 - ci) / 2\n",
    "    high_perc = 100 - low_perc\n",
    "\n",
    "    # defining arrays that will be filled during the random bootstraps\n",
    "    medians = np.zeros(nbr_draws)\n",
    "    data = np.array(data)\n",
    "\n",
    "    for n in range(nbr_draws):\n",
    "        indices = np.random.randint(\n",
    "            0, len(data), len(data)\n",
    "        )  # random selection of data in the data array (with replacement)\n",
    "        data_tmp = data[\n",
    "            indices\n",
    "        ]  # creation of a new array of values from the data values\n",
    "        medians[n] = np.nanmedian(data_tmp)  # calculate the mean of the new array of values\n",
    "\n",
    "    return np.array(\n",
    "        [np.nanpercentile(medians, low_perc), np.nanpercentile(medians, high_perc)]\n",
    "    )"
   ]
  },
  {
   "cell_type": "markdown",
   "metadata": {},
   "source": [
    "### Politeness\n",
    "\n",
    "For politeness, we are going to use [ConvKit](convkit), which contains an implementation of the [Stanford Politeness API](#convkit), as the paper stated to use."
   ]
  },
  {
   "cell_type": "code",
   "execution_count": null,
   "metadata": {},
   "outputs": [],
   "source": [
    "TEST = True  # Set to True to use a subset of the dataset, False to use the whole dataset."
   ]
  },
  {
   "cell_type": "code",
   "execution_count": 69,
   "metadata": {},
   "outputs": [],
   "source": [
    "try:\n",
    "    messages_players_expired.head()\n",
    "except Exception as e:\n",
    "    print(\"Warning: {}.\".format(e))\n",
    "    print(\"Trying to load it from disk.\")\n",
    "    try:  # Run the cells in #Some-preliminary-imports before!\n",
    "        messages_players_expired = pd.read_pickle(os.path.join(PATH_OUTPUT, 'messages_players_expired.npy'))\n",
    "        messages_players_expired.head()\n",
    "        print(\"Loaded from disk.\")\n",
    "    except Exception as e:\n",
    "        print(\"Error: {}.\".format(e))"
   ]
  },
  {
   "cell_type": "code",
   "execution_count": 70,
   "metadata": {},
   "outputs": [],
   "source": [
    "try:\n",
    "    import convokit\n",
    "except:\n",
    "    !pip install convokit\n",
    "    !python -m spacy download en  # Need sudo!\n",
    "    import convokit"
   ]
  },
  {
   "cell_type": "markdown",
   "metadata": {},
   "source": [
    "#### Creation of the corpus\n",
    "\n",
    "First of all we are going to create a Corpus to use with ConvKit. A Corpus is a data format used by ConvKit, and is basically a list of Conversations. Each Conversation can hve one or more participants, called the Speakers, and each Speaker can say things, refered as Utterances. As stated by [the official documentation](#convkit), \"the Corpus class stores a list of Utterance objects, which may be grouped together into one or more instances of Conversation, and each Utterance has an associated Speaker\".\n",
    "\n",
    "As multiple players may partake in different games, we will try to separate them and consider them \"unique\" per game, because the language used will depend on the role - or so is our theory.\n",
    "\n",
    "We start to `group_by` by `game_id` so that we can get the unique players."
   ]
  },
  {
   "cell_type": "code",
   "execution_count": 71,
   "metadata": {},
   "outputs": [],
   "source": [
    "from convokit import Corpus, Speaker, Utterance\n",
    "from collections import defaultdict"
   ]
  },
  {
   "cell_type": "code",
   "execution_count": 72,
   "metadata": {},
   "outputs": [],
   "source": [
    "grouped_games = messages_players_expired.groupby(['game_id', 'author'])"
   ]
  },
  {
   "cell_type": "code",
   "execution_count": 73,
   "metadata": {},
   "outputs": [
    {
     "data": {
      "text/html": [
       "<div>\n",
       "<style scoped>\n",
       "    .dataframe tbody tr th:only-of-type {\n",
       "        vertical-align: middle;\n",
       "    }\n",
       "\n",
       "    .dataframe tbody tr th {\n",
       "        vertical-align: top;\n",
       "    }\n",
       "\n",
       "    .dataframe thead th {\n",
       "        text-align: right;\n",
       "    }\n",
       "</style>\n",
       "<table border=\"1\" class=\"dataframe\">\n",
       "  <thead>\n",
       "    <tr style=\"text-align: right;\">\n",
       "      <th></th>\n",
       "      <th></th>\n",
       "      <th>post_no</th>\n",
       "      <th>content</th>\n",
       "      <th>inserted_at</th>\n",
       "      <th>post_no_last</th>\n",
       "      <th>survived</th>\n",
       "      <th>betrayer</th>\n",
       "      <th>town_won</th>\n",
       "      <th>rel_time</th>\n",
       "      <th>rounds</th>\n",
       "    </tr>\n",
       "    <tr>\n",
       "      <th>game_id</th>\n",
       "      <th>author</th>\n",
       "      <th></th>\n",
       "      <th></th>\n",
       "      <th></th>\n",
       "      <th></th>\n",
       "      <th></th>\n",
       "      <th></th>\n",
       "      <th></th>\n",
       "      <th></th>\n",
       "      <th></th>\n",
       "    </tr>\n",
       "  </thead>\n",
       "  <tbody>\n",
       "    <tr>\n",
       "      <th rowspan=\"5\" valign=\"top\">17173</th>\n",
       "      <th>Elsa von Spielburg</th>\n",
       "      <td>11</td>\n",
       "      <td>Vote: McGriddle\\n\\nWhy would you tout the prod...</td>\n",
       "      <td>2011-04-07 20:55:00</td>\n",
       "      <td>939</td>\n",
       "      <td>False</td>\n",
       "      <td>False</td>\n",
       "      <td>False</td>\n",
       "      <td>0.046744</td>\n",
       "      <td>0</td>\n",
       "    </tr>\n",
       "    <tr>\n",
       "      <th>Empking</th>\n",
       "      <td>9</td>\n",
       "      <td>Vote: Kanye - Gut</td>\n",
       "      <td>2011-04-07 19:27:00</td>\n",
       "      <td>939</td>\n",
       "      <td>False</td>\n",
       "      <td>False</td>\n",
       "      <td>False</td>\n",
       "      <td>0.045802</td>\n",
       "      <td>0</td>\n",
       "    </tr>\n",
       "    <tr>\n",
       "      <th>Hero764</th>\n",
       "      <td>143</td>\n",
       "      <td>Hey sorry for the absence, this isn't normal s...</td>\n",
       "      <td>2011-04-12 23:53:00</td>\n",
       "      <td>939</td>\n",
       "      <td>True</td>\n",
       "      <td>False</td>\n",
       "      <td>False</td>\n",
       "      <td>0.125681</td>\n",
       "      <td>0</td>\n",
       "    </tr>\n",
       "    <tr>\n",
       "      <th>HezLucky</th>\n",
       "      <td>12</td>\n",
       "      <td>Hi all I've got a final tomorrow so this is th...</td>\n",
       "      <td>2011-04-07 21:25:00</td>\n",
       "      <td>939</td>\n",
       "      <td>False</td>\n",
       "      <td>False</td>\n",
       "      <td>False</td>\n",
       "      <td>0.047065</td>\n",
       "      <td>0</td>\n",
       "    </tr>\n",
       "    <tr>\n",
       "      <th>Internet Stranger</th>\n",
       "      <td>4</td>\n",
       "      <td>FRIST!\\n\\nVote: Jeromus</td>\n",
       "      <td>2011-04-07 18:21:00</td>\n",
       "      <td>939</td>\n",
       "      <td>False</td>\n",
       "      <td>True</td>\n",
       "      <td>False</td>\n",
       "      <td>0.045096</td>\n",
       "      <td>0</td>\n",
       "    </tr>\n",
       "    <tr>\n",
       "      <th>...</th>\n",
       "      <th>...</th>\n",
       "      <td>...</td>\n",
       "      <td>...</td>\n",
       "      <td>...</td>\n",
       "      <td>...</td>\n",
       "      <td>...</td>\n",
       "      <td>...</td>\n",
       "      <td>...</td>\n",
       "      <td>...</td>\n",
       "      <td>...</td>\n",
       "    </tr>\n",
       "    <tr>\n",
       "      <th rowspan=\"5\" valign=\"top\">71796</th>\n",
       "      <th>Tammy</th>\n",
       "      <td>247</td>\n",
       "      <td>Hi Ranmaru, Gamma and Transcend and everyone e...</td>\n",
       "      <td>2017-05-13 04:20:00</td>\n",
       "      <td>3130</td>\n",
       "      <td>False</td>\n",
       "      <td>False</td>\n",
       "      <td>False</td>\n",
       "      <td>0.027222</td>\n",
       "      <td>0</td>\n",
       "    </tr>\n",
       "    <tr>\n",
       "      <th>Titus</th>\n",
       "      <td>2460</td>\n",
       "      <td>Ok where are we? What claims we got?</td>\n",
       "      <td>2017-05-31 18:15:00</td>\n",
       "      <td>3130</td>\n",
       "      <td>False</td>\n",
       "      <td>False</td>\n",
       "      <td>False</td>\n",
       "      <td>0.759213</td>\n",
       "      <td>2</td>\n",
       "    </tr>\n",
       "    <tr>\n",
       "      <th>Transcend</th>\n",
       "      <td>6</td>\n",
       "      <td>VOTE: gamma</td>\n",
       "      <td>2017-05-12 19:51:00</td>\n",
       "      <td>3130</td>\n",
       "      <td>True</td>\n",
       "      <td>True</td>\n",
       "      <td>False</td>\n",
       "      <td>0.013296</td>\n",
       "      <td>0</td>\n",
       "    </tr>\n",
       "    <tr>\n",
       "      <th>Zulfy</th>\n",
       "      <td>11</td>\n",
       "      <td>Transcend didnt like your rqs gamma</td>\n",
       "      <td>2017-05-12 20:20:00</td>\n",
       "      <td>3130</td>\n",
       "      <td>False</td>\n",
       "      <td>False</td>\n",
       "      <td>False</td>\n",
       "      <td>0.014090</td>\n",
       "      <td>0</td>\n",
       "    </tr>\n",
       "    <tr>\n",
       "      <th>marshy</th>\n",
       "      <td>16</td>\n",
       "      <td>I DECLARE THE END OF RQS AND THE BEGINNING OF ...</td>\n",
       "      <td>2017-05-12 20:30:00</td>\n",
       "      <td>3130</td>\n",
       "      <td>False</td>\n",
       "      <td>False</td>\n",
       "      <td>False</td>\n",
       "      <td>0.014363</td>\n",
       "      <td>0</td>\n",
       "    </tr>\n",
       "  </tbody>\n",
       "</table>\n",
       "<p>3997 rows × 9 columns</p>\n",
       "</div>"
      ],
      "text/plain": [
       "                            post_no  \\\n",
       "game_id author                        \n",
       "17173   Elsa von Spielburg       11   \n",
       "        Empking                   9   \n",
       "        Hero764                 143   \n",
       "        HezLucky                 12   \n",
       "        Internet Stranger         4   \n",
       "...                             ...   \n",
       "71796   Tammy                   247   \n",
       "        Titus                  2460   \n",
       "        Transcend                 6   \n",
       "        Zulfy                    11   \n",
       "        marshy                   16   \n",
       "\n",
       "                                                                      content  \\\n",
       "game_id author                                                                  \n",
       "17173   Elsa von Spielburg  Vote: McGriddle\\n\\nWhy would you tout the prod...   \n",
       "        Empking                                             Vote: Kanye - Gut   \n",
       "        Hero764             Hey sorry for the absence, this isn't normal s...   \n",
       "        HezLucky            Hi all I've got a final tomorrow so this is th...   \n",
       "        Internet Stranger                             FRIST!\\n\\nVote: Jeromus   \n",
       "...                                                                       ...   \n",
       "71796   Tammy               Hi Ranmaru, Gamma and Transcend and everyone e...   \n",
       "        Titus                            Ok where are we? What claims we got?   \n",
       "        Transcend                                                 VOTE: gamma   \n",
       "        Zulfy                             Transcend didnt like your rqs gamma   \n",
       "        marshy              I DECLARE THE END OF RQS AND THE BEGINNING OF ...   \n",
       "\n",
       "                                   inserted_at  post_no_last  survived  \\\n",
       "game_id author                                                           \n",
       "17173   Elsa von Spielburg 2011-04-07 20:55:00           939     False   \n",
       "        Empking            2011-04-07 19:27:00           939     False   \n",
       "        Hero764            2011-04-12 23:53:00           939      True   \n",
       "        HezLucky           2011-04-07 21:25:00           939     False   \n",
       "        Internet Stranger  2011-04-07 18:21:00           939     False   \n",
       "...                                        ...           ...       ...   \n",
       "71796   Tammy              2017-05-13 04:20:00          3130     False   \n",
       "        Titus              2017-05-31 18:15:00          3130     False   \n",
       "        Transcend          2017-05-12 19:51:00          3130      True   \n",
       "        Zulfy              2017-05-12 20:20:00          3130     False   \n",
       "        marshy             2017-05-12 20:30:00          3130     False   \n",
       "\n",
       "                            betrayer town_won  rel_time  rounds  \n",
       "game_id author                                                   \n",
       "17173   Elsa von Spielburg     False    False  0.046744       0  \n",
       "        Empking                False    False  0.045802       0  \n",
       "        Hero764                False    False  0.125681       0  \n",
       "        HezLucky               False    False  0.047065       0  \n",
       "        Internet Stranger       True    False  0.045096       0  \n",
       "...                              ...      ...       ...     ...  \n",
       "71796   Tammy                  False    False  0.027222       0  \n",
       "        Titus                  False    False  0.759213       2  \n",
       "        Transcend               True    False  0.013296       0  \n",
       "        Zulfy                  False    False  0.014090       0  \n",
       "        marshy                 False    False  0.014363       0  \n",
       "\n",
       "[3997 rows x 9 columns]"
      ]
     },
     "execution_count": 73,
     "metadata": {},
     "output_type": "execute_result"
    }
   ],
   "source": [
    "grouped_games.first()"
   ]
  },
  {
   "cell_type": "markdown",
   "metadata": {},
   "source": [
    "Now, we will create the list of \"unique\" players. We will retain the following informations: `game_id`, `author`, `num_posts`, `survived`, `betrayer`, `town_won`."
   ]
  },
  {
   "cell_type": "code",
   "execution_count": 74,
   "metadata": {},
   "outputs": [
    {
     "data": {
      "application/vnd.jupyter.widget-view+json": {
       "model_id": "811b68f477fb4dd6afd5992f7dfe4635",
       "version_major": 2,
       "version_minor": 0
      },
      "text/plain": [
       "HBox(children=(FloatProgress(value=0.0, max=3997.0), HTML(value='')))"
      ]
     },
     "metadata": {},
     "output_type": "display_data"
    },
    {
     "name": "stdout",
     "output_type": "stream",
     "text": [
      "\n"
     ]
    }
   ],
   "source": [
    "corpus_authors = {}\n",
    "for (game_id, author), group in tqdm(grouped_games):\n",
    "    idx = \"{}_{}\".format(game_id, author)\n",
    "    meta = {\n",
    "        'game_id': game_id,\n",
    "        'author': author,\n",
    "        'num_posts': len(group),\n",
    "        'survived': group['survived'].iloc[0],\n",
    "        'betrayer': group['betrayer'].iloc[0],\n",
    "        'town_won': group['town_won'].iloc[0],\n",
    "    }\n",
    "    corpus_authors[idx] = Speaker(id=idx, meta=meta)"
   ]
  },
  {
   "cell_type": "markdown",
   "metadata": {},
   "source": [
    "From that, we create the corpus of players."
   ]
  },
  {
   "cell_type": "code",
   "execution_count": 75,
   "metadata": {},
   "outputs": [
    {
     "name": "stdout",
     "output_type": "stream",
     "text": [
      "We have 3997 \"unique\" players.\n"
     ]
    }
   ],
   "source": [
    "print(\"We have {} \\\"unique\\\" players.\".format(len(corpus_authors)))"
   ]
  },
  {
   "cell_type": "markdown",
   "metadata": {},
   "source": [
    "Next, we are making utterances, i.e. \"messages\". Each message will be mapped to a conversation and a player."
   ]
  },
  {
   "cell_type": "code",
   "execution_count": 76,
   "metadata": {},
   "outputs": [
    {
     "data": {
      "application/vnd.jupyter.widget-view+json": {
       "model_id": "aa68a9782a9d43d4b6da1beb4180445c",
       "version_major": 2,
       "version_minor": 0
      },
      "text/plain": [
       "HBox(children=(FloatProgress(value=0.0, max=3997.0), HTML(value='')))"
      ]
     },
     "metadata": {},
     "output_type": "display_data"
    },
    {
     "name": "stdout",
     "output_type": "stream",
     "text": [
      "\n"
     ]
    }
   ],
   "source": [
    "corpus_utterances = {}\n",
    "for (game_id, author), group in tqdm(grouped_games):\n",
    "    author = \"{}_{}\".format(game_id, author)\n",
    "    for idx, row in group.iterrows():\n",
    "        meta = {\n",
    "            'game_id': row['game_id'],\n",
    "            'post_no': row['post_no'],\n",
    "            'date': row['inserted_at'],\n",
    "            'rel_time': row['rel_time'],\n",
    "            'round': row['rounds'],\n",
    "        }\n",
    "        \n",
    "        corpus_utterances[idx] = Utterance(id=str(idx),\n",
    "                                           speaker=corpus_authors[author],\n",
    "                                           text=row['content'],\n",
    "                                           meta=meta,\n",
    "                                           conversation_id=str(game_id),\n",
    "                                           reply_to=None)"
   ]
  },
  {
   "cell_type": "code",
   "execution_count": 77,
   "metadata": {},
   "outputs": [
    {
     "name": "stdout",
     "output_type": "stream",
     "text": [
      "We have 422903 utterances.\n"
     ]
    }
   ],
   "source": [
    "print(\"We have {} utterances.\".format(len(corpus_utterances)))"
   ]
  },
  {
   "cell_type": "markdown",
   "metadata": {},
   "source": [
    "Our Corpus is almost ready to be used..."
   ]
  },
  {
   "cell_type": "code",
   "execution_count": 135,
   "metadata": {},
   "outputs": [],
   "source": [
    "list_utterances = corpus_utterances.values()\n",
    "corpus = Corpus(utterances=list_utterances)"
   ]
  },
  {
   "cell_type": "code",
   "execution_count": 136,
   "metadata": {},
   "outputs": [
    {
     "name": "stdout",
     "output_type": "stream",
     "text": [
      "Number of Speakers: 3997\n",
      "Number of Utterances: 422903\n",
      "Number of Conversations: 231\n"
     ]
    }
   ],
   "source": [
    "corpus.print_summary_stats()"
   ]
  },
  {
   "cell_type": "markdown",
   "metadata": {},
   "source": [
    "Numbers check out! We are going to save that thing so that we do not need to create it again."
   ]
  },
  {
   "cell_type": "code",
   "execution_count": 83,
   "metadata": {},
   "outputs": [],
   "source": [
    "if not os.path.exists(os.path.join(PATH_OUTPUT, \"corpus\")):\n",
    "    os.makedirs(os.path.join(PATH_OUTPUT, \"corpus\"))\n",
    "corpus.dump(\"corpus\", base_path=os.path.join(PATH_OUTPUT, \"corpus\"))"
   ]
  },
  {
   "cell_type": "markdown",
   "metadata": {},
   "source": [
    "#### Preprocessing\n",
    "\n",
    "Some NLP magic will take place in front of your amazed eyes. First of all, we are going to parse our texts (=tokenization), so that we can use ConvoKit's models."
   ]
  },
  {
   "cell_type": "code",
   "execution_count": 84,
   "metadata": {},
   "outputs": [],
   "source": [
    "# ... I am not sure how to load it from disck lmao."
   ]
  },
  {
   "cell_type": "code",
   "execution_count": 85,
   "metadata": {},
   "outputs": [],
   "source": [
    "from convokit import TextParser\n",
    "parser = TextParser(verbosity=1000)"
   ]
  },
  {
   "cell_type": "code",
   "execution_count": 158,
   "metadata": {},
   "outputs": [
    {
     "data": {
      "text/plain": [
       "<convokit.model.corpus.Corpus at 0x2d499923ca0>"
      ]
     },
     "execution_count": 158,
     "metadata": {},
     "output_type": "execute_result"
    }
   ],
   "source": [
    "if TEST:\n",
    "    corpus.filter_conversations_by(lambda convo: convo.id[:2] == '69')  # Warning, in place!\n",
    "    corpus.print_summary_stats()"
   ]
  },
  {
   "cell_type": "code",
   "execution_count": 160,
   "metadata": {
    "scrolled": true
   },
   "outputs": [
    {
     "name": "stdout",
     "output_type": "stream",
     "text": [
      "1000/32022 utterances processed\n",
      "2000/32022 utterances processed\n",
      "3000/32022 utterances processed\n",
      "4000/32022 utterances processed\n",
      "5000/32022 utterances processed\n",
      "6000/32022 utterances processed\n",
      "7000/32022 utterances processed\n",
      "8000/32022 utterances processed\n",
      "9000/32022 utterances processed\n",
      "10000/32022 utterances processed\n",
      "11000/32022 utterances processed\n",
      "12000/32022 utterances processed\n",
      "13000/32022 utterances processed\n",
      "14000/32022 utterances processed\n",
      "15000/32022 utterances processed\n",
      "16000/32022 utterances processed\n",
      "17000/32022 utterances processed\n",
      "18000/32022 utterances processed\n",
      "19000/32022 utterances processed\n",
      "20000/32022 utterances processed\n",
      "21000/32022 utterances processed\n",
      "22000/32022 utterances processed\n",
      "23000/32022 utterances processed\n",
      "24000/32022 utterances processed\n",
      "25000/32022 utterances processed\n",
      "26000/32022 utterances processed\n",
      "27000/32022 utterances processed\n",
      "28000/32022 utterances processed\n",
      "29000/32022 utterances processed\n",
      "30000/32022 utterances processed\n",
      "31000/32022 utterances processed\n",
      "32000/32022 utterances processed\n",
      "32022/32022 utterances processed\n"
     ]
    }
   ],
   "source": [
    "corpus_parsed = parser.transform(corpus)  # Looooooong, about 8s per 1k, so about one hour!"
   ]
  },
  {
   "cell_type": "markdown",
   "metadata": {},
   "source": [
    "We know add the different politeness strategies to compute the politeness score."
   ]
  },
  {
   "cell_type": "code",
   "execution_count": 161,
   "metadata": {},
   "outputs": [],
   "source": [
    "from convokit import PolitenessStrategies\n",
    "ps = PolitenessStrategies()"
   ]
  },
  {
   "cell_type": "code",
   "execution_count": 186,
   "metadata": {},
   "outputs": [],
   "source": [
    "corpus_politeness = ps.transform(corpus_parsed, markers=True)"
   ]
  },
  {
   "cell_type": "markdown",
   "metadata": {},
   "source": [
    "We can check that we now have indeed politeness scores attached to our Corpus using a handy built-in function:"
   ]
  },
  {
   "cell_type": "code",
   "execution_count": 187,
   "metadata": {},
   "outputs": [
    {
     "data": {
      "image/png": "[encoded data removed]",
      "text/plain": [
       "<Figure size 1800x1200 with 1 Axes>"
      ]
     },
     "metadata": {
      "needs_background": "light"
     },
     "output_type": "display_data"
    }
   ],
   "source": [
    "data = ps.summarize(corpus_politeness, plot=True)"
   ]
  },
  {
   "cell_type": "markdown",
   "metadata": {},
   "source": [
    "Finally, we get the \"final\" politeness score, by doing a mean of the different politeness strategies. This is a liberty we are taking, as it was not detailed in the original paper."
   ]
  },
  {
   "cell_type": "code",
   "execution_count": 184,
   "metadata": {
    "scrolled": false
   },
   "outputs": [
    {
     "data": {
      "text/plain": [
       "{'feature_politeness_==Please==': 0,\n",
       " 'feature_politeness_==Please_start==': 0,\n",
       " 'feature_politeness_==HASHEDGE==': 0,\n",
       " 'feature_politeness_==Indirect_(btw)==': 0,\n",
       " 'feature_politeness_==Hedges==': 0,\n",
       " 'feature_politeness_==Factuality==': 0,\n",
       " 'feature_politeness_==Deference==': 0,\n",
       " 'feature_politeness_==Gratitude==': 0,\n",
       " 'feature_politeness_==Apologizing==': 0,\n",
       " 'feature_politeness_==1st_person_pl.==': 0,\n",
       " 'feature_politeness_==1st_person==': 1,\n",
       " 'feature_politeness_==1st_person_start==': 0,\n",
       " 'feature_politeness_==2nd_person==': 0,\n",
       " 'feature_politeness_==2nd_person_start==': 0,\n",
       " 'feature_politeness_==Indirect_(greeting)==': 0,\n",
       " 'feature_politeness_==Direct_question==': 0,\n",
       " 'feature_politeness_==Direct_start==': 0,\n",
       " 'feature_politeness_==HASPOSITIVE==': 0,\n",
       " 'feature_politeness_==HASNEGATIVE==': 0,\n",
       " 'feature_politeness_==SUBJUNCTIVE==': 0,\n",
       " 'feature_politeness_==INDICATIVE==': 0}"
      ]
     },
     "execution_count": 184,
     "metadata": {},
     "output_type": "execute_result"
    }
   ],
   "source": [
    "corpus_politeness.random_utterance().meta['politeness_strategies']"
   ]
  },
  {
   "cell_type": "code",
   "execution_count": null,
   "metadata": {},
   "outputs": [],
   "source": [
    "# TODO: Find a way to get an actual score."
   ]
  },
  {
   "cell_type": "markdown",
   "metadata": {},
   "source": [
    "Okay, that was pretty expensive in term of time. Let's save this fresh Corpus so we can reuse it easily later."
   ]
  },
  {
   "cell_type": "code",
   "execution_count": null,
   "metadata": {},
   "outputs": [],
   "source": [
    "corpus_parsed.dump(\"corpus_parsed\", base_path=os.path.join(PATH_OUTPUT, \"corpus_parsed\"))\n",
    "corpus_politeness.dump(\"corpus_politeness\", base_path=os.path.join(PATH_OUTPUT, \"corpus_politeness\"))"
   ]
  },
  {
   "cell_type": "markdown",
   "metadata": {},
   "source": [
    "#### Sooo... Is this wolf polite or nah?"
   ]
  },
  {
   "cell_type": "code",
   "execution_count": null,
   "metadata": {},
   "outputs": [],
   "source": [
    "# todo: mean politeness for wolves vs politeness for not wolves"
   ]
  },
  {
   "cell_type": "markdown",
   "metadata": {},
   "source": [
    "### Talkativeness"
   ]
  },
  {
   "cell_type": "code",
   "execution_count": null,
   "metadata": {},
   "outputs": [],
   "source": [
    "# Talkativeness framework\n",
    "import seaborn as sns\n",
    "df = messages_players_expired_outcome_survivors"
   ]
  },
  {
   "cell_type": "code",
   "execution_count": null,
   "metadata": {},
   "outputs": [],
   "source": [
    "nb_messages_betrayers = df[df.betrayer].groupby(['game_id', 'author']).count().content.values\n",
    "nb_messages_victims = df[~df.betrayer].groupby(['game_id', 'author']).count().content.values"
   ]
  },
  {
   "cell_type": "code",
   "execution_count": null,
   "metadata": {},
   "outputs": [],
   "source": [
    "print(np.median(nb_messages_betrayers), np.median(nb_messages_victims))\n",
    "print(bootstrap_CI_median(nb_messages_betrayers), bootstrap_CI_median(nb_messages_victims))\n",
    "print(len(nb_messages_betrayers), len(nb_messages_victims))"
   ]
  },
  {
   "cell_type": "code",
   "execution_count": null,
   "metadata": {},
   "outputs": [],
   "source": [
    "df[df.betrayer].groupby(['game_id', 'author', 'rounds']).describe()"
   ]
  },
  {
   "cell_type": "markdown",
   "metadata": {},
   "source": [
    "### Wraping up"
   ]
  },
  {
   "cell_type": "code",
   "execution_count": null,
   "metadata": {},
   "outputs": [],
   "source": [
    "# Using the API"
   ]
  },
  {
   "cell_type": "markdown",
   "metadata": {},
   "source": [
    "---\n",
    "## Analysis"
   ]
  },
  {
   "cell_type": "markdown",
   "metadata": {},
   "source": [
    "Something something what are the conclusions?\n",
    "\n",
    "Further things:\n",
    "- We can see if the number of times you die is influencing your gameplay"
   ]
  },
  {
   "cell_type": "markdown",
   "metadata": {},
   "source": [
    "---\n",
    "## References\n",
    "\n",
    "- <a name=\"danescu\">**[Danescu-Niculescu-Mizil et al., 2013]**</a>: Cristian Danescu-Niculescu-Mizil, Moritz Sudhof, Dan Jurafsky, Jure Leskovec, Christopher Potts, *A computational approach to politeness with application to social factors*, ACL, 2013. [Original paper](https://nlp.stanford.edu/pubs/politeness.pdf).\n",
    "- <a name=\"niculae\">**[Niculae et al., 2015]**</a>: Vlad Niculae, Srijan Kumar, Jordan Boyd-Graber, Cristian Danescu-Niculescu-Mizil, *Linguistic Harbingers of Betrayal: A Case Study on an Online Strategy Game*, Proceedings of ACL, 2015. [Original paper](https://vene.ro/betrayal/niculae15betrayal.pdf), [website](https://vene.ro/betrayal/).\n",
    "- <a name=\"prasad\">**[Prasad et al., 2008]**</a>: Rashmi Prasad, Nikhil Dinesh, Alan Lee, Eleni Miltsakaki, Livio Robaldo, Aravind Joshi, Bonnie Webber, *The Penn Discourse TreeBank 2.0*, LREC, 2008. [Original paper](http://www.lrec-conf.org/proceedings/lrec2008/pdf/754_paper.pdf).\n",
    "- <a name=\"deruiter\">**[de Ruiter et al., 2018]**</a>: Bob de Ruiter, George Kachergis, *The Mafiascum Dataset: A Large Text Corpus for Deception Detection*, 2018. [Original paper](https://arxiv.org/pdf/1811.07851.pdf).\n",
    "- <a name=\"socher\">**[Socher et al., 2013]**</a>: Richard Socher, Alex Perelygin, Jean Wu, Jason Chuang, Christopher Manning, Andrew Ng, Christopher Potts, *Recursive Deep Models for Semantic Compositionality Over a Sentiment Treebank*, EMNLP, 2013. [Original paper](https://nlp.stanford.edu/~socherr/EMNLP2013_RNTN.pdf), [website](https://nlp.stanford.edu/sentiment/).\n",
    "- <a name=\"stab\">**[Stab et al., 2014]**</a>: Christian Stab, Iryna Gurevych, *Identifying Argumentative Discourse Structures in Persuasive Essay*, EMNLP, 2014. [Original paper](https://www.aclweb.org/anthology/D14-1006.pdf).\n",
    "- <a name=\"diplomacy\">**Diplomacy**</a>: [Official Website](https://boardgamegeek.com/boardgame/483/diplomacy), [Wikipedia](https://en.wikipedia.org/wiki/Diplomacy_(game)).\n",
    "- <a name=\"salem\">**Town of Salem**</a>: [Official website](https://www.blankmediagames.com/), [Wikipedia](https://en.wikipedia.org/wiki/Town_of_Salem), [Fandom](https://town-of-salem.fandom.com/wiki/Town_of_Salem_Wiki).\n",
    "- <a name=\"hitler\">**Secret Hitler**</a>: [Official website](https://www.secrethitler.com/), [Wikipedia](https://en.wikipedia.org/wiki/Secret_Hitler).\n",
    "- <a name=\"amongus\">**Among Us**</a>: [Official website](http://www.innersloth.com/gameAmongUs.php), [Wikipedia](https://en.wikipedia.org/wiki/Among_Us).\n",
    "- <a name=\"mafia\">**Werewolf/Mafia**</a>: [Wikipedia](https://en.wikipedia.org/wiki/Mafia_(party_game)), [Telegram game official website](https://www.tgwerewolf.com/), [Mafiascum](https://www.mafiascum.net/).\n",
    "- <a name=\"convkit\">**ConvKit**</a>: Cornell Conversational Analysis Toolkit. [Website](https://convokit.cornell.edu/).\n",
    "- <a name=\"nlpstanford\">**Stanford NLP Group**</a>: [Website](https://nlp.stanford.edu/)."
   ]
  },
  {
   "cell_type": "markdown",
   "metadata": {},
   "source": [
    "---"
   ]
  },
  {
   "cell_type": "code",
   "execution_count": null,
   "metadata": {},
   "outputs": [],
   "source": [
    "from pycorenlp import StanfordCoreNLP\n",
    "messages_players_expired['sentiment'] = 0\n",
    "sentiment = []"
   ]
  },
  {
   "cell_type": "code",
   "execution_count": null,
   "metadata": {},
   "outputs": [],
   "source": [
    "sub_sentiment = []\n",
    "nlp = StanfordCoreNLP('http://localhost:9000')\n",
    "for index, row_messages in messages_players_expired[0:600].iterrows():\n",
    "    res = nlp.annotate(row_messages['content'],\n",
    "                          properties={\n",
    "                            'annotators': 'sentiment',\n",
    "                                'outputFormat': 'json',\n",
    "                              'timeout': 1000000,\n",
    "                          })\n",
    "    #print([s['sentimentValue'] for s in res['sentences']])\n",
    "    sub_sentiment.append((np.sum([int(s['sentimentValue']) > 2 for s in res['sentences']]))/len(res['sentences']))\n",
    "\n",
    "print(sub_sentiment)"
   ]
  },
  {
   "cell_type": "code",
   "execution_count": null,
   "metadata": {},
   "outputs": [],
   "source": [
    "sentiment += sub_sentiment\n",
    "sentiment"
   ]
  },
  {
   "cell_type": "code",
   "execution_count": null,
   "metadata": {},
   "outputs": [],
   "source": [
    "np.save()\n",
    "len(res['sentences'])"
   ]
  },
  {
   "cell_type": "code",
   "execution_count": null,
   "metadata": {},
   "outputs": [],
   "source": [
    "messages_players"
   ]
  },
  {
   "cell_type": "code",
   "execution_count": null,
   "metadata": {},
   "outputs": [],
   "source": [
    "messages_players_expired"
   ]
  },
  {
   "cell_type": "code",
   "execution_count": null,
   "metadata": {},
   "outputs": [],
   "source": [
    "    \n",
    "    \n",
    "for s in res[\"sentences\"]:\n",
    "    print(\"%d: '%s': %s %s\" % (\n",
    "        s[\"index\"],\n",
    "        \" \".join([t[\"word\"] for t in s[\"tokens\"]]),\n",
    "        s[\"sentimentValue\"], s[\"sentiment\"]))\n",
    "    \n",
    "print(type(res))"
   ]
  }
 ],
 "metadata": {
  "kernelspec": {
   "display_name": "Python 3",
   "language": "python",
   "name": "python3"
  },
  "language_info": {
   "codemirror_mode": {
    "name": "ipython",
    "version": 3
   },
   "file_extension": ".py",
   "mimetype": "text/x-python",
   "name": "python",
   "nbconvert_exporter": "python",
   "pygments_lexer": "ipython3",
   "version": "3.8.3"
  }
 },
 "nbformat": 4,
 "nbformat_minor": 4
}
