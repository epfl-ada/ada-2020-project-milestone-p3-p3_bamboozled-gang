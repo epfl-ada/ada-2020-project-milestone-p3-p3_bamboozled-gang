{
 "cells": [
  {
   "cell_type": "markdown",
   "metadata": {},
   "source": [
    "# \"A Wolf in Sheep's Clothing\": Linguistic Cues in Social Deduction Games"
   ]
  },
  {
   "cell_type": "markdown",
   "metadata": {},
   "source": [
    "## Abstract\n",
    "\n",
    "We studied [[Niculae et al., 2015]](#niculae) and it enabled us to highlight certain clues of language linked to the imminence of betrayal. We would like to apply similar techniques to detect betrayal in social deduction games, like [Town of Salem](#salem), [Secret Hitler](#hitler), [Among Us](#amongus) or [Werewolf/Mafia](#mafia). Is it possible, by studying the public exchanges of the players during a textual game, to spot the \"traitor\"? The major difference with the basic article is that we are not looking for a betrayal to come - the breaking of a friendship - but a betrayal that has already taken place - for instance, the \"wolf\" seeks to win by posing as a \"villager\". As such, we are going to analyse textual exchanges of different games, and try to apply the same methods to multiple sessions."
   ]
  },
  {
   "cell_type": "markdown",
   "metadata": {},
   "source": [
    "## Introduction"
   ]
  },
  {
   "cell_type": "markdown",
   "metadata": {},
   "source": [
    "### Linguistic Harbingers of Betrayal\n",
    "\n",
    "Dadida résumé du paper"
   ]
  },
  {
   "cell_type": "markdown",
   "metadata": {},
   "source": [
    "### How to spot a traitor\n",
    "\n",
    "Dadida ce que l'on compte réexploiter"
   ]
  },
  {
   "cell_type": "markdown",
   "metadata": {},
   "source": [
    "### The Mafiascum Dataset\n",
    "\n",
    "**The Mafiascum Dataset** is a collection of over 700 games of [Mafia](#mafia) played on an Internet forum. The interactions between players are scraped from this plateform. The data repository consists of several JSon files that contain different informations about each game and each player and messages."
   ]
  },
  {
   "cell_type": "code",
   "execution_count": 1,
   "metadata": {},
   "outputs": [],
   "source": [
    "# Analysis of the dataset"
   ]
  },
  {
   "cell_type": "markdown",
   "metadata": {},
   "source": [
    "## Data concierge"
   ]
  },
  {
   "cell_type": "code",
   "execution_count": 5,
   "metadata": {},
   "outputs": [],
   "source": [
    "# Clean the Mafiascum dataset so we can exploit it"
   ]
  },
  {
   "cell_type": "markdown",
   "metadata": {},
   "source": [
    "## Frameworks"
   ]
  },
  {
   "cell_type": "markdown",
   "metadata": {},
   "source": [
    "### Politeness  "
   ]
  },
  {
   "cell_type": "code",
   "execution_count": 2,
   "metadata": {},
   "outputs": [],
   "source": [
    "# Politeness framework"
   ]
  },
  {
   "cell_type": "markdown",
   "metadata": {},
   "source": [
    "### Talkativeness"
   ]
  },
  {
   "cell_type": "code",
   "execution_count": 3,
   "metadata": {},
   "outputs": [],
   "source": [
    "# Talkativeness framework"
   ]
  },
  {
   "cell_type": "markdown",
   "metadata": {},
   "source": [
    "### Wraping up"
   ]
  },
  {
   "cell_type": "code",
   "execution_count": null,
   "metadata": {},
   "outputs": [],
   "source": [
    "# Using the API"
   ]
  },
  {
   "cell_type": "markdown",
   "metadata": {},
   "source": [
    "## Analysis"
   ]
  },
  {
   "cell_type": "code",
   "execution_count": 4,
   "metadata": {},
   "outputs": [],
   "source": [
    "# Something something what are the conclusions?"
   ]
  },
  {
   "cell_type": "markdown",
   "metadata": {},
   "source": [
    "## References\n",
    "\n",
    "- <a name=\"danescu\">**[Danescu-Niculescu-Mizil et al., 2013]**</a>: Cristian Danescu-Niculescu-Mizil, Moritz Sudhof, Dan Jurafsky, Jure Leskovec, Christopher Potts, *A computational approach to politeness with application to social factors*, ACL, 2013. [Original paper](https://nlp.stanford.edu/pubs/politeness.pdf).\n",
    "- <a name=\"niculae\">**[Niculae et al., 2015]**</a>: Vlad Niculae, Srijan Kumar, Jordan Boyd-Graber, Cristian Danescu-Niculescu-Mizil, *Linguistic Harbingers of Betrayal: A Case Study on an Online Strategy Game*, Proceedings of ACL, 2015. [Original paper](https://vene.ro/betrayal/niculae15betrayal.pdf), [website](https://vene.ro/betrayal/).\n",
    "- <a name=\"prasad\">**[Prasad et al., 2008]**</a>: Rashmi Prasad, Nikhil Dinesh, Alan Lee, Eleni Miltsakaki, Livio Robaldo, Aravind Joshi, Bonnie Webber, *The Penn Discourse TreeBank 2.0*, LREC, 2008. [Original paper](http://www.lrec-conf.org/proceedings/lrec2008/pdf/754_paper.pdf).\n",
    "- <a name=\"deruiter\">**[de Ruiter et al., 2018]**</a>: Bob de Ruiter, George Kachergis, *The Mafiascum Dataset: A Large Text Corpus for Deception Detection*, 2018. [Original paper](https://arxiv.org/pdf/1811.07851.pdf).\n",
    "- <a name=\"socher\">**[Socher et al., 2013]**</a>: Richard Socher, Alex Perelygin, Jean Wu, Jason Chuang, Christopher Manning, Andrew Ng, Christopher Potts, *Recursive Deep Models for Semantic Compositionality Over a Sentiment Treebank*, EMNLP, 2013. [Original paper](https://nlp.stanford.edu/~socherr/EMNLP2013_RNTN.pdf), [website](https://nlp.stanford.edu/sentiment/).\n",
    "- <a name=\"stab\">**[Stab et al., 2014]**</a>: Christian Stab, Iryna Gurevych, *Identifying Argumentative Discourse Structures in Persuasive Essay*, EMNLP, 2014. [Original paper](https://www.aclweb.org/anthology/D14-1006.pdf).\n",
    "- <a name=\"salem\">**Town of Salem**</a>: [Official website](https://www.blankmediagames.com/), [Wikipedia](https://en.wikipedia.org/wiki/Town_of_Salem), [Fandom](https://town-of-salem.fandom.com/wiki/Town_of_Salem_Wiki).\n",
    "- <a name=\"hitler\">**Secret Hitler**</a>: [Official website](https://www.secrethitler.com/), [Wikipedia](https://en.wikipedia.org/wiki/Secret_Hitler).\n",
    "- <a name=\"amongus\">**Among Us**</a>: [Official website](http://www.innersloth.com/gameAmongUs.php), [Wikipedia](https://en.wikipedia.org/wiki/Among_Us).\n",
    "- <a name=\"mafia\">**Werewolf/Mafia**</a>: [Wikipedia](https://en.wikipedia.org/wiki/Mafia_(party_game)), [Telegram game official website](https://www.tgwerewolf.com/).\n",
    "- <a name=\"convkit\">**ConvKit**</a>: Cornell Conversational Analysis Toolkit. [Website](https://convokit.cornell.edu/).\n",
    "- <a name=\"nlpstanford\">**Stanford NLP Group**</a>: [Website](https://nlp.stanford.edu/).\n"
   ]
  }
 ],
 "metadata": {
  "kernelspec": {
   "display_name": "Python 3",
   "language": "python",
   "name": "python3"
  },
  "language_info": {
   "codemirror_mode": {
    "name": "ipython",
    "version": 3
   },
   "file_extension": ".py",
   "mimetype": "text/x-python",
   "name": "python",
   "nbconvert_exporter": "python",
   "pygments_lexer": "ipython3",
   "version": "3.8.3"
  }
 },
 "nbformat": 4,
 "nbformat_minor": 4
}
